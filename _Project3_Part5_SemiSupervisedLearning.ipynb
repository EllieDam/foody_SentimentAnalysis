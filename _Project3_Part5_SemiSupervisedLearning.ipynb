{
 "cells": [
  {
   "cell_type": "markdown",
   "id": "_MhJfWK13PX8",
   "metadata": {
    "id": "_MhJfWK13PX8"
   },
   "source": [
    "# Mount drive & Import packages"
   ]
  },
  {
   "cell_type": "code",
   "execution_count": null,
   "id": "4UqzUgumztsg",
   "metadata": {
    "colab": {
     "base_uri": "https://localhost:8080/"
    },
    "executionInfo": {
     "elapsed": 22645,
     "status": "ok",
     "timestamp": 1646965950435,
     "user": {
      "displayName": "Phuong Dam",
      "photoUrl": "https://lh3.googleusercontent.com/a/default-user=s64",
      "userId": "01072403895711103873"
     },
     "user_tz": -420
    },
    "id": "4UqzUgumztsg",
    "outputId": "8cbb3f2f-bb37-4274-e96b-53bf95e0f763"
   },
   "outputs": [
    {
     "name": "stdout",
     "output_type": "stream",
     "text": [
      "Mounted at /content/gdrive\n"
     ]
    }
   ],
   "source": [
    "from google.colab import drive\n",
    "drive.mount(\"/content/gdrive\", force_remount=True)"
   ]
  },
  {
   "cell_type": "code",
   "execution_count": null,
   "id": "Wolri0qLztUx",
   "metadata": {
    "colab": {
     "base_uri": "https://localhost:8080/"
    },
    "executionInfo": {
     "elapsed": 483,
     "status": "ok",
     "timestamp": 1646965953475,
     "user": {
      "displayName": "Phuong Dam",
      "photoUrl": "https://lh3.googleusercontent.com/a/default-user=s64",
      "userId": "01072403895711103873"
     },
     "user_tz": -420
    },
    "id": "Wolri0qLztUx",
    "outputId": "48f799e6-30c6-4676-fecf-1305193f942a"
   },
   "outputs": [
    {
     "name": "stdout",
     "output_type": "stream",
     "text": [
      "/content/gdrive/My Drive/LDS0_K273_DamThiMinhPhuong/Project/Project3_SentimentAnalysis\n"
     ]
    }
   ],
   "source": [
    "%cd '/content/gdrive/My Drive/LDS0_K273_DamThiMinhPhuong/Project/Project3_SentimentAnalysis'"
   ]
  },
  {
   "cell_type": "code",
   "execution_count": null,
   "id": "22295f1f",
   "metadata": {
    "id": "22295f1f"
   },
   "outputs": [],
   "source": [
    "import pandas as pd\n",
    "import numpy as np\n",
    "import networkx as nx\n",
    "from sklearn.feature_extraction.text import TfidfVectorizer\n",
    "from sklearn.semi_supervised import SelfTrainingClassifier\n",
    "from sklearn.semi_supervised import LabelSpreading\n",
    "from sklearn.metrics import f1_score, accuracy_score, confusion_matrix, classification_report\n",
    "from sklearn.model_selection import train_test_split  \n",
    "from sklearn.naive_bayes import BernoulliNB\n",
    "from sklearn.linear_model import LogisticRegression\n",
    "from sklearn.neighbors import NearestCentroid\n",
    "from sklearn.ensemble import ExtraTreesClassifier\n",
    "from imblearn.over_sampling import SMOTE"
   ]
  },
  {
   "cell_type": "markdown",
   "id": "08dc03c7",
   "metadata": {
    "id": "08dc03c7"
   },
   "source": [
    "# Load & Prepare data"
   ]
  },
  {
   "cell_type": "code",
   "execution_count": null,
   "id": "cedbc83c",
   "metadata": {
    "colab": {
     "base_uri": "https://localhost:8080/"
    },
    "executionInfo": {
     "elapsed": 1263,
     "status": "ok",
     "timestamp": 1646965956660,
     "user": {
      "displayName": "Phuong Dam",
      "photoUrl": "https://lh3.googleusercontent.com/a/default-user=s64",
      "userId": "01072403895711103873"
     },
     "user_tz": -420
    },
    "id": "cedbc83c",
    "outputId": "d098a0eb-1148-4f15-96f6-11c9ed2576d4"
   },
   "outputs": [
    {
     "data": {
      "text/plain": [
       "(39925, 6)"
      ]
     },
     "execution_count": 4,
     "metadata": {},
     "output_type": "execute_result"
    }
   ],
   "source": [
    "# Load data\n",
    "df = pd.read_csv('data/foodyClean.csv', index_col=0)\n",
    "df.shape"
   ]
  },
  {
   "cell_type": "code",
   "execution_count": null,
   "id": "c01851fb",
   "metadata": {
    "colab": {
     "base_uri": "https://localhost:8080/",
     "height": 384
    },
    "executionInfo": {
     "elapsed": 25,
     "status": "ok",
     "timestamp": 1646965956660,
     "user": {
      "displayName": "Phuong Dam",
      "photoUrl": "https://lh3.googleusercontent.com/a/default-user=s64",
      "userId": "01072403895711103873"
     },
     "user_tz": -420
    },
    "id": "c01851fb",
    "outputId": "70edcc48-44e6-4057-c98f-bbd92c0a9283"
   },
   "outputs": [
    {
     "data": {
      "text/html": [
       "\n",
       "  <div id=\"df-03fab167-96e1-41f7-9218-8068618df11e\">\n",
       "    <div class=\"colab-df-container\">\n",
       "      <div>\n",
       "<style scoped>\n",
       "    .dataframe tbody tr th:only-of-type {\n",
       "        vertical-align: middle;\n",
       "    }\n",
       "\n",
       "    .dataframe tbody tr th {\n",
       "        vertical-align: top;\n",
       "    }\n",
       "\n",
       "    .dataframe thead th {\n",
       "        text-align: right;\n",
       "    }\n",
       "</style>\n",
       "<table border=\"1\" class=\"dataframe\">\n",
       "  <thead>\n",
       "    <tr style=\"text-align: right;\">\n",
       "      <th></th>\n",
       "      <th>restaurant</th>\n",
       "      <th>review_text</th>\n",
       "      <th>review_score</th>\n",
       "      <th>review_score_bins</th>\n",
       "      <th>label</th>\n",
       "      <th>review_text_clean</th>\n",
       "    </tr>\n",
       "  </thead>\n",
       "  <tbody>\n",
       "    <tr>\n",
       "      <th>0</th>\n",
       "      <td>Good Morning Restaurant</td>\n",
       "      <td>Pizza phong cách Ý. Ngán hải sản nên cả nhà gh...</td>\n",
       "      <td>8.2</td>\n",
       "      <td>(8, 9]</td>\n",
       "      <td>1</td>\n",
       "      <td>rẻ đẹp</td>\n",
       "    </tr>\n",
       "    <tr>\n",
       "      <th>1</th>\n",
       "      <td>Hạt Dẻ Trùng Khánh</td>\n",
       "      <td>- Vị trí: chỉ là 1 chiếc xe nho nhỏ nằm ở khu ...</td>\n",
       "      <td>8.0</td>\n",
       "      <td>(7, 8]</td>\n",
       "      <td>1</td>\n",
       "      <td>đông đối_diện thích hẳn chuyên_nghiệp lắm bự h...</td>\n",
       "    </tr>\n",
       "    <tr>\n",
       "      <th>2</th>\n",
       "      <td>Bột - Healthy &amp; Weight Loss Food - Shop Online</td>\n",
       "      <td>Nay lang thang trên BM thấy đang khuyến mãi xo...</td>\n",
       "      <td>8.2</td>\n",
       "      <td>(8, 9]</td>\n",
       "      <td>1</td>\n",
       "      <td>khuyến_mãi đồ_ăn đa_số khô</td>\n",
       "    </tr>\n",
       "    <tr>\n",
       "      <th>3</th>\n",
       "      <td>Bánh Giò Chợ Nguyễn Công Trứ</td>\n",
       "      <td>Quán nằm trong chợ Nguyễn Công Trứ, cũng dễ tì...</td>\n",
       "      <td>8.2</td>\n",
       "      <td>(8, 9]</td>\n",
       "      <td>1</td>\n",
       "      <td>nguyễn_công_trứ thẳng đông không_có lộn ngải_c...</td>\n",
       "    </tr>\n",
       "    <tr>\n",
       "      <th>4</th>\n",
       "      <td>Quán Quảng - Bún Quảng</td>\n",
       "      <td>Ngãi heo với heo thiệttttt 🐷🐷🐷\\n🤤🤤 bún nem chả...</td>\n",
       "      <td>9.0</td>\n",
       "      <td>(8, 9]</td>\n",
       "      <td>1</td>\n",
       "      <td>ngãi thơm kế sò ốc mềm không_thích dầu_mỡ khôn...</td>\n",
       "    </tr>\n",
       "  </tbody>\n",
       "</table>\n",
       "</div>\n",
       "      <button class=\"colab-df-convert\" onclick=\"convertToInteractive('df-03fab167-96e1-41f7-9218-8068618df11e')\"\n",
       "              title=\"Convert this dataframe to an interactive table.\"\n",
       "              style=\"display:none;\">\n",
       "        \n",
       "  <svg xmlns=\"http://www.w3.org/2000/svg\" height=\"24px\"viewBox=\"0 0 24 24\"\n",
       "       width=\"24px\">\n",
       "    <path d=\"M0 0h24v24H0V0z\" fill=\"none\"/>\n",
       "    <path d=\"M18.56 5.44l.94 2.06.94-2.06 2.06-.94-2.06-.94-.94-2.06-.94 2.06-2.06.94zm-11 1L8.5 8.5l.94-2.06 2.06-.94-2.06-.94L8.5 2.5l-.94 2.06-2.06.94zm10 10l.94 2.06.94-2.06 2.06-.94-2.06-.94-.94-2.06-.94 2.06-2.06.94z\"/><path d=\"M17.41 7.96l-1.37-1.37c-.4-.4-.92-.59-1.43-.59-.52 0-1.04.2-1.43.59L10.3 9.45l-7.72 7.72c-.78.78-.78 2.05 0 2.83L4 21.41c.39.39.9.59 1.41.59.51 0 1.02-.2 1.41-.59l7.78-7.78 2.81-2.81c.8-.78.8-2.07 0-2.86zM5.41 20L4 18.59l7.72-7.72 1.47 1.35L5.41 20z\"/>\n",
       "  </svg>\n",
       "      </button>\n",
       "      \n",
       "  <style>\n",
       "    .colab-df-container {\n",
       "      display:flex;\n",
       "      flex-wrap:wrap;\n",
       "      gap: 12px;\n",
       "    }\n",
       "\n",
       "    .colab-df-convert {\n",
       "      background-color: #E8F0FE;\n",
       "      border: none;\n",
       "      border-radius: 50%;\n",
       "      cursor: pointer;\n",
       "      display: none;\n",
       "      fill: #1967D2;\n",
       "      height: 32px;\n",
       "      padding: 0 0 0 0;\n",
       "      width: 32px;\n",
       "    }\n",
       "\n",
       "    .colab-df-convert:hover {\n",
       "      background-color: #E2EBFA;\n",
       "      box-shadow: 0px 1px 2px rgba(60, 64, 67, 0.3), 0px 1px 3px 1px rgba(60, 64, 67, 0.15);\n",
       "      fill: #174EA6;\n",
       "    }\n",
       "\n",
       "    [theme=dark] .colab-df-convert {\n",
       "      background-color: #3B4455;\n",
       "      fill: #D2E3FC;\n",
       "    }\n",
       "\n",
       "    [theme=dark] .colab-df-convert:hover {\n",
       "      background-color: #434B5C;\n",
       "      box-shadow: 0px 1px 3px 1px rgba(0, 0, 0, 0.15);\n",
       "      filter: drop-shadow(0px 1px 2px rgba(0, 0, 0, 0.3));\n",
       "      fill: #FFFFFF;\n",
       "    }\n",
       "  </style>\n",
       "\n",
       "      <script>\n",
       "        const buttonEl =\n",
       "          document.querySelector('#df-03fab167-96e1-41f7-9218-8068618df11e button.colab-df-convert');\n",
       "        buttonEl.style.display =\n",
       "          google.colab.kernel.accessAllowed ? 'block' : 'none';\n",
       "\n",
       "        async function convertToInteractive(key) {\n",
       "          const element = document.querySelector('#df-03fab167-96e1-41f7-9218-8068618df11e');\n",
       "          const dataTable =\n",
       "            await google.colab.kernel.invokeFunction('convertToInteractive',\n",
       "                                                     [key], {});\n",
       "          if (!dataTable) return;\n",
       "\n",
       "          const docLinkHtml = 'Like what you see? Visit the ' +\n",
       "            '<a target=\"_blank\" href=https://colab.research.google.com/notebooks/data_table.ipynb>data table notebook</a>'\n",
       "            + ' to learn more about interactive tables.';\n",
       "          element.innerHTML = '';\n",
       "          dataTable['output_type'] = 'display_data';\n",
       "          await google.colab.output.renderOutput(dataTable, element);\n",
       "          const docLink = document.createElement('div');\n",
       "          docLink.innerHTML = docLinkHtml;\n",
       "          element.appendChild(docLink);\n",
       "        }\n",
       "      </script>\n",
       "    </div>\n",
       "  </div>\n",
       "  "
      ],
      "text/plain": [
       "                                       restaurant  \\\n",
       "0                         Good Morning Restaurant   \n",
       "1                              Hạt Dẻ Trùng Khánh   \n",
       "2  Bột - Healthy & Weight Loss Food - Shop Online   \n",
       "3                    Bánh Giò Chợ Nguyễn Công Trứ   \n",
       "4                          Quán Quảng - Bún Quảng   \n",
       "\n",
       "                                         review_text  review_score  \\\n",
       "0  Pizza phong cách Ý. Ngán hải sản nên cả nhà gh...           8.2   \n",
       "1  - Vị trí: chỉ là 1 chiếc xe nho nhỏ nằm ở khu ...           8.0   \n",
       "2  Nay lang thang trên BM thấy đang khuyến mãi xo...           8.2   \n",
       "3  Quán nằm trong chợ Nguyễn Công Trứ, cũng dễ tì...           8.2   \n",
       "4  Ngãi heo với heo thiệttttt 🐷🐷🐷\\n🤤🤤 bún nem chả...           9.0   \n",
       "\n",
       "  review_score_bins  label                                  review_text_clean  \n",
       "0            (8, 9]      1                                             rẻ đẹp  \n",
       "1            (7, 8]      1  đông đối_diện thích hẳn chuyên_nghiệp lắm bự h...  \n",
       "2            (8, 9]      1                         khuyến_mãi đồ_ăn đa_số khô  \n",
       "3            (8, 9]      1  nguyễn_công_trứ thẳng đông không_có lộn ngải_c...  \n",
       "4            (8, 9]      1  ngãi thơm kế sò ốc mềm không_thích dầu_mỡ khôn...  "
      ]
     },
     "execution_count": 5,
     "metadata": {},
     "output_type": "execute_result"
    }
   ],
   "source": [
    "df.head()"
   ]
  },
  {
   "cell_type": "code",
   "execution_count": null,
   "id": "89162022",
   "metadata": {
    "colab": {
     "base_uri": "https://localhost:8080/"
    },
    "executionInfo": {
     "elapsed": 23,
     "status": "ok",
     "timestamp": 1646965956661,
     "user": {
      "displayName": "Phuong Dam",
      "photoUrl": "https://lh3.googleusercontent.com/a/default-user=s64",
      "userId": "01072403895711103873"
     },
     "user_tz": -420
    },
    "id": "89162022",
    "outputId": "82ac8579-7709-43cd-bcab-274120e80391"
   },
   "outputs": [
    {
     "name": "stdout",
     "output_type": "stream",
     "text": [
      "<class 'pandas.core.frame.DataFrame'>\n",
      "Int64Index: 39925 entries, 0 to 39924\n",
      "Data columns (total 6 columns):\n",
      " #   Column             Non-Null Count  Dtype  \n",
      "---  ------             --------------  -----  \n",
      " 0   restaurant         39925 non-null  object \n",
      " 1   review_text        39925 non-null  object \n",
      " 2   review_score       39925 non-null  float64\n",
      " 3   review_score_bins  39925 non-null  object \n",
      " 4   label              39925 non-null  int64  \n",
      " 5   review_text_clean  38510 non-null  object \n",
      "dtypes: float64(1), int64(1), object(4)\n",
      "memory usage: 2.1+ MB\n"
     ]
    }
   ],
   "source": [
    "df.info()"
   ]
  },
  {
   "cell_type": "code",
   "execution_count": null,
   "id": "ec6d202b",
   "metadata": {
    "colab": {
     "base_uri": "https://localhost:8080/"
    },
    "executionInfo": {
     "elapsed": 804,
     "status": "ok",
     "timestamp": 1646965957452,
     "user": {
      "displayName": "Phuong Dam",
      "photoUrl": "https://lh3.googleusercontent.com/a/default-user=s64",
      "userId": "01072403895711103873"
     },
     "user_tz": -420
    },
    "id": "ec6d202b",
    "outputId": "e73b50ea-fac7-4573-b63b-4d419ee457e5"
   },
   "outputs": [
    {
     "data": {
      "text/plain": [
       "(38510, 6)"
      ]
     },
     "execution_count": 7,
     "metadata": {},
     "output_type": "execute_result"
    }
   ],
   "source": [
    "df = df.dropna(how='any', axis=0)\n",
    "df.shape"
   ]
  },
  {
   "cell_type": "code",
   "execution_count": null,
   "id": "de1adebc",
   "metadata": {
    "id": "de1adebc"
   },
   "outputs": [],
   "source": [
    "df = df.reset_index(drop=True)"
   ]
  },
  {
   "cell_type": "markdown",
   "id": "0d2a67ac",
   "metadata": {
    "id": "0d2a67ac"
   },
   "source": [
    "Lấy ra 400 records để label manually"
   ]
  },
  {
   "cell_type": "code",
   "execution_count": null,
   "id": "7f60afcd",
   "metadata": {
    "id": "7f60afcd"
   },
   "outputs": [],
   "source": [
    "# manual_labeling = np.random.randint(0,df.shape[0],size=400) "
   ]
  },
  {
   "cell_type": "code",
   "execution_count": null,
   "id": "a3677670",
   "metadata": {
    "id": "a3677670"
   },
   "outputs": [],
   "source": [
    "# manual_labeling_data = df.iloc[manual_labeling]"
   ]
  },
  {
   "cell_type": "code",
   "execution_count": null,
   "id": "ad62f4aa",
   "metadata": {
    "id": "ad62f4aa"
   },
   "outputs": [],
   "source": [
    "# manual_labeling_data.to_csv('data/manual_labeling_data.csv', encoding='utf-16', sep='\\t', header=True, index=True)"
   ]
  },
  {
   "cell_type": "markdown",
   "id": "444d8dc8",
   "metadata": {
    "id": "444d8dc8"
   },
   "source": [
    "Load 400 records đã label"
   ]
  },
  {
   "cell_type": "code",
   "execution_count": null,
   "id": "cdcff870",
   "metadata": {
    "colab": {
     "base_uri": "https://localhost:8080/",
     "height": 350
    },
    "executionInfo": {
     "elapsed": 5,
     "status": "ok",
     "timestamp": 1646965957453,
     "user": {
      "displayName": "Phuong Dam",
      "photoUrl": "https://lh3.googleusercontent.com/a/default-user=s64",
      "userId": "01072403895711103873"
     },
     "user_tz": -420
    },
    "id": "cdcff870",
    "outputId": "7dcc9094-3c7e-497a-ec95-f0ae091241a0"
   },
   "outputs": [
    {
     "data": {
      "text/html": [
       "\n",
       "  <div id=\"df-4f736adc-8c99-48e9-8a3c-219d9ccfcb32\">\n",
       "    <div class=\"colab-df-container\">\n",
       "      <div>\n",
       "<style scoped>\n",
       "    .dataframe tbody tr th:only-of-type {\n",
       "        vertical-align: middle;\n",
       "    }\n",
       "\n",
       "    .dataframe tbody tr th {\n",
       "        vertical-align: top;\n",
       "    }\n",
       "\n",
       "    .dataframe thead th {\n",
       "        text-align: right;\n",
       "    }\n",
       "</style>\n",
       "<table border=\"1\" class=\"dataframe\">\n",
       "  <thead>\n",
       "    <tr style=\"text-align: right;\">\n",
       "      <th></th>\n",
       "      <th>restaurant</th>\n",
       "      <th>review_text</th>\n",
       "      <th>review_score</th>\n",
       "      <th>review_score_bins</th>\n",
       "      <th>label</th>\n",
       "      <th>manual_label</th>\n",
       "      <th>review_text_clean</th>\n",
       "    </tr>\n",
       "  </thead>\n",
       "  <tbody>\n",
       "    <tr>\n",
       "      <th>15865</th>\n",
       "      <td>Lotteria - Nguyễn Thái Học</td>\n",
       "      <td>Cách phục vụ và thái độ của nhân viên Lotteria...</td>\n",
       "      <td>3.4</td>\n",
       "      <td>(3, 4]</td>\n",
       "      <td>0</td>\n",
       "      <td>0</td>\n",
       "      <td>phục_vụ lạt tức_giận đối_xử đừng đối_xử không_...</td>\n",
       "    </tr>\n",
       "    <tr>\n",
       "      <th>33385</th>\n",
       "      <td>Kool Tea - Trà Sữa &amp; Ăn Vặt</td>\n",
       "      <td>Trà sữa uống 2 ngăn như vầy mới đã nè. Trà sữa...</td>\n",
       "      <td>8.0</td>\n",
       "      <td>(7, 8]</td>\n",
       "      <td>1</td>\n",
       "      <td>1</td>\n",
       "      <td>ngăn mát lạnh lắm chiên rẻ</td>\n",
       "    </tr>\n",
       "    <tr>\n",
       "      <th>26424</th>\n",
       "      <td>Vintage Coffee House</td>\n",
       "      <td>Quán nằm ngay vị trí trung tâm rất thuận đường...</td>\n",
       "      <td>7.3</td>\n",
       "      <td>(7, 8]</td>\n",
       "      <td>1</td>\n",
       "      <td>1</td>\n",
       "      <td>thuận đẹp rẻ ổn</td>\n",
       "    </tr>\n",
       "    <tr>\n",
       "      <th>36646</th>\n",
       "      <td>Ngon 15 - Lẩu Cá Đuối &amp; Bánh Khọt</td>\n",
       "      <td>Quán ngon, sạch sẽ, giá cả hợp lý, đặc biệt ph...</td>\n",
       "      <td>9.2</td>\n",
       "      <td>(9, 10]</td>\n",
       "      <td>1</td>\n",
       "      <td>1</td>\n",
       "      <td>cực đáo dễ_thương mát nổi_tiếng thích</td>\n",
       "    </tr>\n",
       "    <tr>\n",
       "      <th>17022</th>\n",
       "      <td>Mì Quảng Ếch Bếp Trang - Ông Ích Khiêm</td>\n",
       "      <td>Mi order ve ks cach quan hon 12km. Giao den th...</td>\n",
       "      <td>8.2</td>\n",
       "      <td>(8, 9]</td>\n",
       "      <td>1</td>\n",
       "      <td>1</td>\n",
       "      <td>không pack xop</td>\n",
       "    </tr>\n",
       "  </tbody>\n",
       "</table>\n",
       "</div>\n",
       "      <button class=\"colab-df-convert\" onclick=\"convertToInteractive('df-4f736adc-8c99-48e9-8a3c-219d9ccfcb32')\"\n",
       "              title=\"Convert this dataframe to an interactive table.\"\n",
       "              style=\"display:none;\">\n",
       "        \n",
       "  <svg xmlns=\"http://www.w3.org/2000/svg\" height=\"24px\"viewBox=\"0 0 24 24\"\n",
       "       width=\"24px\">\n",
       "    <path d=\"M0 0h24v24H0V0z\" fill=\"none\"/>\n",
       "    <path d=\"M18.56 5.44l.94 2.06.94-2.06 2.06-.94-2.06-.94-.94-2.06-.94 2.06-2.06.94zm-11 1L8.5 8.5l.94-2.06 2.06-.94-2.06-.94L8.5 2.5l-.94 2.06-2.06.94zm10 10l.94 2.06.94-2.06 2.06-.94-2.06-.94-.94-2.06-.94 2.06-2.06.94z\"/><path d=\"M17.41 7.96l-1.37-1.37c-.4-.4-.92-.59-1.43-.59-.52 0-1.04.2-1.43.59L10.3 9.45l-7.72 7.72c-.78.78-.78 2.05 0 2.83L4 21.41c.39.39.9.59 1.41.59.51 0 1.02-.2 1.41-.59l7.78-7.78 2.81-2.81c.8-.78.8-2.07 0-2.86zM5.41 20L4 18.59l7.72-7.72 1.47 1.35L5.41 20z\"/>\n",
       "  </svg>\n",
       "      </button>\n",
       "      \n",
       "  <style>\n",
       "    .colab-df-container {\n",
       "      display:flex;\n",
       "      flex-wrap:wrap;\n",
       "      gap: 12px;\n",
       "    }\n",
       "\n",
       "    .colab-df-convert {\n",
       "      background-color: #E8F0FE;\n",
       "      border: none;\n",
       "      border-radius: 50%;\n",
       "      cursor: pointer;\n",
       "      display: none;\n",
       "      fill: #1967D2;\n",
       "      height: 32px;\n",
       "      padding: 0 0 0 0;\n",
       "      width: 32px;\n",
       "    }\n",
       "\n",
       "    .colab-df-convert:hover {\n",
       "      background-color: #E2EBFA;\n",
       "      box-shadow: 0px 1px 2px rgba(60, 64, 67, 0.3), 0px 1px 3px 1px rgba(60, 64, 67, 0.15);\n",
       "      fill: #174EA6;\n",
       "    }\n",
       "\n",
       "    [theme=dark] .colab-df-convert {\n",
       "      background-color: #3B4455;\n",
       "      fill: #D2E3FC;\n",
       "    }\n",
       "\n",
       "    [theme=dark] .colab-df-convert:hover {\n",
       "      background-color: #434B5C;\n",
       "      box-shadow: 0px 1px 3px 1px rgba(0, 0, 0, 0.15);\n",
       "      filter: drop-shadow(0px 1px 2px rgba(0, 0, 0, 0.3));\n",
       "      fill: #FFFFFF;\n",
       "    }\n",
       "  </style>\n",
       "\n",
       "      <script>\n",
       "        const buttonEl =\n",
       "          document.querySelector('#df-4f736adc-8c99-48e9-8a3c-219d9ccfcb32 button.colab-df-convert');\n",
       "        buttonEl.style.display =\n",
       "          google.colab.kernel.accessAllowed ? 'block' : 'none';\n",
       "\n",
       "        async function convertToInteractive(key) {\n",
       "          const element = document.querySelector('#df-4f736adc-8c99-48e9-8a3c-219d9ccfcb32');\n",
       "          const dataTable =\n",
       "            await google.colab.kernel.invokeFunction('convertToInteractive',\n",
       "                                                     [key], {});\n",
       "          if (!dataTable) return;\n",
       "\n",
       "          const docLinkHtml = 'Like what you see? Visit the ' +\n",
       "            '<a target=\"_blank\" href=https://colab.research.google.com/notebooks/data_table.ipynb>data table notebook</a>'\n",
       "            + ' to learn more about interactive tables.';\n",
       "          element.innerHTML = '';\n",
       "          dataTable['output_type'] = 'display_data';\n",
       "          await google.colab.output.renderOutput(dataTable, element);\n",
       "          const docLink = document.createElement('div');\n",
       "          docLink.innerHTML = docLinkHtml;\n",
       "          element.appendChild(docLink);\n",
       "        }\n",
       "      </script>\n",
       "    </div>\n",
       "  </div>\n",
       "  "
      ],
      "text/plain": [
       "                                   restaurant  \\\n",
       "15865              Lotteria - Nguyễn Thái Học   \n",
       "33385             Kool Tea - Trà Sữa & Ăn Vặt   \n",
       "26424                    Vintage Coffee House   \n",
       "36646       Ngon 15 - Lẩu Cá Đuối & Bánh Khọt   \n",
       "17022  Mì Quảng Ếch Bếp Trang - Ông Ích Khiêm   \n",
       "\n",
       "                                             review_text  review_score  \\\n",
       "15865  Cách phục vụ và thái độ của nhân viên Lotteria...           3.4   \n",
       "33385  Trà sữa uống 2 ngăn như vầy mới đã nè. Trà sữa...           8.0   \n",
       "26424  Quán nằm ngay vị trí trung tâm rất thuận đường...           7.3   \n",
       "36646  Quán ngon, sạch sẽ, giá cả hợp lý, đặc biệt ph...           9.2   \n",
       "17022  Mi order ve ks cach quan hon 12km. Giao den th...           8.2   \n",
       "\n",
       "      review_score_bins  label  manual_label  \\\n",
       "15865            (3, 4]      0             0   \n",
       "33385            (7, 8]      1             1   \n",
       "26424            (7, 8]      1             1   \n",
       "36646           (9, 10]      1             1   \n",
       "17022            (8, 9]      1             1   \n",
       "\n",
       "                                       review_text_clean  \n",
       "15865  phục_vụ lạt tức_giận đối_xử đừng đối_xử không_...  \n",
       "33385                         ngăn mát lạnh lắm chiên rẻ  \n",
       "26424                                    thuận đẹp rẻ ổn  \n",
       "36646              cực đáo dễ_thương mát nổi_tiếng thích  \n",
       "17022                                     không pack xop  "
      ]
     },
     "execution_count": 9,
     "metadata": {},
     "output_type": "execute_result"
    }
   ],
   "source": [
    "manual_labeled_data = pd.read_csv('data/manual_labeling_data.csv', on_bad_lines='skip',\n",
    "                                  encoding='utf-16', sep='\\t', index_col=0)\n",
    "manual_labeled_data.head()"
   ]
  },
  {
   "cell_type": "code",
   "execution_count": null,
   "id": "0d3b98a5",
   "metadata": {
    "colab": {
     "base_uri": "https://localhost:8080/"
    },
    "executionInfo": {
     "elapsed": 545,
     "status": "ok",
     "timestamp": 1646965957994,
     "user": {
      "displayName": "Phuong Dam",
      "photoUrl": "https://lh3.googleusercontent.com/a/default-user=s64",
      "userId": "01072403895711103873"
     },
     "user_tz": -420
    },
    "id": "0d3b98a5",
    "outputId": "8ab8a682-b1ac-416f-9cd2-e330e6c9c426"
   },
   "outputs": [
    {
     "name": "stdout",
     "output_type": "stream",
     "text": [
      "<class 'pandas.core.frame.DataFrame'>\n",
      "Int64Index: 400 entries, 15865 to 15732\n",
      "Data columns (total 7 columns):\n",
      " #   Column             Non-Null Count  Dtype  \n",
      "---  ------             --------------  -----  \n",
      " 0   restaurant         400 non-null    object \n",
      " 1   review_text        400 non-null    object \n",
      " 2   review_score       400 non-null    float64\n",
      " 3   review_score_bins  400 non-null    object \n",
      " 4   label              400 non-null    int64  \n",
      " 5   manual_label       400 non-null    int64  \n",
      " 6   review_text_clean  400 non-null    object \n",
      "dtypes: float64(1), int64(2), object(4)\n",
      "memory usage: 25.0+ KB\n"
     ]
    }
   ],
   "source": [
    "manual_labeled_data.info()"
   ]
  },
  {
   "cell_type": "code",
   "execution_count": null,
   "id": "b7610643",
   "metadata": {
    "colab": {
     "base_uri": "https://localhost:8080/"
    },
    "executionInfo": {
     "elapsed": 34,
     "status": "ok",
     "timestamp": 1646965957994,
     "user": {
      "displayName": "Phuong Dam",
      "photoUrl": "https://lh3.googleusercontent.com/a/default-user=s64",
      "userId": "01072403895711103873"
     },
     "user_tz": -420
    },
    "id": "b7610643",
    "outputId": "5232e1d6-b99b-4442-f012-aaeef31904da"
   },
   "outputs": [
    {
     "data": {
      "text/plain": [
       "1    326\n",
       "0     74\n",
       "Name: label, dtype: int64"
      ]
     },
     "execution_count": 11,
     "metadata": {},
     "output_type": "execute_result"
    }
   ],
   "source": [
    "manual_labeled_data.label.value_counts()"
   ]
  },
  {
   "cell_type": "code",
   "execution_count": null,
   "id": "728e024b",
   "metadata": {
    "colab": {
     "base_uri": "https://localhost:8080/"
    },
    "executionInfo": {
     "elapsed": 23,
     "status": "ok",
     "timestamp": 1646965957994,
     "user": {
      "displayName": "Phuong Dam",
      "photoUrl": "https://lh3.googleusercontent.com/a/default-user=s64",
      "userId": "01072403895711103873"
     },
     "user_tz": -420
    },
    "id": "728e024b",
    "outputId": "103099eb-15b3-424a-d550-6bf9b024b007"
   },
   "outputs": [
    {
     "data": {
      "text/plain": [
       "1    319\n",
       "0     81\n",
       "Name: manual_label, dtype: int64"
      ]
     },
     "execution_count": 12,
     "metadata": {},
     "output_type": "execute_result"
    }
   ],
   "source": [
    "manual_labeled_data.manual_label.value_counts()"
   ]
  },
  {
   "cell_type": "markdown",
   "id": "26b51578",
   "metadata": {
    "id": "26b51578"
   },
   "source": [
    "Ta nhận thấy không có nhiều khác biệt giữa label theo review_score và manual label"
   ]
  },
  {
   "cell_type": "code",
   "execution_count": null,
   "id": "8d175a6a",
   "metadata": {
    "colab": {
     "base_uri": "https://localhost:8080/"
    },
    "executionInfo": {
     "elapsed": 16,
     "status": "ok",
     "timestamp": 1646965957995,
     "user": {
      "displayName": "Phuong Dam",
      "photoUrl": "https://lh3.googleusercontent.com/a/default-user=s64",
      "userId": "01072403895711103873"
     },
     "user_tz": -420
    },
    "id": "8d175a6a",
    "outputId": "44dfc9a0-9e80-417b-a732-ef2e0c81d857"
   },
   "outputs": [
    {
     "data": {
      "text/plain": [
       "(38110, 6)"
      ]
     },
     "execution_count": 13,
     "metadata": {},
     "output_type": "execute_result"
    }
   ],
   "source": [
    "# Lọc ra unlabeled data còn lại\n",
    "unlabeled_df = df.loc[~ df.index.isin(manual_labeled_data.index)]\n",
    "unlabeled_df.shape"
   ]
  },
  {
   "cell_type": "code",
   "execution_count": null,
   "id": "00b5234d",
   "metadata": {
    "colab": {
     "base_uri": "https://localhost:8080/",
     "height": 384
    },
    "executionInfo": {
     "elapsed": 8,
     "status": "ok",
     "timestamp": 1646965957995,
     "user": {
      "displayName": "Phuong Dam",
      "photoUrl": "https://lh3.googleusercontent.com/a/default-user=s64",
      "userId": "01072403895711103873"
     },
     "user_tz": -420
    },
    "id": "00b5234d",
    "outputId": "92d87542-c086-4973-c1d7-d5f1e00fc2c7"
   },
   "outputs": [
    {
     "data": {
      "text/html": [
       "\n",
       "  <div id=\"df-0295d5dc-f8c9-4cad-bc09-1076dd274cdd\">\n",
       "    <div class=\"colab-df-container\">\n",
       "      <div>\n",
       "<style scoped>\n",
       "    .dataframe tbody tr th:only-of-type {\n",
       "        vertical-align: middle;\n",
       "    }\n",
       "\n",
       "    .dataframe tbody tr th {\n",
       "        vertical-align: top;\n",
       "    }\n",
       "\n",
       "    .dataframe thead th {\n",
       "        text-align: right;\n",
       "    }\n",
       "</style>\n",
       "<table border=\"1\" class=\"dataframe\">\n",
       "  <thead>\n",
       "    <tr style=\"text-align: right;\">\n",
       "      <th></th>\n",
       "      <th>restaurant</th>\n",
       "      <th>review_text</th>\n",
       "      <th>review_score</th>\n",
       "      <th>review_score_bins</th>\n",
       "      <th>label</th>\n",
       "      <th>review_text_clean</th>\n",
       "    </tr>\n",
       "  </thead>\n",
       "  <tbody>\n",
       "    <tr>\n",
       "      <th>0</th>\n",
       "      <td>Good Morning Restaurant</td>\n",
       "      <td>Pizza phong cách Ý. Ngán hải sản nên cả nhà gh...</td>\n",
       "      <td>8.2</td>\n",
       "      <td>(8, 9]</td>\n",
       "      <td>1</td>\n",
       "      <td>rẻ đẹp</td>\n",
       "    </tr>\n",
       "    <tr>\n",
       "      <th>1</th>\n",
       "      <td>Hạt Dẻ Trùng Khánh</td>\n",
       "      <td>- Vị trí: chỉ là 1 chiếc xe nho nhỏ nằm ở khu ...</td>\n",
       "      <td>8.0</td>\n",
       "      <td>(7, 8]</td>\n",
       "      <td>1</td>\n",
       "      <td>đông đối_diện thích hẳn chuyên_nghiệp lắm bự h...</td>\n",
       "    </tr>\n",
       "    <tr>\n",
       "      <th>2</th>\n",
       "      <td>Bột - Healthy &amp; Weight Loss Food - Shop Online</td>\n",
       "      <td>Nay lang thang trên BM thấy đang khuyến mãi xo...</td>\n",
       "      <td>8.2</td>\n",
       "      <td>(8, 9]</td>\n",
       "      <td>1</td>\n",
       "      <td>khuyến_mãi đồ_ăn đa_số khô</td>\n",
       "    </tr>\n",
       "    <tr>\n",
       "      <th>3</th>\n",
       "      <td>Bánh Giò Chợ Nguyễn Công Trứ</td>\n",
       "      <td>Quán nằm trong chợ Nguyễn Công Trứ, cũng dễ tì...</td>\n",
       "      <td>8.2</td>\n",
       "      <td>(8, 9]</td>\n",
       "      <td>1</td>\n",
       "      <td>nguyễn_công_trứ thẳng đông không_có lộn ngải_c...</td>\n",
       "    </tr>\n",
       "    <tr>\n",
       "      <th>4</th>\n",
       "      <td>Quán Quảng - Bún Quảng</td>\n",
       "      <td>Ngãi heo với heo thiệttttt 🐷🐷🐷\\n🤤🤤 bún nem chả...</td>\n",
       "      <td>9.0</td>\n",
       "      <td>(8, 9]</td>\n",
       "      <td>1</td>\n",
       "      <td>ngãi thơm kế sò ốc mềm không_thích dầu_mỡ khôn...</td>\n",
       "    </tr>\n",
       "  </tbody>\n",
       "</table>\n",
       "</div>\n",
       "      <button class=\"colab-df-convert\" onclick=\"convertToInteractive('df-0295d5dc-f8c9-4cad-bc09-1076dd274cdd')\"\n",
       "              title=\"Convert this dataframe to an interactive table.\"\n",
       "              style=\"display:none;\">\n",
       "        \n",
       "  <svg xmlns=\"http://www.w3.org/2000/svg\" height=\"24px\"viewBox=\"0 0 24 24\"\n",
       "       width=\"24px\">\n",
       "    <path d=\"M0 0h24v24H0V0z\" fill=\"none\"/>\n",
       "    <path d=\"M18.56 5.44l.94 2.06.94-2.06 2.06-.94-2.06-.94-.94-2.06-.94 2.06-2.06.94zm-11 1L8.5 8.5l.94-2.06 2.06-.94-2.06-.94L8.5 2.5l-.94 2.06-2.06.94zm10 10l.94 2.06.94-2.06 2.06-.94-2.06-.94-.94-2.06-.94 2.06-2.06.94z\"/><path d=\"M17.41 7.96l-1.37-1.37c-.4-.4-.92-.59-1.43-.59-.52 0-1.04.2-1.43.59L10.3 9.45l-7.72 7.72c-.78.78-.78 2.05 0 2.83L4 21.41c.39.39.9.59 1.41.59.51 0 1.02-.2 1.41-.59l7.78-7.78 2.81-2.81c.8-.78.8-2.07 0-2.86zM5.41 20L4 18.59l7.72-7.72 1.47 1.35L5.41 20z\"/>\n",
       "  </svg>\n",
       "      </button>\n",
       "      \n",
       "  <style>\n",
       "    .colab-df-container {\n",
       "      display:flex;\n",
       "      flex-wrap:wrap;\n",
       "      gap: 12px;\n",
       "    }\n",
       "\n",
       "    .colab-df-convert {\n",
       "      background-color: #E8F0FE;\n",
       "      border: none;\n",
       "      border-radius: 50%;\n",
       "      cursor: pointer;\n",
       "      display: none;\n",
       "      fill: #1967D2;\n",
       "      height: 32px;\n",
       "      padding: 0 0 0 0;\n",
       "      width: 32px;\n",
       "    }\n",
       "\n",
       "    .colab-df-convert:hover {\n",
       "      background-color: #E2EBFA;\n",
       "      box-shadow: 0px 1px 2px rgba(60, 64, 67, 0.3), 0px 1px 3px 1px rgba(60, 64, 67, 0.15);\n",
       "      fill: #174EA6;\n",
       "    }\n",
       "\n",
       "    [theme=dark] .colab-df-convert {\n",
       "      background-color: #3B4455;\n",
       "      fill: #D2E3FC;\n",
       "    }\n",
       "\n",
       "    [theme=dark] .colab-df-convert:hover {\n",
       "      background-color: #434B5C;\n",
       "      box-shadow: 0px 1px 3px 1px rgba(0, 0, 0, 0.15);\n",
       "      filter: drop-shadow(0px 1px 2px rgba(0, 0, 0, 0.3));\n",
       "      fill: #FFFFFF;\n",
       "    }\n",
       "  </style>\n",
       "\n",
       "      <script>\n",
       "        const buttonEl =\n",
       "          document.querySelector('#df-0295d5dc-f8c9-4cad-bc09-1076dd274cdd button.colab-df-convert');\n",
       "        buttonEl.style.display =\n",
       "          google.colab.kernel.accessAllowed ? 'block' : 'none';\n",
       "\n",
       "        async function convertToInteractive(key) {\n",
       "          const element = document.querySelector('#df-0295d5dc-f8c9-4cad-bc09-1076dd274cdd');\n",
       "          const dataTable =\n",
       "            await google.colab.kernel.invokeFunction('convertToInteractive',\n",
       "                                                     [key], {});\n",
       "          if (!dataTable) return;\n",
       "\n",
       "          const docLinkHtml = 'Like what you see? Visit the ' +\n",
       "            '<a target=\"_blank\" href=https://colab.research.google.com/notebooks/data_table.ipynb>data table notebook</a>'\n",
       "            + ' to learn more about interactive tables.';\n",
       "          element.innerHTML = '';\n",
       "          dataTable['output_type'] = 'display_data';\n",
       "          await google.colab.output.renderOutput(dataTable, element);\n",
       "          const docLink = document.createElement('div');\n",
       "          docLink.innerHTML = docLinkHtml;\n",
       "          element.appendChild(docLink);\n",
       "        }\n",
       "      </script>\n",
       "    </div>\n",
       "  </div>\n",
       "  "
      ],
      "text/plain": [
       "                                       restaurant  \\\n",
       "0                         Good Morning Restaurant   \n",
       "1                              Hạt Dẻ Trùng Khánh   \n",
       "2  Bột - Healthy & Weight Loss Food - Shop Online   \n",
       "3                    Bánh Giò Chợ Nguyễn Công Trứ   \n",
       "4                          Quán Quảng - Bún Quảng   \n",
       "\n",
       "                                         review_text  review_score  \\\n",
       "0  Pizza phong cách Ý. Ngán hải sản nên cả nhà gh...           8.2   \n",
       "1  - Vị trí: chỉ là 1 chiếc xe nho nhỏ nằm ở khu ...           8.0   \n",
       "2  Nay lang thang trên BM thấy đang khuyến mãi xo...           8.2   \n",
       "3  Quán nằm trong chợ Nguyễn Công Trứ, cũng dễ tì...           8.2   \n",
       "4  Ngãi heo với heo thiệttttt 🐷🐷🐷\\n🤤🤤 bún nem chả...           9.0   \n",
       "\n",
       "  review_score_bins  label                                  review_text_clean  \n",
       "0            (8, 9]      1                                             rẻ đẹp  \n",
       "1            (7, 8]      1  đông đối_diện thích hẳn chuyên_nghiệp lắm bự h...  \n",
       "2            (8, 9]      1                         khuyến_mãi đồ_ăn đa_số khô  \n",
       "3            (8, 9]      1  nguyễn_công_trứ thẳng đông không_có lộn ngải_c...  \n",
       "4            (8, 9]      1  ngãi thơm kế sò ốc mềm không_thích dầu_mỡ khôn...  "
      ]
     },
     "execution_count": 14,
     "metadata": {},
     "output_type": "execute_result"
    }
   ],
   "source": [
    "unlabeled_df.head()"
   ]
  },
  {
   "cell_type": "code",
   "execution_count": null,
   "id": "099d3f8b",
   "metadata": {
    "id": "099d3f8b"
   },
   "outputs": [],
   "source": [
    "tfidf = TfidfVectorizer(max_features=8000) \n",
    "all_features = tfidf.fit_transform(df['review_text_clean'])\n",
    "all_features = all_features.toarray()"
   ]
  },
  {
   "cell_type": "code",
   "execution_count": null,
   "id": "e0308688",
   "metadata": {
    "colab": {
     "base_uri": "https://localhost:8080/"
    },
    "executionInfo": {
     "elapsed": 9,
     "status": "ok",
     "timestamp": 1646965959452,
     "user": {
      "displayName": "Phuong Dam",
      "photoUrl": "https://lh3.googleusercontent.com/a/default-user=s64",
      "userId": "01072403895711103873"
     },
     "user_tz": -420
    },
    "id": "e0308688",
    "outputId": "aea364ab-ec1a-421b-ef9d-2608d5b213c8"
   },
   "outputs": [
    {
     "data": {
      "text/plain": [
       "(38510, 8000)"
      ]
     },
     "execution_count": 16,
     "metadata": {},
     "output_type": "execute_result"
    }
   ],
   "source": [
    "all_features.shape"
   ]
  },
  {
   "cell_type": "code",
   "execution_count": null,
   "id": "231710e6",
   "metadata": {
    "id": "231710e6"
   },
   "outputs": [],
   "source": [
    "# Train data (~99%)\n",
    "features_1 = all_features[unlabeled_df.index]\n",
    "target_1 = df.loc[unlabeled_df.index]['label']"
   ]
  },
  {
   "cell_type": "code",
   "execution_count": null,
   "id": "166f3b8b",
   "metadata": {
    "id": "166f3b8b"
   },
   "outputs": [],
   "source": [
    "# Validation data (400 records ~ 1%)\n",
    "X_test_ml = all_features[manual_labeled_data.index]\n",
    "y_test_ml = manual_labeled_data['manual_label']"
   ]
  },
  {
   "cell_type": "code",
   "execution_count": null,
   "id": "59318058",
   "metadata": {
    "id": "59318058"
   },
   "outputs": [],
   "source": [
    "# Seperate list for Unlabeled Samples\n",
    "Unlabeled = np.copy(target_1)\n",
    "# Select a mask of 20% of the train data\n",
    "y_mask = np.random.rand(len(target_1)) <=0.2\n",
    "# Set the non-masked subset to be unlabeled\n",
    "Unlabeled[~y_mask] = -1"
   ]
  },
  {
   "cell_type": "code",
   "execution_count": null,
   "id": "dbde0fc5",
   "metadata": {
    "id": "dbde0fc5",
    "outputId": "52b9fc75-e705-4383-81cf-79a05c15a6eb"
   },
   "outputs": [
    {
     "data": {
      "text/plain": [
       "array([-1, -1, -1, ..., -1, -1, -1])"
      ]
     },
     "execution_count": 61,
     "metadata": {},
     "output_type": "execute_result"
    }
   ],
   "source": [
    "# Inspect\n",
    "Unlabeled.T"
   ]
  },
  {
   "cell_type": "code",
   "execution_count": null,
   "id": "7d55d261",
   "metadata": {
    "id": "7d55d261",
    "outputId": "a6b7e250-db49-4bdf-fbe4-583d488c94a3"
   },
   "outputs": [
    {
     "name": "stdout",
     "output_type": "stream",
     "text": [
      "Unlabeled samples in training set: 30401\n"
     ]
    }
   ],
   "source": [
    "print(\"Unlabeled samples in training set:\", sum(1 for x in Unlabeled if x == -1))"
   ]
  },
  {
   "cell_type": "markdown",
   "id": "kYTwMkkw1LnJ",
   "metadata": {
    "id": "kYTwMkkw1LnJ"
   },
   "source": [
    "# Build Model"
   ]
  },
  {
   "cell_type": "markdown",
   "id": "69d78ac6",
   "metadata": {
    "id": "69d78ac6"
   },
   "source": [
    "## Label Spreading - using manual label"
   ]
  },
  {
   "cell_type": "code",
   "execution_count": null,
   "id": "9216b130",
   "metadata": {
    "id": "9216b130",
    "outputId": "c9702caf-20b0-448a-f188-71959d5dc79c"
   },
   "outputs": [
    {
     "name": "stdout",
     "output_type": "stream",
     "text": [
      "Accuracy of Label Spreading 1.0\n"
     ]
    }
   ],
   "source": [
    "# Label Spreading\n",
    "label_prop_model = LabelSpreading()\n",
    "\n",
    "# Fit to Label Spreading \n",
    "label_prop_model.fit(features_1, Unlabeled) #input, output\n",
    "\n",
    "# Predict the Labels for Unlabeled Samples\n",
    "pred_ls = label_prop_model.predict(features_1)\n",
    "\n",
    "# #Accuracy of Prediction\n",
    "print('Accuracy of Label Spreading', label_prop_model.score(features_1, pred_ls))   #score tính dựa trên xác suất"
   ]
  },
  {
   "cell_type": "code",
   "execution_count": null,
   "id": "646f2dd1",
   "metadata": {
    "id": "646f2dd1",
    "outputId": "516b3292-da27-4230-d068-57e6cf5a9fe7"
   },
   "outputs": [
    {
     "data": {
      "text/plain": [
       "array([1, 1, 1, ..., 1, 1, 0])"
      ]
     },
     "execution_count": 64,
     "metadata": {},
     "output_type": "execute_result"
    }
   ],
   "source": [
    "pred_ls.T"
   ]
  },
  {
   "cell_type": "code",
   "execution_count": null,
   "id": "4053f499",
   "metadata": {
    "id": "4053f499",
    "outputId": "66aef459-adc0-459a-bd12-48b703f6734a"
   },
   "outputs": [
    {
     "data": {
      "text/plain": [
       "38110"
      ]
     },
     "execution_count": 65,
     "metadata": {},
     "output_type": "execute_result"
    }
   ],
   "source": [
    "len(pred_ls)"
   ]
  },
  {
   "cell_type": "code",
   "execution_count": null,
   "id": "a8abe545",
   "metadata": {
    "id": "a8abe545",
    "outputId": "720ea4d4-30d1-4fd1-a8c9-c20b2a8dde33"
   },
   "outputs": [
    {
     "name": "stdout",
     "output_type": "stream",
     "text": [
      "Unlabeled samples in training set 0\n"
     ]
    }
   ],
   "source": [
    "print('Unlabeled samples in training set', sum(1 for x in pred_ls if x==-1))"
   ]
  },
  {
   "cell_type": "code",
   "execution_count": null,
   "id": "aff4ad63",
   "metadata": {
    "id": "aff4ad63",
    "outputId": "830c2550-0f10-4de3-c5a3-df99f9e31245"
   },
   "outputs": [
    {
     "name": "stdout",
     "output_type": "stream",
     "text": [
      "Accuracy: 84.25%\n"
     ]
    }
   ],
   "source": [
    "# Define Model label_spread\n",
    "model_ls = BernoulliNB()\n",
    "\n",
    "# Fit 90% dữ liệu, trong đó 20% có nhãn, còn lại là label spreading\n",
    "model_ls.fit(features_1, pred_ls)\n",
    "\n",
    "#Prediction (10%)\n",
    "yls_pred = model_ls.predict(X_test_ml)\n",
    "\n",
    "#Accuracy Score\n",
    "acc_ls = accuracy_score(y_test_ml, yls_pred)\n",
    "print('Accuracy:','{:.2%}'.format(acc_ls))"
   ]
  },
  {
   "cell_type": "code",
   "execution_count": null,
   "id": "e826b646",
   "metadata": {
    "id": "e826b646",
    "outputId": "eb30bdd5-07dd-4172-9c38-ecbd03bf9a7c",
    "scrolled": true
   },
   "outputs": [
    {
     "name": "stdout",
     "output_type": "stream",
     "text": [
      "[[ 23  58]\n",
      " [  5 314]]\n"
     ]
    }
   ],
   "source": [
    "print(confusion_matrix(y_test_ml, yls_pred))"
   ]
  },
  {
   "cell_type": "code",
   "execution_count": null,
   "id": "c1c6fca5",
   "metadata": {
    "id": "c1c6fca5",
    "outputId": "9bcb2378-12b3-4c26-b2db-8115787957a9"
   },
   "outputs": [
    {
     "name": "stdout",
     "output_type": "stream",
     "text": [
      "              precision    recall  f1-score   support\n",
      "\n",
      "           0       0.82      0.28      0.42        81\n",
      "           1       0.84      0.98      0.91       319\n",
      "\n",
      "    accuracy                           0.84       400\n",
      "   macro avg       0.83      0.63      0.67       400\n",
      "weighted avg       0.84      0.84      0.81       400\n",
      "\n"
     ]
    }
   ],
   "source": [
    "print(classification_report(y_test_ml, yls_pred))"
   ]
  },
  {
   "cell_type": "markdown",
   "id": "83c07b14",
   "metadata": {
    "id": "83c07b14"
   },
   "source": [
    "## Label Spreading - using label by 'review_score'"
   ]
  },
  {
   "cell_type": "code",
   "execution_count": null,
   "id": "7bff8613",
   "metadata": {
    "id": "7bff8613"
   },
   "outputs": [],
   "source": [
    "target_number = df['label']"
   ]
  },
  {
   "cell_type": "code",
   "execution_count": null,
   "id": "b84927bf",
   "metadata": {
    "id": "b84927bf"
   },
   "outputs": [],
   "source": [
    "# 90% train (áp dụng LabelSpreading, self-training => train ) / 10% validation (test)\n",
    "features_1, X_test_st, target_1, y_test_st = train_test_split(all_features, target_number, test_size=0.1)"
   ]
  },
  {
   "cell_type": "code",
   "execution_count": null,
   "id": "b4cb1d19",
   "metadata": {
    "id": "b4cb1d19"
   },
   "outputs": [],
   "source": [
    "# Seperate list for Unlabeled Samples\n",
    "Unlabeled = np.copy(target_1)\n",
    "# Select a mask of 20% of the train dataset\n",
    "y_mask = np.random.rand(len(target_1)) <=0.2\n",
    "# Set the non-masked subset to be unlabeled\n",
    "Unlabeled[~y_mask] = -1"
   ]
  },
  {
   "cell_type": "code",
   "execution_count": null,
   "id": "2ff1f19d",
   "metadata": {
    "id": "2ff1f19d",
    "outputId": "11fcfa9d-9108-4351-e1f5-51e8f7668bb3"
   },
   "outputs": [
    {
     "data": {
      "text/plain": [
       "array([ 1, -1, -1, ..., -1, -1, -1])"
      ]
     },
     "execution_count": 78,
     "metadata": {},
     "output_type": "execute_result"
    }
   ],
   "source": [
    "# Inspect\n",
    "Unlabeled.T"
   ]
  },
  {
   "cell_type": "code",
   "execution_count": null,
   "id": "d2f035c6",
   "metadata": {
    "id": "d2f035c6",
    "outputId": "9cd29d9c-9b50-45ab-ff25-9e9bba9a40fb"
   },
   "outputs": [
    {
     "name": "stdout",
     "output_type": "stream",
     "text": [
      "Unlabeled samples in training set: 27690\n"
     ]
    }
   ],
   "source": [
    "print(\"Unlabeled samples in training set:\", sum(1 for x in Unlabeled if x == -1))"
   ]
  },
  {
   "cell_type": "code",
   "execution_count": null,
   "id": "aa62234f",
   "metadata": {
    "id": "aa62234f",
    "outputId": "2a247ea5-0b7c-47c0-c7de-ec14698a9f86"
   },
   "outputs": [
    {
     "name": "stdout",
     "output_type": "stream",
     "text": [
      "Accuracy of Label Spreading 1.0\n"
     ]
    }
   ],
   "source": [
    "# Label Spreading\n",
    "label_prop_model = LabelSpreading()\n",
    "\n",
    "# Fit to Label Spreading \n",
    "label_prop_model.fit(features_1, Unlabeled) #input, output\n",
    "\n",
    "# Predict the Labels for Unlabeled Samples\n",
    "pred_lb = label_prop_model.predict(features_1)\n",
    "\n",
    "# #Accuracy of Prediction\n",
    "print('Accuracy of Label Spreading', label_prop_model.score(features_1, pred_lb))   #score tính dựa trên xác suất"
   ]
  },
  {
   "cell_type": "code",
   "execution_count": null,
   "id": "60032d1c",
   "metadata": {
    "id": "60032d1c",
    "outputId": "27a72c34-a74c-4d21-d332-6bbe728bc98e"
   },
   "outputs": [
    {
     "name": "stdout",
     "output_type": "stream",
     "text": [
      "Unlabeled samples in training set 0\n"
     ]
    }
   ],
   "source": [
    "print('Unlabeled samples in training set', sum(1 for x in pred_lb if x==-1))"
   ]
  },
  {
   "cell_type": "code",
   "execution_count": null,
   "id": "f8fbad4c",
   "metadata": {
    "id": "f8fbad4c",
    "outputId": "c6e53dc2-6af4-4414-dfc5-f6aaee0a3303"
   },
   "outputs": [
    {
     "name": "stdout",
     "output_type": "stream",
     "text": [
      "Accuracy: 87.51%\n"
     ]
    }
   ],
   "source": [
    "# Define Model\n",
    "model_lb = BernoulliNB()\n",
    "\n",
    "# Fit 90% dữ liệu, trong đó 20% có nhãn, còn lại là label spreading\n",
    "model_lb.fit(features_1, pred_lb)\n",
    "\n",
    "#Prediction (10%)\n",
    "yl_pred = model_lb.predict(X_test_st)\n",
    "\n",
    "#Accuracy Score\n",
    "acc_ls = accuracy_score(y_test_st, yl_pred)\n",
    "print('Accuracy:','{:.2%}'.format(acc_ls))"
   ]
  },
  {
   "cell_type": "code",
   "execution_count": null,
   "id": "44e89261",
   "metadata": {
    "id": "44e89261",
    "outputId": "615f9014-4b9d-4a7e-aa80-b40034945043"
   },
   "outputs": [
    {
     "name": "stdout",
     "output_type": "stream",
     "text": [
      "[[ 253  395]\n",
      " [  86 3117]]\n",
      "              precision    recall  f1-score   support\n",
      "\n",
      "           0       0.82      0.28      0.42        81\n",
      "           1       0.84      0.98      0.91       319\n",
      "\n",
      "    accuracy                           0.84       400\n",
      "   macro avg       0.83      0.63      0.67       400\n",
      "weighted avg       0.84      0.84      0.81       400\n",
      "\n"
     ]
    }
   ],
   "source": [
    "print(confusion_matrix(y_test_st, yl_pred))\n",
    "print(classification_report(y_test_ml, yls_pred))"
   ]
  },
  {
   "cell_type": "code",
   "execution_count": null,
   "id": "5dec1b2b",
   "metadata": {
    "id": "5dec1b2b",
    "outputId": "77c8dc74-8f25-425e-cd7d-12574aafdae4",
    "scrolled": true
   },
   "outputs": [
    {
     "name": "stdout",
     "output_type": "stream",
     "text": [
      "Accuracy: LogisticRegression 87.12%\n",
      "Accuracy: NearestCentroid 83.33%\n",
      "Accuracy: ExtraTreesClassifier 86.24%\n"
     ]
    }
   ],
   "source": [
    "algorithms = [LogisticRegression(), NearestCentroid(), ExtraTreesClassifier()]\n",
    "for algo in algorithms:\n",
    "    # Define Model\n",
    "    model = algo\n",
    "    # Fit 90% dữ liệu, trong đó 20% có nhãn, còn lại là label spreading\n",
    "    model.fit(features_1, pred_lb)\n",
    "    #Prediction (10%)\n",
    "    yl_pred = model.predict(X_test_st)\n",
    "    #Accuracy Score\n",
    "    acc_ls = accuracy_score(y_test_st, yl_pred)\n",
    "    print('Accuracy:',algo.__class__.__name__,'{:.2%}'.format(acc_ls))"
   ]
  },
  {
   "cell_type": "markdown",
   "id": "fb02abf6",
   "metadata": {
    "id": "fb02abf6"
   },
   "source": [
    "## Self-training - using label by 'review_score'"
   ]
  },
  {
   "cell_type": "code",
   "execution_count": null,
   "id": "5070d791",
   "metadata": {
    "id": "5070d791"
   },
   "outputs": [],
   "source": [
    "# SelfTrainingClassifier\n",
    "self_training_model = SelfTrainingClassifier(BernoulliNB(), \n",
    "                                             threshold=0.95) "
   ]
  },
  {
   "cell_type": "code",
   "execution_count": null,
   "id": "00219351",
   "metadata": {
    "id": "00219351"
   },
   "outputs": [],
   "source": [
    "# Fit\n",
    "self_training_model.fit(features_1, Unlabeled)  #90%: 20% có nhãn, 80% ko có\n",
    "# Predict the Labels for Unlabeled Samples\n",
    "pred_st = self_training_model.predict(features_1)"
   ]
  },
  {
   "cell_type": "code",
   "execution_count": null,
   "id": "d9a4d1f8",
   "metadata": {
    "id": "d9a4d1f8",
    "outputId": "36cdb980-ee8a-438a-eda9-d009ce9d70ac"
   },
   "outputs": [
    {
     "name": "stdout",
     "output_type": "stream",
     "text": [
      "Accuracy of Self-training: 1.0\n"
     ]
    }
   ],
   "source": [
    "# #Accuracy of Prediction\n",
    "print('Accuracy of Self-training:', self_training_model.score(features_1, pred_st))"
   ]
  },
  {
   "cell_type": "code",
   "execution_count": null,
   "id": "355d4e2b",
   "metadata": {
    "id": "355d4e2b",
    "outputId": "f89abcd3-9039-4773-e171-8634be2548fd"
   },
   "outputs": [
    {
     "data": {
      "text/plain": [
       "array([1, 1, 1, ..., 1, 0, 1])"
      ]
     },
     "execution_count": 92,
     "metadata": {},
     "output_type": "execute_result"
    }
   ],
   "source": [
    "pred_st.T"
   ]
  },
  {
   "cell_type": "code",
   "execution_count": null,
   "id": "51550f2f",
   "metadata": {
    "id": "51550f2f",
    "outputId": "543cb154-e519-4e9c-ccd4-dba90a6e4161"
   },
   "outputs": [
    {
     "name": "stdout",
     "output_type": "stream",
     "text": [
      "Unlabeled samples in training set: 0\n"
     ]
    }
   ],
   "source": [
    "print(\"Unlabeled samples in training set:\", sum(1 for x in pred_st if x == -1))"
   ]
  },
  {
   "cell_type": "code",
   "execution_count": null,
   "id": "d442c225",
   "metadata": {
    "id": "d442c225",
    "outputId": "b04c5f68-c3ac-4e7f-ae4c-c70e4fbcf124"
   },
   "outputs": [
    {
     "name": "stdout",
     "output_type": "stream",
     "text": [
      "BernoulliNB Model Accuracy (after Self-training): 0.8327707089067775\n"
     ]
    }
   ],
   "source": [
    "# Define Model\n",
    "models = BernoulliNB()\n",
    "#Fit\n",
    "models.fit(features_1, pred_st)\n",
    "\n",
    "# Prediction\n",
    "ys_pred = models.predict(X_test_st)\n",
    "\n",
    "# Accuracy Score\n",
    "acc_st = accuracy_score(y_test_st, ys_pred)\n",
    "\n",
    "print('BernoulliNB Model Accuracy (after Self-training):', acc_st)"
   ]
  },
  {
   "cell_type": "code",
   "execution_count": null,
   "id": "155c379e",
   "metadata": {
    "id": "155c379e",
    "outputId": "7cc2b190-134c-41e4-8184-c2bf18146b50"
   },
   "outputs": [
    {
     "name": "stdout",
     "output_type": "stream",
     "text": [
      "[[  44  604]\n",
      " [  40 3163]]\n"
     ]
    }
   ],
   "source": [
    "print(confusion_matrix(y_test_st, ys_pred))"
   ]
  },
  {
   "cell_type": "code",
   "execution_count": null,
   "id": "db079fb6",
   "metadata": {
    "id": "db079fb6",
    "outputId": "ed6dcfde-e100-49b5-b24b-9a72278b0840",
    "scrolled": true
   },
   "outputs": [
    {
     "name": "stdout",
     "output_type": "stream",
     "text": [
      "              precision    recall  f1-score   support\n",
      "\n",
      "           0       0.52      0.07      0.12       648\n",
      "           1       0.84      0.99      0.91      3203\n",
      "\n",
      "    accuracy                           0.83      3851\n",
      "   macro avg       0.68      0.53      0.51      3851\n",
      "weighted avg       0.79      0.83      0.78      3851\n",
      "\n"
     ]
    }
   ],
   "source": [
    "print(classification_report(y_test_st, ys_pred))"
   ]
  },
  {
   "cell_type": "markdown",
   "id": "0965e4b5",
   "metadata": {
    "id": "0965e4b5"
   },
   "source": [
    "Nhận xét:\n",
    "- Accuracy của các model đều khá tốt 83 - 87% tuy nhiên F1 score trên class 0 lại rất thấp. => Phương pháp này không phù hợp với dataset"
   ]
  },
  {
   "cell_type": "markdown",
   "id": "Gddmdfiz1Ukb",
   "metadata": {
    "id": "Gddmdfiz1Ukb"
   },
   "source": [
    "# Kết luận:\n",
    "- Sau khi thực hiện rất nhiều phương pháp học: Supervised Learning, Semi-supervised Learning, RNN, ta thấy rằng model xây dựng dựa trên thuật toán SGDClassifier trên imbalanced data cho kết quả tốt nhất\n",
    "## => Đề xuất: model SGDClassifier"
   ]
  }
 ],
 "metadata": {
  "accelerator": "GPU",
  "colab": {
   "collapsed_sections": [
    "83c07b14",
    "fb02abf6",
    "d9da5a51"
   ],
   "machine_shape": "hm",
   "name": "Project3_Part5_SemiSupervisedLearning.ipynb",
   "provenance": [],
   "toc_visible": true
  },
  "kernelspec": {
   "display_name": "Python 3 (ipykernel)",
   "language": "python",
   "name": "python3"
  },
  "language_info": {
   "codemirror_mode": {
    "name": "ipython",
    "version": 3
   },
   "file_extension": ".py",
   "mimetype": "text/x-python",
   "name": "python",
   "nbconvert_exporter": "python",
   "pygments_lexer": "ipython3",
   "version": "3.8.12"
  }
 },
 "nbformat": 4,
 "nbformat_minor": 5
}
