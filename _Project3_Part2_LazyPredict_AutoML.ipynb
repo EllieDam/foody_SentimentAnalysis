{
 "cells": [
  {
   "cell_type": "markdown",
   "id": "fkS0qWKEXPpt",
   "metadata": {
    "id": "fkS0qWKEXPpt"
   },
   "source": [
    "# Import packages"
   ]
  },
  {
   "cell_type": "code",
   "execution_count": 3,
   "id": "yS9WvIN_WIWE",
   "metadata": {
    "colab": {
     "base_uri": "https://localhost:8080/"
    },
    "executionInfo": {
     "elapsed": 21246,
     "status": "ok",
     "timestamp": 1648302536962,
     "user": {
      "displayName": "Phuong Dam",
      "photoUrl": "https://lh3.googleusercontent.com/a/default-user=s64",
      "userId": "01072403895711103873"
     },
     "user_tz": -420
    },
    "id": "yS9WvIN_WIWE",
    "outputId": "a119517e-1884-4321-eb90-4561a613426f"
   },
   "outputs": [],
   "source": [
    "# !pip install import_ipynb\n",
    "# !pip install lazypredict\n",
    "# !pip install underthesea\n",
    "# !pip install demoji\n",
    "# !pip install pyvi"
   ]
  },
  {
   "cell_type": "code",
   "execution_count": 30,
   "id": "QjcNN5OoPSZf",
   "metadata": {
    "collapsed": true,
    "executionInfo": {
     "elapsed": 526,
     "status": "ok",
     "timestamp": 1648302488080,
     "user": {
      "displayName": "Phuong Dam",
      "photoUrl": "https://lh3.googleusercontent.com/a/default-user=s64",
      "userId": "01072403895711103873"
     },
     "user_tz": -420
    },
    "id": "QjcNN5OoPSZf"
   },
   "outputs": [],
   "source": [
    "# !apt-get install build-essential swig\n",
    "# !pip install auto-sklearn\n",
    "# !pip install tpot"
   ]
  },
  {
   "cell_type": "code",
   "execution_count": 2,
   "id": "1ZxVVln_WT6o",
   "metadata": {
    "colab": {
     "base_uri": "https://localhost:8080/"
    },
    "executionInfo": {
     "elapsed": 3718,
     "status": "ok",
     "timestamp": 1648302540671,
     "user": {
      "displayName": "Phuong Dam",
      "photoUrl": "https://lh3.googleusercontent.com/a/default-user=s64",
      "userId": "01072403895711103873"
     },
     "user_tz": -420
    },
    "id": "1ZxVVln_WT6o",
    "outputId": "1190b9e4-e788-4271-8973-57d2f0ac3027"
   },
   "outputs": [
    {
     "name": "stdout",
     "output_type": "stream",
     "text": [
      "Mounted at /content/gdrive\n"
     ]
    }
   ],
   "source": [
    "from google.colab import drive\n",
    "drive.mount('/content/gdrive', force_remount=True)"
   ]
  },
  {
   "cell_type": "code",
   "execution_count": 3,
   "id": "m9u6SNdwWj8Z",
   "metadata": {
    "colab": {
     "base_uri": "https://localhost:8080/"
    },
    "executionInfo": {
     "elapsed": 9,
     "status": "ok",
     "timestamp": 1648302540672,
     "user": {
      "displayName": "Phuong Dam",
      "photoUrl": "https://lh3.googleusercontent.com/a/default-user=s64",
      "userId": "01072403895711103873"
     },
     "user_tz": -420
    },
    "id": "m9u6SNdwWj8Z",
    "outputId": "0ab98eac-dfd3-4327-e5d8-19158ca1bcdd"
   },
   "outputs": [
    {
     "name": "stdout",
     "output_type": "stream",
     "text": [
      "/content/gdrive/MyDrive/LDS0_K273_DamThiMinhPhuong/Project/Project3_SentimentAnalysis\n"
     ]
    }
   ],
   "source": [
    "%cd '/content/gdrive/MyDrive/LDS0_K273_DamThiMinhPhuong/Project/Project3_SentimentAnalysis'"
   ]
  },
  {
   "cell_type": "code",
   "execution_count": 4,
   "id": "d957c437",
   "metadata": {
    "colab": {
     "base_uri": "https://localhost:8080/"
    },
    "executionInfo": {
     "elapsed": 1143,
     "status": "ok",
     "timestamp": 1648302541810,
     "user": {
      "displayName": "Phuong Dam",
      "photoUrl": "https://lh3.googleusercontent.com/a/default-user=s64",
      "userId": "01072403895711103873"
     },
     "user_tz": -420
    },
    "id": "d957c437",
    "outputId": "763300d9-e22a-4935-f695-d1ecb93fd8bf"
   },
   "outputs": [
    {
     "name": "stdout",
     "output_type": "stream",
     "text": [
      "importing Jupyter notebook from Lib3.ipynb\n"
     ]
    }
   ],
   "source": [
    "import pandas as pd\n",
    "import numpy as np\n",
    "import seaborn as sns\n",
    "import matplotlib.pyplot as plt\n",
    "import warnings\n",
    "warnings.filterwarnings('ignore')\n",
    "\n",
    "import import_ipynb\n",
    "import Lib3"
   ]
  },
  {
   "cell_type": "code",
   "execution_count": 5,
   "id": "2ba0e646",
   "metadata": {
    "executionInfo": {
     "elapsed": 570,
     "status": "ok",
     "timestamp": 1648302542377,
     "user": {
      "displayName": "Phuong Dam",
      "photoUrl": "https://lh3.googleusercontent.com/a/default-user=s64",
      "userId": "01072403895711103873"
     },
     "user_tz": -420
    },
    "id": "2ba0e646"
   },
   "outputs": [],
   "source": [
    "from underthesea import word_tokenize, pos_tag, sent_tokenize\n",
    "import regex\n",
    "import demoji\n",
    "from pyvi import ViPosTagger, ViTokenizer\n",
    "import string\n",
    "from lazypredict.Supervised import LazyClassifier\n",
    "from sklearn.datasets import load_breast_cancer\n",
    "from sklearn.model_selection import train_test_split\n",
    "from sklearn.feature_extraction.text import TfidfVectorizer, CountVectorizer"
   ]
  },
  {
   "cell_type": "code",
   "execution_count": 7,
   "id": "c7cQt8FjQoCK",
   "metadata": {
    "executionInfo": {
     "elapsed": 8,
     "status": "ok",
     "timestamp": 1648302227525,
     "user": {
      "displayName": "Phuong Dam",
      "photoUrl": "https://lh3.googleusercontent.com/a/default-user=s64",
      "userId": "01072403895711103873"
     },
     "user_tz": -420
    },
    "id": "c7cQt8FjQoCK"
   },
   "outputs": [],
   "source": [
    "# from autosklearn.classification import AutoSklearnClassifier\n",
    "# import sklearn.metrics"
   ]
  },
  {
   "cell_type": "markdown",
   "id": "JrXs-4wYQyAg",
   "metadata": {
    "id": "JrXs-4wYQyAg"
   },
   "source": [
    "# Load and Prepare data"
   ]
  },
  {
   "cell_type": "code",
   "execution_count": 6,
   "id": "e72977f9",
   "metadata": {
    "executionInfo": {
     "elapsed": 1138,
     "status": "ok",
     "timestamp": 1648302580738,
     "user": {
      "displayName": "Phuong Dam",
      "photoUrl": "https://lh3.googleusercontent.com/a/default-user=s64",
      "userId": "01072403895711103873"
     },
     "user_tz": -420
    },
    "id": "e72977f9"
   },
   "outputs": [],
   "source": [
    "df = pd.read_csv('data/foodyDataFinal_clean.csv', index_col=0)"
   ]
  },
  {
   "cell_type": "code",
   "execution_count": 7,
   "id": "a117e8b0",
   "metadata": {
    "colab": {
     "base_uri": "https://localhost:8080/"
    },
    "executionInfo": {
     "elapsed": 7,
     "status": "ok",
     "timestamp": 1648302581295,
     "user": {
      "displayName": "Phuong Dam",
      "photoUrl": "https://lh3.googleusercontent.com/a/default-user=s64",
      "userId": "01072403895711103873"
     },
     "user_tz": -420
    },
    "id": "a117e8b0",
    "outputId": "00908919-2950-49db-d288-d1046bc6243b"
   },
   "outputs": [
    {
     "data": {
      "text/plain": [
       "(70639, 6)"
      ]
     },
     "execution_count": 7,
     "metadata": {},
     "output_type": "execute_result"
    }
   ],
   "source": [
    "df.shape"
   ]
  },
  {
   "cell_type": "code",
   "execution_count": 8,
   "id": "af5d85c7",
   "metadata": {
    "colab": {
     "base_uri": "https://localhost:8080/"
    },
    "executionInfo": {
     "elapsed": 5,
     "status": "ok",
     "timestamp": 1648302581997,
     "user": {
      "displayName": "Phuong Dam",
      "photoUrl": "https://lh3.googleusercontent.com/a/default-user=s64",
      "userId": "01072403895711103873"
     },
     "user_tz": -420
    },
    "id": "af5d85c7",
    "outputId": "ee6a53f5-f88c-46cc-fc0a-046cc49f1b18",
    "scrolled": true
   },
   "outputs": [
    {
     "name": "stdout",
     "output_type": "stream",
     "text": [
      "<class 'pandas.core.frame.DataFrame'>\n",
      "Int64Index: 70639 entries, 0 to 77661\n",
      "Data columns (total 6 columns):\n",
      " #   Column             Non-Null Count  Dtype  \n",
      "---  ------             --------------  -----  \n",
      " 0   name               70639 non-null  object \n",
      " 1   review_text        70639 non-null  object \n",
      " 2   review_score       70639 non-null  float64\n",
      " 3   review_score_bins  70639 non-null  object \n",
      " 4   label              70639 non-null  int64  \n",
      " 5   review_text_clean  70639 non-null  object \n",
      "dtypes: float64(1), int64(1), object(4)\n",
      "memory usage: 3.8+ MB\n"
     ]
    }
   ],
   "source": [
    "df.info()"
   ]
  },
  {
   "cell_type": "code",
   "execution_count": 10,
   "id": "6EXfMcrRkknO",
   "metadata": {
    "colab": {
     "base_uri": "https://localhost:8080/"
    },
    "executionInfo": {
     "elapsed": 386,
     "status": "ok",
     "timestamp": 1648302588907,
     "user": {
      "displayName": "Phuong Dam",
      "photoUrl": "https://lh3.googleusercontent.com/a/default-user=s64",
      "userId": "01072403895711103873"
     },
     "user_tz": -420
    },
    "id": "6EXfMcrRkknO",
    "outputId": "b1d8d5f9-4c30-4523-dc67-a40680047701"
   },
   "outputs": [
    {
     "data": {
      "text/plain": [
       "array(['gà mắm phô kéo sợi siêu ngon giá mềm .',\n",
       "       'gà hàn phô kéo sợi siêu ngon giá mềm .',\n",
       "       'gà rán phô kéo sợi sốt ngon .', ...,\n",
       "       'dân thích giới_thiệu ngon vô liền . hình_như xưa tiếng . thích phở_tái cảm_nhận độ thơm bò . ngon . bánh_phở bình_thường không_đặc_biệt đường bít dời đâu . khẩu_vị mặn . bò mềm ngon . bò mà_còn bánh_phở . tương chấm không_đặc_biệt lắm . ngon không_tương chấm quyết_định chất_lượng . hình phở_tái mì gói tái vị . .',\n",
       "       'tài_hưng ời mở_cửa nhào dô bún_bò giò hụt_hẫng . bún_bò màu đậm . bún_bò bò bò ngon mềm khỏi mỡ không_ngấy . miếng không_tô hình chà bá nện giá_cả chời rẻ . ngặt chạy phút .',\n",
       "       'đợt lạ không_tạo địa_điểm bình_luận tiềm tự_dưng lắm ngon bá cháy . bò mềm lắm nước_lèo ngon trí đẹp . bàn tỏi sống ngâm_giấm giá trụng sẵn không_cần kêu trà đá . tầm nghỉ chiều_tối tiếp . tút .'],\n",
       "      dtype=object)"
      ]
     },
     "execution_count": 10,
     "metadata": {},
     "output_type": "execute_result"
    }
   ],
   "source": [
    "text_data = np.array(df['review_text_clean'])\n",
    "text_data"
   ]
  },
  {
   "cell_type": "code",
   "execution_count": 14,
   "id": "qT1cfaI_hPDV",
   "metadata": {
    "colab": {
     "base_uri": "https://localhost:8080/"
    },
    "executionInfo": {
     "elapsed": 3490,
     "status": "ok",
     "timestamp": 1648302608900,
     "user": {
      "displayName": "Phuong Dam",
      "photoUrl": "https://lh3.googleusercontent.com/a/default-user=s64",
      "userId": "01072403895711103873"
     },
     "user_tz": -420
    },
    "id": "qT1cfaI_hPDV",
    "outputId": "72388898-df65-46d3-e70d-d622f55caddd"
   },
   "outputs": [
    {
     "data": {
      "text/plain": [
       "<70639x10000 sparse matrix of type '<class 'numpy.int64'>'\n",
       "\twith 1548419 stored elements in Compressed Sparse Row format>"
      ]
     },
     "execution_count": 14,
     "metadata": {},
     "output_type": "execute_result"
    }
   ],
   "source": [
    "count = CountVectorizer(max_features=10000)\n",
    "count.fit(text_data)\n",
    "bag_of_words = count.transform(text_data)\n",
    "bag_of_words"
   ]
  },
  {
   "cell_type": "code",
   "execution_count": 15,
   "id": "ZROyr9oNms8C",
   "metadata": {
    "colab": {
     "base_uri": "https://localhost:8080/"
    },
    "executionInfo": {
     "elapsed": 1523,
     "status": "ok",
     "timestamp": 1648302610418,
     "user": {
      "displayName": "Phuong Dam",
      "photoUrl": "https://lh3.googleusercontent.com/a/default-user=s64",
      "userId": "01072403895711103873"
     },
     "user_tz": -420
    },
    "id": "ZROyr9oNms8C",
    "outputId": "37443a3a-7a3a-49b8-8dc9-a487d17e7f62"
   },
   "outputs": [
    {
     "data": {
      "text/plain": [
       "array([[0, 0, 0, ..., 0, 0, 0],\n",
       "       [0, 0, 0, ..., 0, 0, 0],\n",
       "       [0, 0, 0, ..., 0, 0, 0],\n",
       "       ...,\n",
       "       [0, 0, 0, ..., 0, 0, 0],\n",
       "       [0, 0, 0, ..., 0, 0, 0],\n",
       "       [0, 0, 0, ..., 0, 0, 0]])"
      ]
     },
     "execution_count": 15,
     "metadata": {},
     "output_type": "execute_result"
    }
   ],
   "source": [
    "X = bag_of_words.toarray()\n",
    "X"
   ]
  },
  {
   "cell_type": "code",
   "execution_count": 16,
   "id": "F7v9j1V4mzoo",
   "metadata": {
    "colab": {
     "base_uri": "https://localhost:8080/"
    },
    "executionInfo": {
     "elapsed": 607,
     "status": "ok",
     "timestamp": 1648302614629,
     "user": {
      "displayName": "Phuong Dam",
      "photoUrl": "https://lh3.googleusercontent.com/a/default-user=s64",
      "userId": "01072403895711103873"
     },
     "user_tz": -420
    },
    "id": "F7v9j1V4mzoo",
    "outputId": "87e87957-e074-4341-ca43-69d5a218bf12"
   },
   "outputs": [
    {
     "data": {
      "text/plain": [
       "(70639, 10000)"
      ]
     },
     "execution_count": 16,
     "metadata": {},
     "output_type": "execute_result"
    }
   ],
   "source": [
    "X.shape"
   ]
  },
  {
   "cell_type": "code",
   "execution_count": 24,
   "id": "7jA8LpRMm1Pe",
   "metadata": {
    "executionInfo": {
     "elapsed": 441,
     "status": "ok",
     "timestamp": 1648302358254,
     "user": {
      "displayName": "Phuong Dam",
      "photoUrl": "https://lh3.googleusercontent.com/a/default-user=s64",
      "userId": "01072403895711103873"
     },
     "user_tz": -420
    },
    "id": "7jA8LpRMm1Pe"
   },
   "outputs": [],
   "source": [
    "y = np.array(df['label'])"
   ]
  },
  {
   "cell_type": "code",
   "execution_count": 25,
   "id": "ytzasTEDm7UL",
   "metadata": {
    "colab": {
     "base_uri": "https://localhost:8080/"
    },
    "executionInfo": {
     "elapsed": 6,
     "status": "ok",
     "timestamp": 1648302358879,
     "user": {
      "displayName": "Phuong Dam",
      "photoUrl": "https://lh3.googleusercontent.com/a/default-user=s64",
      "userId": "01072403895711103873"
     },
     "user_tz": -420
    },
    "id": "ytzasTEDm7UL",
    "outputId": "e4a656a7-6b03-43a4-9feb-8e1b69d2284f"
   },
   "outputs": [
    {
     "data": {
      "text/plain": [
       "(70639,)"
      ]
     },
     "execution_count": 25,
     "metadata": {},
     "output_type": "execute_result"
    }
   ],
   "source": [
    "y.shape"
   ]
  },
  {
   "cell_type": "code",
   "execution_count": 26,
   "id": "1378ac83",
   "metadata": {
    "executionInfo": {
     "elapsed": 1304,
     "status": "ok",
     "timestamp": 1648302360719,
     "user": {
      "displayName": "Phuong Dam",
      "photoUrl": "https://lh3.googleusercontent.com/a/default-user=s64",
      "userId": "01072403895711103873"
     },
     "user_tz": -420
    },
    "id": "1378ac83"
   },
   "outputs": [],
   "source": [
    "X_train, X_test, y_train, y_test = train_test_split(X, y, test_size=0.3, random_state=42)"
   ]
  },
  {
   "cell_type": "code",
   "execution_count": 27,
   "id": "QpzQafvSgsZc",
   "metadata": {
    "colab": {
     "base_uri": "https://localhost:8080/"
    },
    "executionInfo": {
     "elapsed": 11,
     "status": "ok",
     "timestamp": 1648302360720,
     "user": {
      "displayName": "Phuong Dam",
      "photoUrl": "https://lh3.googleusercontent.com/a/default-user=s64",
      "userId": "01072403895711103873"
     },
     "user_tz": -420
    },
    "id": "QpzQafvSgsZc",
    "outputId": "192f7375-fb62-40ed-e00d-5406a324d2f7"
   },
   "outputs": [
    {
     "data": {
      "text/plain": [
       "array([[0, 0, 0, ..., 0, 0, 0],\n",
       "       [0, 0, 0, ..., 0, 0, 0],\n",
       "       [0, 0, 0, ..., 0, 0, 0],\n",
       "       [0, 0, 0, ..., 0, 0, 0],\n",
       "       [0, 0, 0, ..., 0, 0, 0]])"
      ]
     },
     "execution_count": 27,
     "metadata": {},
     "output_type": "execute_result"
    }
   ],
   "source": [
    "X_train[:5]"
   ]
  },
  {
   "cell_type": "code",
   "execution_count": 28,
   "id": "Al-sskd7j25p",
   "metadata": {
    "colab": {
     "base_uri": "https://localhost:8080/"
    },
    "executionInfo": {
     "elapsed": 10,
     "status": "ok",
     "timestamp": 1648302360721,
     "user": {
      "displayName": "Phuong Dam",
      "photoUrl": "https://lh3.googleusercontent.com/a/default-user=s64",
      "userId": "01072403895711103873"
     },
     "user_tz": -420
    },
    "id": "Al-sskd7j25p",
    "outputId": "98cd7672-6137-4684-c034-43a55ede0794"
   },
   "outputs": [
    {
     "data": {
      "text/plain": [
       "array([1, 1, 1, 0, 1])"
      ]
     },
     "execution_count": 28,
     "metadata": {},
     "output_type": "execute_result"
    }
   ],
   "source": [
    "y_train[:5]"
   ]
  },
  {
   "cell_type": "markdown",
   "id": "f98786cd",
   "metadata": {
    "id": "f98786cd"
   },
   "source": [
    "# LazyPredict 1"
   ]
  },
  {
   "cell_type": "code",
   "execution_count": null,
   "id": "c4d6df27",
   "metadata": {
    "colab": {
     "base_uri": "https://localhost:8080/"
    },
    "executionInfo": {
     "elapsed": 2901543,
     "status": "ok",
     "timestamp": 1647322292488,
     "user": {
      "displayName": "Phuong Dam",
      "photoUrl": "https://lh3.googleusercontent.com/a/default-user=s64",
      "userId": "01072403895711103873"
     },
     "user_tz": -420
    },
    "id": "c4d6df27",
    "outputId": "5c9e1a56-23fe-4d7c-d030-76fc5403d9b9"
   },
   "outputs": [
    {
     "name": "stderr",
     "output_type": "stream",
     "text": [
      "100%|██████████| 29/29 [48:21<00:00, 100.04s/it]\n"
     ]
    }
   ],
   "source": [
    "clf = LazyClassifier(verbose=0, ignore_warnings=True, custom_metric=None)\n",
    "models, predictions = clf.fit(X_train, X_test, y_train, y_test)"
   ]
  },
  {
   "cell_type": "code",
   "execution_count": null,
   "id": "8a4eb97f",
   "metadata": {
    "colab": {
     "base_uri": "https://localhost:8080/",
     "height": 886
    },
    "executionInfo": {
     "elapsed": 27,
     "status": "ok",
     "timestamp": 1647322292490,
     "user": {
      "displayName": "Phuong Dam",
      "photoUrl": "https://lh3.googleusercontent.com/a/default-user=s64",
      "userId": "01072403895711103873"
     },
     "user_tz": -420
    },
    "id": "8a4eb97f",
    "outputId": "5ca9dc60-6612-4819-9395-e9715a6c2158"
   },
   "outputs": [
    {
     "data": {
      "text/html": [
       "\n",
       "  <div id=\"df-6bbbf471-5e20-4a7d-83dd-0cac06e147e8\">\n",
       "    <div class=\"colab-df-container\">\n",
       "      <div>\n",
       "<style scoped>\n",
       "    .dataframe tbody tr th:only-of-type {\n",
       "        vertical-align: middle;\n",
       "    }\n",
       "\n",
       "    .dataframe tbody tr th {\n",
       "        vertical-align: top;\n",
       "    }\n",
       "\n",
       "    .dataframe thead th {\n",
       "        text-align: right;\n",
       "    }\n",
       "</style>\n",
       "<table border=\"1\" class=\"dataframe\">\n",
       "  <thead>\n",
       "    <tr style=\"text-align: right;\">\n",
       "      <th></th>\n",
       "      <th>Accuracy</th>\n",
       "      <th>Balanced Accuracy</th>\n",
       "      <th>ROC AUC</th>\n",
       "      <th>F1 Score</th>\n",
       "      <th>Time Taken</th>\n",
       "    </tr>\n",
       "    <tr>\n",
       "      <th>Model</th>\n",
       "      <th></th>\n",
       "      <th></th>\n",
       "      <th></th>\n",
       "      <th></th>\n",
       "      <th></th>\n",
       "    </tr>\n",
       "  </thead>\n",
       "  <tbody>\n",
       "    <tr>\n",
       "      <th>BernoulliNB</th>\n",
       "      <td>0.87</td>\n",
       "      <td>0.84</td>\n",
       "      <td>0.84</td>\n",
       "      <td>0.88</td>\n",
       "      <td>1.73</td>\n",
       "    </tr>\n",
       "    <tr>\n",
       "      <th>NearestCentroid</th>\n",
       "      <td>0.90</td>\n",
       "      <td>0.84</td>\n",
       "      <td>0.84</td>\n",
       "      <td>0.90</td>\n",
       "      <td>1.74</td>\n",
       "    </tr>\n",
       "    <tr>\n",
       "      <th>SGDClassifier</th>\n",
       "      <td>0.91</td>\n",
       "      <td>0.77</td>\n",
       "      <td>0.77</td>\n",
       "      <td>0.91</td>\n",
       "      <td>11.54</td>\n",
       "    </tr>\n",
       "    <tr>\n",
       "      <th>LGBMClassifier</th>\n",
       "      <td>0.92</td>\n",
       "      <td>0.76</td>\n",
       "      <td>0.76</td>\n",
       "      <td>0.91</td>\n",
       "      <td>11.31</td>\n",
       "    </tr>\n",
       "    <tr>\n",
       "      <th>LogisticRegression</th>\n",
       "      <td>0.91</td>\n",
       "      <td>0.76</td>\n",
       "      <td>0.76</td>\n",
       "      <td>0.91</td>\n",
       "      <td>4.02</td>\n",
       "    </tr>\n",
       "    <tr>\n",
       "      <th>ExtraTreesClassifier</th>\n",
       "      <td>0.92</td>\n",
       "      <td>0.76</td>\n",
       "      <td>0.76</td>\n",
       "      <td>0.91</td>\n",
       "      <td>65.51</td>\n",
       "    </tr>\n",
       "    <tr>\n",
       "      <th>RandomForestClassifier</th>\n",
       "      <td>0.91</td>\n",
       "      <td>0.75</td>\n",
       "      <td>0.75</td>\n",
       "      <td>0.91</td>\n",
       "      <td>33.38</td>\n",
       "    </tr>\n",
       "    <tr>\n",
       "      <th>GaussianNB</th>\n",
       "      <td>0.68</td>\n",
       "      <td>0.75</td>\n",
       "      <td>0.75</td>\n",
       "      <td>0.73</td>\n",
       "      <td>1.80</td>\n",
       "    </tr>\n",
       "    <tr>\n",
       "      <th>XGBClassifier</th>\n",
       "      <td>0.92</td>\n",
       "      <td>0.75</td>\n",
       "      <td>0.75</td>\n",
       "      <td>0.91</td>\n",
       "      <td>48.56</td>\n",
       "    </tr>\n",
       "    <tr>\n",
       "      <th>BaggingClassifier</th>\n",
       "      <td>0.89</td>\n",
       "      <td>0.75</td>\n",
       "      <td>0.75</td>\n",
       "      <td>0.89</td>\n",
       "      <td>96.73</td>\n",
       "    </tr>\n",
       "    <tr>\n",
       "      <th>LinearSVC</th>\n",
       "      <td>0.91</td>\n",
       "      <td>0.75</td>\n",
       "      <td>0.75</td>\n",
       "      <td>0.90</td>\n",
       "      <td>72.05</td>\n",
       "    </tr>\n",
       "    <tr>\n",
       "      <th>Perceptron</th>\n",
       "      <td>0.89</td>\n",
       "      <td>0.74</td>\n",
       "      <td>0.74</td>\n",
       "      <td>0.89</td>\n",
       "      <td>2.20</td>\n",
       "    </tr>\n",
       "    <tr>\n",
       "      <th>DecisionTreeClassifier</th>\n",
       "      <td>0.87</td>\n",
       "      <td>0.73</td>\n",
       "      <td>0.73</td>\n",
       "      <td>0.87</td>\n",
       "      <td>20.77</td>\n",
       "    </tr>\n",
       "    <tr>\n",
       "      <th>PassiveAggressiveClassifier</th>\n",
       "      <td>0.87</td>\n",
       "      <td>0.72</td>\n",
       "      <td>0.72</td>\n",
       "      <td>0.87</td>\n",
       "      <td>2.38</td>\n",
       "    </tr>\n",
       "    <tr>\n",
       "      <th>LinearDiscriminantAnalysis</th>\n",
       "      <td>0.90</td>\n",
       "      <td>0.71</td>\n",
       "      <td>0.71</td>\n",
       "      <td>0.89</td>\n",
       "      <td>9.50</td>\n",
       "    </tr>\n",
       "    <tr>\n",
       "      <th>ExtraTreeClassifier</th>\n",
       "      <td>0.86</td>\n",
       "      <td>0.71</td>\n",
       "      <td>0.71</td>\n",
       "      <td>0.86</td>\n",
       "      <td>1.97</td>\n",
       "    </tr>\n",
       "    <tr>\n",
       "      <th>CalibratedClassifierCV</th>\n",
       "      <td>0.91</td>\n",
       "      <td>0.71</td>\n",
       "      <td>0.71</td>\n",
       "      <td>0.89</td>\n",
       "      <td>275.24</td>\n",
       "    </tr>\n",
       "    <tr>\n",
       "      <th>SVC</th>\n",
       "      <td>0.91</td>\n",
       "      <td>0.70</td>\n",
       "      <td>0.70</td>\n",
       "      <td>0.89</td>\n",
       "      <td>1333.99</td>\n",
       "    </tr>\n",
       "    <tr>\n",
       "      <th>AdaBoostClassifier</th>\n",
       "      <td>0.90</td>\n",
       "      <td>0.70</td>\n",
       "      <td>0.70</td>\n",
       "      <td>0.89</td>\n",
       "      <td>29.62</td>\n",
       "    </tr>\n",
       "    <tr>\n",
       "      <th>RidgeClassifier</th>\n",
       "      <td>0.90</td>\n",
       "      <td>0.66</td>\n",
       "      <td>0.66</td>\n",
       "      <td>0.88</td>\n",
       "      <td>2.53</td>\n",
       "    </tr>\n",
       "    <tr>\n",
       "      <th>RidgeClassifierCV</th>\n",
       "      <td>0.90</td>\n",
       "      <td>0.66</td>\n",
       "      <td>0.66</td>\n",
       "      <td>0.88</td>\n",
       "      <td>7.61</td>\n",
       "    </tr>\n",
       "    <tr>\n",
       "      <th>KNeighborsClassifier</th>\n",
       "      <td>0.86</td>\n",
       "      <td>0.63</td>\n",
       "      <td>0.63</td>\n",
       "      <td>0.85</td>\n",
       "      <td>722.10</td>\n",
       "    </tr>\n",
       "    <tr>\n",
       "      <th>QuadraticDiscriminantAnalysis</th>\n",
       "      <td>0.83</td>\n",
       "      <td>0.57</td>\n",
       "      <td>0.57</td>\n",
       "      <td>0.82</td>\n",
       "      <td>8.55</td>\n",
       "    </tr>\n",
       "    <tr>\n",
       "      <th>LabelPropagation</th>\n",
       "      <td>0.20</td>\n",
       "      <td>0.51</td>\n",
       "      <td>0.51</td>\n",
       "      <td>0.16</td>\n",
       "      <td>58.48</td>\n",
       "    </tr>\n",
       "    <tr>\n",
       "      <th>LabelSpreading</th>\n",
       "      <td>0.20</td>\n",
       "      <td>0.51</td>\n",
       "      <td>0.51</td>\n",
       "      <td>0.16</td>\n",
       "      <td>72.88</td>\n",
       "    </tr>\n",
       "    <tr>\n",
       "      <th>DummyClassifier</th>\n",
       "      <td>0.77</td>\n",
       "      <td>0.50</td>\n",
       "      <td>0.50</td>\n",
       "      <td>0.77</td>\n",
       "      <td>1.31</td>\n",
       "    </tr>\n",
       "  </tbody>\n",
       "</table>\n",
       "</div>\n",
       "      <button class=\"colab-df-convert\" onclick=\"convertToInteractive('df-6bbbf471-5e20-4a7d-83dd-0cac06e147e8')\"\n",
       "              title=\"Convert this dataframe to an interactive table.\"\n",
       "              style=\"display:none;\">\n",
       "        \n",
       "  <svg xmlns=\"http://www.w3.org/2000/svg\" height=\"24px\"viewBox=\"0 0 24 24\"\n",
       "       width=\"24px\">\n",
       "    <path d=\"M0 0h24v24H0V0z\" fill=\"none\"/>\n",
       "    <path d=\"M18.56 5.44l.94 2.06.94-2.06 2.06-.94-2.06-.94-.94-2.06-.94 2.06-2.06.94zm-11 1L8.5 8.5l.94-2.06 2.06-.94-2.06-.94L8.5 2.5l-.94 2.06-2.06.94zm10 10l.94 2.06.94-2.06 2.06-.94-2.06-.94-.94-2.06-.94 2.06-2.06.94z\"/><path d=\"M17.41 7.96l-1.37-1.37c-.4-.4-.92-.59-1.43-.59-.52 0-1.04.2-1.43.59L10.3 9.45l-7.72 7.72c-.78.78-.78 2.05 0 2.83L4 21.41c.39.39.9.59 1.41.59.51 0 1.02-.2 1.41-.59l7.78-7.78 2.81-2.81c.8-.78.8-2.07 0-2.86zM5.41 20L4 18.59l7.72-7.72 1.47 1.35L5.41 20z\"/>\n",
       "  </svg>\n",
       "      </button>\n",
       "      \n",
       "  <style>\n",
       "    .colab-df-container {\n",
       "      display:flex;\n",
       "      flex-wrap:wrap;\n",
       "      gap: 12px;\n",
       "    }\n",
       "\n",
       "    .colab-df-convert {\n",
       "      background-color: #E8F0FE;\n",
       "      border: none;\n",
       "      border-radius: 50%;\n",
       "      cursor: pointer;\n",
       "      display: none;\n",
       "      fill: #1967D2;\n",
       "      height: 32px;\n",
       "      padding: 0 0 0 0;\n",
       "      width: 32px;\n",
       "    }\n",
       "\n",
       "    .colab-df-convert:hover {\n",
       "      background-color: #E2EBFA;\n",
       "      box-shadow: 0px 1px 2px rgba(60, 64, 67, 0.3), 0px 1px 3px 1px rgba(60, 64, 67, 0.15);\n",
       "      fill: #174EA6;\n",
       "    }\n",
       "\n",
       "    [theme=dark] .colab-df-convert {\n",
       "      background-color: #3B4455;\n",
       "      fill: #D2E3FC;\n",
       "    }\n",
       "\n",
       "    [theme=dark] .colab-df-convert:hover {\n",
       "      background-color: #434B5C;\n",
       "      box-shadow: 0px 1px 3px 1px rgba(0, 0, 0, 0.15);\n",
       "      filter: drop-shadow(0px 1px 2px rgba(0, 0, 0, 0.3));\n",
       "      fill: #FFFFFF;\n",
       "    }\n",
       "  </style>\n",
       "\n",
       "      <script>\n",
       "        const buttonEl =\n",
       "          document.querySelector('#df-6bbbf471-5e20-4a7d-83dd-0cac06e147e8 button.colab-df-convert');\n",
       "        buttonEl.style.display =\n",
       "          google.colab.kernel.accessAllowed ? 'block' : 'none';\n",
       "\n",
       "        async function convertToInteractive(key) {\n",
       "          const element = document.querySelector('#df-6bbbf471-5e20-4a7d-83dd-0cac06e147e8');\n",
       "          const dataTable =\n",
       "            await google.colab.kernel.invokeFunction('convertToInteractive',\n",
       "                                                     [key], {});\n",
       "          if (!dataTable) return;\n",
       "\n",
       "          const docLinkHtml = 'Like what you see? Visit the ' +\n",
       "            '<a target=\"_blank\" href=https://colab.research.google.com/notebooks/data_table.ipynb>data table notebook</a>'\n",
       "            + ' to learn more about interactive tables.';\n",
       "          element.innerHTML = '';\n",
       "          dataTable['output_type'] = 'display_data';\n",
       "          await google.colab.output.renderOutput(dataTable, element);\n",
       "          const docLink = document.createElement('div');\n",
       "          docLink.innerHTML = docLinkHtml;\n",
       "          element.appendChild(docLink);\n",
       "        }\n",
       "      </script>\n",
       "    </div>\n",
       "  </div>\n",
       "  "
      ],
      "text/plain": [
       "                               Accuracy  Balanced Accuracy  ROC AUC  F1 Score  \\\n",
       "Model                                                                           \n",
       "BernoulliNB                        0.87               0.84     0.84      0.88   \n",
       "NearestCentroid                    0.90               0.84     0.84      0.90   \n",
       "SGDClassifier                      0.91               0.77     0.77      0.91   \n",
       "LGBMClassifier                     0.92               0.76     0.76      0.91   \n",
       "LogisticRegression                 0.91               0.76     0.76      0.91   \n",
       "ExtraTreesClassifier               0.92               0.76     0.76      0.91   \n",
       "RandomForestClassifier             0.91               0.75     0.75      0.91   \n",
       "GaussianNB                         0.68               0.75     0.75      0.73   \n",
       "XGBClassifier                      0.92               0.75     0.75      0.91   \n",
       "BaggingClassifier                  0.89               0.75     0.75      0.89   \n",
       "LinearSVC                          0.91               0.75     0.75      0.90   \n",
       "Perceptron                         0.89               0.74     0.74      0.89   \n",
       "DecisionTreeClassifier             0.87               0.73     0.73      0.87   \n",
       "PassiveAggressiveClassifier        0.87               0.72     0.72      0.87   \n",
       "LinearDiscriminantAnalysis         0.90               0.71     0.71      0.89   \n",
       "ExtraTreeClassifier                0.86               0.71     0.71      0.86   \n",
       "CalibratedClassifierCV             0.91               0.71     0.71      0.89   \n",
       "SVC                                0.91               0.70     0.70      0.89   \n",
       "AdaBoostClassifier                 0.90               0.70     0.70      0.89   \n",
       "RidgeClassifier                    0.90               0.66     0.66      0.88   \n",
       "RidgeClassifierCV                  0.90               0.66     0.66      0.88   \n",
       "KNeighborsClassifier               0.86               0.63     0.63      0.85   \n",
       "QuadraticDiscriminantAnalysis      0.83               0.57     0.57      0.82   \n",
       "LabelPropagation                   0.20               0.51     0.51      0.16   \n",
       "LabelSpreading                     0.20               0.51     0.51      0.16   \n",
       "DummyClassifier                    0.77               0.50     0.50      0.77   \n",
       "\n",
       "                               Time Taken  \n",
       "Model                                      \n",
       "BernoulliNB                          1.73  \n",
       "NearestCentroid                      1.74  \n",
       "SGDClassifier                       11.54  \n",
       "LGBMClassifier                      11.31  \n",
       "LogisticRegression                   4.02  \n",
       "ExtraTreesClassifier                65.51  \n",
       "RandomForestClassifier              33.38  \n",
       "GaussianNB                           1.80  \n",
       "XGBClassifier                       48.56  \n",
       "BaggingClassifier                   96.73  \n",
       "LinearSVC                           72.05  \n",
       "Perceptron                           2.20  \n",
       "DecisionTreeClassifier              20.77  \n",
       "PassiveAggressiveClassifier          2.38  \n",
       "LinearDiscriminantAnalysis           9.50  \n",
       "ExtraTreeClassifier                  1.97  \n",
       "CalibratedClassifierCV             275.24  \n",
       "SVC                               1333.99  \n",
       "AdaBoostClassifier                  29.62  \n",
       "RidgeClassifier                      2.53  \n",
       "RidgeClassifierCV                    7.61  \n",
       "KNeighborsClassifier               722.10  \n",
       "QuadraticDiscriminantAnalysis        8.55  \n",
       "LabelPropagation                    58.48  \n",
       "LabelSpreading                      72.88  \n",
       "DummyClassifier                      1.31  "
      ]
     },
     "execution_count": 20,
     "metadata": {},
     "output_type": "execute_result"
    }
   ],
   "source": [
    "models"
   ]
  },
  {
   "cell_type": "markdown",
   "id": "de2c03a5",
   "metadata": {
    "id": "de2c03a5"
   },
   "source": [
    "Nhận xét:\n",
    "- Với target chỉ có 2 class, các model cho kết qủa khá tốt\n",
    "- => Ta sẽ lựa chọn phương án này và thực hiện một số phương pháp khác để tối ưu "
   ]
  },
  {
   "cell_type": "markdown",
   "id": "b14dd602",
   "metadata": {
    "id": "b14dd602"
   },
   "source": [
    "# Automated Machine Learning (AutoML)"
   ]
  },
  {
   "cell_type": "code",
   "execution_count": null,
   "id": "fefd0ee1",
   "metadata": {
    "colab": {
     "base_uri": "https://localhost:8080/"
    },
    "executionInfo": {
     "elapsed": 3605370,
     "status": "ok",
     "timestamp": 1647505646544,
     "user": {
      "displayName": "Phuong Dam",
      "photoUrl": "https://lh3.googleusercontent.com/a/default-user=s64",
      "userId": "01072403895711103873"
     },
     "user_tz": -420
    },
    "id": "fefd0ee1",
    "outputId": "e1ca87b8-7d42-4dc6-a14f-69d8426371f9"
   },
   "outputs": [
    {
     "data": {
      "text/plain": [
       "AutoSklearnClassifier(n_jobs=-1, per_run_time_limit=1440)"
      ]
     },
     "execution_count": 22,
     "metadata": {},
     "output_type": "execute_result"
    }
   ],
   "source": [
    "clf_auto = AutoSklearnClassifier(time_left_for_this_task=3600, per_run_time_limit=None, n_jobs=-1)\n",
    "clf_auto.fit(X_train, y_train)"
   ]
  },
  {
   "cell_type": "code",
   "execution_count": null,
   "id": "ec205754",
   "metadata": {
    "id": "ec205754"
   },
   "outputs": [],
   "source": [
    "y_hat = clf_auto.predict(X_test)"
   ]
  },
  {
   "cell_type": "code",
   "execution_count": null,
   "id": "p65S2H5fUA-F",
   "metadata": {
    "colab": {
     "base_uri": "https://localhost:8080/"
    },
    "executionInfo": {
     "elapsed": 130,
     "status": "ok",
     "timestamp": 1647505845196,
     "user": {
      "displayName": "Phuong Dam",
      "photoUrl": "https://lh3.googleusercontent.com/a/default-user=s64",
      "userId": "01072403895711103873"
     },
     "user_tz": -420
    },
    "id": "p65S2H5fUA-F",
    "outputId": "f534f3de-1af8-4fda-8455-cabf243629f3"
   },
   "outputs": [
    {
     "data": {
      "text/plain": [
       "0.9174412848578186"
      ]
     },
     "execution_count": 24,
     "metadata": {},
     "output_type": "execute_result"
    }
   ],
   "source": [
    "sklearn.metrics.accuracy_score(y_test, y_hat)"
   ]
  },
  {
   "cell_type": "code",
   "execution_count": null,
   "id": "Lpeo8jqiUIXZ",
   "metadata": {
    "colab": {
     "base_uri": "https://localhost:8080/"
    },
    "executionInfo": {
     "elapsed": 103,
     "status": "ok",
     "timestamp": 1647505845198,
     "user": {
      "displayName": "Phuong Dam",
      "photoUrl": "https://lh3.googleusercontent.com/a/default-user=s64",
      "userId": "01072403895711103873"
     },
     "user_tz": -420
    },
    "id": "Lpeo8jqiUIXZ",
    "outputId": "8ee945e3-15a7-4272-8e40-922e0f0fc43a"
   },
   "outputs": [
    {
     "data": {
      "text/plain": [
       "<bound method AutoSklearnEstimator.show_models of AutoSklearnClassifier(n_jobs=-1, per_run_time_limit=1440)>"
      ]
     },
     "execution_count": 25,
     "metadata": {},
     "output_type": "execute_result"
    }
   ],
   "source": [
    "clf_auto.show_models"
   ]
  },
  {
   "cell_type": "code",
   "execution_count": null,
   "id": "CyVcX94cUVV9",
   "metadata": {
    "id": "CyVcX94cUVV9"
   },
   "outputs": [],
   "source": [
    "# clf_auto.cv_results_"
   ]
  },
  {
   "cell_type": "code",
   "execution_count": null,
   "id": "33bnb-QCUZOa",
   "metadata": {
    "colab": {
     "base_uri": "https://localhost:8080/"
    },
    "executionInfo": {
     "elapsed": 83,
     "status": "ok",
     "timestamp": 1647505845200,
     "user": {
      "displayName": "Phuong Dam",
      "photoUrl": "https://lh3.googleusercontent.com/a/default-user=s64",
      "userId": "01072403895711103873"
     },
     "user_tz": -420
    },
    "id": "33bnb-QCUZOa",
    "outputId": "1b575f7f-6460-4625-e011-955b936f272a"
   },
   "outputs": [
    {
     "name": "stdout",
     "output_type": "stream",
     "text": [
      "auto-sklearn results:\n",
      "  Dataset name: aec1650a-a5c3-11ec-8930-0242ac1c0002\n",
      "  Metric: accuracy\n",
      "  Best validation score: 0.911964\n",
      "  Number of target algorithm runs: 76\n",
      "  Number of successful target algorithm runs: 63\n",
      "  Number of crashed target algorithm runs: 6\n",
      "  Number of target algorithms that exceeded the time limit: 7\n",
      "  Number of target algorithms that exceeded the memory limit: 0\n",
      "\n"
     ]
    }
   ],
   "source": [
    "# summarize\n",
    "print(clf_auto.sprint_statistics())"
   ]
  },
  {
   "cell_type": "code",
   "execution_count": null,
   "id": "ZPJZWZaxVNZl",
   "metadata": {
    "id": "ZPJZWZaxVNZl"
   },
   "outputs": [],
   "source": [
    "from sklearn.metrics import classification_report,confusion_matrix"
   ]
  },
  {
   "cell_type": "code",
   "execution_count": null,
   "id": "SNcNkonwUsTB",
   "metadata": {
    "colab": {
     "base_uri": "https://localhost:8080/"
    },
    "executionInfo": {
     "elapsed": 65,
     "status": "ok",
     "timestamp": 1647505845203,
     "user": {
      "displayName": "Phuong Dam",
      "photoUrl": "https://lh3.googleusercontent.com/a/default-user=s64",
      "userId": "01072403895711103873"
     },
     "user_tz": -420
    },
    "id": "SNcNkonwUsTB",
    "outputId": "acd82609-bb4f-43b6-a884-7241c842e711"
   },
   "outputs": [
    {
     "name": "stdout",
     "output_type": "stream",
     "text": [
      "--- Confusion matrix\n",
      " [[ 1484  1009]\n",
      " [  492 15196]]\n",
      "--- Classification report\n",
      "               precision    recall  f1-score   support\n",
      "\n",
      "           0       0.75      0.60      0.66      2493\n",
      "           1       0.94      0.97      0.95     15688\n",
      "\n",
      "    accuracy                           0.92     18181\n",
      "   macro avg       0.84      0.78      0.81     18181\n",
      "weighted avg       0.91      0.92      0.91     18181\n",
      "\n"
     ]
    }
   ],
   "source": [
    "print('--- Confusion matrix\\n', confusion_matrix(y_test, y_hat))\n",
    "print('--- Classification report\\n',classification_report(y_test, y_hat))"
   ]
  },
  {
   "cell_type": "code",
   "execution_count": null,
   "id": "Q_CrsqSfVFQ4",
   "metadata": {
    "id": "Q_CrsqSfVFQ4"
   },
   "outputs": [],
   "source": [
    "# TPOT (Tree-based)\n",
    "from sklearn.model_selection import RepeatedStratifiedKFold\n",
    "from tpot import TPOTClassifier"
   ]
  },
  {
   "cell_type": "code",
   "execution_count": null,
   "id": "C97ZCLHfct4O",
   "metadata": {
    "colab": {
     "base_uri": "https://localhost:8080/"
    },
    "id": "C97ZCLHfct4O",
    "outputId": "290b192e-c230-41ba-b57e-15342b7738c2"
   },
   "outputs": [
    {
     "name": "stdout",
     "output_type": "stream",
     "text": [
      "[WARNING] [2022-03-17 08:31:07,705:stopit] Code block execution exceeded 10 seconds timeout\n",
      "Traceback (most recent call last):\n",
      "  File \"/usr/local/lib/python3.7/dist-packages/stopit/utils.py\", line 145, in wrapper\n",
      "    result = func(*args, **kwargs)\n",
      "  File \"/usr/local/lib/python3.7/dist-packages/tpot/decorators.py\", line 57, in time_limited_call\n",
      "    func(*args)\n",
      "  File \"/usr/local/lib/python3.7/dist-packages/sklearn/pipeline.py\", line 341, in fit\n",
      "    Xt = self._fit(X, y, **fit_params_steps)\n",
      "  File \"/usr/local/lib/python3.7/dist-packages/sklearn/pipeline.py\", line 307, in _fit\n",
      "    **fit_params_steps[name])\n",
      "  File \"/usr/local/lib/python3.7/dist-packages/joblib/memory.py\", line 352, in __call__\n",
      "    return self.func(*args, **kwargs)\n",
      "  File \"/usr/local/lib/python3.7/dist-packages/sklearn/pipeline.py\", line 754, in _fit_transform_one\n",
      "    res = transformer.fit_transform(X, y, **fit_params)\n",
      "  File \"/usr/local/lib/python3.7/dist-packages/sklearn/base.py\", line 702, in fit_transform\n",
      "    return self.fit(X, y, **fit_params).transform(X)\n",
      "  File \"/usr/local/lib/python3.7/dist-packages/sklearn/preprocessing/_data.py\", line 1834, in transform\n",
      "    casting='no')\n",
      "stopit.utils.TimeoutException\n"
     ]
    }
   ],
   "source": [
    "cv = RepeatedStratifiedKFold(n_splits=3, n_repeats=3, random_state=0)\n",
    "model = TPOTClassifier(generations=4, population_size=50,cv=cv, scoring='accuracy', verbosity=2, \n",
    "                       random_state=0, n_jobs=-1)\n",
    "model.fit(X_train, y_train)"
   ]
  },
  {
   "cell_type": "code",
   "execution_count": null,
   "id": "SQJ259WfCrqz",
   "metadata": {
    "colab": {
     "base_uri": "https://localhost:8080/"
    },
    "executionInfo": {
     "elapsed": 5777,
     "status": "ok",
     "timestamp": 1647506550975,
     "user": {
      "displayName": "Phuong Dam",
      "photoUrl": "https://lh3.googleusercontent.com/a/default-user=s64",
      "userId": "01072403895711103873"
     },
     "user_tz": -420
    },
    "id": "SQJ259WfCrqz",
    "outputId": "84ec4083-3666-4327-cb1a-d533b4af952a"
   },
   "outputs": [
    {
     "name": "stdout",
     "output_type": "stream",
     "text": [
      "Collecting hpsklearn\n",
      "  Downloading hpsklearn-0.1.0.tar.gz (26 kB)\n",
      "Requirement already satisfied: hyperopt in /usr/local/lib/python3.7/dist-packages (from hpsklearn) (0.1.2)\n",
      "Collecting nose\n",
      "  Downloading nose-1.3.7-py3-none-any.whl (154 kB)\n",
      "\u001b[K     |████████████████████████████████| 154 kB 6.0 MB/s \n",
      "\u001b[?25hRequirement already satisfied: numpy in /usr/local/lib/python3.7/dist-packages (from hpsklearn) (1.19.1)\n",
      "Requirement already satisfied: scikit-learn in /usr/local/lib/python3.7/dist-packages (from hpsklearn) (0.24.2)\n",
      "Requirement already satisfied: scipy in /usr/local/lib/python3.7/dist-packages (from hpsklearn) (1.7.3)\n",
      "Requirement already satisfied: six in /usr/local/lib/python3.7/dist-packages (from hyperopt->hpsklearn) (1.15.0)\n",
      "Requirement already satisfied: tqdm in /usr/local/lib/python3.7/dist-packages (from hyperopt->hpsklearn) (4.56.0)\n",
      "Requirement already satisfied: pymongo in /usr/local/lib/python3.7/dist-packages (from hyperopt->hpsklearn) (4.0.2)\n",
      "Requirement already satisfied: networkx in /usr/local/lib/python3.7/dist-packages (from hyperopt->hpsklearn) (2.6.3)\n",
      "Requirement already satisfied: future in /usr/local/lib/python3.7/dist-packages (from hyperopt->hpsklearn) (0.16.0)\n",
      "Requirement already satisfied: threadpoolctl>=2.0.0 in /usr/local/lib/python3.7/dist-packages (from scikit-learn->hpsklearn) (3.1.0)\n",
      "Requirement already satisfied: joblib>=0.11 in /usr/local/lib/python3.7/dist-packages (from scikit-learn->hpsklearn) (1.0.0)\n",
      "Building wheels for collected packages: hpsklearn\n",
      "  Building wheel for hpsklearn (setup.py) ... \u001b[?25l\u001b[?25hdone\n",
      "  Created wheel for hpsklearn: filename=hpsklearn-0.1.0-py3-none-any.whl size=23913 sha256=93baa07c7950ea83d9e97d8a8d39066330ab4444fe8ba3d1e3c6bcf9fe759007\n",
      "  Stored in directory: /root/.cache/pip/wheels/b2/22/23/9207fbe861f70774b563f909a415b228450bfcf863c64ac1e8\n",
      "Successfully built hpsklearn\n",
      "Installing collected packages: nose, hpsklearn\n",
      "Successfully installed hpsklearn-0.1.0 nose-1.3.7\n"
     ]
    }
   ],
   "source": [
    "!pip install hpsklearn"
   ]
  },
  {
   "cell_type": "code",
   "execution_count": null,
   "id": "ZHhY2uJpdcKI",
   "metadata": {
    "id": "ZHhY2uJpdcKI"
   },
   "outputs": [],
   "source": [
    "# from hpsklearn import HyperoptEstimator, any_classifier, any_preprocessing\n",
    "# from hyperopt import tpe"
   ]
  },
  {
   "cell_type": "code",
   "execution_count": 1,
   "id": "akT9yOXd33uj",
   "metadata": {
    "colab": {
     "base_uri": "https://localhost:8080/",
     "height": 375
    },
    "executionInfo": {
     "elapsed": 6316103,
     "status": "error",
     "timestamp": 1647512913980,
     "user": {
      "displayName": "Phuong Dam",
      "photoUrl": "https://lh3.googleusercontent.com/a/default-user=s64",
      "userId": "01072403895711103873"
     },
     "user_tz": -420
    },
    "id": "akT9yOXd33uj",
    "outputId": "54662eae-0667-483b-96ef-c2532f97810d",
    "scrolled": false
   },
   "outputs": [],
   "source": [
    "# model2 = HyperoptEstimator()\n",
    "# model2.fit(X_train, y_train)\n",
    "# acc = model.score(X_test, y_test)\n",
    "# acc"
   ]
  },
  {
   "cell_type": "code",
   "execution_count": 2,
   "id": "u3qVzsLr4Elq",
   "metadata": {
    "id": "u3qVzsLr4Elq"
   },
   "outputs": [],
   "source": [
    "# print(model.best_model())"
   ]
  }
 ],
 "metadata": {
  "colab": {
   "machine_shape": "hm",
   "name": "Project3_Part2_LazyPredict_AutoML.ipynb",
   "provenance": []
  },
  "kernelspec": {
   "display_name": "Python 3 (ipykernel)",
   "language": "python",
   "name": "python3"
  },
  "language_info": {
   "codemirror_mode": {
    "name": "ipython",
    "version": 3
   },
   "file_extension": ".py",
   "mimetype": "text/x-python",
   "name": "python",
   "nbconvert_exporter": "python",
   "pygments_lexer": "ipython3",
   "version": "3.8.12"
  }
 },
 "nbformat": 4,
 "nbformat_minor": 5
}
