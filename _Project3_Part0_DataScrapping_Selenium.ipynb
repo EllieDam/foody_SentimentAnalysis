{
 "cells": [
  {
   "cell_type": "markdown",
   "id": "GvumM1aTVN2n",
   "metadata": {
    "id": "GvumM1aTVN2n"
   },
   "source": [
    "# 0. import packages"
   ]
  },
  {
   "cell_type": "code",
   "execution_count": 1,
   "id": "e54100cc",
   "metadata": {
    "id": "e54100cc"
   },
   "outputs": [
    {
     "name": "stdout",
     "output_type": "stream",
     "text": [
      "importing Jupyter notebook from Lib3.ipynb\n"
     ]
    }
   ],
   "source": [
    "from selenium import webdriver\n",
    "from webdriver_manager.chrome import ChromeDriverManager\n",
    "from time import sleep\n",
    "import pandas as pd\n",
    "import csv\n",
    "import import_ipynb\n",
    "import Lib3"
   ]
  },
  {
   "cell_type": "code",
   "execution_count": 124,
   "id": "9c7d7db7",
   "metadata": {
    "id": "9c7d7db7",
    "outputId": "4d466645-fa61-4552-a308-c69e6c0df9c7",
    "scrolled": false
   },
   "outputs": [
    {
     "name": "stderr",
     "output_type": "stream",
     "text": [
      "\n",
      "\n",
      "====== WebDriver manager ======\n",
      "Current google-chrome version is 99.0.4844\n",
      "Get LATEST chromedriver version for 99.0.4844 google-chrome\n",
      "Trying to download new driver from https://chromedriver.storage.googleapis.com/99.0.4844.51/chromedriver_mac64.zip\n",
      "Driver has been saved in cache [/Users/elliedam/.wdm/drivers/chromedriver/mac64/99.0.4844.51]\n",
      "/var/folders/75/xh20dgfj413gnh1kwq6jslz00000gn/T/ipykernel_20620/1503906442.py:1: DeprecationWarning: executable_path has been deprecated, please pass in a Service object\n",
      "  driver = webdriver.Chrome(ChromeDriverManager().install())\n"
     ]
    }
   ],
   "source": [
    "driver = webdriver.Chrome(ChromeDriverManager().install())"
   ]
  },
  {
   "cell_type": "markdown",
   "id": "u3PgkLd1WE2V",
   "metadata": {
    "id": "u3PgkLd1WE2V"
   },
   "source": [
    "# Foody_TPHCM"
   ]
  },
  {
   "cell_type": "markdown",
   "id": "338be33b",
   "metadata": {
    "id": "338be33b"
   },
   "source": [
    "# 1. Get links and names of restaurant"
   ]
  },
  {
   "cell_type": "code",
   "execution_count": null,
   "id": "c625f49f",
   "metadata": {
    "id": "c625f49f"
   },
   "outputs": [],
   "source": [
    "driver.get('https://www.foody.vn')"
   ]
  },
  {
   "cell_type": "code",
   "execution_count": null,
   "id": "6edcfbfc",
   "metadata": {
    "id": "6edcfbfc",
    "outputId": "a415eabe-6b70-4919-d15f-10a741ed0969"
   },
   "outputs": [
    {
     "name": "stderr",
     "output_type": "stream",
     "text": [
      "/var/folders/75/xh20dgfj413gnh1kwq6jslz00000gn/T/ipykernel_4170/2824142087.py:4: DeprecationWarning: find_elements_by_* commands are deprecated. Please use find_elements() instead\n",
      "  driver.find_elements_by_class_name('fd-btn-more')[0].click()\n",
      "/var/folders/75/xh20dgfj413gnh1kwq6jslz00000gn/T/ipykernel_4170/2824142087.py:9: DeprecationWarning: find_elements_by_* commands are deprecated. Please use find_elements() instead\n",
      "  res = driver.find_elements_by_xpath(\"//div[contains(@class,'fd-text-ellip')]/a\")\n"
     ]
    }
   ],
   "source": [
    "# lấy tên và link của các nhà hàng\n",
    "for i in range (1,50):\n",
    "    try:\n",
    "        driver.find_elements_by_class_name('fd-btn-more')[0].click()\n",
    "        sleep(2)\n",
    "    except IndexError:\n",
    "        pass\n",
    "    continue\n",
    "res = driver.find_elements_by_xpath(\"//div[contains(@class,'fd-text-ellip')]/a\")\n",
    "res_names = [x.text for x in res]\n",
    "links = [x.get_attribute('href') for x in res]"
   ]
  },
  {
   "cell_type": "code",
   "execution_count": null,
   "id": "d8abc01c",
   "metadata": {
    "id": "d8abc01c",
    "outputId": "11e1d782-d3af-49da-c748-6e663143e8fe"
   },
   "outputs": [
    {
     "name": "stdout",
     "output_type": "stream",
     "text": [
      "Số lượng nhà hàng 600\n"
     ]
    },
    {
     "data": {
      "text/plain": [
       "['Chícc Chícc - Gà Rán Hàn Quốc',\n",
       " 'Thành Mập - Chân Gà Rút Xương Ngâm Sả Tắc - Bạch Đằng - Shop Online',\n",
       " 'TocoToco Bubble Tea - Phạm Hùng',\n",
       " '2 Béo - Bánh Sầu Riêng - Shop Online',\n",
       " 'Bánh 9 Sạch - Bánh Sầu Riêng - Shop Online']"
      ]
     },
     "execution_count": 63,
     "metadata": {},
     "output_type": "execute_result"
    }
   ],
   "source": [
    "print('Số lượng nhà hàng',len(res_names))\n",
    "res_names[:5]"
   ]
  },
  {
   "cell_type": "code",
   "execution_count": null,
   "id": "e4a698d3",
   "metadata": {
    "id": "e4a698d3",
    "outputId": "0642d867-4768-4ca2-a971-67cb854dd119",
    "scrolled": true
   },
   "outputs": [
    {
     "name": "stdout",
     "output_type": "stream",
     "text": [
      "Số lượng link: 600\n"
     ]
    },
    {
     "data": {
      "text/plain": [
       "['https://www.foody.vn/ho-chi-minh/chicc-chicc-ga-ran-han-quoc/binh-luan',\n",
       " 'https://www.foody.vn/ho-chi-minh/thanh-map-chan-ga-rut-xuong-ngam-sa-tac-bach-dang-shop-online/binh-luan',\n",
       " 'https://www.foody.vn/ho-chi-minh/tocotoco-bubble-tea-pham-hung/binh-luan',\n",
       " 'https://www.foody.vn/ho-chi-minh/2-beo-banh-sau-rieng-shop-online/binh-luan',\n",
       " 'https://www.foody.vn/ho-chi-minh/banh-9-sach-banh-sau-rieng-shop-online/binh-luan']"
      ]
     },
     "execution_count": 64,
     "metadata": {},
     "output_type": "execute_result"
    }
   ],
   "source": [
    "# add thêm '/binh-luan' ở cuối link để truy cập vào phần bình luận của mỗi nhà hàng\n",
    "links_bl = []\n",
    "for l in links:\n",
    "    links_bl.append(l +'/binh-luan')\n",
    "print('Số lượng link:',len(links_bl))\n",
    "links_bl[:5]"
   ]
  },
  {
   "cell_type": "code",
   "execution_count": null,
   "id": "57701b0c",
   "metadata": {
    "id": "57701b0c"
   },
   "outputs": [],
   "source": [
    "# Save results to csv\n",
    "with open('data/foody_links_bl.csv', 'wt') as myfile:\n",
    "    wr = csv.writer(myfile, quoting=csv.QUOTE_ALL)\n",
    "    wr.writerow(links_bl)\n",
    "\n",
    "with open('data/foody_res_names.csv', 'wt') as myfile:\n",
    "    wr = csv.writer(myfile, quoting=csv.QUOTE_ALL)\n",
    "    wr.writerow(res_names)"
   ]
  },
  {
   "cell_type": "markdown",
   "id": "1520e753",
   "metadata": {
    "id": "1520e753"
   },
   "source": [
    "# 2. Review & Score scraping"
   ]
  },
  {
   "cell_type": "code",
   "execution_count": null,
   "id": "09c2f496",
   "metadata": {
    "id": "09c2f496",
    "outputId": "4e3b6f9d-f01b-4d6b-d3d9-167681af1251"
   },
   "outputs": [
    {
     "data": {
      "text/plain": [
       "['https://www.foody.vn/ho-chi-minh/chicc-chicc-ga-ran-han-quoc/binh-luan',\n",
       " 'https://www.foody.vn/ho-chi-minh/thanh-map-chan-ga-rut-xuong-ngam-sa-tac-bach-dang-shop-online/binh-luan',\n",
       " 'https://www.foody.vn/ho-chi-minh/tocotoco-bubble-tea-pham-hung/binh-luan',\n",
       " 'https://www.foody.vn/ho-chi-minh/2-beo-banh-sau-rieng-shop-online/binh-luan',\n",
       " 'https://www.foody.vn/ho-chi-minh/banh-9-sach-banh-sau-rieng-shop-online/binh-luan']"
      ]
     },
     "execution_count": 66,
     "metadata": {},
     "output_type": "execute_result"
    }
   ],
   "source": [
    "# load links\n",
    "links_bl_load = pd.read_csv('data/foody_links_bl.csv', header=None)\n",
    "links_bl_load = list(links_bl_load.iloc[0,:].values)\n",
    "links_bl_load[:5]"
   ]
  },
  {
   "cell_type": "code",
   "execution_count": null,
   "id": "5bfe25a6",
   "metadata": {
    "id": "5bfe25a6",
    "outputId": "f2b9a0cc-b4c7-4fe7-aa73-7721efdbe5fc"
   },
   "outputs": [
    {
     "data": {
      "text/plain": [
       "['Chícc Chícc - Gà Rán Hàn Quốc',\n",
       " 'Thành Mập - Chân Gà Rút Xương Ngâm Sả Tắc - Bạch Đằng - Shop Online',\n",
       " 'TocoToco Bubble Tea - Phạm Hùng',\n",
       " '2 Béo - Bánh Sầu Riêng - Shop Online',\n",
       " 'Bánh 9 Sạch - Bánh Sầu Riêng - Shop Online']"
      ]
     },
     "execution_count": 67,
     "metadata": {},
     "output_type": "execute_result"
    }
   ],
   "source": [
    "# load restaurant names\n",
    "res_names_load = pd.read_csv('data/foody_res_names.csv', header=None)\n",
    "res_names_load = list(res_names_load.iloc[0,:].values)\n",
    "res_names_load[:5]"
   ]
  },
  {
   "cell_type": "code",
   "execution_count": null,
   "id": "00380d59",
   "metadata": {
    "id": "00380d59",
    "outputId": "64b4852d-c592-4b3f-bfbd-1462bfd61925"
   },
   "outputs": [
    {
     "data": {
      "text/plain": [
       "(600, 600)"
      ]
     },
     "execution_count": 68,
     "metadata": {},
     "output_type": "execute_result"
    }
   ],
   "source": [
    "len(links_bl_load), len(res_names_load)"
   ]
  },
  {
   "cell_type": "markdown",
   "id": "7a13c1be",
   "metadata": {
    "id": "7a13c1be"
   },
   "source": [
    "Vì số lượng nhà hàng lớn, ta sẽ chia làm 6 lần, mỗi lần 100 nhà hàng"
   ]
  },
  {
   "cell_type": "markdown",
   "id": "6f65b0ea",
   "metadata": {
    "id": "6f65b0ea"
   },
   "source": [
    "## Data scraping 1"
   ]
  },
  {
   "cell_type": "code",
   "execution_count": null,
   "id": "53c65fc5",
   "metadata": {
    "id": "53c65fc5",
    "outputId": "88da37e3-80fe-472f-a879-1dd8f09a9e96",
    "scrolled": true
   },
   "outputs": [
    {
     "name": "stderr",
     "output_type": "stream",
     "text": [
      "/var/folders/75/xh20dgfj413gnh1kwq6jslz00000gn/T/ipykernel_4170/2853847012.py:8: DeprecationWarning: find_elements_by_* commands are deprecated. Please use find_elements() instead\n",
      "  driver.find_elements_by_class_name('fd-btn-more')[0].click()\n",
      "/var/folders/75/xh20dgfj413gnh1kwq6jslz00000gn/T/ipykernel_4170/2853847012.py:14: DeprecationWarning: find_elements_by_* commands are deprecated. Please use find_elements() instead\n",
      "  review = driver.find_elements_by_xpath(\"//div[contains(@class,'rd-des')]/span\")\n",
      "/var/folders/75/xh20dgfj413gnh1kwq6jslz00000gn/T/ipykernel_4170/2853847012.py:15: DeprecationWarning: find_elements_by_* commands are deprecated. Please use find_elements() instead\n",
      "  score = driver.find_elements_by_xpath(\"//div[contains(@class,'review-points')]/span\")\n"
     ]
    }
   ],
   "source": [
    "# data scraping 100 nhà hàng đầu tiên [0:100]\n",
    "reviews_all = []\n",
    "scores_all = []\n",
    "res_names_all = []\n",
    "for e in range(0,100):\n",
    "    driver.get(links_bl_load[e])\n",
    "    for i in range (1,50):\n",
    "        try:\n",
    "            driver.find_elements_by_class_name('fd-btn-more')[0].click()  #load more \n",
    "            sleep(2)\n",
    "        except IndexError:\n",
    "            pass\n",
    "        continue\n",
    "\n",
    "    review = driver.find_elements_by_xpath(\"//div[contains(@class,'rd-des')]/span\") #get reviews\n",
    "    score = driver.find_elements_by_xpath(\"//div[contains(@class,'review-points')]/span\") #get score\n",
    "    reviews = [x.text for x in review]\n",
    "    scores = [x.text for x in score]\n",
    "    res_names_dup = [res_names_load[e]] * min(len(reviews),len(scores[:-1]))\n",
    "    # append\n",
    "    reviews_all.append(reviews)\n",
    "    scores_all.append(scores[:-1])\n",
    "    res_names_all.append(res_names_dup)"
   ]
  },
  {
   "cell_type": "code",
   "execution_count": null,
   "id": "704f1620",
   "metadata": {
    "id": "704f1620",
    "outputId": "72a74508-3cdb-437a-8583-402d02044d22"
   },
   "outputs": [
    {
     "name": "stdout",
     "output_type": "stream",
     "text": [
      "3452 3452 3452\n"
     ]
    }
   ],
   "source": [
    "# flat the lists and check their length\n",
    "res_names_all2 = sum(res_names_all, [])\n",
    "reviews_all2 = sum(reviews_all, [])\n",
    "scores_all2 = sum(scores_all, [])\n",
    "print(len(reviews_all2), len(scores_all2), len(res_names_all2))"
   ]
  },
  {
   "cell_type": "code",
   "execution_count": null,
   "id": "b74cbc51",
   "metadata": {
    "id": "b74cbc51"
   },
   "outputs": [],
   "source": [
    "# Create dataframe and save to csv file\n",
    "dict_foody1 = {'name':res_names_all2,\n",
    "                'review_text':reviews_all2,\n",
    "                'review_score': scores_all2}\n",
    "df1 = pd.DataFrame(dict_foody1)"
   ]
  },
  {
   "cell_type": "code",
   "execution_count": null,
   "id": "b094524d",
   "metadata": {
    "id": "b094524d",
    "outputId": "b812c3aa-13a8-4d84-9b48-846d4d0067d6"
   },
   "outputs": [
    {
     "data": {
      "text/html": [
       "<div>\n",
       "<style scoped>\n",
       "    .dataframe tbody tr th:only-of-type {\n",
       "        vertical-align: middle;\n",
       "    }\n",
       "\n",
       "    .dataframe tbody tr th {\n",
       "        vertical-align: top;\n",
       "    }\n",
       "\n",
       "    .dataframe thead th {\n",
       "        text-align: right;\n",
       "    }\n",
       "</style>\n",
       "<table border=\"1\" class=\"dataframe\">\n",
       "  <thead>\n",
       "    <tr style=\"text-align: right;\">\n",
       "      <th></th>\n",
       "      <th>name</th>\n",
       "      <th>review_text</th>\n",
       "      <th>review_score</th>\n",
       "    </tr>\n",
       "  </thead>\n",
       "  <tbody>\n",
       "    <tr>\n",
       "      <th>0</th>\n",
       "      <td>Chícc Chícc - Gà Rán Hàn Quốc</td>\n",
       "      <td>Gà tắm mắm, phô mai kéo sợi siêu ngon, giá mềm</td>\n",
       "      <td>10</td>\n",
       "    </tr>\n",
       "    <tr>\n",
       "      <th>1</th>\n",
       "      <td>Chícc Chícc - Gà Rán Hàn Quốc</td>\n",
       "      <td>Gà BBQ Hàn, phô mai kéo sợi siêu ngon, giá mềm</td>\n",
       "      <td>10</td>\n",
       "    </tr>\n",
       "    <tr>\n",
       "      <th>2</th>\n",
       "      <td>Chícc Chícc - Gà Rán Hàn Quốc</td>\n",
       "      <td>Gà rán phô mai kéo sợi sốt BBQ, siu ngon</td>\n",
       "      <td>10</td>\n",
       "    </tr>\n",
       "    <tr>\n",
       "      <th>3</th>\n",
       "      <td>Chícc Chícc - Gà Rán Hàn Quốc</td>\n",
       "      <td>Gà rán kem bơ tỏi, ngon, lạ, béo, giá ổn áp</td>\n",
       "      <td>10</td>\n",
       "    </tr>\n",
       "    <tr>\n",
       "      <th>4</th>\n",
       "      <td>Chícc Chícc - Gà Rán Hàn Quốc</td>\n",
       "      <td>Gà rán kem bơ tỏi, ngon, lạ, béo, giá ổn áp</td>\n",
       "      <td>10</td>\n",
       "    </tr>\n",
       "  </tbody>\n",
       "</table>\n",
       "</div>"
      ],
      "text/plain": [
       "                            name  \\\n",
       "0  Chícc Chícc - Gà Rán Hàn Quốc   \n",
       "1  Chícc Chícc - Gà Rán Hàn Quốc   \n",
       "2  Chícc Chícc - Gà Rán Hàn Quốc   \n",
       "3  Chícc Chícc - Gà Rán Hàn Quốc   \n",
       "4  Chícc Chícc - Gà Rán Hàn Quốc   \n",
       "\n",
       "                                      review_text review_score  \n",
       "0  Gà tắm mắm, phô mai kéo sợi siêu ngon, giá mềm           10  \n",
       "1  Gà BBQ Hàn, phô mai kéo sợi siêu ngon, giá mềm           10  \n",
       "2        Gà rán phô mai kéo sợi sốt BBQ, siu ngon           10  \n",
       "3     Gà rán kem bơ tỏi, ngon, lạ, béo, giá ổn áp           10  \n",
       "4     Gà rán kem bơ tỏi, ngon, lạ, béo, giá ổn áp           10  "
      ]
     },
     "execution_count": 72,
     "metadata": {},
     "output_type": "execute_result"
    }
   ],
   "source": [
    "df1.head()"
   ]
  },
  {
   "cell_type": "code",
   "execution_count": null,
   "id": "105b7822",
   "metadata": {
    "id": "105b7822",
    "outputId": "af3b26c8-17b5-4742-daaa-d7d6a7daee07"
   },
   "outputs": [
    {
     "data": {
      "text/plain": [
       "(3452, 3)"
      ]
     },
     "execution_count": 73,
     "metadata": {},
     "output_type": "execute_result"
    }
   ],
   "source": [
    "df1.shape"
   ]
  },
  {
   "cell_type": "code",
   "execution_count": null,
   "id": "6aac53f9",
   "metadata": {
    "id": "6aac53f9"
   },
   "outputs": [],
   "source": [
    "df1.to_csv('data/foodyData1.csv')"
   ]
  },
  {
   "cell_type": "markdown",
   "id": "19956ec7",
   "metadata": {
    "id": "19956ec7"
   },
   "source": [
    "## Data scraping 2"
   ]
  },
  {
   "cell_type": "code",
   "execution_count": null,
   "id": "96f3573a",
   "metadata": {
    "id": "96f3573a",
    "outputId": "43f078dc-5288-48d1-89d7-0efaac67ae06"
   },
   "outputs": [
    {
     "name": "stderr",
     "output_type": "stream",
     "text": [
      "/var/folders/75/xh20dgfj413gnh1kwq6jslz00000gn/T/ipykernel_4170/3014958266.py:9: DeprecationWarning: find_elements_by_* commands are deprecated. Please use find_elements() instead\n",
      "  driver.find_elements_by_class_name('fd-btn-more')[0].click()  #load more\n",
      "/var/folders/75/xh20dgfj413gnh1kwq6jslz00000gn/T/ipykernel_4170/3014958266.py:15: DeprecationWarning: find_elements_by_* commands are deprecated. Please use find_elements() instead\n",
      "  review = driver.find_elements_by_xpath(\"//div[contains(@class,'rd-des')]/span\") #get reviews\n",
      "/var/folders/75/xh20dgfj413gnh1kwq6jslz00000gn/T/ipykernel_4170/3014958266.py:16: DeprecationWarning: find_elements_by_* commands are deprecated. Please use find_elements() instead\n",
      "  score = driver.find_elements_by_xpath(\"//div[contains(@class,'review-points')]/span\") #get score\n"
     ]
    }
   ],
   "source": [
    "# data scraping 100 nhà hàng tiếp theo [100:200]\n",
    "reviews_all = []\n",
    "scores_all = []\n",
    "res_names_all = []\n",
    "for e in range(100,200):\n",
    "    driver.get(links_bl_load[e])\n",
    "    for i in range (1,50):\n",
    "        try:\n",
    "            driver.find_elements_by_class_name('fd-btn-more')[0].click()  #load more \n",
    "            sleep(2)\n",
    "        except IndexError:\n",
    "            pass\n",
    "        continue\n",
    "\n",
    "    review = driver.find_elements_by_xpath(\"//div[contains(@class,'rd-des')]/span\") #get reviews\n",
    "    score = driver.find_elements_by_xpath(\"//div[contains(@class,'review-points')]/span\") #get score\n",
    "    reviews = [x.text for x in review]\n",
    "    scores = [x.text for x in score]\n",
    "    res_names_dup = [res_names_load[e]] * min(len(reviews),len(scores[:-1]))\n",
    "    # append\n",
    "    reviews_all.append(reviews)\n",
    "    scores_all.append(scores[:-1])\n",
    "    res_names_all.append(res_names_dup)"
   ]
  },
  {
   "cell_type": "code",
   "execution_count": null,
   "id": "4ede06a2",
   "metadata": {
    "id": "4ede06a2",
    "outputId": "975100db-7396-40c9-97e1-3f4be6a324db"
   },
   "outputs": [
    {
     "name": "stdout",
     "output_type": "stream",
     "text": [
      "1652 1652 1652\n"
     ]
    }
   ],
   "source": [
    "# flat the lists and check their length\n",
    "res_names_all2 = sum(res_names_all, [])\n",
    "reviews_all2 = sum(reviews_all, [])\n",
    "scores_all2 = sum(scores_all, [])\n",
    "print(len(reviews_all2), len(scores_all2), len(res_names_all2))"
   ]
  },
  {
   "cell_type": "code",
   "execution_count": null,
   "id": "45d0be04",
   "metadata": {
    "id": "45d0be04"
   },
   "outputs": [],
   "source": [
    "# Create dataframe and save to csv file\n",
    "dict_foody2 = {'name':res_names_all2,\n",
    "                'review_text':reviews_all2,\n",
    "                'review_score': scores_all2}\n",
    "df2 = pd.DataFrame(dict_foody2)"
   ]
  },
  {
   "cell_type": "code",
   "execution_count": null,
   "id": "7916da33",
   "metadata": {
    "id": "7916da33",
    "outputId": "49c597fe-cc7c-48fb-965b-757df09936aa"
   },
   "outputs": [
    {
     "data": {
      "text/html": [
       "<div>\n",
       "<style scoped>\n",
       "    .dataframe tbody tr th:only-of-type {\n",
       "        vertical-align: middle;\n",
       "    }\n",
       "\n",
       "    .dataframe tbody tr th {\n",
       "        vertical-align: top;\n",
       "    }\n",
       "\n",
       "    .dataframe thead th {\n",
       "        text-align: right;\n",
       "    }\n",
       "</style>\n",
       "<table border=\"1\" class=\"dataframe\">\n",
       "  <thead>\n",
       "    <tr style=\"text-align: right;\">\n",
       "      <th></th>\n",
       "      <th>name</th>\n",
       "      <th>review_text</th>\n",
       "      <th>review_score</th>\n",
       "    </tr>\n",
       "  </thead>\n",
       "  <tbody>\n",
       "    <tr>\n",
       "      <th>0</th>\n",
       "      <td>Trà Sữa Feeling Tea - Đường 3 Tháng 2</td>\n",
       "      <td>Nhớ hương vị gần chục năm trước ăn nên nay ord...</td>\n",
       "      <td>7.2</td>\n",
       "    </tr>\n",
       "    <tr>\n",
       "      <th>1</th>\n",
       "      <td>Trà Sữa Feeling Tea - Đường 3 Tháng 2</td>\n",
       "      <td>Mình uống trà sữa nhìu chỗ rồi, nhưng uống hợp...</td>\n",
       "      <td>7.6</td>\n",
       "    </tr>\n",
       "    <tr>\n",
       "      <th>2</th>\n",
       "      <td>Trà Sữa Feeling Tea - Đường 3 Tháng 2</td>\n",
       "      <td>Chạy đi làm về ngang quài nghe mùi trà thấy th...</td>\n",
       "      <td>9.0</td>\n",
       "    </tr>\n",
       "    <tr>\n",
       "      <th>3</th>\n",
       "      <td>Trà Sữa Feeling Tea - Đường 3 Tháng 2</td>\n",
       "      <td>Order món hồng trà vải tươi và trà xanh vải tư...</td>\n",
       "      <td>6.0</td>\n",
       "    </tr>\n",
       "    <tr>\n",
       "      <th>4</th>\n",
       "      <td>Trà Sữa Feeling Tea - Đường 3 Tháng 2</td>\n",
       "      <td>Rõ ràng mình order và trả tiền cho 3 ly trà sữ...</td>\n",
       "      <td>1.0</td>\n",
       "    </tr>\n",
       "  </tbody>\n",
       "</table>\n",
       "</div>"
      ],
      "text/plain": [
       "                                    name  \\\n",
       "0  Trà Sữa Feeling Tea - Đường 3 Tháng 2   \n",
       "1  Trà Sữa Feeling Tea - Đường 3 Tháng 2   \n",
       "2  Trà Sữa Feeling Tea - Đường 3 Tháng 2   \n",
       "3  Trà Sữa Feeling Tea - Đường 3 Tháng 2   \n",
       "4  Trà Sữa Feeling Tea - Đường 3 Tháng 2   \n",
       "\n",
       "                                         review_text review_score  \n",
       "0  Nhớ hương vị gần chục năm trước ăn nên nay ord...          7.2  \n",
       "1  Mình uống trà sữa nhìu chỗ rồi, nhưng uống hợp...          7.6  \n",
       "2  Chạy đi làm về ngang quài nghe mùi trà thấy th...          9.0  \n",
       "3  Order món hồng trà vải tươi và trà xanh vải tư...          6.0  \n",
       "4  Rõ ràng mình order và trả tiền cho 3 ly trà sữ...          1.0  "
      ]
     },
     "execution_count": 80,
     "metadata": {},
     "output_type": "execute_result"
    }
   ],
   "source": [
    "df2.head()"
   ]
  },
  {
   "cell_type": "code",
   "execution_count": null,
   "id": "727a12c2",
   "metadata": {
    "id": "727a12c2",
    "outputId": "d34ff38d-cfd3-4f25-d9d0-053e2ab7252d"
   },
   "outputs": [
    {
     "data": {
      "text/plain": [
       "(1652, 3)"
      ]
     },
     "execution_count": 81,
     "metadata": {},
     "output_type": "execute_result"
    }
   ],
   "source": [
    "df2.shape"
   ]
  },
  {
   "cell_type": "code",
   "execution_count": null,
   "id": "1780f31e",
   "metadata": {
    "id": "1780f31e"
   },
   "outputs": [],
   "source": [
    "df2.to_csv('data/foodyData2.csv')"
   ]
  },
  {
   "cell_type": "markdown",
   "id": "15e87cd4",
   "metadata": {
    "id": "15e87cd4"
   },
   "source": [
    "## Data scraping 3"
   ]
  },
  {
   "cell_type": "code",
   "execution_count": null,
   "id": "4d9364c1",
   "metadata": {
    "id": "4d9364c1",
    "outputId": "ea0f0517-a769-43c9-91e7-b077b7a3e9b8"
   },
   "outputs": [
    {
     "name": "stderr",
     "output_type": "stream",
     "text": [
      "/var/folders/75/xh20dgfj413gnh1kwq6jslz00000gn/T/ipykernel_4170/910036964.py:9: DeprecationWarning: find_elements_by_* commands are deprecated. Please use find_elements() instead\n",
      "  driver.find_elements_by_class_name('fd-btn-more')[0].click()  #load more\n",
      "/var/folders/75/xh20dgfj413gnh1kwq6jslz00000gn/T/ipykernel_4170/910036964.py:15: DeprecationWarning: find_elements_by_* commands are deprecated. Please use find_elements() instead\n",
      "  review = driver.find_elements_by_xpath(\"//div[contains(@class,'rd-des')]/span\") #get reviews\n",
      "/var/folders/75/xh20dgfj413gnh1kwq6jslz00000gn/T/ipykernel_4170/910036964.py:16: DeprecationWarning: find_elements_by_* commands are deprecated. Please use find_elements() instead\n",
      "  score = driver.find_elements_by_xpath(\"//div[contains(@class,'review-points')]/span\") #get score\n"
     ]
    }
   ],
   "source": [
    "# data scraping 100 nhà hàng tiếp theo [200:300]\n",
    "reviews_all = []\n",
    "scores_all = []\n",
    "res_names_all = []\n",
    "for e in range(200,300):\n",
    "    driver.get(links_bl_load[e])\n",
    "    for i in range (1,50):\n",
    "        try:\n",
    "            driver.find_elements_by_class_name('fd-btn-more')[0].click()  #load more \n",
    "            sleep(2)\n",
    "        except IndexError:\n",
    "            pass\n",
    "        continue\n",
    "\n",
    "    review = driver.find_elements_by_xpath(\"//div[contains(@class,'rd-des')]/span\") #get reviews\n",
    "    score = driver.find_elements_by_xpath(\"//div[contains(@class,'review-points')]/span\") #get score\n",
    "    reviews = [x.text for x in review]\n",
    "    scores = [x.text for x in score]\n",
    "    res_names_dup = [res_names_load[e]] * min(len(reviews),len(scores[:-1]))\n",
    "    # append\n",
    "    reviews_all.append(reviews)\n",
    "    scores_all.append(scores[:-1])\n",
    "    res_names_all.append(res_names_dup)"
   ]
  },
  {
   "cell_type": "code",
   "execution_count": null,
   "id": "88c5519c",
   "metadata": {
    "id": "88c5519c",
    "outputId": "d674a7fc-e6b7-4174-eebf-e43756d3c2c4"
   },
   "outputs": [
    {
     "name": "stdout",
     "output_type": "stream",
     "text": [
      "2046 2046 2046\n"
     ]
    }
   ],
   "source": [
    "# flat the lists and check their length\n",
    "res_names_all2 = sum(res_names_all, [])\n",
    "reviews_all2 = sum(reviews_all, [])\n",
    "scores_all2 = sum(scores_all, [])\n",
    "print(len(reviews_all2), len(scores_all2), len(res_names_all2))"
   ]
  },
  {
   "cell_type": "code",
   "execution_count": null,
   "id": "f0c784da",
   "metadata": {
    "id": "f0c784da"
   },
   "outputs": [],
   "source": [
    "# Create dataframe and save to csv file\n",
    "dict_foody3 = {'name':res_names_all2,\n",
    "                'review_text':reviews_all2,\n",
    "                'review_score': scores_all2}\n",
    "df3 = pd.DataFrame(dict_foody3)"
   ]
  },
  {
   "cell_type": "code",
   "execution_count": null,
   "id": "9b5026b1",
   "metadata": {
    "id": "9b5026b1",
    "outputId": "c643bd47-0b78-4fd2-d6aa-67a522818ddc"
   },
   "outputs": [
    {
     "data": {
      "text/html": [
       "<div>\n",
       "<style scoped>\n",
       "    .dataframe tbody tr th:only-of-type {\n",
       "        vertical-align: middle;\n",
       "    }\n",
       "\n",
       "    .dataframe tbody tr th {\n",
       "        vertical-align: top;\n",
       "    }\n",
       "\n",
       "    .dataframe thead th {\n",
       "        text-align: right;\n",
       "    }\n",
       "</style>\n",
       "<table border=\"1\" class=\"dataframe\">\n",
       "  <thead>\n",
       "    <tr style=\"text-align: right;\">\n",
       "      <th></th>\n",
       "      <th>name</th>\n",
       "      <th>review_text</th>\n",
       "      <th>review_score</th>\n",
       "    </tr>\n",
       "  </thead>\n",
       "  <tbody>\n",
       "    <tr>\n",
       "      <th>0</th>\n",
       "      <td>Hủ Tiếu Chay Cây Đề - Diệp Minh Châu</td>\n",
       "      <td>Phục vụ quá lâu</td>\n",
       "      <td>2.6</td>\n",
       "    </tr>\n",
       "    <tr>\n",
       "      <th>1</th>\n",
       "      <td>Hủ Tiếu Chay Cây Đề - Diệp Minh Châu</td>\n",
       "      <td>Nhìn khá giống bánh hỏi thịt nướng phải không ...</td>\n",
       "      <td>9.8</td>\n",
       "    </tr>\n",
       "    <tr>\n",
       "      <th>2</th>\n",
       "      <td>Hủ Tiếu Chay Cây Đề - Diệp Minh Châu</td>\n",
       "      <td>hôm nay có mua về 2 hôp com chai giá 62k một h...</td>\n",
       "      <td>3.8</td>\n",
       "    </tr>\n",
       "    <tr>\n",
       "      <th>3</th>\n",
       "      <td>Hủ Tiếu Chay Cây Đề - Diệp Minh Châu</td>\n",
       "      <td>Đây là một trong những quán chay mình rất thíc...</td>\n",
       "      <td>9.6</td>\n",
       "    </tr>\n",
       "    <tr>\n",
       "      <th>4</th>\n",
       "      <td>Hủ Tiếu Chay Cây Đề - Diệp Minh Châu</td>\n",
       "      <td>Lần đầu đi ăn mà cảm thấy thật sự hài lòng! Mì...</td>\n",
       "      <td>6.2</td>\n",
       "    </tr>\n",
       "  </tbody>\n",
       "</table>\n",
       "</div>"
      ],
      "text/plain": [
       "                                   name  \\\n",
       "0  Hủ Tiếu Chay Cây Đề - Diệp Minh Châu   \n",
       "1  Hủ Tiếu Chay Cây Đề - Diệp Minh Châu   \n",
       "2  Hủ Tiếu Chay Cây Đề - Diệp Minh Châu   \n",
       "3  Hủ Tiếu Chay Cây Đề - Diệp Minh Châu   \n",
       "4  Hủ Tiếu Chay Cây Đề - Diệp Minh Châu   \n",
       "\n",
       "                                         review_text review_score  \n",
       "0                                    Phục vụ quá lâu          2.6  \n",
       "1  Nhìn khá giống bánh hỏi thịt nướng phải không ...          9.8  \n",
       "2  hôm nay có mua về 2 hôp com chai giá 62k một h...          3.8  \n",
       "3  Đây là một trong những quán chay mình rất thíc...          9.6  \n",
       "4  Lần đầu đi ăn mà cảm thấy thật sự hài lòng! Mì...          6.2  "
      ]
     },
     "execution_count": 89,
     "metadata": {},
     "output_type": "execute_result"
    }
   ],
   "source": [
    "df3.head()"
   ]
  },
  {
   "cell_type": "code",
   "execution_count": null,
   "id": "5f30618e",
   "metadata": {
    "id": "5f30618e",
    "outputId": "2e48bfdc-8a80-45f8-e850-aa25d638db39"
   },
   "outputs": [
    {
     "data": {
      "text/plain": [
       "(2046, 3)"
      ]
     },
     "execution_count": 90,
     "metadata": {},
     "output_type": "execute_result"
    }
   ],
   "source": [
    "df3.shape"
   ]
  },
  {
   "cell_type": "code",
   "execution_count": null,
   "id": "4a6e6c84",
   "metadata": {
    "id": "4a6e6c84"
   },
   "outputs": [],
   "source": [
    "df3.to_csv('data/foodyData3.csv')"
   ]
  },
  {
   "cell_type": "markdown",
   "id": "f9704924",
   "metadata": {
    "id": "f9704924"
   },
   "source": [
    "## Data scraping 4"
   ]
  },
  {
   "cell_type": "code",
   "execution_count": null,
   "id": "143deeff",
   "metadata": {
    "id": "143deeff",
    "outputId": "f931ff4a-2dd1-4d96-b9f1-b3004b653fb2"
   },
   "outputs": [
    {
     "name": "stderr",
     "output_type": "stream",
     "text": [
      "/var/folders/75/xh20dgfj413gnh1kwq6jslz00000gn/T/ipykernel_4170/2579985156.py:9: DeprecationWarning: find_elements_by_* commands are deprecated. Please use find_elements() instead\n",
      "  driver.find_elements_by_class_name('fd-btn-more')[0].click()  #load more\n",
      "/var/folders/75/xh20dgfj413gnh1kwq6jslz00000gn/T/ipykernel_4170/2579985156.py:15: DeprecationWarning: find_elements_by_* commands are deprecated. Please use find_elements() instead\n",
      "  review = driver.find_elements_by_xpath(\"//div[contains(@class,'rd-des')]/span\") #get reviews\n",
      "/var/folders/75/xh20dgfj413gnh1kwq6jslz00000gn/T/ipykernel_4170/2579985156.py:16: DeprecationWarning: find_elements_by_* commands are deprecated. Please use find_elements() instead\n",
      "  score = driver.find_elements_by_xpath(\"//div[contains(@class,'review-points')]/span\") #get score\n"
     ]
    }
   ],
   "source": [
    "# data scraping 100 nhà hàng tiếp theo [300:400]\n",
    "reviews_all = []\n",
    "scores_all = []\n",
    "res_names_all = []\n",
    "for e in range(300,400):\n",
    "    driver.get(links_bl_load[e])\n",
    "    for i in range (1,50):\n",
    "        try:\n",
    "            driver.find_elements_by_class_name('fd-btn-more')[0].click()  #load more \n",
    "            sleep(2)\n",
    "        except IndexError:\n",
    "            pass\n",
    "        continue\n",
    "\n",
    "    review = driver.find_elements_by_xpath(\"//div[contains(@class,'rd-des')]/span\") #get reviews\n",
    "    score = driver.find_elements_by_xpath(\"//div[contains(@class,'review-points')]/span\") #get score\n",
    "    reviews = [x.text for x in review]\n",
    "    scores = [x.text for x in score]\n",
    "    res_names_dup = [res_names_load[e]] * min(len(reviews),len(scores[:-1]))\n",
    "    # append\n",
    "    reviews_all.append(reviews)\n",
    "    scores_all.append(scores[:-1])\n",
    "    res_names_all.append(res_names_dup)"
   ]
  },
  {
   "cell_type": "code",
   "execution_count": null,
   "id": "d4d45408",
   "metadata": {
    "id": "d4d45408",
    "outputId": "20395797-0b7a-40e5-9bfd-3b115e0c5f8a"
   },
   "outputs": [
    {
     "name": "stdout",
     "output_type": "stream",
     "text": [
      "2732 2732 2732\n"
     ]
    }
   ],
   "source": [
    "# flat the lists and check their length\n",
    "res_names_all2 = sum(res_names_all, [])\n",
    "reviews_all2 = sum(reviews_all, [])\n",
    "scores_all2 = sum(scores_all, [])\n",
    "print(len(reviews_all2), len(scores_all2), len(res_names_all2))"
   ]
  },
  {
   "cell_type": "code",
   "execution_count": null,
   "id": "4f7710cb",
   "metadata": {
    "id": "4f7710cb"
   },
   "outputs": [],
   "source": [
    "# Create dataframe and save to csv file\n",
    "dict_foody4 = {'name':res_names_all2,\n",
    "                'review_text':reviews_all2,\n",
    "                'review_score': scores_all2}\n",
    "df4 = pd.DataFrame(dict_foody4)"
   ]
  },
  {
   "cell_type": "code",
   "execution_count": null,
   "id": "47c41406",
   "metadata": {
    "id": "47c41406",
    "outputId": "5f618e7c-b774-4238-9740-98820bc38059"
   },
   "outputs": [
    {
     "data": {
      "text/html": [
       "<div>\n",
       "<style scoped>\n",
       "    .dataframe tbody tr th:only-of-type {\n",
       "        vertical-align: middle;\n",
       "    }\n",
       "\n",
       "    .dataframe tbody tr th {\n",
       "        vertical-align: top;\n",
       "    }\n",
       "\n",
       "    .dataframe thead th {\n",
       "        text-align: right;\n",
       "    }\n",
       "</style>\n",
       "<table border=\"1\" class=\"dataframe\">\n",
       "  <thead>\n",
       "    <tr style=\"text-align: right;\">\n",
       "      <th></th>\n",
       "      <th>name</th>\n",
       "      <th>review_text</th>\n",
       "      <th>review_score</th>\n",
       "    </tr>\n",
       "  </thead>\n",
       "  <tbody>\n",
       "    <tr>\n",
       "      <th>0</th>\n",
       "      <td>Bếp Rùa - Chân Gà Rút Xương Ngâm Sả Tắc - Shop...</td>\n",
       "      <td>NgonnnnnnnnnnNNgonnnnnnnnnngonnnnnnnnnn</td>\n",
       "      <td>10</td>\n",
       "    </tr>\n",
       "    <tr>\n",
       "      <th>1</th>\n",
       "      <td>Bếp Rùa - Chân Gà Rút Xương Ngâm Sả Tắc - Shop...</td>\n",
       "      <td>Ngonnnnnnnnnn</td>\n",
       "      <td>10</td>\n",
       "    </tr>\n",
       "    <tr>\n",
       "      <th>2</th>\n",
       "      <td>Bếp Rùa - Chân Gà Rút Xương Ngâm Sả Tắc - Shop...</td>\n",
       "      <td>Ngonnnnnnnnnn</td>\n",
       "      <td>10</td>\n",
       "    </tr>\n",
       "    <tr>\n",
       "      <th>3</th>\n",
       "      <td>Bếp Rùa - Chân Gà Rút Xương Ngâm Sả Tắc - Shop...</td>\n",
       "      <td>Ngonnnnnnnnnn</td>\n",
       "      <td>10</td>\n",
       "    </tr>\n",
       "    <tr>\n",
       "      <th>4</th>\n",
       "      <td>Bếp Rùa - Chân Gà Rút Xương Ngâm Sả Tắc - Shop...</td>\n",
       "      <td>Ngonnnnnnnnnn</td>\n",
       "      <td>10</td>\n",
       "    </tr>\n",
       "  </tbody>\n",
       "</table>\n",
       "</div>"
      ],
      "text/plain": [
       "                                                name  \\\n",
       "0  Bếp Rùa - Chân Gà Rút Xương Ngâm Sả Tắc - Shop...   \n",
       "1  Bếp Rùa - Chân Gà Rút Xương Ngâm Sả Tắc - Shop...   \n",
       "2  Bếp Rùa - Chân Gà Rút Xương Ngâm Sả Tắc - Shop...   \n",
       "3  Bếp Rùa - Chân Gà Rút Xương Ngâm Sả Tắc - Shop...   \n",
       "4  Bếp Rùa - Chân Gà Rút Xương Ngâm Sả Tắc - Shop...   \n",
       "\n",
       "                               review_text review_score  \n",
       "0  NgonnnnnnnnnnNNgonnnnnnnnnngonnnnnnnnnn           10  \n",
       "1                            Ngonnnnnnnnnn           10  \n",
       "2                            Ngonnnnnnnnnn           10  \n",
       "3                            Ngonnnnnnnnnn           10  \n",
       "4                            Ngonnnnnnnnnn           10  "
      ]
     },
     "execution_count": 96,
     "metadata": {},
     "output_type": "execute_result"
    }
   ],
   "source": [
    "df4.head()"
   ]
  },
  {
   "cell_type": "code",
   "execution_count": null,
   "id": "a5b79a54",
   "metadata": {
    "id": "a5b79a54",
    "outputId": "14b2141e-1596-4697-9664-0d1622d62f19"
   },
   "outputs": [
    {
     "data": {
      "text/plain": [
       "(2732, 3)"
      ]
     },
     "execution_count": 95,
     "metadata": {},
     "output_type": "execute_result"
    }
   ],
   "source": [
    "df4.shape"
   ]
  },
  {
   "cell_type": "code",
   "execution_count": null,
   "id": "135b51b9",
   "metadata": {
    "id": "135b51b9"
   },
   "outputs": [],
   "source": [
    "df4.to_csv('data/foodyData4.csv')"
   ]
  },
  {
   "cell_type": "markdown",
   "id": "cf0aa532",
   "metadata": {
    "id": "cf0aa532"
   },
   "source": [
    "## Data scraping 5"
   ]
  },
  {
   "cell_type": "code",
   "execution_count": null,
   "id": "26c1d2b2",
   "metadata": {
    "id": "26c1d2b2",
    "outputId": "842d7082-4988-443a-b0e8-e6656f9f4506"
   },
   "outputs": [
    {
     "name": "stderr",
     "output_type": "stream",
     "text": [
      "/var/folders/75/xh20dgfj413gnh1kwq6jslz00000gn/T/ipykernel_4170/2010455740.py:9: DeprecationWarning: find_elements_by_* commands are deprecated. Please use find_elements() instead\n",
      "  driver.find_elements_by_class_name('fd-btn-more')[0].click()  #load more\n",
      "/var/folders/75/xh20dgfj413gnh1kwq6jslz00000gn/T/ipykernel_4170/2010455740.py:15: DeprecationWarning: find_elements_by_* commands are deprecated. Please use find_elements() instead\n",
      "  review = driver.find_elements_by_xpath(\"//div[contains(@class,'rd-des')]/span\") #get reviews\n",
      "/var/folders/75/xh20dgfj413gnh1kwq6jslz00000gn/T/ipykernel_4170/2010455740.py:16: DeprecationWarning: find_elements_by_* commands are deprecated. Please use find_elements() instead\n",
      "  score = driver.find_elements_by_xpath(\"//div[contains(@class,'review-points')]/span\") #get score\n"
     ]
    }
   ],
   "source": [
    "# data scraping 100 nhà hàng tiếp theo [400:500]\n",
    "reviews_all = []\n",
    "scores_all = []\n",
    "res_names_all = []\n",
    "for e in range(400,500):\n",
    "    driver.get(links_bl_load[e])\n",
    "    for i in range (1,50):\n",
    "        try:\n",
    "            driver.find_elements_by_class_name('fd-btn-more')[0].click()  #load more \n",
    "            sleep(2)\n",
    "        except IndexError:\n",
    "            pass\n",
    "        continue\n",
    "\n",
    "    review = driver.find_elements_by_xpath(\"//div[contains(@class,'rd-des')]/span\") #get reviews\n",
    "    score = driver.find_elements_by_xpath(\"//div[contains(@class,'review-points')]/span\") #get score\n",
    "    reviews = [x.text for x in review]\n",
    "    scores = [x.text for x in score]\n",
    "    res_names_dup = [res_names_load[e]] * min(len(reviews),len(scores[:-1]))\n",
    "    # append\n",
    "    reviews_all.append(reviews)\n",
    "    scores_all.append(scores[:-1])\n",
    "    res_names_all.append(res_names_dup)"
   ]
  },
  {
   "cell_type": "code",
   "execution_count": null,
   "id": "78540815",
   "metadata": {
    "id": "78540815",
    "outputId": "fb846fa0-2964-49eb-fd1c-b60ea05264e4"
   },
   "outputs": [
    {
     "name": "stdout",
     "output_type": "stream",
     "text": [
      "1181 1181 1181\n"
     ]
    }
   ],
   "source": [
    "# flat the lists and check their length\n",
    "res_names_all2 = sum(res_names_all, [])\n",
    "reviews_all2 = sum(reviews_all, [])\n",
    "scores_all2 = sum(scores_all, [])\n",
    "print(len(reviews_all2), len(scores_all2), len(res_names_all2))"
   ]
  },
  {
   "cell_type": "code",
   "execution_count": null,
   "id": "5466bf58",
   "metadata": {
    "id": "5466bf58",
    "outputId": "53a325c4-e11f-445e-f09b-4e8932c9b36e"
   },
   "outputs": [
    {
     "data": {
      "text/html": [
       "<div>\n",
       "<style scoped>\n",
       "    .dataframe tbody tr th:only-of-type {\n",
       "        vertical-align: middle;\n",
       "    }\n",
       "\n",
       "    .dataframe tbody tr th {\n",
       "        vertical-align: top;\n",
       "    }\n",
       "\n",
       "    .dataframe thead th {\n",
       "        text-align: right;\n",
       "    }\n",
       "</style>\n",
       "<table border=\"1\" class=\"dataframe\">\n",
       "  <thead>\n",
       "    <tr style=\"text-align: right;\">\n",
       "      <th></th>\n",
       "      <th>name</th>\n",
       "      <th>review_text</th>\n",
       "      <th>review_score</th>\n",
       "    </tr>\n",
       "  </thead>\n",
       "  <tbody>\n",
       "    <tr>\n",
       "      <th>0</th>\n",
       "      <td>EMi Shop - Bánh Bao Nguyên Cám Healthy &amp; Bánh ...</td>\n",
       "      <td>Mua cho mấy anh em trong công ty ăn thử, ai cũ...</td>\n",
       "      <td>9.4</td>\n",
       "    </tr>\n",
       "    <tr>\n",
       "      <th>1</th>\n",
       "      <td>EMi Shop - Bánh Bao Nguyên Cám Healthy &amp; Bánh ...</td>\n",
       "      <td>Đã ăn nhiều nơi, nhưng bánh bao của shop là hợ...</td>\n",
       "      <td>10</td>\n",
       "    </tr>\n",
       "    <tr>\n",
       "      <th>2</th>\n",
       "      <td>Chè Ngọc - Đường D9</td>\n",
       "      <td>Nước cốt dừa chè bưởi bị chua hư,chè thốt nốt ...</td>\n",
       "      <td>3.0</td>\n",
       "    </tr>\n",
       "    <tr>\n",
       "      <th>3</th>\n",
       "      <td>Chè Ngọc - Đường D9</td>\n",
       "      <td>Quán làm món khá ngon và chất lượng, đã đặt kh...</td>\n",
       "      <td>6.6</td>\n",
       "    </tr>\n",
       "    <tr>\n",
       "      <th>4</th>\n",
       "      <td>Chè Ngọc - Đường D9</td>\n",
       "      <td>Giá cả hợp lí, chè ngon, sẽ ủng hộ quán thường...</td>\n",
       "      <td>6.0</td>\n",
       "    </tr>\n",
       "  </tbody>\n",
       "</table>\n",
       "</div>"
      ],
      "text/plain": [
       "                                                name  \\\n",
       "0  EMi Shop - Bánh Bao Nguyên Cám Healthy & Bánh ...   \n",
       "1  EMi Shop - Bánh Bao Nguyên Cám Healthy & Bánh ...   \n",
       "2                                Chè Ngọc - Đường D9   \n",
       "3                                Chè Ngọc - Đường D9   \n",
       "4                                Chè Ngọc - Đường D9   \n",
       "\n",
       "                                         review_text review_score  \n",
       "0  Mua cho mấy anh em trong công ty ăn thử, ai cũ...          9.4  \n",
       "1  Đã ăn nhiều nơi, nhưng bánh bao của shop là hợ...           10  \n",
       "2  Nước cốt dừa chè bưởi bị chua hư,chè thốt nốt ...          3.0  \n",
       "3  Quán làm món khá ngon và chất lượng, đã đặt kh...          6.6  \n",
       "4  Giá cả hợp lí, chè ngon, sẽ ủng hộ quán thường...          6.0  "
      ]
     },
     "execution_count": 101,
     "metadata": {},
     "output_type": "execute_result"
    }
   ],
   "source": [
    "# Create dataframe and save to csv file\n",
    "dict_foody5 = {'name':res_names_all2,\n",
    "                'review_text':reviews_all2,\n",
    "                'review_score': scores_all2}\n",
    "df5 = pd.DataFrame(dict_foody5)\n",
    "df5.head()"
   ]
  },
  {
   "cell_type": "code",
   "execution_count": null,
   "id": "24936051",
   "metadata": {
    "id": "24936051",
    "outputId": "efe31d6a-b00b-4ee1-85f2-510ed758f119"
   },
   "outputs": [
    {
     "data": {
      "text/plain": [
       "(1181, 3)"
      ]
     },
     "execution_count": 102,
     "metadata": {},
     "output_type": "execute_result"
    }
   ],
   "source": [
    "df5.shape"
   ]
  },
  {
   "cell_type": "code",
   "execution_count": null,
   "id": "ec5eca65",
   "metadata": {
    "id": "ec5eca65"
   },
   "outputs": [],
   "source": [
    "df5.to_csv('data/foodyData5.csv')"
   ]
  },
  {
   "cell_type": "markdown",
   "id": "97c35581",
   "metadata": {
    "id": "97c35581"
   },
   "source": [
    "## Data scraping 6"
   ]
  },
  {
   "cell_type": "code",
   "execution_count": null,
   "id": "b2b6e739",
   "metadata": {
    "id": "b2b6e739",
    "outputId": "f277f26a-6c44-49b4-e097-ebc29f4dc8bf"
   },
   "outputs": [
    {
     "name": "stderr",
     "output_type": "stream",
     "text": [
      "/var/folders/75/xh20dgfj413gnh1kwq6jslz00000gn/T/ipykernel_4170/4197858552.py:9: DeprecationWarning: find_elements_by_* commands are deprecated. Please use find_elements() instead\n",
      "  driver.find_elements_by_class_name('fd-btn-more')[0].click()  #load more\n",
      "/var/folders/75/xh20dgfj413gnh1kwq6jslz00000gn/T/ipykernel_4170/4197858552.py:15: DeprecationWarning: find_elements_by_* commands are deprecated. Please use find_elements() instead\n",
      "  review = driver.find_elements_by_xpath(\"//div[contains(@class,'rd-des')]/span\") #get reviews\n",
      "/var/folders/75/xh20dgfj413gnh1kwq6jslz00000gn/T/ipykernel_4170/4197858552.py:16: DeprecationWarning: find_elements_by_* commands are deprecated. Please use find_elements() instead\n",
      "  score = driver.find_elements_by_xpath(\"//div[contains(@class,'review-points')]/span\") #get score\n"
     ]
    }
   ],
   "source": [
    "# data scraping 100 nhà hàng tiếp theo [500:600]\n",
    "reviews_all = []\n",
    "scores_all = []\n",
    "res_names_all = []\n",
    "for e in range(500,600):\n",
    "    driver.get(links_bl_load[e])\n",
    "    for i in range (1,50):\n",
    "        try:\n",
    "            driver.find_elements_by_class_name('fd-btn-more')[0].click()  #load more \n",
    "            sleep(2)\n",
    "        except IndexError:\n",
    "            pass\n",
    "        continue\n",
    "\n",
    "    review = driver.find_elements_by_xpath(\"//div[contains(@class,'rd-des')]/span\") #get reviews\n",
    "    score = driver.find_elements_by_xpath(\"//div[contains(@class,'review-points')]/span\") #get score\n",
    "    reviews = [x.text for x in review]\n",
    "    scores = [x.text for x in score]\n",
    "    res_names_dup = [res_names_load[e]] * min(len(reviews),len(scores[:-1]))\n",
    "    # append\n",
    "    reviews_all.append(reviews)\n",
    "    scores_all.append(scores[:-1])\n",
    "    res_names_all.append(res_names_dup)"
   ]
  },
  {
   "cell_type": "code",
   "execution_count": null,
   "id": "ab94a2d9",
   "metadata": {
    "id": "ab94a2d9",
    "outputId": "01d0400b-6032-42f0-e845-97f8b780a30c"
   },
   "outputs": [
    {
     "name": "stdout",
     "output_type": "stream",
     "text": [
      "2215 2215 2215\n"
     ]
    }
   ],
   "source": [
    "# flat the lists and check their length\n",
    "res_names_all2 = sum(res_names_all, [])\n",
    "reviews_all2 = sum(reviews_all, [])\n",
    "scores_all2 = sum(scores_all, [])\n",
    "print(len(reviews_all2), len(scores_all2), len(res_names_all2))"
   ]
  },
  {
   "cell_type": "code",
   "execution_count": null,
   "id": "2ff23e2b",
   "metadata": {
    "id": "2ff23e2b",
    "outputId": "1a45eda9-51c0-4857-8bdf-cde1fd1e606b"
   },
   "outputs": [
    {
     "data": {
      "text/html": [
       "<div>\n",
       "<style scoped>\n",
       "    .dataframe tbody tr th:only-of-type {\n",
       "        vertical-align: middle;\n",
       "    }\n",
       "\n",
       "    .dataframe tbody tr th {\n",
       "        vertical-align: top;\n",
       "    }\n",
       "\n",
       "    .dataframe thead th {\n",
       "        text-align: right;\n",
       "    }\n",
       "</style>\n",
       "<table border=\"1\" class=\"dataframe\">\n",
       "  <thead>\n",
       "    <tr style=\"text-align: right;\">\n",
       "      <th></th>\n",
       "      <th>name</th>\n",
       "      <th>review_text</th>\n",
       "      <th>review_score</th>\n",
       "    </tr>\n",
       "  </thead>\n",
       "  <tbody>\n",
       "    <tr>\n",
       "      <th>0</th>\n",
       "      <td>Quán Cơm 2 Món - Âu Cơ</td>\n",
       "      <td>Mở hộp cơm ra thấy con sâu còn nghoe nguẩy. Ch...</td>\n",
       "      <td>1.0</td>\n",
       "    </tr>\n",
       "    <tr>\n",
       "      <th>1</th>\n",
       "      <td>Quán Cơm 2 Món - Âu Cơ</td>\n",
       "      <td>Mình mua tại quán, quán bự mà món ăn nhìn khôn...</td>\n",
       "      <td>4.2</td>\n",
       "    </tr>\n",
       "    <tr>\n",
       "      <th>2</th>\n",
       "      <td>Quán Cơm 2 Món - Âu Cơ</td>\n",
       "      <td>- Cơm ngon , món đậm đà , thường cho thêm rau ...</td>\n",
       "      <td>9.2</td>\n",
       "    </tr>\n",
       "    <tr>\n",
       "      <th>3</th>\n",
       "      <td>Quán Cơm 2 Món - Âu Cơ</td>\n",
       "      <td>Mình đã sợ nên ghi chú rất rỏ ràng yêu cầu đổi...</td>\n",
       "      <td>2.6</td>\n",
       "    </tr>\n",
       "    <tr>\n",
       "      <th>4</th>\n",
       "      <td>Quán Cơm 2 Món - Âu Cơ</td>\n",
       "      <td>Quán tuy nhỏ nhưng chất lương ok , mình ăn từ ...</td>\n",
       "      <td>10</td>\n",
       "    </tr>\n",
       "  </tbody>\n",
       "</table>\n",
       "</div>"
      ],
      "text/plain": [
       "                     name                                        review_text  \\\n",
       "0  Quán Cơm 2 Món - Âu Cơ  Mở hộp cơm ra thấy con sâu còn nghoe nguẩy. Ch...   \n",
       "1  Quán Cơm 2 Món - Âu Cơ  Mình mua tại quán, quán bự mà món ăn nhìn khôn...   \n",
       "2  Quán Cơm 2 Món - Âu Cơ  - Cơm ngon , món đậm đà , thường cho thêm rau ...   \n",
       "3  Quán Cơm 2 Món - Âu Cơ  Mình đã sợ nên ghi chú rất rỏ ràng yêu cầu đổi...   \n",
       "4  Quán Cơm 2 Món - Âu Cơ  Quán tuy nhỏ nhưng chất lương ok , mình ăn từ ...   \n",
       "\n",
       "  review_score  \n",
       "0          1.0  \n",
       "1          4.2  \n",
       "2          9.2  \n",
       "3          2.6  \n",
       "4           10  "
      ]
     },
     "execution_count": 109,
     "metadata": {},
     "output_type": "execute_result"
    }
   ],
   "source": [
    "# Create dataframe and save to csv file\n",
    "dict_foody6 = {'name':res_names_all2,\n",
    "                'review_text':reviews_all2,\n",
    "                'review_score': scores_all2}\n",
    "df6 = pd.DataFrame(dict_foody6)\n",
    "df6.head()"
   ]
  },
  {
   "cell_type": "code",
   "execution_count": null,
   "id": "9e4b48c1",
   "metadata": {
    "id": "9e4b48c1"
   },
   "outputs": [],
   "source": [
    "df6.shape"
   ]
  },
  {
   "cell_type": "code",
   "execution_count": null,
   "id": "ca7940e4",
   "metadata": {
    "id": "ca7940e4"
   },
   "outputs": [],
   "source": [
    "df6.to_csv('data/foodyData6.csv')"
   ]
  },
  {
   "cell_type": "code",
   "execution_count": null,
   "id": "651db99e",
   "metadata": {
    "id": "651db99e"
   },
   "outputs": [],
   "source": []
  },
  {
   "cell_type": "code",
   "execution_count": null,
   "id": "5ce53676",
   "metadata": {
    "id": "5ce53676"
   },
   "outputs": [],
   "source": []
  },
  {
   "cell_type": "code",
   "execution_count": null,
   "id": "f8f5b40c",
   "metadata": {
    "id": "f8f5b40c"
   },
   "outputs": [],
   "source": []
  },
  {
   "cell_type": "code",
   "execution_count": null,
   "id": "3c5d91b6",
   "metadata": {
    "id": "3c5d91b6"
   },
   "outputs": [],
   "source": []
  },
  {
   "cell_type": "markdown",
   "id": "D48W-2x-WLrm",
   "metadata": {
    "id": "D48W-2x-WLrm"
   },
   "source": [
    "# Foody_Hanoi"
   ]
  },
  {
   "cell_type": "markdown",
   "id": "fQx8y2EfWUnA",
   "metadata": {
    "id": "fQx8y2EfWUnA"
   },
   "source": [
    "# 1. Get links and names of restaurant"
   ]
  },
  {
   "cell_type": "code",
   "execution_count": null,
   "id": "cefa4d8f",
   "metadata": {
    "id": "cefa4d8f"
   },
   "outputs": [],
   "source": [
    "driver.get('https://www.foody.vn/ha-noi')"
   ]
  },
  {
   "cell_type": "code",
   "execution_count": null,
   "id": "9e65a506",
   "metadata": {
    "id": "9e65a506",
    "outputId": "1d01bc28-9293-44e5-faf1-460e7a193f03"
   },
   "outputs": [
    {
     "name": "stderr",
     "output_type": "stream",
     "text": [
      "/var/folders/75/xh20dgfj413gnh1kwq6jslz00000gn/T/ipykernel_4170/2824142087.py:4: DeprecationWarning: find_elements_by_* commands are deprecated. Please use find_elements() instead\n",
      "  driver.find_elements_by_class_name('fd-btn-more')[0].click()\n",
      "/var/folders/75/xh20dgfj413gnh1kwq6jslz00000gn/T/ipykernel_4170/2824142087.py:9: DeprecationWarning: find_elements_by_* commands are deprecated. Please use find_elements() instead\n",
      "  res = driver.find_elements_by_xpath(\"//div[contains(@class,'fd-text-ellip')]/a\")\n"
     ]
    }
   ],
   "source": [
    "# lấy tên và link của các nhà hàng\n",
    "for i in range (1,50):\n",
    "    try:\n",
    "        driver.find_elements_by_class_name('fd-btn-more')[0].click()\n",
    "        sleep(2)\n",
    "    except IndexError:\n",
    "        pass\n",
    "    continue\n",
    "res = driver.find_elements_by_xpath(\"//div[contains(@class,'fd-text-ellip')]/a\")\n",
    "res_names = [x.text for x in res]\n",
    "links = [x.get_attribute('href') for x in res]"
   ]
  },
  {
   "cell_type": "code",
   "execution_count": null,
   "id": "a0525ff3",
   "metadata": {
    "id": "a0525ff3",
    "outputId": "2b7715d4-7696-44d5-9a24-5ba0cd74472a"
   },
   "outputs": [
    {
     "name": "stdout",
     "output_type": "stream",
     "text": [
      "Số lượng nhà hàng 600\n"
     ]
    },
    {
     "data": {
      "text/plain": [
       "['Lemon House - Hà Đông',\n",
       " 'Pilot Restaurant - Lạc Long Quân',\n",
       " 'El Gaucho Steakhouse - Tràng Tiền',\n",
       " 'Xuân Chu Vườn - Lệ Mật',\n",
       " 'Quán Huế - Bún Bò Huế - Nguyễn Trãi']"
      ]
     },
     "execution_count": 142,
     "metadata": {},
     "output_type": "execute_result"
    }
   ],
   "source": [
    "print('Số lượng nhà hàng',len(res_names))\n",
    "res_names[:5]"
   ]
  },
  {
   "cell_type": "code",
   "execution_count": null,
   "id": "7880e57c",
   "metadata": {
    "id": "7880e57c",
    "outputId": "3557ef8c-d37c-426f-aeba-883cff210218"
   },
   "outputs": [
    {
     "name": "stdout",
     "output_type": "stream",
     "text": [
      "Số lượng link: 600\n"
     ]
    },
    {
     "data": {
      "text/plain": [
       "['https://www.foody.vn/ha-noi/lemon-house-ha-dong/binh-luan',\n",
       " 'https://www.foody.vn/ha-noi/pilot-restaurant-lac-long-quan/binh-luan',\n",
       " 'https://www.foody.vn/ha-noi/el-gaucho-steakhouse-trang-tien/binh-luan',\n",
       " 'https://www.foody.vn/ha-noi/xuan-chu-vuon-le-mat/binh-luan',\n",
       " 'https://www.foody.vn/ha-noi/quan-hue-bun-bo-hue-nguyen-trai.yaz7bm/binh-luan']"
      ]
     },
     "execution_count": 143,
     "metadata": {},
     "output_type": "execute_result"
    }
   ],
   "source": [
    "# add thêm '/binh-luan' ở cuối link để truy cập vào phần bình luận của mỗi nhà hàng\n",
    "links_bl = []\n",
    "for l in links:\n",
    "    links_bl.append(l +'/binh-luan')\n",
    "print('Số lượng link:',len(links_bl))\n",
    "links_bl[:5]"
   ]
  },
  {
   "cell_type": "code",
   "execution_count": null,
   "id": "8b731381",
   "metadata": {
    "id": "8b731381"
   },
   "outputs": [],
   "source": [
    "# Save results to csv\n",
    "with open('data/foody_links_bl2.csv', 'wt') as myfile:\n",
    "    wr = csv.writer(myfile, quoting=csv.QUOTE_ALL)\n",
    "    wr.writerow(links_bl)\n",
    "\n",
    "with open('data/foody_res_names2.csv', 'wt') as myfile:\n",
    "    wr = csv.writer(myfile, quoting=csv.QUOTE_ALL)\n",
    "    wr.writerow(res_names)"
   ]
  },
  {
   "cell_type": "markdown",
   "id": "gKV-CfJ5Wdsp",
   "metadata": {
    "id": "gKV-CfJ5Wdsp"
   },
   "source": [
    "# 2. Review & Score craping"
   ]
  },
  {
   "cell_type": "code",
   "execution_count": null,
   "id": "24e00b14",
   "metadata": {
    "id": "24e00b14",
    "outputId": "ffd27069-f649-41a7-d278-e319e1a37b89"
   },
   "outputs": [
    {
     "data": {
      "text/plain": [
       "['https://www.foody.vn/ha-noi/lemon-house-ha-dong/binh-luan',\n",
       " 'https://www.foody.vn/ha-noi/pilot-restaurant-lac-long-quan/binh-luan',\n",
       " 'https://www.foody.vn/ha-noi/el-gaucho-steakhouse-trang-tien/binh-luan',\n",
       " 'https://www.foody.vn/ha-noi/xuan-chu-vuon-le-mat/binh-luan',\n",
       " 'https://www.foody.vn/ha-noi/quan-hue-bun-bo-hue-nguyen-trai.yaz7bm/binh-luan']"
      ]
     },
     "execution_count": 145,
     "metadata": {},
     "output_type": "execute_result"
    }
   ],
   "source": [
    "# load links\n",
    "links_bl_load = pd.read_csv('data/foody_links_bl2.csv', header=None)\n",
    "links_bl_load = list(links_bl_load.iloc[0,:].values)\n",
    "links_bl_load[:5]"
   ]
  },
  {
   "cell_type": "code",
   "execution_count": null,
   "id": "3a7fa027",
   "metadata": {
    "id": "3a7fa027"
   },
   "outputs": [],
   "source": [
    "# load restaurant names\n",
    "res_names_load = pd.read_csv('data/foody_res_names.csv', header=None)\n",
    "res_names_load = list(res_names_load.iloc[0,:].values)\n",
    "res_names_load[:5]"
   ]
  },
  {
   "cell_type": "code",
   "execution_count": null,
   "id": "8e2970e6",
   "metadata": {
    "id": "8e2970e6",
    "outputId": "1ce3f258-3b0e-42e2-e966-f511a6847fb1"
   },
   "outputs": [
    {
     "data": {
      "text/plain": [
       "(600, 600)"
      ]
     },
     "execution_count": 146,
     "metadata": {},
     "output_type": "execute_result"
    }
   ],
   "source": [
    "len(links_bl_load), len(res_names_load)"
   ]
  },
  {
   "cell_type": "markdown",
   "id": "-wX6W5UJWjJ3",
   "metadata": {
    "id": "-wX6W5UJWjJ3"
   },
   "source": [
    "## Data scraping 7"
   ]
  },
  {
   "cell_type": "code",
   "execution_count": null,
   "id": "4f032dee",
   "metadata": {
    "id": "4f032dee",
    "outputId": "6f438b1d-43a3-4b1e-d97b-91fb0324d54f"
   },
   "outputs": [
    {
     "name": "stderr",
     "output_type": "stream",
     "text": [
      "/var/folders/75/xh20dgfj413gnh1kwq6jslz00000gn/T/ipykernel_4170/1078799695.py:9: DeprecationWarning: find_elements_by_* commands are deprecated. Please use find_elements() instead\n",
      "  driver.find_elements_by_class_name('fd-btn-more')[0].click()  #load more\n",
      "/var/folders/75/xh20dgfj413gnh1kwq6jslz00000gn/T/ipykernel_4170/1078799695.py:15: DeprecationWarning: find_elements_by_* commands are deprecated. Please use find_elements() instead\n",
      "  review = driver.find_elements_by_xpath(\"//div[contains(@class,'rd-des')]/span\") #get reviews\n",
      "/var/folders/75/xh20dgfj413gnh1kwq6jslz00000gn/T/ipykernel_4170/1078799695.py:16: DeprecationWarning: find_elements_by_* commands are deprecated. Please use find_elements() instead\n",
      "  score = driver.find_elements_by_xpath(\"//div[contains(@class,'review-points')]/span\") #get score\n"
     ]
    }
   ],
   "source": [
    "# data scraping 100 nhà hàng đầu tiên [0:100]\n",
    "reviews_all = []\n",
    "scores_all = []\n",
    "res_names_all = []\n",
    "for e in range(0,100):\n",
    "    driver.get(links_bl_load[e])\n",
    "    for i in range (1,50):\n",
    "        try:\n",
    "            driver.find_elements_by_class_name('fd-btn-more')[0].click()  #load more \n",
    "            sleep(2)\n",
    "        except IndexError:\n",
    "            pass\n",
    "        continue\n",
    "\n",
    "    review = driver.find_elements_by_xpath(\"//div[contains(@class,'rd-des')]/span\") #get reviews\n",
    "    score = driver.find_elements_by_xpath(\"//div[contains(@class,'review-points')]/span\") #get score\n",
    "    reviews = [x.text for x in review]\n",
    "    scores = [x.text for x in score]\n",
    "    res_names_dup = [res_names_load[e]] * min(len(reviews),len(scores[:-1]))\n",
    "    # append\n",
    "    reviews_all.append(reviews)\n",
    "    scores_all.append(scores[:-1])\n",
    "    res_names_all.append(res_names_dup)"
   ]
  },
  {
   "cell_type": "code",
   "execution_count": null,
   "id": "6eb2fcd8",
   "metadata": {
    "id": "6eb2fcd8",
    "outputId": "29e7ead3-438b-4347-d785-daf1e3db9df2"
   },
   "outputs": [
    {
     "name": "stdout",
     "output_type": "stream",
     "text": [
      "1745 1744 1744\n"
     ]
    }
   ],
   "source": [
    "# flat the lists and check their length\n",
    "res_names_all2 = sum(res_names_all, [])\n",
    "reviews_all2 = sum(reviews_all, [])\n",
    "scores_all2 = sum(scores_all, [])\n",
    "print(len(reviews_all2), len(scores_all2), len(res_names_all2))"
   ]
  },
  {
   "cell_type": "code",
   "execution_count": null,
   "id": "d0064b3d",
   "metadata": {
    "id": "d0064b3d"
   },
   "outputs": [],
   "source": [
    "# dictionary_products\n",
    "dictionary_test1 = {'name':res_names_all,\n",
    "                      'review_text':reviews_all,\n",
    "                      'review_score': scores_all}\n",
    "df_test1 = pd.DataFrame(dictionary_test1)"
   ]
  },
  {
   "cell_type": "code",
   "execution_count": null,
   "id": "6962111f",
   "metadata": {
    "id": "6962111f"
   },
   "outputs": [],
   "source": [
    "df_test1['len_review'] = df_test1.review_text.apply(lambda x: len(x))\n",
    "df_test1['len_score'] = df_test1.review_score.apply(lambda x: len(x))"
   ]
  },
  {
   "cell_type": "code",
   "execution_count": null,
   "id": "6b2e17f8",
   "metadata": {
    "id": "6b2e17f8",
    "outputId": "90b68405-67d0-4718-e70b-c95bb434ebf4"
   },
   "outputs": [
    {
     "data": {
      "text/html": [
       "<div>\n",
       "<style scoped>\n",
       "    .dataframe tbody tr th:only-of-type {\n",
       "        vertical-align: middle;\n",
       "    }\n",
       "\n",
       "    .dataframe tbody tr th {\n",
       "        vertical-align: top;\n",
       "    }\n",
       "\n",
       "    .dataframe thead th {\n",
       "        text-align: right;\n",
       "    }\n",
       "</style>\n",
       "<table border=\"1\" class=\"dataframe\">\n",
       "  <thead>\n",
       "    <tr style=\"text-align: right;\">\n",
       "      <th></th>\n",
       "      <th>name</th>\n",
       "      <th>review_text</th>\n",
       "      <th>review_score</th>\n",
       "      <th>len_review</th>\n",
       "      <th>len_score</th>\n",
       "    </tr>\n",
       "  </thead>\n",
       "  <tbody>\n",
       "    <tr>\n",
       "      <th>0</th>\n",
       "      <td>[Chícc Chícc - Gà Rán Hàn Quốc]</td>\n",
       "      <td>[Các món đều khá ngon ở mức giá 20-25k. Bánh t...</td>\n",
       "      <td>[5.0]</td>\n",
       "      <td>1</td>\n",
       "      <td>1</td>\n",
       "    </tr>\n",
       "    <tr>\n",
       "      <th>1</th>\n",
       "      <td>[Thành Mập - Chân Gà Rút Xương Ngâm Sả Tắc - B...</td>\n",
       "      <td>[Đang thấy quán được review sống ảo nhiều nên ...</td>\n",
       "      <td>[6.4, 9.0]</td>\n",
       "      <td>2</td>\n",
       "      <td>2</td>\n",
       "    </tr>\n",
       "    <tr>\n",
       "      <th>2</th>\n",
       "      <td>[TocoToco Bubble Tea - Phạm Hùng, TocoToco Bub...</td>\n",
       "      <td>[2 cảm giác đầu tiên khi vào quán là anh béo q...</td>\n",
       "      <td>[8.2, 8.2, 8.0, 6.6, 6.4, 7.2, 7.6, 7.6, 8.8, ...</td>\n",
       "      <td>36</td>\n",
       "      <td>36</td>\n",
       "    </tr>\n",
       "    <tr>\n",
       "      <th>3</th>\n",
       "      <td>[2 Béo - Bánh Sầu Riêng - Shop Online, 2 Béo -...</td>\n",
       "      <td>[Ở đây chuyên đặc sản về rắn :)) còn đc xem bi...</td>\n",
       "      <td>[8.0, 7.2, 7.2]</td>\n",
       "      <td>3</td>\n",
       "      <td>3</td>\n",
       "    </tr>\n",
       "    <tr>\n",
       "      <th>4</th>\n",
       "      <td>[Bánh 9 Sạch - Bánh Sầu Riêng - Shop Online, B...</td>\n",
       "      <td>[Nay mình lên Now để đặt bún bò và có đặt thêm...</td>\n",
       "      <td>[9.6, 10, 9.8, 10, 10]</td>\n",
       "      <td>5</td>\n",
       "      <td>5</td>\n",
       "    </tr>\n",
       "  </tbody>\n",
       "</table>\n",
       "</div>"
      ],
      "text/plain": [
       "                                                name  \\\n",
       "0                    [Chícc Chícc - Gà Rán Hàn Quốc]   \n",
       "1  [Thành Mập - Chân Gà Rút Xương Ngâm Sả Tắc - B...   \n",
       "2  [TocoToco Bubble Tea - Phạm Hùng, TocoToco Bub...   \n",
       "3  [2 Béo - Bánh Sầu Riêng - Shop Online, 2 Béo -...   \n",
       "4  [Bánh 9 Sạch - Bánh Sầu Riêng - Shop Online, B...   \n",
       "\n",
       "                                         review_text  \\\n",
       "0  [Các món đều khá ngon ở mức giá 20-25k. Bánh t...   \n",
       "1  [Đang thấy quán được review sống ảo nhiều nên ...   \n",
       "2  [2 cảm giác đầu tiên khi vào quán là anh béo q...   \n",
       "3  [Ở đây chuyên đặc sản về rắn :)) còn đc xem bi...   \n",
       "4  [Nay mình lên Now để đặt bún bò và có đặt thêm...   \n",
       "\n",
       "                                        review_score  len_review  len_score  \n",
       "0                                              [5.0]           1          1  \n",
       "1                                         [6.4, 9.0]           2          2  \n",
       "2  [8.2, 8.2, 8.0, 6.6, 6.4, 7.2, 7.6, 7.6, 8.8, ...          36         36  \n",
       "3                                    [8.0, 7.2, 7.2]           3          3  \n",
       "4                             [9.6, 10, 9.8, 10, 10]           5          5  "
      ]
     },
     "execution_count": 151,
     "metadata": {},
     "output_type": "execute_result"
    }
   ],
   "source": [
    "df_test1.head()"
   ]
  },
  {
   "cell_type": "code",
   "execution_count": null,
   "id": "a249371b",
   "metadata": {
    "id": "a249371b",
    "outputId": "60e375e1-f2ab-4bff-fe41-805b212d5a50"
   },
   "outputs": [
    {
     "data": {
      "text/html": [
       "<div>\n",
       "<style scoped>\n",
       "    .dataframe tbody tr th:only-of-type {\n",
       "        vertical-align: middle;\n",
       "    }\n",
       "\n",
       "    .dataframe tbody tr th {\n",
       "        vertical-align: top;\n",
       "    }\n",
       "\n",
       "    .dataframe thead th {\n",
       "        text-align: right;\n",
       "    }\n",
       "</style>\n",
       "<table border=\"1\" class=\"dataframe\">\n",
       "  <thead>\n",
       "    <tr style=\"text-align: right;\">\n",
       "      <th></th>\n",
       "      <th>name</th>\n",
       "      <th>review_text</th>\n",
       "      <th>review_score</th>\n",
       "      <th>len_review</th>\n",
       "      <th>len_score</th>\n",
       "    </tr>\n",
       "  </thead>\n",
       "  <tbody>\n",
       "    <tr>\n",
       "      <th>72</th>\n",
       "      <td>[Ole Restaurant Sài Gòn, Ole Restaurant Sài Gò...</td>\n",
       "      <td>[Thèm thịt là ghé ngay Gogi, đó là 1 thói quen...</td>\n",
       "      <td>[9.8, 8.4, 9.8, 10, 2.4, 10, 10, 10, 10, 10, 9...</td>\n",
       "      <td>17</td>\n",
       "      <td>16</td>\n",
       "    </tr>\n",
       "  </tbody>\n",
       "</table>\n",
       "</div>"
      ],
      "text/plain": [
       "                                                 name  \\\n",
       "72  [Ole Restaurant Sài Gòn, Ole Restaurant Sài Gò...   \n",
       "\n",
       "                                          review_text  \\\n",
       "72  [Thèm thịt là ghé ngay Gogi, đó là 1 thói quen...   \n",
       "\n",
       "                                         review_score  len_review  len_score  \n",
       "72  [9.8, 8.4, 9.8, 10, 2.4, 10, 10, 10, 10, 10, 9...          17         16  "
      ]
     },
     "execution_count": 153,
     "metadata": {},
     "output_type": "execute_result"
    }
   ],
   "source": [
    "# tìm nhà hàng có len_review và len_score không bằng nhau\n",
    "x = df_test1[df_test1['len_review']!=df_test1['len_score'] ]\n",
    "x"
   ]
  },
  {
   "cell_type": "markdown",
   "id": "w7BBCkeBvEae",
   "metadata": {
    "id": "w7BBCkeBvEae"
   },
   "source": [
    "drop nhà hàng này"
   ]
  },
  {
   "cell_type": "code",
   "execution_count": null,
   "id": "f52f93ee",
   "metadata": {
    "id": "f52f93ee"
   },
   "outputs": [],
   "source": [
    "del reviews_all[72]"
   ]
  },
  {
   "cell_type": "code",
   "execution_count": null,
   "id": "71a54df7",
   "metadata": {
    "id": "71a54df7"
   },
   "outputs": [],
   "source": [
    "del scores_all[72]"
   ]
  },
  {
   "cell_type": "code",
   "execution_count": null,
   "id": "0415cedc",
   "metadata": {
    "id": "0415cedc"
   },
   "outputs": [],
   "source": [
    "del res_names_all[72]"
   ]
  },
  {
   "cell_type": "code",
   "execution_count": null,
   "id": "08566ef4",
   "metadata": {
    "id": "08566ef4",
    "outputId": "6c9ea6b6-9181-4043-844d-7d8f5e9e26f9"
   },
   "outputs": [
    {
     "name": "stdout",
     "output_type": "stream",
     "text": [
      "1728 1728 1728\n"
     ]
    }
   ],
   "source": [
    "# flat the lists and check their length\n",
    "res_names_all2 = sum(res_names_all, [])\n",
    "reviews_all2 = sum(reviews_all, [])\n",
    "scores_all2 = sum(scores_all, [])\n",
    "print(len(reviews_all2), len(scores_all2), len(res_names_all2))"
   ]
  },
  {
   "cell_type": "code",
   "execution_count": null,
   "id": "cd72d712",
   "metadata": {
    "id": "cd72d712",
    "outputId": "28c78ac7-88cb-4bdc-f1a0-b0bf6737b07c"
   },
   "outputs": [
    {
     "data": {
      "text/html": [
       "<div>\n",
       "<style scoped>\n",
       "    .dataframe tbody tr th:only-of-type {\n",
       "        vertical-align: middle;\n",
       "    }\n",
       "\n",
       "    .dataframe tbody tr th {\n",
       "        vertical-align: top;\n",
       "    }\n",
       "\n",
       "    .dataframe thead th {\n",
       "        text-align: right;\n",
       "    }\n",
       "</style>\n",
       "<table border=\"1\" class=\"dataframe\">\n",
       "  <thead>\n",
       "    <tr style=\"text-align: right;\">\n",
       "      <th></th>\n",
       "      <th>name</th>\n",
       "      <th>review_text</th>\n",
       "      <th>review_score</th>\n",
       "    </tr>\n",
       "  </thead>\n",
       "  <tbody>\n",
       "    <tr>\n",
       "      <th>0</th>\n",
       "      <td>Chícc Chícc - Gà Rán Hàn Quốc</td>\n",
       "      <td>Các món đều khá ngon ở mức giá 20-25k. Bánh tr...</td>\n",
       "      <td>5.0</td>\n",
       "    </tr>\n",
       "    <tr>\n",
       "      <th>1</th>\n",
       "      <td>Thành Mập - Chân Gà Rút Xương Ngâm Sả Tắc - Bạ...</td>\n",
       "      <td>Đang thấy quán được review sống ảo nhiều nên m...</td>\n",
       "      <td>6.4</td>\n",
       "    </tr>\n",
       "    <tr>\n",
       "      <th>2</th>\n",
       "      <td>Thành Mập - Chân Gà Rút Xương Ngâm Sả Tắc - Bạ...</td>\n",
       "      <td>Ngay gần nhà nên là hnay rủ mấy chị đẹp nhà mì...</td>\n",
       "      <td>9.0</td>\n",
       "    </tr>\n",
       "    <tr>\n",
       "      <th>3</th>\n",
       "      <td>TocoToco Bubble Tea - Phạm Hùng</td>\n",
       "      <td>2 cảm giác đầu tiên khi vào quán là anh béo qu...</td>\n",
       "      <td>8.2</td>\n",
       "    </tr>\n",
       "    <tr>\n",
       "      <th>4</th>\n",
       "      <td>TocoToco Bubble Tea - Phạm Hùng</td>\n",
       "      <td>El Gaucho nằm ở vị trí khá đắc địa, trên con đ...</td>\n",
       "      <td>8.2</td>\n",
       "    </tr>\n",
       "  </tbody>\n",
       "</table>\n",
       "</div>"
      ],
      "text/plain": [
       "                                                name  \\\n",
       "0                      Chícc Chícc - Gà Rán Hàn Quốc   \n",
       "1  Thành Mập - Chân Gà Rút Xương Ngâm Sả Tắc - Bạ...   \n",
       "2  Thành Mập - Chân Gà Rút Xương Ngâm Sả Tắc - Bạ...   \n",
       "3                    TocoToco Bubble Tea - Phạm Hùng   \n",
       "4                    TocoToco Bubble Tea - Phạm Hùng   \n",
       "\n",
       "                                         review_text review_score  \n",
       "0  Các món đều khá ngon ở mức giá 20-25k. Bánh tr...          5.0  \n",
       "1  Đang thấy quán được review sống ảo nhiều nên m...          6.4  \n",
       "2  Ngay gần nhà nên là hnay rủ mấy chị đẹp nhà mì...          9.0  \n",
       "3  2 cảm giác đầu tiên khi vào quán là anh béo qu...          8.2  \n",
       "4  El Gaucho nằm ở vị trí khá đắc địa, trên con đ...          8.2  "
      ]
     },
     "execution_count": 159,
     "metadata": {},
     "output_type": "execute_result"
    }
   ],
   "source": [
    "# Create dataframe and save to csv file\n",
    "dict_foody7 = {'name':res_names_all2,\n",
    "                'review_text':reviews_all2,\n",
    "                'review_score': scores_all2}\n",
    "df7 = pd.DataFrame(dict_foody7)\n",
    "df7.head()"
   ]
  },
  {
   "cell_type": "code",
   "execution_count": null,
   "id": "af232a45",
   "metadata": {
    "id": "af232a45",
    "outputId": "2729d1ba-cb1d-44a7-d766-92f718d9f303"
   },
   "outputs": [
    {
     "data": {
      "text/plain": [
       "(1728, 3)"
      ]
     },
     "execution_count": 160,
     "metadata": {},
     "output_type": "execute_result"
    }
   ],
   "source": [
    "df7.shape"
   ]
  },
  {
   "cell_type": "code",
   "execution_count": null,
   "id": "f89d4b48",
   "metadata": {
    "id": "f89d4b48"
   },
   "outputs": [],
   "source": [
    "df7.to_csv('data/foodyData7.csv')"
   ]
  },
  {
   "cell_type": "markdown",
   "id": "-Qp1MFIpWuuI",
   "metadata": {
    "id": "-Qp1MFIpWuuI"
   },
   "source": [
    "## Data scraping 8"
   ]
  },
  {
   "cell_type": "code",
   "execution_count": null,
   "id": "7295523c",
   "metadata": {
    "id": "7295523c",
    "outputId": "325cf7a6-1004-4b00-f445-1022fcdb331f"
   },
   "outputs": [
    {
     "name": "stderr",
     "output_type": "stream",
     "text": [
      "/var/folders/75/xh20dgfj413gnh1kwq6jslz00000gn/T/ipykernel_4170/3014958266.py:9: DeprecationWarning: find_elements_by_* commands are deprecated. Please use find_elements() instead\n",
      "  driver.find_elements_by_class_name('fd-btn-more')[0].click()  #load more\n",
      "/var/folders/75/xh20dgfj413gnh1kwq6jslz00000gn/T/ipykernel_4170/3014958266.py:15: DeprecationWarning: find_elements_by_* commands are deprecated. Please use find_elements() instead\n",
      "  review = driver.find_elements_by_xpath(\"//div[contains(@class,'rd-des')]/span\") #get reviews\n",
      "/var/folders/75/xh20dgfj413gnh1kwq6jslz00000gn/T/ipykernel_4170/3014958266.py:16: DeprecationWarning: find_elements_by_* commands are deprecated. Please use find_elements() instead\n",
      "  score = driver.find_elements_by_xpath(\"//div[contains(@class,'review-points')]/span\") #get score\n"
     ]
    }
   ],
   "source": [
    "# data scraping 100 nhà hàng tiếp theo [100:200]\n",
    "reviews_all = []\n",
    "scores_all = []\n",
    "res_names_all = []\n",
    "for e in range(100,200):\n",
    "    driver.get(links_bl_load[e])\n",
    "    for i in range (1,50):\n",
    "        try:\n",
    "            driver.find_elements_by_class_name('fd-btn-more')[0].click()  #load more \n",
    "            sleep(2)\n",
    "        except IndexError:\n",
    "            pass\n",
    "        continue\n",
    "\n",
    "    review = driver.find_elements_by_xpath(\"//div[contains(@class,'rd-des')]/span\") #get reviews\n",
    "    score = driver.find_elements_by_xpath(\"//div[contains(@class,'review-points')]/span\") #get score\n",
    "    reviews = [x.text for x in review]\n",
    "    scores = [x.text for x in score]\n",
    "    res_names_dup = [res_names_load[e]] * min(len(reviews),len(scores[:-1]))\n",
    "    # append\n",
    "    reviews_all.append(reviews)\n",
    "    scores_all.append(scores[:-1])\n",
    "    res_names_all.append(res_names_dup)"
   ]
  },
  {
   "cell_type": "code",
   "execution_count": null,
   "id": "ce266451",
   "metadata": {
    "id": "ce266451",
    "outputId": "f52f148e-f864-4f1d-fea7-1c417aa51d31"
   },
   "outputs": [
    {
     "name": "stdout",
     "output_type": "stream",
     "text": [
      "1729 1728 1728\n"
     ]
    }
   ],
   "source": [
    "# flat the lists and check their length\n",
    "res_names_all2 = sum(res_names_all, [])\n",
    "reviews_all2 = sum(reviews_all, [])\n",
    "scores_all2 = sum(scores_all, [])\n",
    "print(len(reviews_all2), len(scores_all2), len(res_names_all2))"
   ]
  },
  {
   "cell_type": "code",
   "execution_count": null,
   "id": "cbf5e12f",
   "metadata": {
    "id": "cbf5e12f"
   },
   "outputs": [],
   "source": [
    "# dictionary_products\n",
    "dictionary_test = {'name':res_names_all,\n",
    "                      'review_text':reviews_all,\n",
    "                      'review_score': scores_all}\n",
    "df_test = pd.DataFrame(dictionary_test)\n",
    "df_test['len_review'] = df_test.review_text.apply(lambda x: len(x))\n",
    "df_test['len_score'] = df_test.review_score.apply(lambda x: len(x))"
   ]
  },
  {
   "cell_type": "code",
   "execution_count": null,
   "id": "90aa6338",
   "metadata": {
    "id": "90aa6338",
    "outputId": "bc914716-3ef8-435e-8408-96d6c988aa3d"
   },
   "outputs": [
    {
     "data": {
      "text/html": [
       "<div>\n",
       "<style scoped>\n",
       "    .dataframe tbody tr th:only-of-type {\n",
       "        vertical-align: middle;\n",
       "    }\n",
       "\n",
       "    .dataframe tbody tr th {\n",
       "        vertical-align: top;\n",
       "    }\n",
       "\n",
       "    .dataframe thead th {\n",
       "        text-align: right;\n",
       "    }\n",
       "</style>\n",
       "<table border=\"1\" class=\"dataframe\">\n",
       "  <thead>\n",
       "    <tr style=\"text-align: right;\">\n",
       "      <th></th>\n",
       "      <th>name</th>\n",
       "      <th>review_text</th>\n",
       "      <th>review_score</th>\n",
       "      <th>len_review</th>\n",
       "      <th>len_score</th>\n",
       "    </tr>\n",
       "  </thead>\n",
       "  <tbody>\n",
       "    <tr>\n",
       "      <th>77</th>\n",
       "      <td>[Teng Teng - Taiwan Tea - Cây Keo, Teng Teng -...</td>\n",
       "      <td>[Lâu không đi ăn bánh cuốn nóng Hà Nội phố.hô...</td>\n",
       "      <td>[10, 7.6, 6.4, 6.0, 5.6, 1.0, 4.6, 10, 1.0, 5....</td>\n",
       "      <td>44</td>\n",
       "      <td>43</td>\n",
       "    </tr>\n",
       "  </tbody>\n",
       "</table>\n",
       "</div>"
      ],
      "text/plain": [
       "                                                 name  \\\n",
       "77  [Teng Teng - Taiwan Tea - Cây Keo, Teng Teng -...   \n",
       "\n",
       "                                          review_text  \\\n",
       "77  [Lâu không đi ăn bánh cuốn nóng Hà Nội phố.hô...   \n",
       "\n",
       "                                         review_score  len_review  len_score  \n",
       "77  [10, 7.6, 6.4, 6.0, 5.6, 1.0, 4.6, 10, 1.0, 5....          44         43  "
      ]
     },
     "execution_count": 166,
     "metadata": {},
     "output_type": "execute_result"
    }
   ],
   "source": [
    "# tìm nhà hàng có len_review và len_score không bằng nhau\n",
    "df_test[df_test['len_review']!=df_test['len_score'] ]"
   ]
  },
  {
   "cell_type": "code",
   "execution_count": null,
   "id": "fe61c681",
   "metadata": {
    "id": "fe61c681"
   },
   "outputs": [],
   "source": [
    "# reviews_all[77]\n",
    "# scores_all[77]\n",
    "# res_names_all[77]"
   ]
  },
  {
   "cell_type": "code",
   "execution_count": null,
   "id": "618f15a8",
   "metadata": {
    "id": "618f15a8"
   },
   "outputs": [],
   "source": [
    "del reviews_all[77]\n",
    "del scores_all[77]\n",
    "del res_names_all[77]"
   ]
  },
  {
   "cell_type": "code",
   "execution_count": null,
   "id": "87496c1c",
   "metadata": {
    "id": "87496c1c",
    "outputId": "36ad6e3a-0618-48f4-b474-a4a0f3712033"
   },
   "outputs": [
    {
     "name": "stdout",
     "output_type": "stream",
     "text": [
      "1685 1685 1685\n"
     ]
    }
   ],
   "source": [
    "# flat the lists and check their length\n",
    "res_names_all2 = sum(res_names_all, [])\n",
    "reviews_all2 = sum(reviews_all, [])\n",
    "scores_all2 = sum(scores_all, [])\n",
    "print(len(reviews_all2), len(scores_all2), len(res_names_all2))"
   ]
  },
  {
   "cell_type": "code",
   "execution_count": null,
   "id": "86053935",
   "metadata": {
    "id": "86053935",
    "outputId": "2e535038-038e-4673-8fde-2443e309a0e7"
   },
   "outputs": [
    {
     "data": {
      "text/html": [
       "<div>\n",
       "<style scoped>\n",
       "    .dataframe tbody tr th:only-of-type {\n",
       "        vertical-align: middle;\n",
       "    }\n",
       "\n",
       "    .dataframe tbody tr th {\n",
       "        vertical-align: top;\n",
       "    }\n",
       "\n",
       "    .dataframe thead th {\n",
       "        text-align: right;\n",
       "    }\n",
       "</style>\n",
       "<table border=\"1\" class=\"dataframe\">\n",
       "  <thead>\n",
       "    <tr style=\"text-align: right;\">\n",
       "      <th></th>\n",
       "      <th>name</th>\n",
       "      <th>review_text</th>\n",
       "      <th>review_score</th>\n",
       "    </tr>\n",
       "  </thead>\n",
       "  <tbody>\n",
       "    <tr>\n",
       "      <th>0</th>\n",
       "      <td>Trà Sữa Feeling Tea - Đường 3 Tháng 2</td>\n",
       "      <td>Thật sự đã đi ngủ rồi nhưng cảm thấy đói bực q...</td>\n",
       "      <td>1.0</td>\n",
       "    </tr>\n",
       "    <tr>\n",
       "      <th>1</th>\n",
       "      <td>Trà Sữa Feeling Tea - Đường 3 Tháng 2</td>\n",
       "      <td>Chất lượng đồ ăn thì cảm thấy tạm, không có gì...</td>\n",
       "      <td>5.8</td>\n",
       "    </tr>\n",
       "    <tr>\n",
       "      <th>2</th>\n",
       "      <td>Trà Sữa Feeling Tea - Đường 3 Tháng 2</td>\n",
       "      <td>Mình rất thích đồ nhật và đã ăn ở nhiều nhà hà...</td>\n",
       "      <td>4.0</td>\n",
       "    </tr>\n",
       "    <tr>\n",
       "      <th>3</th>\n",
       "      <td>Trà Sữa Feeling Tea - Đường 3 Tháng 2</td>\n",
       "      <td>Hồi trước đó ăn Sushi Kei thì toàn ăn những th...</td>\n",
       "      <td>8.2</td>\n",
       "    </tr>\n",
       "    <tr>\n",
       "      <th>4</th>\n",
       "      <td>Trà Sữa Feeling Tea - Đường 3 Tháng 2</td>\n",
       "      <td>menu rất phong phú, đa dạng, giá cả lại hợp lí...</td>\n",
       "      <td>8.6</td>\n",
       "    </tr>\n",
       "  </tbody>\n",
       "</table>\n",
       "</div>"
      ],
      "text/plain": [
       "                                    name  \\\n",
       "0  Trà Sữa Feeling Tea - Đường 3 Tháng 2   \n",
       "1  Trà Sữa Feeling Tea - Đường 3 Tháng 2   \n",
       "2  Trà Sữa Feeling Tea - Đường 3 Tháng 2   \n",
       "3  Trà Sữa Feeling Tea - Đường 3 Tháng 2   \n",
       "4  Trà Sữa Feeling Tea - Đường 3 Tháng 2   \n",
       "\n",
       "                                         review_text review_score  \n",
       "0  Thật sự đã đi ngủ rồi nhưng cảm thấy đói bực q...          1.0  \n",
       "1  Chất lượng đồ ăn thì cảm thấy tạm, không có gì...          5.8  \n",
       "2  Mình rất thích đồ nhật và đã ăn ở nhiều nhà hà...          4.0  \n",
       "3  Hồi trước đó ăn Sushi Kei thì toàn ăn những th...          8.2  \n",
       "4  menu rất phong phú, đa dạng, giá cả lại hợp lí...          8.6  "
      ]
     },
     "execution_count": 173,
     "metadata": {},
     "output_type": "execute_result"
    }
   ],
   "source": [
    "# Create dataframe and save to csv file\n",
    "dict_foody8 = {'name':res_names_all2,\n",
    "                'review_text':reviews_all2,\n",
    "                'review_score': scores_all2}\n",
    "df8 = pd.DataFrame(dict_foody8)\n",
    "df8.head()"
   ]
  },
  {
   "cell_type": "code",
   "execution_count": null,
   "id": "87250e3b",
   "metadata": {
    "id": "87250e3b",
    "outputId": "d6f187f1-1ec6-4a44-b256-c2edb69982da"
   },
   "outputs": [
    {
     "data": {
      "text/plain": [
       "(1685, 3)"
      ]
     },
     "execution_count": 174,
     "metadata": {},
     "output_type": "execute_result"
    }
   ],
   "source": [
    "df8.shape"
   ]
  },
  {
   "cell_type": "code",
   "execution_count": null,
   "id": "ab120efb",
   "metadata": {
    "id": "ab120efb"
   },
   "outputs": [],
   "source": [
    "df8.to_csv('data/foodyData8.csv')"
   ]
  },
  {
   "cell_type": "markdown",
   "id": "SmEetHSLW7Iq",
   "metadata": {
    "id": "SmEetHSLW7Iq"
   },
   "source": [
    "## Data scraping 9"
   ]
  },
  {
   "cell_type": "code",
   "execution_count": null,
   "id": "5803e9f7",
   "metadata": {
    "id": "5803e9f7",
    "outputId": "1c6058fa-befc-4336-a6b5-c330dd92907f"
   },
   "outputs": [
    {
     "name": "stderr",
     "output_type": "stream",
     "text": [
      "/var/folders/75/xh20dgfj413gnh1kwq6jslz00000gn/T/ipykernel_4170/910036964.py:9: DeprecationWarning: find_elements_by_* commands are deprecated. Please use find_elements() instead\n",
      "  driver.find_elements_by_class_name('fd-btn-more')[0].click()  #load more\n",
      "/var/folders/75/xh20dgfj413gnh1kwq6jslz00000gn/T/ipykernel_4170/910036964.py:15: DeprecationWarning: find_elements_by_* commands are deprecated. Please use find_elements() instead\n",
      "  review = driver.find_elements_by_xpath(\"//div[contains(@class,'rd-des')]/span\") #get reviews\n",
      "/var/folders/75/xh20dgfj413gnh1kwq6jslz00000gn/T/ipykernel_4170/910036964.py:16: DeprecationWarning: find_elements_by_* commands are deprecated. Please use find_elements() instead\n",
      "  score = driver.find_elements_by_xpath(\"//div[contains(@class,'review-points')]/span\") #get score\n"
     ]
    }
   ],
   "source": [
    "# data scraping 100 nhà hàng tiếp theo [200:300]\n",
    "reviews_all = []\n",
    "scores_all = []\n",
    "res_names_all = []\n",
    "for e in range(200,300):\n",
    "    driver.get(links_bl_load[e])\n",
    "    for i in range (1,50):\n",
    "        try:\n",
    "            driver.find_elements_by_class_name('fd-btn-more')[0].click()  #load more \n",
    "            sleep(2)\n",
    "        except IndexError:\n",
    "            pass\n",
    "        continue\n",
    "\n",
    "    review = driver.find_elements_by_xpath(\"//div[contains(@class,'rd-des')]/span\") #get reviews\n",
    "    score = driver.find_elements_by_xpath(\"//div[contains(@class,'review-points')]/span\") #get score\n",
    "    reviews = [x.text for x in review]\n",
    "    scores = [x.text for x in score]\n",
    "    res_names_dup = [res_names_load[e]] * min(len(reviews),len(scores[:-1]))\n",
    "    # append\n",
    "    reviews_all.append(reviews)\n",
    "    scores_all.append(scores[:-1])\n",
    "    res_names_all.append(res_names_dup)"
   ]
  },
  {
   "cell_type": "code",
   "execution_count": null,
   "id": "cef71dda",
   "metadata": {
    "id": "cef71dda",
    "outputId": "3642cf97-3270-4cca-8fc8-ace7fda215a9"
   },
   "outputs": [
    {
     "name": "stdout",
     "output_type": "stream",
     "text": [
      "1800 1800 1800\n"
     ]
    }
   ],
   "source": [
    "# flat the lists and check their length\n",
    "res_names_all2 = sum(res_names_all, [])\n",
    "reviews_all2 = sum(reviews_all, [])\n",
    "scores_all2 = sum(scores_all, [])\n",
    "print(len(reviews_all2), len(scores_all2), len(res_names_all2))"
   ]
  },
  {
   "cell_type": "code",
   "execution_count": null,
   "id": "ac90b999",
   "metadata": {
    "id": "ac90b999",
    "outputId": "210de655-bf5a-45ec-cb23-05e6bf5784c3"
   },
   "outputs": [
    {
     "data": {
      "text/html": [
       "<div>\n",
       "<style scoped>\n",
       "    .dataframe tbody tr th:only-of-type {\n",
       "        vertical-align: middle;\n",
       "    }\n",
       "\n",
       "    .dataframe tbody tr th {\n",
       "        vertical-align: top;\n",
       "    }\n",
       "\n",
       "    .dataframe thead th {\n",
       "        text-align: right;\n",
       "    }\n",
       "</style>\n",
       "<table border=\"1\" class=\"dataframe\">\n",
       "  <thead>\n",
       "    <tr style=\"text-align: right;\">\n",
       "      <th></th>\n",
       "      <th>name</th>\n",
       "      <th>review_text</th>\n",
       "      <th>review_score</th>\n",
       "    </tr>\n",
       "  </thead>\n",
       "  <tbody>\n",
       "    <tr>\n",
       "      <th>0</th>\n",
       "      <td>Hủ Tiếu Chay Cây Đề - Diệp Minh Châu</td>\n",
       "      <td>Nhà mình hay đãi tiệc ở quán này, đồ ăn ngon l...</td>\n",
       "      <td>9.6</td>\n",
       "    </tr>\n",
       "    <tr>\n",
       "      <th>1</th>\n",
       "      <td>Hủ Tiếu Chay Cây Đề - Diệp Minh Châu</td>\n",
       "      <td>Thấy có những món lạ lạ ở quán mà chưa được th...</td>\n",
       "      <td>9.4</td>\n",
       "    </tr>\n",
       "    <tr>\n",
       "      <th>2</th>\n",
       "      <td>Hủ Tiếu Chay Cây Đề - Diệp Minh Châu</td>\n",
       "      <td>Vài chai beer cùng vài món mồi ngon, ngồi ở Vi...</td>\n",
       "      <td>9.6</td>\n",
       "    </tr>\n",
       "    <tr>\n",
       "      <th>3</th>\n",
       "      <td>Hủ Tiếu Chay Cây Đề - Diệp Minh Châu</td>\n",
       "      <td>Thích thú với những món ngon như lòng cá vitam...</td>\n",
       "      <td>9.2</td>\n",
       "    </tr>\n",
       "    <tr>\n",
       "      <th>4</th>\n",
       "      <td>Hủ Tiếu Chay Cây Đề - Diệp Minh Châu</td>\n",
       "      <td>Tìm được quán nhậu giá cả hợp lý mà không gian...</td>\n",
       "      <td>9.4</td>\n",
       "    </tr>\n",
       "  </tbody>\n",
       "</table>\n",
       "</div>"
      ],
      "text/plain": [
       "                                   name  \\\n",
       "0  Hủ Tiếu Chay Cây Đề - Diệp Minh Châu   \n",
       "1  Hủ Tiếu Chay Cây Đề - Diệp Minh Châu   \n",
       "2  Hủ Tiếu Chay Cây Đề - Diệp Minh Châu   \n",
       "3  Hủ Tiếu Chay Cây Đề - Diệp Minh Châu   \n",
       "4  Hủ Tiếu Chay Cây Đề - Diệp Minh Châu   \n",
       "\n",
       "                                         review_text review_score  \n",
       "0  Nhà mình hay đãi tiệc ở quán này, đồ ăn ngon l...          9.6  \n",
       "1  Thấy có những món lạ lạ ở quán mà chưa được th...          9.4  \n",
       "2  Vài chai beer cùng vài món mồi ngon, ngồi ở Vi...          9.6  \n",
       "3  Thích thú với những món ngon như lòng cá vitam...          9.2  \n",
       "4  Tìm được quán nhậu giá cả hợp lý mà không gian...          9.4  "
      ]
     },
     "execution_count": 178,
     "metadata": {},
     "output_type": "execute_result"
    }
   ],
   "source": [
    "# Create dataframe and save to csv file\n",
    "dict_foody9 = {'name':res_names_all2,\n",
    "                'review_text':reviews_all2,\n",
    "                'review_score': scores_all2}\n",
    "df9 = pd.DataFrame(dict_foody9)\n",
    "df9.head()"
   ]
  },
  {
   "cell_type": "code",
   "execution_count": null,
   "id": "06a7f18c",
   "metadata": {
    "id": "06a7f18c",
    "outputId": "8940e8b6-8c37-4626-ef35-d754390a236f"
   },
   "outputs": [
    {
     "data": {
      "text/plain": [
       "(1800, 3)"
      ]
     },
     "execution_count": 179,
     "metadata": {},
     "output_type": "execute_result"
    }
   ],
   "source": [
    "df9.shape"
   ]
  },
  {
   "cell_type": "code",
   "execution_count": null,
   "id": "f00571ab",
   "metadata": {
    "id": "f00571ab"
   },
   "outputs": [],
   "source": [
    "df9.to_csv('data/foodyData9.csv')"
   ]
  },
  {
   "cell_type": "markdown",
   "id": "WIfgvQFsXDDK",
   "metadata": {
    "id": "WIfgvQFsXDDK"
   },
   "source": [
    "## Data scraping 10"
   ]
  },
  {
   "cell_type": "code",
   "execution_count": null,
   "id": "57eaad2f",
   "metadata": {
    "id": "57eaad2f",
    "outputId": "d1502dc1-3059-4e35-ba2d-f0c307784955"
   },
   "outputs": [
    {
     "name": "stderr",
     "output_type": "stream",
     "text": [
      "/var/folders/75/xh20dgfj413gnh1kwq6jslz00000gn/T/ipykernel_4170/2579985156.py:9: DeprecationWarning: find_elements_by_* commands are deprecated. Please use find_elements() instead\n",
      "  driver.find_elements_by_class_name('fd-btn-more')[0].click()  #load more\n",
      "/var/folders/75/xh20dgfj413gnh1kwq6jslz00000gn/T/ipykernel_4170/2579985156.py:15: DeprecationWarning: find_elements_by_* commands are deprecated. Please use find_elements() instead\n",
      "  review = driver.find_elements_by_xpath(\"//div[contains(@class,'rd-des')]/span\") #get reviews\n",
      "/var/folders/75/xh20dgfj413gnh1kwq6jslz00000gn/T/ipykernel_4170/2579985156.py:16: DeprecationWarning: find_elements_by_* commands are deprecated. Please use find_elements() instead\n",
      "  score = driver.find_elements_by_xpath(\"//div[contains(@class,'review-points')]/span\") #get score\n"
     ]
    }
   ],
   "source": [
    "# data scraping 100 nhà hàng tiếp theo [300:400]\n",
    "reviews_all = []\n",
    "scores_all = []\n",
    "res_names_all = []\n",
    "for e in range(300,400):\n",
    "    driver.get(links_bl_load[e])\n",
    "    for i in range (1,50):\n",
    "        try:\n",
    "            driver.find_elements_by_class_name('fd-btn-more')[0].click()  #load more \n",
    "            sleep(2)\n",
    "        except IndexError:\n",
    "            pass\n",
    "        continue\n",
    "\n",
    "    review = driver.find_elements_by_xpath(\"//div[contains(@class,'rd-des')]/span\") #get reviews\n",
    "    score = driver.find_elements_by_xpath(\"//div[contains(@class,'review-points')]/span\") #get score\n",
    "    reviews = [x.text for x in review]\n",
    "    scores = [x.text for x in score]\n",
    "    res_names_dup = [res_names_load[e]] * min(len(reviews),len(scores[:-1]))\n",
    "    # append\n",
    "    reviews_all.append(reviews)\n",
    "    scores_all.append(scores[:-1])\n",
    "    res_names_all.append(res_names_dup)"
   ]
  },
  {
   "cell_type": "code",
   "execution_count": null,
   "id": "1686681a",
   "metadata": {
    "id": "1686681a",
    "outputId": "b4805ae3-4770-4dc5-d5e9-b96037893af8"
   },
   "outputs": [
    {
     "name": "stdout",
     "output_type": "stream",
     "text": [
      "1724 1725 1724\n"
     ]
    }
   ],
   "source": [
    "# flat the lists and check their length\n",
    "res_names_all2 = sum(res_names_all, [])\n",
    "reviews_all2 = sum(reviews_all, [])\n",
    "scores_all2 = sum(scores_all, [])\n",
    "print(len(reviews_all2), len(scores_all2), len(res_names_all2))"
   ]
  },
  {
   "cell_type": "code",
   "execution_count": null,
   "id": "000de81b",
   "metadata": {
    "id": "000de81b"
   },
   "outputs": [],
   "source": [
    "# dictionary_products\n",
    "dictionary_test = {'name':res_names_all,\n",
    "                      'review_text':reviews_all,\n",
    "                      'review_score': scores_all}\n",
    "df_test = pd.DataFrame(dictionary_test)\n",
    "df_test['len_review'] = df_test.review_text.apply(lambda x: len(x))\n",
    "df_test['len_score'] = df_test.review_score.apply(lambda x: len(x))"
   ]
  },
  {
   "cell_type": "code",
   "execution_count": null,
   "id": "9f5a082a",
   "metadata": {
    "id": "9f5a082a",
    "outputId": "edf78a57-e392-490c-cbef-f9c60ecfa699"
   },
   "outputs": [
    {
     "data": {
      "text/html": [
       "<div>\n",
       "<style scoped>\n",
       "    .dataframe tbody tr th:only-of-type {\n",
       "        vertical-align: middle;\n",
       "    }\n",
       "\n",
       "    .dataframe tbody tr th {\n",
       "        vertical-align: top;\n",
       "    }\n",
       "\n",
       "    .dataframe thead th {\n",
       "        text-align: right;\n",
       "    }\n",
       "</style>\n",
       "<table border=\"1\" class=\"dataframe\">\n",
       "  <thead>\n",
       "    <tr style=\"text-align: right;\">\n",
       "      <th></th>\n",
       "      <th>name</th>\n",
       "      <th>review_text</th>\n",
       "      <th>review_score</th>\n",
       "      <th>len_review</th>\n",
       "      <th>len_score</th>\n",
       "    </tr>\n",
       "  </thead>\n",
       "  <tbody>\n",
       "    <tr>\n",
       "      <th>64</th>\n",
       "      <td>[SuSu Quán - Món Ăn Hàn Quốc, SuSu Quán - Món ...</td>\n",
       "      <td>[Trân châu ko bị cứng, mặc dù mua về mình chưa...</td>\n",
       "      <td>[9.4, 7.4, 9.6, 7.8, 9.8, 9.6, 7.2, 7.0, 10, 9...</td>\n",
       "      <td>32</td>\n",
       "      <td>33</td>\n",
       "    </tr>\n",
       "  </tbody>\n",
       "</table>\n",
       "</div>"
      ],
      "text/plain": [
       "                                                 name  \\\n",
       "64  [SuSu Quán - Món Ăn Hàn Quốc, SuSu Quán - Món ...   \n",
       "\n",
       "                                          review_text  \\\n",
       "64  [Trân châu ko bị cứng, mặc dù mua về mình chưa...   \n",
       "\n",
       "                                         review_score  len_review  len_score  \n",
       "64  [9.4, 7.4, 9.6, 7.8, 9.8, 9.6, 7.2, 7.0, 10, 9...          32         33  "
      ]
     },
     "execution_count": 184,
     "metadata": {},
     "output_type": "execute_result"
    }
   ],
   "source": [
    "# tìm nhà hàng có len_review và len_score không bằng nhau\n",
    "df_test[df_test['len_review']!=df_test['len_score'] ]"
   ]
  },
  {
   "cell_type": "code",
   "execution_count": null,
   "id": "e98581fa",
   "metadata": {
    "id": "e98581fa"
   },
   "outputs": [],
   "source": [
    "del reviews_all[64]\n",
    "del scores_all[64]\n",
    "del res_names_all[64]"
   ]
  },
  {
   "cell_type": "code",
   "execution_count": null,
   "id": "823c8f57",
   "metadata": {
    "id": "823c8f57",
    "outputId": "461254b8-3f5e-42a5-9721-e126c2a968dc"
   },
   "outputs": [
    {
     "name": "stdout",
     "output_type": "stream",
     "text": [
      "1692 1692 1692\n"
     ]
    }
   ],
   "source": [
    "# flat the lists and check their length\n",
    "res_names_all2 = sum(res_names_all, [])\n",
    "reviews_all2 = sum(reviews_all, [])\n",
    "scores_all2 = sum(scores_all, [])\n",
    "print(len(reviews_all2), len(scores_all2), len(res_names_all2))"
   ]
  },
  {
   "cell_type": "code",
   "execution_count": null,
   "id": "fba3eecd",
   "metadata": {
    "id": "fba3eecd",
    "outputId": "059d187a-c959-467c-a546-9d75a1b0c65c"
   },
   "outputs": [
    {
     "data": {
      "text/html": [
       "<div>\n",
       "<style scoped>\n",
       "    .dataframe tbody tr th:only-of-type {\n",
       "        vertical-align: middle;\n",
       "    }\n",
       "\n",
       "    .dataframe tbody tr th {\n",
       "        vertical-align: top;\n",
       "    }\n",
       "\n",
       "    .dataframe thead th {\n",
       "        text-align: right;\n",
       "    }\n",
       "</style>\n",
       "<table border=\"1\" class=\"dataframe\">\n",
       "  <thead>\n",
       "    <tr style=\"text-align: right;\">\n",
       "      <th></th>\n",
       "      <th>name</th>\n",
       "      <th>review_text</th>\n",
       "      <th>review_score</th>\n",
       "    </tr>\n",
       "  </thead>\n",
       "  <tbody>\n",
       "    <tr>\n",
       "      <th>0</th>\n",
       "      <td>Bếp Rùa - Chân Gà Rút Xương Ngâm Sả Tắc - Shop...</td>\n",
       "      <td>Tối Hôm 15/2 mình có đi ngang qua quán phố mì ...</td>\n",
       "      <td>8.0</td>\n",
       "    </tr>\n",
       "    <tr>\n",
       "      <th>1</th>\n",
       "      <td>Bếp Rùa - Chân Gà Rút Xương Ngâm Sả Tắc - Shop...</td>\n",
       "      <td>Quán mỳ cay gần trường cấp 3 của mình nên hôm ...</td>\n",
       "      <td>6.4</td>\n",
       "    </tr>\n",
       "    <tr>\n",
       "      <th>2</th>\n",
       "      <td>Bếp Rùa - Chân Gà Rút Xương Ngâm Sả Tắc - Shop...</td>\n",
       "      <td>Được bạn mời mọc xuống Nhổn chơi và sau 1 hồi ...</td>\n",
       "      <td>5.6</td>\n",
       "    </tr>\n",
       "    <tr>\n",
       "      <th>3</th>\n",
       "      <td>Bếp Rùa - Chân Gà Rút Xương Ngâm Sả Tắc - Shop...</td>\n",
       "      <td>- Vị trí: Ngay mặt đường, dễ tìm. Nhưng ko hoà...</td>\n",
       "      <td>6.8</td>\n",
       "    </tr>\n",
       "    <tr>\n",
       "      <th>4</th>\n",
       "      <td>Bếp Rùa - Chân Gà Rút Xương Ngâm Sả Tắc - Shop...</td>\n",
       "      <td>Địa điểm: Nằm mặt đường ngay chỗ Gold Mark Cit...</td>\n",
       "      <td>8.0</td>\n",
       "    </tr>\n",
       "  </tbody>\n",
       "</table>\n",
       "</div>"
      ],
      "text/plain": [
       "                                                name  \\\n",
       "0  Bếp Rùa - Chân Gà Rút Xương Ngâm Sả Tắc - Shop...   \n",
       "1  Bếp Rùa - Chân Gà Rút Xương Ngâm Sả Tắc - Shop...   \n",
       "2  Bếp Rùa - Chân Gà Rút Xương Ngâm Sả Tắc - Shop...   \n",
       "3  Bếp Rùa - Chân Gà Rút Xương Ngâm Sả Tắc - Shop...   \n",
       "4  Bếp Rùa - Chân Gà Rút Xương Ngâm Sả Tắc - Shop...   \n",
       "\n",
       "                                         review_text review_score  \n",
       "0  Tối Hôm 15/2 mình có đi ngang qua quán phố mì ...          8.0  \n",
       "1  Quán mỳ cay gần trường cấp 3 của mình nên hôm ...          6.4  \n",
       "2  Được bạn mời mọc xuống Nhổn chơi và sau 1 hồi ...          5.6  \n",
       "3  - Vị trí: Ngay mặt đường, dễ tìm. Nhưng ko hoà...          6.8  \n",
       "4  Địa điểm: Nằm mặt đường ngay chỗ Gold Mark Cit...          8.0  "
      ]
     },
     "execution_count": 187,
     "metadata": {},
     "output_type": "execute_result"
    }
   ],
   "source": [
    "# Create dataframe and save to csv file\n",
    "dict_foody10 = {'name':res_names_all2,\n",
    "                'review_text':reviews_all2,\n",
    "                'review_score': scores_all2}\n",
    "df10 = pd.DataFrame(dict_foody10)\n",
    "df10.head()"
   ]
  },
  {
   "cell_type": "code",
   "execution_count": null,
   "id": "7be26fbd",
   "metadata": {
    "id": "7be26fbd",
    "outputId": "cf19d6f7-a6b7-4e91-c4e9-caa756892dd3"
   },
   "outputs": [
    {
     "data": {
      "text/plain": [
       "(1692, 3)"
      ]
     },
     "execution_count": 188,
     "metadata": {},
     "output_type": "execute_result"
    }
   ],
   "source": [
    "df10.shape"
   ]
  },
  {
   "cell_type": "code",
   "execution_count": null,
   "id": "f55c4914",
   "metadata": {
    "id": "f55c4914"
   },
   "outputs": [],
   "source": [
    "df10.to_csv('data/foodyData10.csv')"
   ]
  },
  {
   "cell_type": "markdown",
   "id": "I9gvsq3cXKfa",
   "metadata": {
    "id": "I9gvsq3cXKfa"
   },
   "source": [
    "## Data scraping 11"
   ]
  },
  {
   "cell_type": "code",
   "execution_count": null,
   "id": "46c9961d",
   "metadata": {
    "id": "46c9961d",
    "outputId": "582a02e0-9770-427e-cb92-497f4f7f8617"
   },
   "outputs": [
    {
     "name": "stderr",
     "output_type": "stream",
     "text": [
      "/var/folders/75/xh20dgfj413gnh1kwq6jslz00000gn/T/ipykernel_4170/2010455740.py:9: DeprecationWarning: find_elements_by_* commands are deprecated. Please use find_elements() instead\n",
      "  driver.find_elements_by_class_name('fd-btn-more')[0].click()  #load more\n",
      "/var/folders/75/xh20dgfj413gnh1kwq6jslz00000gn/T/ipykernel_4170/2010455740.py:15: DeprecationWarning: find_elements_by_* commands are deprecated. Please use find_elements() instead\n",
      "  review = driver.find_elements_by_xpath(\"//div[contains(@class,'rd-des')]/span\") #get reviews\n",
      "/var/folders/75/xh20dgfj413gnh1kwq6jslz00000gn/T/ipykernel_4170/2010455740.py:16: DeprecationWarning: find_elements_by_* commands are deprecated. Please use find_elements() instead\n",
      "  score = driver.find_elements_by_xpath(\"//div[contains(@class,'review-points')]/span\") #get score\n"
     ]
    }
   ],
   "source": [
    "# data scraping 100 nhà hàng tiếp theo [400:500]\n",
    "reviews_all = []\n",
    "scores_all = []\n",
    "res_names_all = []\n",
    "for e in range(400,500):\n",
    "    driver.get(links_bl_load[e])\n",
    "    for i in range (1,50):\n",
    "        try:\n",
    "            driver.find_elements_by_class_name('fd-btn-more')[0].click()  #load more \n",
    "            sleep(2)\n",
    "        except IndexError:\n",
    "            pass\n",
    "        continue\n",
    "\n",
    "    review = driver.find_elements_by_xpath(\"//div[contains(@class,'rd-des')]/span\") #get reviews\n",
    "    score = driver.find_elements_by_xpath(\"//div[contains(@class,'review-points')]/span\") #get score\n",
    "    reviews = [x.text for x in review]\n",
    "    scores = [x.text for x in score]\n",
    "    res_names_dup = [res_names_load[e]] * min(len(reviews),len(scores[:-1]))\n",
    "    # append\n",
    "    reviews_all.append(reviews)\n",
    "    scores_all.append(scores[:-1])\n",
    "    res_names_all.append(res_names_dup)"
   ]
  },
  {
   "cell_type": "code",
   "execution_count": null,
   "id": "74943dba",
   "metadata": {
    "id": "74943dba",
    "outputId": "d2c2b2bb-da4c-4ee7-e534-fae0572350f9"
   },
   "outputs": [
    {
     "name": "stdout",
     "output_type": "stream",
     "text": [
      "1900 1900 1900\n"
     ]
    }
   ],
   "source": [
    "# flat the lists and check their length\n",
    "res_names_all2 = sum(res_names_all, [])\n",
    "reviews_all2 = sum(reviews_all, [])\n",
    "scores_all2 = sum(scores_all, [])\n",
    "print(len(reviews_all2), len(scores_all2), len(res_names_all2))"
   ]
  },
  {
   "cell_type": "code",
   "execution_count": null,
   "id": "30bf5fea",
   "metadata": {
    "id": "30bf5fea",
    "outputId": "d5138c33-2d99-4a6d-f38c-bd5ab4d48a4d"
   },
   "outputs": [
    {
     "data": {
      "text/html": [
       "<div>\n",
       "<style scoped>\n",
       "    .dataframe tbody tr th:only-of-type {\n",
       "        vertical-align: middle;\n",
       "    }\n",
       "\n",
       "    .dataframe tbody tr th {\n",
       "        vertical-align: top;\n",
       "    }\n",
       "\n",
       "    .dataframe thead th {\n",
       "        text-align: right;\n",
       "    }\n",
       "</style>\n",
       "<table border=\"1\" class=\"dataframe\">\n",
       "  <thead>\n",
       "    <tr style=\"text-align: right;\">\n",
       "      <th></th>\n",
       "      <th>name</th>\n",
       "      <th>review_text</th>\n",
       "      <th>review_score</th>\n",
       "    </tr>\n",
       "  </thead>\n",
       "  <tbody>\n",
       "    <tr>\n",
       "      <th>0</th>\n",
       "      <td>EMi Shop - Bánh Bao Nguyên Cám Healthy &amp; Bánh ...</td>\n",
       "      <td>Đồ ăn thì cũng ở mức trung bình\\nTuy nhiên riê...</td>\n",
       "      <td>1.2</td>\n",
       "    </tr>\n",
       "    <tr>\n",
       "      <th>1</th>\n",
       "      <td>EMi Shop - Bánh Bao Nguyên Cám Healthy &amp; Bánh ...</td>\n",
       "      <td>Vừa mới ăn hồi chiều xong mà giờ vẫn ngang nga...</td>\n",
       "      <td>7.6</td>\n",
       "    </tr>\n",
       "    <tr>\n",
       "      <th>2</th>\n",
       "      <td>EMi Shop - Bánh Bao Nguyên Cám Healthy &amp; Bánh ...</td>\n",
       "      <td>Giá tiền sinh viên nên cũng không đòi hỏi chất...</td>\n",
       "      <td>7.4</td>\n",
       "    </tr>\n",
       "    <tr>\n",
       "      <th>3</th>\n",
       "      <td>EMi Shop - Bánh Bao Nguyên Cám Healthy &amp; Bánh ...</td>\n",
       "      <td>Nhiều món. Ăn tạm được ngon nhất là khoai vs n...</td>\n",
       "      <td>7.2</td>\n",
       "    </tr>\n",
       "    <tr>\n",
       "      <th>4</th>\n",
       "      <td>EMi Shop - Bánh Bao Nguyên Cám Healthy &amp; Bánh ...</td>\n",
       "      <td>Tất cả đều như đồ cũ , ỉu</td>\n",
       "      <td>4.4</td>\n",
       "    </tr>\n",
       "  </tbody>\n",
       "</table>\n",
       "</div>"
      ],
      "text/plain": [
       "                                                name  \\\n",
       "0  EMi Shop - Bánh Bao Nguyên Cám Healthy & Bánh ...   \n",
       "1  EMi Shop - Bánh Bao Nguyên Cám Healthy & Bánh ...   \n",
       "2  EMi Shop - Bánh Bao Nguyên Cám Healthy & Bánh ...   \n",
       "3  EMi Shop - Bánh Bao Nguyên Cám Healthy & Bánh ...   \n",
       "4  EMi Shop - Bánh Bao Nguyên Cám Healthy & Bánh ...   \n",
       "\n",
       "                                         review_text review_score  \n",
       "0  Đồ ăn thì cũng ở mức trung bình\\nTuy nhiên riê...          1.2  \n",
       "1  Vừa mới ăn hồi chiều xong mà giờ vẫn ngang nga...          7.6  \n",
       "2  Giá tiền sinh viên nên cũng không đòi hỏi chất...          7.4  \n",
       "3  Nhiều món. Ăn tạm được ngon nhất là khoai vs n...          7.2  \n",
       "4                          Tất cả đều như đồ cũ , ỉu          4.4  "
      ]
     },
     "execution_count": 197,
     "metadata": {},
     "output_type": "execute_result"
    }
   ],
   "source": [
    "# Create dataframe and save to csv file\n",
    "dict_foody11 = {'name':res_names_all2,\n",
    "                'review_text':reviews_all2,\n",
    "                'review_score': scores_all2}\n",
    "df11 = pd.DataFrame(dict_foody11)\n",
    "df11.head()"
   ]
  },
  {
   "cell_type": "code",
   "execution_count": null,
   "id": "230da4a2",
   "metadata": {
    "id": "230da4a2",
    "outputId": "afe0407e-a38b-450e-fec3-7924e18eeb26"
   },
   "outputs": [
    {
     "data": {
      "text/plain": [
       "(1900, 3)"
      ]
     },
     "execution_count": 198,
     "metadata": {},
     "output_type": "execute_result"
    }
   ],
   "source": [
    "df11.shape"
   ]
  },
  {
   "cell_type": "code",
   "execution_count": null,
   "id": "4c892a22",
   "metadata": {
    "id": "4c892a22"
   },
   "outputs": [],
   "source": [
    "df11.to_csv('data/foodyData11.csv')"
   ]
  },
  {
   "cell_type": "markdown",
   "id": "I92xEYYMXN95",
   "metadata": {
    "id": "I92xEYYMXN95"
   },
   "source": [
    "## Data scraping 12"
   ]
  },
  {
   "cell_type": "code",
   "execution_count": null,
   "id": "3b8d6fa6",
   "metadata": {
    "id": "3b8d6fa6",
    "outputId": "55e7ec99-9a5b-44e8-bb7c-478948457c1f"
   },
   "outputs": [
    {
     "name": "stderr",
     "output_type": "stream",
     "text": [
      "/var/folders/75/xh20dgfj413gnh1kwq6jslz00000gn/T/ipykernel_4170/4197858552.py:9: DeprecationWarning: find_elements_by_* commands are deprecated. Please use find_elements() instead\n",
      "  driver.find_elements_by_class_name('fd-btn-more')[0].click()  #load more\n",
      "/var/folders/75/xh20dgfj413gnh1kwq6jslz00000gn/T/ipykernel_4170/4197858552.py:15: DeprecationWarning: find_elements_by_* commands are deprecated. Please use find_elements() instead\n",
      "  review = driver.find_elements_by_xpath(\"//div[contains(@class,'rd-des')]/span\") #get reviews\n",
      "/var/folders/75/xh20dgfj413gnh1kwq6jslz00000gn/T/ipykernel_4170/4197858552.py:16: DeprecationWarning: find_elements_by_* commands are deprecated. Please use find_elements() instead\n",
      "  score = driver.find_elements_by_xpath(\"//div[contains(@class,'review-points')]/span\") #get score\n"
     ]
    }
   ],
   "source": [
    "# data scraping 100 nhà hàng tiếp theo [500:600]\n",
    "reviews_all = []\n",
    "scores_all = []\n",
    "res_names_all = []\n",
    "for e in range(500,600):\n",
    "    driver.get(links_bl_load[e])\n",
    "    for i in range (1,50):\n",
    "        try:\n",
    "            driver.find_elements_by_class_name('fd-btn-more')[0].click()  #load more \n",
    "            sleep(2)\n",
    "        except IndexError:\n",
    "            pass\n",
    "        continue\n",
    "\n",
    "    review = driver.find_elements_by_xpath(\"//div[contains(@class,'rd-des')]/span\") #get reviews\n",
    "    score = driver.find_elements_by_xpath(\"//div[contains(@class,'review-points')]/span\") #get score\n",
    "    reviews = [x.text for x in review]\n",
    "    scores = [x.text for x in score]\n",
    "    res_names_dup = [res_names_load[e]] * min(len(reviews),len(scores[:-1]))\n",
    "    # append\n",
    "    reviews_all.append(reviews)\n",
    "    scores_all.append(scores[:-1])\n",
    "    res_names_all.append(res_names_dup)"
   ]
  },
  {
   "cell_type": "code",
   "execution_count": null,
   "id": "389ee70a",
   "metadata": {
    "id": "389ee70a",
    "outputId": "68f4c05d-7a5a-4bda-c689-1df3b7d88aab"
   },
   "outputs": [
    {
     "name": "stdout",
     "output_type": "stream",
     "text": [
      "1672 1672 1672\n"
     ]
    }
   ],
   "source": [
    "# flat the lists and check their length\n",
    "res_names_all2 = sum(res_names_all, [])\n",
    "reviews_all2 = sum(reviews_all, [])\n",
    "scores_all2 = sum(scores_all, [])\n",
    "print(len(reviews_all2), len(scores_all2), len(res_names_all2))"
   ]
  },
  {
   "cell_type": "code",
   "execution_count": null,
   "id": "a91b6262",
   "metadata": {
    "id": "a91b6262",
    "outputId": "50952643-5661-469b-a3dc-b69eee2e94b4"
   },
   "outputs": [
    {
     "data": {
      "text/html": [
       "<div>\n",
       "<style scoped>\n",
       "    .dataframe tbody tr th:only-of-type {\n",
       "        vertical-align: middle;\n",
       "    }\n",
       "\n",
       "    .dataframe tbody tr th {\n",
       "        vertical-align: top;\n",
       "    }\n",
       "\n",
       "    .dataframe thead th {\n",
       "        text-align: right;\n",
       "    }\n",
       "</style>\n",
       "<table border=\"1\" class=\"dataframe\">\n",
       "  <thead>\n",
       "    <tr style=\"text-align: right;\">\n",
       "      <th></th>\n",
       "      <th>name</th>\n",
       "      <th>review_text</th>\n",
       "      <th>review_score</th>\n",
       "    </tr>\n",
       "  </thead>\n",
       "  <tbody>\n",
       "    <tr>\n",
       "      <th>0</th>\n",
       "      <td>Quán Cơm 2 Món - Âu Cơ</td>\n",
       "      <td>Mình cũng hay đi ăn quán thịt dê Tuấn Hằng, tu...</td>\n",
       "      <td>6.8</td>\n",
       "    </tr>\n",
       "    <tr>\n",
       "      <th>1</th>\n",
       "      <td>Quán Cơm 2 Món - Âu Cơ</td>\n",
       "      <td>Có được món nầm là khá chút. Rau xào thì không...</td>\n",
       "      <td>2.4</td>\n",
       "    </tr>\n",
       "    <tr>\n",
       "      <th>2</th>\n",
       "      <td>Quán Cơm 2 Món - Âu Cơ</td>\n",
       "      <td>Món ăn của quán mà mình ăn qua đều không đáp ứ...</td>\n",
       "      <td>2.0</td>\n",
       "    </tr>\n",
       "    <tr>\n",
       "      <th>3</th>\n",
       "      <td>Quán Cơm 2 Món - Âu Cơ</td>\n",
       "      <td>Mình đi ăn ở đây trên 3 lần rồi. Đồ ăn rất ngo...</td>\n",
       "      <td>8.4</td>\n",
       "    </tr>\n",
       "    <tr>\n",
       "      <th>4</th>\n",
       "      <td>Quán Cơm 2 Món - Âu Cơ</td>\n",
       "      <td>Quán này có món dê tái rát ngon, dê ngọt và mề...</td>\n",
       "      <td>7.0</td>\n",
       "    </tr>\n",
       "  </tbody>\n",
       "</table>\n",
       "</div>"
      ],
      "text/plain": [
       "                     name                                        review_text  \\\n",
       "0  Quán Cơm 2 Món - Âu Cơ  Mình cũng hay đi ăn quán thịt dê Tuấn Hằng, tu...   \n",
       "1  Quán Cơm 2 Món - Âu Cơ  Có được món nầm là khá chút. Rau xào thì không...   \n",
       "2  Quán Cơm 2 Món - Âu Cơ  Món ăn của quán mà mình ăn qua đều không đáp ứ...   \n",
       "3  Quán Cơm 2 Món - Âu Cơ  Mình đi ăn ở đây trên 3 lần rồi. Đồ ăn rất ngo...   \n",
       "4  Quán Cơm 2 Món - Âu Cơ  Quán này có món dê tái rát ngon, dê ngọt và mề...   \n",
       "\n",
       "  review_score  \n",
       "0          6.8  \n",
       "1          2.4  \n",
       "2          2.0  \n",
       "3          8.4  \n",
       "4          7.0  "
      ]
     },
     "execution_count": 202,
     "metadata": {},
     "output_type": "execute_result"
    }
   ],
   "source": [
    "# Create dataframe and save to csv file\n",
    "dict_foody12 = {'name':res_names_all2,\n",
    "                'review_text':reviews_all2,\n",
    "                'review_score': scores_all2}\n",
    "df12 = pd.DataFrame(dict_foody12)\n",
    "df12.head()"
   ]
  },
  {
   "cell_type": "code",
   "execution_count": null,
   "id": "964f9304",
   "metadata": {
    "id": "964f9304",
    "outputId": "ff3011ff-5859-4670-c065-d0a0fda008d6"
   },
   "outputs": [
    {
     "data": {
      "text/plain": [
       "(1672, 3)"
      ]
     },
     "execution_count": 203,
     "metadata": {},
     "output_type": "execute_result"
    }
   ],
   "source": [
    "df12.shape"
   ]
  },
  {
   "cell_type": "code",
   "execution_count": null,
   "id": "16b76cad",
   "metadata": {
    "id": "16b76cad"
   },
   "outputs": [],
   "source": [
    "df12.to_csv('data/foodyData12.csv')"
   ]
  },
  {
   "cell_type": "code",
   "execution_count": null,
   "id": "1742e315",
   "metadata": {
    "id": "1742e315"
   },
   "outputs": [],
   "source": [
    "# remove = \"Đây là chi nhánh gần trung tâm nhất, mới nhất và cảm giác cũng hịn nhất. Sau 1 thời gian Tràng Tiền Plaza nói không với các tiệm ăn uống thì phải nói nơi đây dần biến thành chốn sang chảnh chỉ dành cho dân nhiều tiền mua đồ hiệu hoặc là khách du lịch vào thăm quan vì như mình ở HN mà bảo vào TT thì mặt kiểu 'ủa có gì mà vào'. Vài tháng trở lại đây thấy xuất hiện các quán ăn nhẹ, rồi CGV đã thấy mô hình đang dần thân thiện hơn, dự là sẽ dần hot trở lại như xưa.\\nKhông gian của khá rộng rãi, 1 bên kia là quán đồ hải sản, cùng tầng là rạp phim với Donut, nguyên tầng dành cho tín đồ ăn uống. Cách trang trí bày biện cảm giác rất Hàn, có sự chỉn chu đáng kể. Đi cuối tuần nhớ gọi đặt bàn vì đông đáo để luôn, mình đi nhóm lớn sẽ được xếp phòng bên trong cũng đỡ bị ồn ào phần nào.\\nLâu không Gogi thấy set nướng có món mời trông hấp dẫn dã man, miếng thịt tươi đẹp. Người ta hay bảo ăn nướng thì nên chọn thịt tươi không có gia vị sẽ biết được thịt ngon hay không cũng đúng. Cơ mà sườn tẩm mật ong ở đây là cực phẩm không thể không thử đó, chả cần chấm thêm gì em nó đã đủ ngon.\\nNhân viên phục vụ khá ổn, không phải đợi quá lâu. Duy có điều là phải mất công gửi xe, đi lên tầng mà lại mất phí gửi nữa.\""
   ]
  },
  {
   "cell_type": "code",
   "execution_count": null,
   "id": "dc2d23eb",
   "metadata": {
    "id": "dc2d23eb"
   },
   "outputs": [],
   "source": [
    "# del reviews_all2[reviews_all2.index(remove)]\n",
    "# len(reviews_all2)"
   ]
  },
  {
   "cell_type": "code",
   "execution_count": null,
   "id": "u8BEarZuyReA",
   "metadata": {
    "id": "u8BEarZuyReA"
   },
   "outputs": [],
   "source": []
  },
  {
   "cell_type": "markdown",
   "id": "3UdYtoNMyVdC",
   "metadata": {
    "id": "3UdYtoNMyVdC"
   },
   "source": [
    "# Foody_Danang"
   ]
  },
  {
   "cell_type": "markdown",
   "id": "-xNtnrIyyTMl",
   "metadata": {
    "id": "-xNtnrIyyTMl"
   },
   "source": [
    "# 1. Get links and names of restaurant"
   ]
  },
  {
   "cell_type": "code",
   "execution_count": null,
   "id": "e7govPIsyTMm",
   "metadata": {
    "id": "e7govPIsyTMm"
   },
   "outputs": [],
   "source": [
    "driver.get('https://www.foody.vn')"
   ]
  },
  {
   "cell_type": "code",
   "execution_count": null,
   "id": "AcEW4FBeyTMn",
   "metadata": {
    "id": "AcEW4FBeyTMn",
    "outputId": "a415eabe-6b70-4919-d15f-10a741ed0969"
   },
   "outputs": [
    {
     "name": "stderr",
     "output_type": "stream",
     "text": [
      "/var/folders/75/xh20dgfj413gnh1kwq6jslz00000gn/T/ipykernel_15460/2824142087.py:4: DeprecationWarning: find_elements_by_* commands are deprecated. Please use find_elements() instead\n",
      "  driver.find_elements_by_class_name('fd-btn-more')[0].click()\n",
      "/var/folders/75/xh20dgfj413gnh1kwq6jslz00000gn/T/ipykernel_15460/2824142087.py:9: DeprecationWarning: find_elements_by_* commands are deprecated. Please use find_elements() instead\n",
      "  res = driver.find_elements_by_xpath(\"//div[contains(@class,'fd-text-ellip')]/a\")\n"
     ]
    }
   ],
   "source": [
    "# lấy tên và link của các nhà hàng\n",
    "for i in range (1,50):\n",
    "    try:\n",
    "        driver.find_elements_by_class_name('fd-btn-more')[0].click()\n",
    "        sleep(2)\n",
    "    except IndexError:\n",
    "        pass\n",
    "    continue\n",
    "res = driver.find_elements_by_xpath(\"//div[contains(@class,'fd-text-ellip')]/a\")\n",
    "res_names = [x.text for x in res]\n",
    "links = [x.get_attribute('href') for x in res]"
   ]
  },
  {
   "cell_type": "code",
   "execution_count": null,
   "id": "teitv8isyTMo",
   "metadata": {
    "id": "teitv8isyTMo",
    "outputId": "11e1d782-d3af-49da-c748-6e663143e8fe"
   },
   "outputs": [
    {
     "name": "stdout",
     "output_type": "stream",
     "text": [
      "Số lượng nhà hàng 624\n"
     ]
    },
    {
     "data": {
      "text/plain": [
       "['Bánh Sầu Riêng 9 Sạch - Lê Lợi',\n",
       " 'Bún Bà Thông - Hoàng Văn Thụ',\n",
       " 'Hải Sản Bé Ni 2',\n",
       " 'Highlands Coffee - Điện Biên Phủ',\n",
       " 'Như Ý Quán - Bún Thịt Nướng & Nem Lụi']"
      ]
     },
     "execution_count": 5,
     "metadata": {},
     "output_type": "execute_result"
    }
   ],
   "source": [
    "print('Số lượng nhà hàng',len(res_names))\n",
    "res_names[:5]"
   ]
  },
  {
   "cell_type": "code",
   "execution_count": null,
   "id": "de-ilIGayTMo",
   "metadata": {
    "id": "de-ilIGayTMo",
    "outputId": "0642d867-4768-4ca2-a971-67cb854dd119",
    "scrolled": true
   },
   "outputs": [
    {
     "name": "stdout",
     "output_type": "stream",
     "text": [
      "Số lượng link: 624\n"
     ]
    },
    {
     "data": {
      "text/plain": [
       "['https://www.foody.vn/da-nang/banh-sau-rieng-9-sach-le-loi/binh-luan',\n",
       " 'https://www.foody.vn/da-nang/bun-99-hoang-van-thu/binh-luan',\n",
       " 'https://www.foody.vn/da-nang/hai-san-be-ni/binh-luan',\n",
       " 'https://www.foody.vn/da-nang/highlands-coffee-dien-bien-phu/binh-luan',\n",
       " 'https://www.foody.vn/da-nang/nhu-y-quan-bun-thit-nuong-nem-lui/binh-luan']"
      ]
     },
     "execution_count": 6,
     "metadata": {},
     "output_type": "execute_result"
    }
   ],
   "source": [
    "# add thêm '/binh-luan' ở cuối link để truy cập vào phần bình luận của mỗi nhà hàng\n",
    "links_bl = []\n",
    "for l in links:\n",
    "    links_bl.append(l +'/binh-luan')\n",
    "print('Số lượng link:',len(links_bl))\n",
    "links_bl[:5]"
   ]
  },
  {
   "cell_type": "code",
   "execution_count": null,
   "id": "smL7FiwYyTMo",
   "metadata": {
    "id": "smL7FiwYyTMo"
   },
   "outputs": [],
   "source": [
    "# Save results to csv\n",
    "with open('data/foody_links_bl3.csv', 'wt') as myfile:\n",
    "    wr = csv.writer(myfile, quoting=csv.QUOTE_ALL)\n",
    "    wr.writerow(links_bl)\n",
    "\n",
    "with open('data/foody_res_names3.csv', 'wt') as myfile:\n",
    "    wr = csv.writer(myfile, quoting=csv.QUOTE_ALL)\n",
    "    wr.writerow(res_names)"
   ]
  },
  {
   "cell_type": "markdown",
   "id": "C7NlR2GVyTMp",
   "metadata": {
    "id": "C7NlR2GVyTMp"
   },
   "source": [
    "# 2. Review & Score scraping"
   ]
  },
  {
   "cell_type": "code",
   "execution_count": null,
   "id": "MQ2XCR7PyTMp",
   "metadata": {
    "id": "MQ2XCR7PyTMp",
    "outputId": "4e3b6f9d-f01b-4d6b-d3d9-167681af1251"
   },
   "outputs": [
    {
     "data": {
      "text/plain": [
       "['https://www.foody.vn/da-nang/banh-sau-rieng-9-sach-le-loi/binh-luan',\n",
       " 'https://www.foody.vn/da-nang/bun-99-hoang-van-thu/binh-luan',\n",
       " 'https://www.foody.vn/da-nang/hai-san-be-ni/binh-luan',\n",
       " 'https://www.foody.vn/da-nang/highlands-coffee-dien-bien-phu/binh-luan',\n",
       " 'https://www.foody.vn/da-nang/nhu-y-quan-bun-thit-nuong-nem-lui/binh-luan']"
      ]
     },
     "execution_count": 8,
     "metadata": {},
     "output_type": "execute_result"
    }
   ],
   "source": [
    "# load links\n",
    "links_bl_load = pd.read_csv('data/foody_links_bl3.csv', header=None)\n",
    "links_bl_load = list(links_bl_load.iloc[0,:].values)\n",
    "links_bl_load[:5]"
   ]
  },
  {
   "cell_type": "code",
   "execution_count": null,
   "id": "pM-zMReXyTMp",
   "metadata": {
    "id": "pM-zMReXyTMp",
    "outputId": "f2b9a0cc-b4c7-4fe7-aa73-7721efdbe5fc"
   },
   "outputs": [
    {
     "data": {
      "text/plain": [
       "['Bánh Sầu Riêng 9 Sạch - Lê Lợi',\n",
       " 'Bún Bà Thông - Hoàng Văn Thụ',\n",
       " 'Hải Sản Bé Ni 2',\n",
       " 'Highlands Coffee - Điện Biên Phủ',\n",
       " 'Như Ý Quán - Bún Thịt Nướng & Nem Lụi']"
      ]
     },
     "execution_count": 9,
     "metadata": {},
     "output_type": "execute_result"
    }
   ],
   "source": [
    "# load restaurant names\n",
    "res_names_load = pd.read_csv('data/foody_res_names3.csv', header=None)\n",
    "res_names_load = list(res_names_load.iloc[0,:].values)\n",
    "res_names_load[:5]"
   ]
  },
  {
   "cell_type": "code",
   "execution_count": null,
   "id": "ev1fNycZyTMp",
   "metadata": {
    "id": "ev1fNycZyTMp",
    "outputId": "64b4852d-c592-4b3f-bfbd-1462bfd61925"
   },
   "outputs": [
    {
     "data": {
      "text/plain": [
       "(624, 624)"
      ]
     },
     "execution_count": 10,
     "metadata": {},
     "output_type": "execute_result"
    }
   ],
   "source": [
    "len(links_bl_load), len(res_names_load)"
   ]
  },
  {
   "cell_type": "markdown",
   "id": "fR1vM9QIyl8p",
   "metadata": {
    "id": "fR1vM9QIyl8p"
   },
   "source": [
    "## Data scraping 13"
   ]
  },
  {
   "cell_type": "code",
   "execution_count": null,
   "id": "_mmHtApJyl8q",
   "metadata": {
    "id": "_mmHtApJyl8q",
    "outputId": "88da37e3-80fe-472f-a879-1dd8f09a9e96",
    "scrolled": true
   },
   "outputs": [
    {
     "name": "stderr",
     "output_type": "stream",
     "text": [
      "/var/folders/75/xh20dgfj413gnh1kwq6jslz00000gn/T/ipykernel_15460/1078799695.py:9: DeprecationWarning: find_elements_by_* commands are deprecated. Please use find_elements() instead\n",
      "  driver.find_elements_by_class_name('fd-btn-more')[0].click()  #load more\n",
      "/var/folders/75/xh20dgfj413gnh1kwq6jslz00000gn/T/ipykernel_15460/1078799695.py:15: DeprecationWarning: find_elements_by_* commands are deprecated. Please use find_elements() instead\n",
      "  review = driver.find_elements_by_xpath(\"//div[contains(@class,'rd-des')]/span\") #get reviews\n",
      "/var/folders/75/xh20dgfj413gnh1kwq6jslz00000gn/T/ipykernel_15460/1078799695.py:16: DeprecationWarning: find_elements_by_* commands are deprecated. Please use find_elements() instead\n",
      "  score = driver.find_elements_by_xpath(\"//div[contains(@class,'review-points')]/span\") #get score\n"
     ]
    }
   ],
   "source": [
    "# data scraping 100 nhà hàng đầu tiên [0:100]\n",
    "reviews_all = []\n",
    "scores_all = []\n",
    "res_names_all = []\n",
    "for e in range(0,100):\n",
    "    driver.get(links_bl_load[e])\n",
    "    for i in range (1,50):\n",
    "        try:\n",
    "            driver.find_elements_by_class_name('fd-btn-more')[0].click()  #load more \n",
    "            sleep(2)\n",
    "        except IndexError:\n",
    "            pass\n",
    "        continue\n",
    "\n",
    "    review = driver.find_elements_by_xpath(\"//div[contains(@class,'rd-des')]/span\") #get reviews\n",
    "    score = driver.find_elements_by_xpath(\"//div[contains(@class,'review-points')]/span\") #get score\n",
    "    reviews = [x.text for x in review]\n",
    "    scores = [x.text for x in score]\n",
    "    res_names_dup = [res_names_load[e]] * min(len(reviews),len(scores[:-1]))\n",
    "    # append\n",
    "    reviews_all.append(reviews)\n",
    "    scores_all.append(scores[:-1])\n",
    "    res_names_all.append(res_names_dup)"
   ]
  },
  {
   "cell_type": "code",
   "execution_count": null,
   "id": "E9drF-ILyl8r",
   "metadata": {
    "id": "E9drF-ILyl8r",
    "outputId": "72a74508-3cdb-437a-8583-402d02044d22"
   },
   "outputs": [
    {
     "name": "stdout",
     "output_type": "stream",
     "text": [
      "2157 2157 2157\n"
     ]
    }
   ],
   "source": [
    "# flat the lists and check their length\n",
    "res_names_all2 = sum(res_names_all, [])\n",
    "reviews_all2 = sum(reviews_all, [])\n",
    "scores_all2 = sum(scores_all, [])\n",
    "print(len(reviews_all2), len(scores_all2), len(res_names_all2))"
   ]
  },
  {
   "cell_type": "code",
   "execution_count": null,
   "id": "ZzJS8MHGyl8r",
   "metadata": {
    "id": "ZzJS8MHGyl8r"
   },
   "outputs": [],
   "source": [
    "# Create dataframe and save to csv file\n",
    "dict_foody13 = {'name':res_names_all2,\n",
    "                'review_text':reviews_all2,\n",
    "                'review_score': scores_all2}\n",
    "df13 = pd.DataFrame(dict_foody13)"
   ]
  },
  {
   "cell_type": "code",
   "execution_count": null,
   "id": "6J8f-EA3yl8s",
   "metadata": {
    "id": "6J8f-EA3yl8s",
    "outputId": "b812c3aa-13a8-4d84-9b48-846d4d0067d6"
   },
   "outputs": [
    {
     "data": {
      "text/html": [
       "<div>\n",
       "<style scoped>\n",
       "    .dataframe tbody tr th:only-of-type {\n",
       "        vertical-align: middle;\n",
       "    }\n",
       "\n",
       "    .dataframe tbody tr th {\n",
       "        vertical-align: top;\n",
       "    }\n",
       "\n",
       "    .dataframe thead th {\n",
       "        text-align: right;\n",
       "    }\n",
       "</style>\n",
       "<table border=\"1\" class=\"dataframe\">\n",
       "  <thead>\n",
       "    <tr style=\"text-align: right;\">\n",
       "      <th></th>\n",
       "      <th>name</th>\n",
       "      <th>review_text</th>\n",
       "      <th>review_score</th>\n",
       "    </tr>\n",
       "  </thead>\n",
       "  <tbody>\n",
       "    <tr>\n",
       "      <th>0</th>\n",
       "      <td>Bánh Sầu Riêng 9 Sạch - Lê Lợi</td>\n",
       "      <td>Bánh ngon, mềm và thơm nứt mũi luôn ạ ☺️☺️☺️</td>\n",
       "      <td>10</td>\n",
       "    </tr>\n",
       "    <tr>\n",
       "      <th>1</th>\n",
       "      <td>Bánh Sầu Riêng 9 Sạch - Lê Lợi</td>\n",
       "      <td>Bánh ngon, mềm và thơm nứt mũi luôn ạ ☺️☺️☺️</td>\n",
       "      <td>10</td>\n",
       "    </tr>\n",
       "    <tr>\n",
       "      <th>2</th>\n",
       "      <td>Bánh Sầu Riêng 9 Sạch - Lê Lợi</td>\n",
       "      <td>Bánh ngon, mềm và thơm nứt mũi luôn ạ ☺️☺️☺️</td>\n",
       "      <td>10</td>\n",
       "    </tr>\n",
       "    <tr>\n",
       "      <th>3</th>\n",
       "      <td>Bánh Sầu Riêng 9 Sạch - Lê Lợi</td>\n",
       "      <td>Bánh ngon, mềm và thơm nứt mũi luôn ạ ☺️☺️☺️</td>\n",
       "      <td>10</td>\n",
       "    </tr>\n",
       "    <tr>\n",
       "      <th>4</th>\n",
       "      <td>Bánh Sầu Riêng 9 Sạch - Lê Lợi</td>\n",
       "      <td>Bánh ngon, mềm và thơm nứt mũi luôn ạ ☺️☺️☺️</td>\n",
       "      <td>10</td>\n",
       "    </tr>\n",
       "  </tbody>\n",
       "</table>\n",
       "</div>"
      ],
      "text/plain": [
       "                             name  \\\n",
       "0  Bánh Sầu Riêng 9 Sạch - Lê Lợi   \n",
       "1  Bánh Sầu Riêng 9 Sạch - Lê Lợi   \n",
       "2  Bánh Sầu Riêng 9 Sạch - Lê Lợi   \n",
       "3  Bánh Sầu Riêng 9 Sạch - Lê Lợi   \n",
       "4  Bánh Sầu Riêng 9 Sạch - Lê Lợi   \n",
       "\n",
       "                                    review_text review_score  \n",
       "0  Bánh ngon, mềm và thơm nứt mũi luôn ạ ☺️☺️☺️           10  \n",
       "1  Bánh ngon, mềm và thơm nứt mũi luôn ạ ☺️☺️☺️           10  \n",
       "2  Bánh ngon, mềm và thơm nứt mũi luôn ạ ☺️☺️☺️           10  \n",
       "3  Bánh ngon, mềm và thơm nứt mũi luôn ạ ☺️☺️☺️           10  \n",
       "4  Bánh ngon, mềm và thơm nứt mũi luôn ạ ☺️☺️☺️           10  "
      ]
     },
     "execution_count": 20,
     "metadata": {},
     "output_type": "execute_result"
    }
   ],
   "source": [
    "df13.head()"
   ]
  },
  {
   "cell_type": "code",
   "execution_count": null,
   "id": "ERTH6c9myl8s",
   "metadata": {
    "id": "ERTH6c9myl8s",
    "outputId": "af3b26c8-17b5-4742-daaa-d7d6a7daee07"
   },
   "outputs": [
    {
     "data": {
      "text/plain": [
       "(2157, 3)"
      ]
     },
     "execution_count": 21,
     "metadata": {},
     "output_type": "execute_result"
    }
   ],
   "source": [
    "df13.shape"
   ]
  },
  {
   "cell_type": "code",
   "execution_count": null,
   "id": "NKt1YlSWyl8s",
   "metadata": {
    "id": "NKt1YlSWyl8s"
   },
   "outputs": [],
   "source": [
    "df13.to_csv('data/foodyData13.csv')"
   ]
  },
  {
   "cell_type": "markdown",
   "id": "81d499cb",
   "metadata": {
    "id": "81d499cb"
   },
   "source": [
    "## Data scraping 14"
   ]
  },
  {
   "cell_type": "code",
   "execution_count": null,
   "id": "5877e7de",
   "metadata": {
    "id": "5877e7de",
    "outputId": "6d3815c8-6d19-49ae-accc-e22345d25952"
   },
   "outputs": [
    {
     "name": "stderr",
     "output_type": "stream",
     "text": [
      "/var/folders/75/xh20dgfj413gnh1kwq6jslz00000gn/T/ipykernel_15460/784232489.py:9: DeprecationWarning: find_elements_by_* commands are deprecated. Please use find_elements() instead\n",
      "  driver.find_elements_by_class_name('fd-btn-more')[0].click()  #load more\n",
      "/var/folders/75/xh20dgfj413gnh1kwq6jslz00000gn/T/ipykernel_15460/784232489.py:15: DeprecationWarning: find_elements_by_* commands are deprecated. Please use find_elements() instead\n",
      "  review = driver.find_elements_by_xpath(\"//div[contains(@class,'rd-des')]/span\") #get reviews\n",
      "/var/folders/75/xh20dgfj413gnh1kwq6jslz00000gn/T/ipykernel_15460/784232489.py:16: DeprecationWarning: find_elements_by_* commands are deprecated. Please use find_elements() instead\n",
      "  score = driver.find_elements_by_xpath(\"//div[contains(@class,'review-points')]/span\") #get score\n"
     ]
    }
   ],
   "source": [
    "# data scraping 100 nhà hàng đầu tiên [100:200]\n",
    "reviews_all = []\n",
    "scores_all = []\n",
    "res_names_all = []\n",
    "for e in range(100,200):\n",
    "    driver.get(links_bl_load[e])\n",
    "    for i in range (1,50):\n",
    "        try:\n",
    "            driver.find_elements_by_class_name('fd-btn-more')[0].click()  #load more \n",
    "            sleep(2)\n",
    "        except IndexError:\n",
    "            pass\n",
    "        continue\n",
    "\n",
    "    review = driver.find_elements_by_xpath(\"//div[contains(@class,'rd-des')]/span\") #get reviews\n",
    "    score = driver.find_elements_by_xpath(\"//div[contains(@class,'review-points')]/span\") #get score\n",
    "    reviews = [x.text for x in review]\n",
    "    scores = [x.text for x in score]\n",
    "    res_names_dup = [res_names_load[e]] * min(len(reviews),len(scores[:-1]))\n",
    "    # append\n",
    "    reviews_all.append(reviews)\n",
    "    scores_all.append(scores[:-1])\n",
    "    res_names_all.append(res_names_dup)"
   ]
  },
  {
   "cell_type": "code",
   "execution_count": null,
   "id": "e4f14350",
   "metadata": {
    "id": "e4f14350",
    "outputId": "d50b9dee-0174-4614-d6d4-39d5b09b68a8"
   },
   "outputs": [
    {
     "name": "stdout",
     "output_type": "stream",
     "text": [
      "1877 1877 1877\n"
     ]
    }
   ],
   "source": [
    "# flat the lists and check their length\n",
    "res_names_all2 = sum(res_names_all, [])\n",
    "reviews_all2 = sum(reviews_all, [])\n",
    "scores_all2 = sum(scores_all, [])\n",
    "print(len(reviews_all2), len(scores_all2), len(res_names_all2))"
   ]
  },
  {
   "cell_type": "code",
   "execution_count": null,
   "id": "f9d0c913",
   "metadata": {
    "id": "f9d0c913"
   },
   "outputs": [],
   "source": [
    "# Create dataframe and save to csv file\n",
    "dict_foody14 = {'name':res_names_all2,\n",
    "                'review_text':reviews_all2,\n",
    "                'review_score': scores_all2}\n",
    "df14 = pd.DataFrame(dict_foody14)"
   ]
  },
  {
   "cell_type": "code",
   "execution_count": null,
   "id": "ad3012f5",
   "metadata": {
    "id": "ad3012f5",
    "outputId": "08860a72-b19b-4888-851d-74134f2d4c0e"
   },
   "outputs": [
    {
     "data": {
      "text/html": [
       "<div>\n",
       "<style scoped>\n",
       "    .dataframe tbody tr th:only-of-type {\n",
       "        vertical-align: middle;\n",
       "    }\n",
       "\n",
       "    .dataframe tbody tr th {\n",
       "        vertical-align: top;\n",
       "    }\n",
       "\n",
       "    .dataframe thead th {\n",
       "        text-align: right;\n",
       "    }\n",
       "</style>\n",
       "<table border=\"1\" class=\"dataframe\">\n",
       "  <thead>\n",
       "    <tr style=\"text-align: right;\">\n",
       "      <th></th>\n",
       "      <th>name</th>\n",
       "      <th>review_text</th>\n",
       "      <th>review_score</th>\n",
       "    </tr>\n",
       "  </thead>\n",
       "  <tbody>\n",
       "    <tr>\n",
       "      <th>0</th>\n",
       "      <td>Bà Bê - Bánh Bèo &amp; Bánh Ướt</td>\n",
       "      <td>Mỗi lần đi chợ Cồn m đều gé ăn\\nChiều quán bán...</td>\n",
       "      <td>10</td>\n",
       "    </tr>\n",
       "    <tr>\n",
       "      <th>1</th>\n",
       "      <td>Bà Bê - Bánh Bèo &amp; Bánh Ướt</td>\n",
       "      <td>Đây là quán bánh bèo lâu năm gần nhà mình, hồi...</td>\n",
       "      <td>7.0</td>\n",
       "    </tr>\n",
       "    <tr>\n",
       "      <th>2</th>\n",
       "      <td>Bà Bê - Bánh Bèo &amp; Bánh Ướt</td>\n",
       "      <td>Quán này bán lâu lắm rồi..chỉ nhớ là tình cờ b...</td>\n",
       "      <td>8.6</td>\n",
       "    </tr>\n",
       "    <tr>\n",
       "      <th>3</th>\n",
       "      <td>Bin - Nước Dừa &amp; Bánh Tráng Dừa</td>\n",
       "      <td>Hình như đường nguyễn văn linh thay số , cả cũ...</td>\n",
       "      <td>8.2</td>\n",
       "    </tr>\n",
       "    <tr>\n",
       "      <th>4</th>\n",
       "      <td>Bin - Nước Dừa &amp; Bánh Tráng Dừa</td>\n",
       "      <td>Trước hay ăn quán ni ở ngoài đường Nguyễn Văn ...</td>\n",
       "      <td>8.4</td>\n",
       "    </tr>\n",
       "  </tbody>\n",
       "</table>\n",
       "</div>"
      ],
      "text/plain": [
       "                              name  \\\n",
       "0      Bà Bê - Bánh Bèo & Bánh Ướt   \n",
       "1      Bà Bê - Bánh Bèo & Bánh Ướt   \n",
       "2      Bà Bê - Bánh Bèo & Bánh Ướt   \n",
       "3  Bin - Nước Dừa & Bánh Tráng Dừa   \n",
       "4  Bin - Nước Dừa & Bánh Tráng Dừa   \n",
       "\n",
       "                                         review_text review_score  \n",
       "0  Mỗi lần đi chợ Cồn m đều gé ăn\\nChiều quán bán...           10  \n",
       "1  Đây là quán bánh bèo lâu năm gần nhà mình, hồi...          7.0  \n",
       "2  Quán này bán lâu lắm rồi..chỉ nhớ là tình cờ b...          8.6  \n",
       "3  Hình như đường nguyễn văn linh thay số , cả cũ...          8.2  \n",
       "4  Trước hay ăn quán ni ở ngoài đường Nguyễn Văn ...          8.4  "
      ]
     },
     "execution_count": 26,
     "metadata": {},
     "output_type": "execute_result"
    }
   ],
   "source": [
    "df14.head()"
   ]
  },
  {
   "cell_type": "code",
   "execution_count": null,
   "id": "14c5b2a0",
   "metadata": {
    "id": "14c5b2a0"
   },
   "outputs": [],
   "source": [
    "df14.to_csv('data/foodyData14.csv')"
   ]
  },
  {
   "cell_type": "markdown",
   "id": "64c3c00b",
   "metadata": {
    "id": "64c3c00b"
   },
   "source": [
    "## Data scraping 15"
   ]
  },
  {
   "cell_type": "code",
   "execution_count": null,
   "id": "e45649bb",
   "metadata": {
    "id": "e45649bb",
    "outputId": "ce42fc14-efb6-4241-af8b-a9fcc65bafdf"
   },
   "outputs": [
    {
     "name": "stderr",
     "output_type": "stream",
     "text": [
      "/var/folders/75/xh20dgfj413gnh1kwq6jslz00000gn/T/ipykernel_15460/3884381087.py:9: DeprecationWarning: find_elements_by_* commands are deprecated. Please use find_elements() instead\n",
      "  driver.find_elements_by_class_name('fd-btn-more')[0].click()  #load more\n",
      "/var/folders/75/xh20dgfj413gnh1kwq6jslz00000gn/T/ipykernel_15460/3884381087.py:15: DeprecationWarning: find_elements_by_* commands are deprecated. Please use find_elements() instead\n",
      "  review = driver.find_elements_by_xpath(\"//div[contains(@class,'rd-des')]/span\") #get reviews\n",
      "/var/folders/75/xh20dgfj413gnh1kwq6jslz00000gn/T/ipykernel_15460/3884381087.py:16: DeprecationWarning: find_elements_by_* commands are deprecated. Please use find_elements() instead\n",
      "  score = driver.find_elements_by_xpath(\"//div[contains(@class,'review-points')]/span\") #get score\n"
     ]
    }
   ],
   "source": [
    "# data scraping 100 nhà hàng đầu tiên [200:300]\n",
    "reviews_all = []\n",
    "scores_all = []\n",
    "res_names_all = []\n",
    "for e in range(200,300):\n",
    "    driver.get(links_bl_load[e])\n",
    "    for i in range (1,50):\n",
    "        try:\n",
    "            driver.find_elements_by_class_name('fd-btn-more')[0].click()  #load more \n",
    "            sleep(2)\n",
    "        except IndexError:\n",
    "            pass\n",
    "        continue\n",
    "\n",
    "    review = driver.find_elements_by_xpath(\"//div[contains(@class,'rd-des')]/span\") #get reviews\n",
    "    score = driver.find_elements_by_xpath(\"//div[contains(@class,'review-points')]/span\") #get score\n",
    "    reviews = [x.text for x in review]\n",
    "    scores = [x.text for x in score]\n",
    "    res_names_dup = [res_names_load[e]] * min(len(reviews),len(scores[:-1]))\n",
    "    # append\n",
    "    reviews_all.append(reviews)\n",
    "    scores_all.append(scores[:-1])\n",
    "    res_names_all.append(res_names_dup)"
   ]
  },
  {
   "cell_type": "code",
   "execution_count": null,
   "id": "7bbcffe6",
   "metadata": {
    "id": "7bbcffe6",
    "outputId": "906edd63-1520-4c86-c15d-f6cdf09af8ca"
   },
   "outputs": [
    {
     "name": "stdout",
     "output_type": "stream",
     "text": [
      "1553 1553 1553\n"
     ]
    }
   ],
   "source": [
    "# flat the lists and check their length\n",
    "res_names_all2 = sum(res_names_all, [])\n",
    "reviews_all2 = sum(reviews_all, [])\n",
    "scores_all2 = sum(scores_all, [])\n",
    "print(len(reviews_all2), len(scores_all2), len(res_names_all2))"
   ]
  },
  {
   "cell_type": "code",
   "execution_count": null,
   "id": "d7c0fcc7",
   "metadata": {
    "id": "d7c0fcc7"
   },
   "outputs": [],
   "source": [
    "# Create dataframe and save to csv file\n",
    "dict_foody15 = {'name':res_names_all2,\n",
    "                'review_text':reviews_all2,\n",
    "                'review_score': scores_all2}\n",
    "df15 = pd.DataFrame(dict_foody15)"
   ]
  },
  {
   "cell_type": "code",
   "execution_count": null,
   "id": "46346d45",
   "metadata": {
    "id": "46346d45",
    "outputId": "164054b9-226a-4aad-afc6-b16bdffabed6"
   },
   "outputs": [
    {
     "data": {
      "text/html": [
       "<div>\n",
       "<style scoped>\n",
       "    .dataframe tbody tr th:only-of-type {\n",
       "        vertical-align: middle;\n",
       "    }\n",
       "\n",
       "    .dataframe tbody tr th {\n",
       "        vertical-align: top;\n",
       "    }\n",
       "\n",
       "    .dataframe thead th {\n",
       "        text-align: right;\n",
       "    }\n",
       "</style>\n",
       "<table border=\"1\" class=\"dataframe\">\n",
       "  <thead>\n",
       "    <tr style=\"text-align: right;\">\n",
       "      <th></th>\n",
       "      <th>name</th>\n",
       "      <th>review_text</th>\n",
       "      <th>review_score</th>\n",
       "    </tr>\n",
       "  </thead>\n",
       "  <tbody>\n",
       "    <tr>\n",
       "      <th>0</th>\n",
       "      <td>Ahhh Sầu Riêng - Đống Đa</td>\n",
       "      <td>Không hiểu sao trời nóng là mình lại thích uốn...</td>\n",
       "      <td>8.0</td>\n",
       "    </tr>\n",
       "    <tr>\n",
       "      <th>1</th>\n",
       "      <td>Nhà Rốt - Nước Mía Sầu Riêng</td>\n",
       "      <td>Món này rất dễ gây nghiện. Ngon lắm mọi người....</td>\n",
       "      <td>9.8</td>\n",
       "    </tr>\n",
       "    <tr>\n",
       "      <th>2</th>\n",
       "      <td>Nhà Rốt - Nước Mía Sầu Riêng</td>\n",
       "      <td>Nước mía gần cty mình nên mình cũng hay đặt uố...</td>\n",
       "      <td>4.0</td>\n",
       "    </tr>\n",
       "    <tr>\n",
       "      <th>3</th>\n",
       "      <td>Nhà Rốt - Nước Mía Sầu Riêng</td>\n",
       "      <td>Ấn tượng đầu tiên với mình là cái tên, vừa lạ ...</td>\n",
       "      <td>9.0</td>\n",
       "    </tr>\n",
       "    <tr>\n",
       "      <th>4</th>\n",
       "      <td>Nhà Rốt - Nước Mía Sầu Riêng</td>\n",
       "      <td>Nghe tên món thấy lạ lạ nên đi uống thử, nước ...</td>\n",
       "      <td>6.2</td>\n",
       "    </tr>\n",
       "  </tbody>\n",
       "</table>\n",
       "</div>"
      ],
      "text/plain": [
       "                           name  \\\n",
       "0      Ahhh Sầu Riêng - Đống Đa   \n",
       "1  Nhà Rốt - Nước Mía Sầu Riêng   \n",
       "2  Nhà Rốt - Nước Mía Sầu Riêng   \n",
       "3  Nhà Rốt - Nước Mía Sầu Riêng   \n",
       "4  Nhà Rốt - Nước Mía Sầu Riêng   \n",
       "\n",
       "                                         review_text review_score  \n",
       "0  Không hiểu sao trời nóng là mình lại thích uốn...          8.0  \n",
       "1  Món này rất dễ gây nghiện. Ngon lắm mọi người....          9.8  \n",
       "2  Nước mía gần cty mình nên mình cũng hay đặt uố...          4.0  \n",
       "3  Ấn tượng đầu tiên với mình là cái tên, vừa lạ ...          9.0  \n",
       "4  Nghe tên món thấy lạ lạ nên đi uống thử, nước ...          6.2  "
      ]
     },
     "execution_count": 31,
     "metadata": {},
     "output_type": "execute_result"
    }
   ],
   "source": [
    "df15.head()"
   ]
  },
  {
   "cell_type": "code",
   "execution_count": null,
   "id": "c5e88899",
   "metadata": {
    "id": "c5e88899"
   },
   "outputs": [],
   "source": [
    "df15.to_csv('data/foodyData15.csv')"
   ]
  },
  {
   "cell_type": "markdown",
   "id": "20262104",
   "metadata": {
    "id": "20262104"
   },
   "source": [
    "## Data scraping 16"
   ]
  },
  {
   "cell_type": "code",
   "execution_count": null,
   "id": "3c9f06c1",
   "metadata": {
    "id": "3c9f06c1",
    "outputId": "878e2eee-e2fc-4cf9-e893-f1ec48c3af3a"
   },
   "outputs": [
    {
     "name": "stderr",
     "output_type": "stream",
     "text": [
      "/var/folders/75/xh20dgfj413gnh1kwq6jslz00000gn/T/ipykernel_15460/32996707.py:9: DeprecationWarning: find_elements_by_* commands are deprecated. Please use find_elements() instead\n",
      "  driver.find_elements_by_class_name('fd-btn-more')[0].click()  #load more\n",
      "/var/folders/75/xh20dgfj413gnh1kwq6jslz00000gn/T/ipykernel_15460/32996707.py:15: DeprecationWarning: find_elements_by_* commands are deprecated. Please use find_elements() instead\n",
      "  review = driver.find_elements_by_xpath(\"//div[contains(@class,'rd-des')]/span\") #get reviews\n",
      "/var/folders/75/xh20dgfj413gnh1kwq6jslz00000gn/T/ipykernel_15460/32996707.py:16: DeprecationWarning: find_elements_by_* commands are deprecated. Please use find_elements() instead\n",
      "  score = driver.find_elements_by_xpath(\"//div[contains(@class,'review-points')]/span\") #get score\n"
     ]
    }
   ],
   "source": [
    "# data scraping 100 nhà hàng đầu tiên [300:400]\n",
    "reviews_all = []\n",
    "scores_all = []\n",
    "res_names_all = []\n",
    "for e in range(300,400):\n",
    "    driver.get(links_bl_load[e])\n",
    "    for i in range (1,50):\n",
    "        try:\n",
    "            driver.find_elements_by_class_name('fd-btn-more')[0].click()  #load more \n",
    "            sleep(2)\n",
    "        except IndexError:\n",
    "            pass\n",
    "        continue\n",
    "\n",
    "    review = driver.find_elements_by_xpath(\"//div[contains(@class,'rd-des')]/span\") #get reviews\n",
    "    score = driver.find_elements_by_xpath(\"//div[contains(@class,'review-points')]/span\") #get score\n",
    "    reviews = [x.text for x in review]\n",
    "    scores = [x.text for x in score]\n",
    "    res_names_dup = [res_names_load[e]] * min(len(reviews),len(scores[:-1]))\n",
    "    # append\n",
    "    reviews_all.append(reviews)\n",
    "    scores_all.append(scores[:-1])\n",
    "    res_names_all.append(res_names_dup)"
   ]
  },
  {
   "cell_type": "code",
   "execution_count": null,
   "id": "0da76fa2",
   "metadata": {
    "id": "0da76fa2",
    "outputId": "a4d4c40e-d0c7-43d9-eefb-e02ff3923fd6"
   },
   "outputs": [
    {
     "name": "stdout",
     "output_type": "stream",
     "text": [
      "1746 1746 1746\n"
     ]
    }
   ],
   "source": [
    "# flat the lists and check their length\n",
    "res_names_all2 = sum(res_names_all, [])\n",
    "reviews_all2 = sum(reviews_all, [])\n",
    "scores_all2 = sum(scores_all, [])\n",
    "print(len(reviews_all2), len(scores_all2), len(res_names_all2))"
   ]
  },
  {
   "cell_type": "code",
   "execution_count": null,
   "id": "77832c27",
   "metadata": {
    "id": "77832c27"
   },
   "outputs": [],
   "source": [
    "# Create dataframe and save to csv file\n",
    "dict_foody16 = {'name':res_names_all2,\n",
    "                'review_text':reviews_all2,\n",
    "                'review_score': scores_all2}\n",
    "df16 = pd.DataFrame(dict_foody16)"
   ]
  },
  {
   "cell_type": "code",
   "execution_count": null,
   "id": "c64c47f5",
   "metadata": {
    "id": "c64c47f5",
    "outputId": "676e2e25-5cbc-4493-8c39-9fe99483e4fc"
   },
   "outputs": [
    {
     "data": {
      "text/html": [
       "<div>\n",
       "<style scoped>\n",
       "    .dataframe tbody tr th:only-of-type {\n",
       "        vertical-align: middle;\n",
       "    }\n",
       "\n",
       "    .dataframe tbody tr th {\n",
       "        vertical-align: top;\n",
       "    }\n",
       "\n",
       "    .dataframe thead th {\n",
       "        text-align: right;\n",
       "    }\n",
       "</style>\n",
       "<table border=\"1\" class=\"dataframe\">\n",
       "  <thead>\n",
       "    <tr style=\"text-align: right;\">\n",
       "      <th></th>\n",
       "      <th>name</th>\n",
       "      <th>review_text</th>\n",
       "      <th>review_score</th>\n",
       "    </tr>\n",
       "  </thead>\n",
       "  <tbody>\n",
       "    <tr>\n",
       "      <th>0</th>\n",
       "      <td>Takuhai Sushi</td>\n",
       "      <td>Phải nói sao nhỉ. Trước khi ăn chỗ này, mình c...</td>\n",
       "      <td>9.0</td>\n",
       "    </tr>\n",
       "    <tr>\n",
       "      <th>1</th>\n",
       "      <td>Takuhai Sushi</td>\n",
       "      <td>Tiệm sushsi bí ẩn chỉ dành cho \"đại gia\".\\nMìn...</td>\n",
       "      <td>7.0</td>\n",
       "    </tr>\n",
       "    <tr>\n",
       "      <th>2</th>\n",
       "      <td>Takuhai Sushi</td>\n",
       "      <td>Món ăn ở đây quá tuyệt vời.\\nđồ ăn dc chính đầ...</td>\n",
       "      <td>8.0</td>\n",
       "    </tr>\n",
       "    <tr>\n",
       "      <th>3</th>\n",
       "      <td>Takuhai Sushi</td>\n",
       "      <td>Quán có không gian khá nhỏ nhưng lại có vẻ ấm ...</td>\n",
       "      <td>8.0</td>\n",
       "    </tr>\n",
       "    <tr>\n",
       "      <th>4</th>\n",
       "      <td>Takuhai Sushi</td>\n",
       "      <td>Ngoài việc đồ ăn tươi ngon chế biến đơn giản n...</td>\n",
       "      <td>6.8</td>\n",
       "    </tr>\n",
       "  </tbody>\n",
       "</table>\n",
       "</div>"
      ],
      "text/plain": [
       "            name                                        review_text  \\\n",
       "0  Takuhai Sushi  Phải nói sao nhỉ. Trước khi ăn chỗ này, mình c...   \n",
       "1  Takuhai Sushi  Tiệm sushsi bí ẩn chỉ dành cho \"đại gia\".\\nMìn...   \n",
       "2  Takuhai Sushi  Món ăn ở đây quá tuyệt vời.\\nđồ ăn dc chính đầ...   \n",
       "3  Takuhai Sushi  Quán có không gian khá nhỏ nhưng lại có vẻ ấm ...   \n",
       "4  Takuhai Sushi  Ngoài việc đồ ăn tươi ngon chế biến đơn giản n...   \n",
       "\n",
       "  review_score  \n",
       "0          9.0  \n",
       "1          7.0  \n",
       "2          8.0  \n",
       "3          8.0  \n",
       "4          6.8  "
      ]
     },
     "execution_count": 36,
     "metadata": {},
     "output_type": "execute_result"
    }
   ],
   "source": [
    "df16.head()"
   ]
  },
  {
   "cell_type": "code",
   "execution_count": null,
   "id": "c7f16eb4",
   "metadata": {
    "id": "c7f16eb4"
   },
   "outputs": [],
   "source": [
    "df16.to_csv('data/foodyData16.csv')"
   ]
  },
  {
   "cell_type": "markdown",
   "id": "1dfaaf57",
   "metadata": {
    "id": "1dfaaf57"
   },
   "source": [
    "## Data scraping 17"
   ]
  },
  {
   "cell_type": "code",
   "execution_count": null,
   "id": "77b8a274",
   "metadata": {
    "id": "77b8a274",
    "outputId": "e6061a54-991d-46cf-f23c-1a948ea9bdba"
   },
   "outputs": [
    {
     "name": "stderr",
     "output_type": "stream",
     "text": [
      "/var/folders/75/xh20dgfj413gnh1kwq6jslz00000gn/T/ipykernel_15460/194666832.py:9: DeprecationWarning: find_elements_by_* commands are deprecated. Please use find_elements() instead\n",
      "  driver.find_elements_by_class_name('fd-btn-more')[0].click()  #load more\n",
      "/var/folders/75/xh20dgfj413gnh1kwq6jslz00000gn/T/ipykernel_15460/194666832.py:15: DeprecationWarning: find_elements_by_* commands are deprecated. Please use find_elements() instead\n",
      "  review = driver.find_elements_by_xpath(\"//div[contains(@class,'rd-des')]/span\") #get reviews\n",
      "/var/folders/75/xh20dgfj413gnh1kwq6jslz00000gn/T/ipykernel_15460/194666832.py:16: DeprecationWarning: find_elements_by_* commands are deprecated. Please use find_elements() instead\n",
      "  score = driver.find_elements_by_xpath(\"//div[contains(@class,'review-points')]/span\") #get score\n"
     ]
    }
   ],
   "source": [
    "# data scraping 100 nhà hàng đầu tiên [400:500]\n",
    "reviews_all = []\n",
    "scores_all = []\n",
    "res_names_all = []\n",
    "for e in range(400,500):\n",
    "    driver.get(links_bl_load[e])\n",
    "    for i in range (1,50):\n",
    "        try:\n",
    "            driver.find_elements_by_class_name('fd-btn-more')[0].click()  #load more \n",
    "            sleep(2)\n",
    "        except IndexError:\n",
    "            pass\n",
    "        continue\n",
    "\n",
    "    review = driver.find_elements_by_xpath(\"//div[contains(@class,'rd-des')]/span\") #get reviews\n",
    "    score = driver.find_elements_by_xpath(\"//div[contains(@class,'review-points')]/span\") #get score\n",
    "    reviews = [x.text for x in review]\n",
    "    scores = [x.text for x in score]\n",
    "    res_names_dup = [res_names_load[e]] * min(len(reviews),len(scores[:-1]))\n",
    "    # append\n",
    "    reviews_all.append(reviews)\n",
    "    scores_all.append(scores[:-1])\n",
    "    res_names_all.append(res_names_dup)"
   ]
  },
  {
   "cell_type": "code",
   "execution_count": null,
   "id": "5a6832ef",
   "metadata": {
    "id": "5a6832ef",
    "outputId": "4038151e-8ce6-486b-aa9c-5a9528fa0149"
   },
   "outputs": [
    {
     "name": "stdout",
     "output_type": "stream",
     "text": [
      "2011 2010 2010\n"
     ]
    }
   ],
   "source": [
    "# flat the lists and check their length\n",
    "res_names_all2 = sum(res_names_all, [])\n",
    "reviews_all2 = sum(reviews_all, [])\n",
    "scores_all2 = sum(scores_all, [])\n",
    "print(len(reviews_all2), len(scores_all2), len(res_names_all2))"
   ]
  },
  {
   "cell_type": "code",
   "execution_count": null,
   "id": "dc5ec952",
   "metadata": {
    "id": "dc5ec952"
   },
   "outputs": [],
   "source": [
    "# dictionary_products\n",
    "dictionary_test1 = {'name':res_names_all,\n",
    "                      'review_text':reviews_all,\n",
    "                      'review_score': scores_all}\n",
    "df_test1 = pd.DataFrame(dictionary_test1)"
   ]
  },
  {
   "cell_type": "code",
   "execution_count": null,
   "id": "ca5c8302",
   "metadata": {
    "id": "ca5c8302"
   },
   "outputs": [],
   "source": [
    "df_test1['len_review'] = df_test1.review_text.apply(lambda x: len(x))\n",
    "df_test1['len_score'] = df_test1.review_score.apply(lambda x: len(x))"
   ]
  },
  {
   "cell_type": "code",
   "execution_count": null,
   "id": "97f3ec2e",
   "metadata": {
    "id": "97f3ec2e",
    "outputId": "1b279d05-d07d-4c3e-97e4-cb34c6ab2a43"
   },
   "outputs": [
    {
     "data": {
      "text/html": [
       "<div>\n",
       "<style scoped>\n",
       "    .dataframe tbody tr th:only-of-type {\n",
       "        vertical-align: middle;\n",
       "    }\n",
       "\n",
       "    .dataframe tbody tr th {\n",
       "        vertical-align: top;\n",
       "    }\n",
       "\n",
       "    .dataframe thead th {\n",
       "        text-align: right;\n",
       "    }\n",
       "</style>\n",
       "<table border=\"1\" class=\"dataframe\">\n",
       "  <thead>\n",
       "    <tr style=\"text-align: right;\">\n",
       "      <th></th>\n",
       "      <th>name</th>\n",
       "      <th>review_text</th>\n",
       "      <th>review_score</th>\n",
       "      <th>len_review</th>\n",
       "      <th>len_score</th>\n",
       "    </tr>\n",
       "  </thead>\n",
       "  <tbody>\n",
       "    <tr>\n",
       "      <th>59</th>\n",
       "      <td>[Cơm Chay Đà Nẵng, Cơm Chay Đà Nẵng, Cơm Chay ...</td>\n",
       "      <td>[Mình đã ghé qua nhiều lần, quán bán nhiều món...</td>\n",
       "      <td>[9.8, 2.0, 7.0, 5.0, 2.4, 8.0, 4.6, 9.2, 1.0, ...</td>\n",
       "      <td>60</td>\n",
       "      <td>59</td>\n",
       "    </tr>\n",
       "  </tbody>\n",
       "</table>\n",
       "</div>"
      ],
      "text/plain": [
       "                                                 name  \\\n",
       "59  [Cơm Chay Đà Nẵng, Cơm Chay Đà Nẵng, Cơm Chay ...   \n",
       "\n",
       "                                          review_text  \\\n",
       "59  [Mình đã ghé qua nhiều lần, quán bán nhiều món...   \n",
       "\n",
       "                                         review_score  len_review  len_score  \n",
       "59  [9.8, 2.0, 7.0, 5.0, 2.4, 8.0, 4.6, 9.2, 1.0, ...          60         59  "
      ]
     },
     "execution_count": 42,
     "metadata": {},
     "output_type": "execute_result"
    }
   ],
   "source": [
    "df_test1[df_test1['len_review'] != df_test1['len_score']]"
   ]
  },
  {
   "cell_type": "code",
   "execution_count": null,
   "id": "3d999f95",
   "metadata": {
    "id": "3d999f95"
   },
   "outputs": [],
   "source": [
    "del reviews_all[59]\n",
    "del scores_all[59]\n",
    "del res_names_all[59]"
   ]
  },
  {
   "cell_type": "code",
   "execution_count": null,
   "id": "2420c96e",
   "metadata": {
    "id": "2420c96e",
    "outputId": "3363545f-0eb9-4878-e4de-53230980943f"
   },
   "outputs": [
    {
     "name": "stdout",
     "output_type": "stream",
     "text": [
      "1951 1951 1951\n"
     ]
    }
   ],
   "source": [
    "# flat the lists and check their length\n",
    "res_names_all2 = sum(res_names_all, [])\n",
    "reviews_all2 = sum(reviews_all, [])\n",
    "scores_all2 = sum(scores_all, [])\n",
    "print(len(reviews_all2), len(scores_all2), len(res_names_all2))"
   ]
  },
  {
   "cell_type": "code",
   "execution_count": null,
   "id": "c6e7af84",
   "metadata": {
    "id": "c6e7af84"
   },
   "outputs": [],
   "source": [
    "dict_foody17 = {'name':res_names_all2,\n",
    "                'review_text':reviews_all2,\n",
    "                'review_score': scores_all2}\n",
    "df17 = pd.DataFrame(dict_foody17)"
   ]
  },
  {
   "cell_type": "code",
   "execution_count": null,
   "id": "d090888a",
   "metadata": {
    "id": "d090888a",
    "outputId": "c26b525a-bc1e-4425-cabf-97feb865c540"
   },
   "outputs": [
    {
     "data": {
      "text/html": [
       "<div>\n",
       "<style scoped>\n",
       "    .dataframe tbody tr th:only-of-type {\n",
       "        vertical-align: middle;\n",
       "    }\n",
       "\n",
       "    .dataframe tbody tr th {\n",
       "        vertical-align: top;\n",
       "    }\n",
       "\n",
       "    .dataframe thead th {\n",
       "        text-align: right;\n",
       "    }\n",
       "</style>\n",
       "<table border=\"1\" class=\"dataframe\">\n",
       "  <thead>\n",
       "    <tr style=\"text-align: right;\">\n",
       "      <th></th>\n",
       "      <th>name</th>\n",
       "      <th>review_text</th>\n",
       "      <th>review_score</th>\n",
       "    </tr>\n",
       "  </thead>\n",
       "  <tbody>\n",
       "    <tr>\n",
       "      <th>0</th>\n",
       "      <td>Quán Nhân - Cháo Vịt</td>\n",
       "      <td>Thịt vịt khô, thơm, ngọt ngon. Cháo cũng vừa ă...</td>\n",
       "      <td>8.4</td>\n",
       "    </tr>\n",
       "    <tr>\n",
       "      <th>1</th>\n",
       "      <td>Bánh Tráng Nướng Đà Lạt NTP</td>\n",
       "      <td>Bánh tráng nướng bỏ nhiều mayonaise nên hơi ch...</td>\n",
       "      <td>7.8</td>\n",
       "    </tr>\n",
       "    <tr>\n",
       "      <th>2</th>\n",
       "      <td>Bánh Tráng Nướng Đà Lạt NTP</td>\n",
       "      <td>Quán nằm ngay đầu hẻm 78 Ph. Thanh. Chỗ ngồi l...</td>\n",
       "      <td>6.4</td>\n",
       "    </tr>\n",
       "    <tr>\n",
       "      <th>3</th>\n",
       "      <td>Bánh Tráng Nướng - Phan Châu Trinh</td>\n",
       "      <td>Chiều chiều buồn miệng thì ăn gì nhỉ. 😜 🔆 Kiếm...</td>\n",
       "      <td>5.0</td>\n",
       "    </tr>\n",
       "    <tr>\n",
       "      <th>4</th>\n",
       "      <td>Bánh Tráng Nướng - Phan Châu Trinh</td>\n",
       "      <td>Mình ăn cũng gần hết các quán bánh tráng có ti...</td>\n",
       "      <td>3.8</td>\n",
       "    </tr>\n",
       "  </tbody>\n",
       "</table>\n",
       "</div>"
      ],
      "text/plain": [
       "                                 name  \\\n",
       "0                Quán Nhân - Cháo Vịt   \n",
       "1         Bánh Tráng Nướng Đà Lạt NTP   \n",
       "2         Bánh Tráng Nướng Đà Lạt NTP   \n",
       "3  Bánh Tráng Nướng - Phan Châu Trinh   \n",
       "4  Bánh Tráng Nướng - Phan Châu Trinh   \n",
       "\n",
       "                                         review_text review_score  \n",
       "0  Thịt vịt khô, thơm, ngọt ngon. Cháo cũng vừa ă...          8.4  \n",
       "1  Bánh tráng nướng bỏ nhiều mayonaise nên hơi ch...          7.8  \n",
       "2  Quán nằm ngay đầu hẻm 78 Ph. Thanh. Chỗ ngồi l...          6.4  \n",
       "3  Chiều chiều buồn miệng thì ăn gì nhỉ. 😜 🔆 Kiếm...          5.0  \n",
       "4  Mình ăn cũng gần hết các quán bánh tráng có ti...          3.8  "
      ]
     },
     "execution_count": 46,
     "metadata": {},
     "output_type": "execute_result"
    }
   ],
   "source": [
    "df17.head()"
   ]
  },
  {
   "cell_type": "code",
   "execution_count": null,
   "id": "d3b7a65d",
   "metadata": {
    "id": "d3b7a65d"
   },
   "outputs": [],
   "source": [
    "df17.to_csv('data/foodyData17.csv')"
   ]
  },
  {
   "cell_type": "markdown",
   "id": "07d70103",
   "metadata": {
    "id": "07d70103"
   },
   "source": [
    "## Data scraping 18"
   ]
  },
  {
   "cell_type": "code",
   "execution_count": null,
   "id": "c9c3a113",
   "metadata": {
    "id": "c9c3a113",
    "outputId": "9fc50e09-1549-4017-9bfb-f4b3df5bebd9"
   },
   "outputs": [
    {
     "name": "stderr",
     "output_type": "stream",
     "text": [
      "/var/folders/75/xh20dgfj413gnh1kwq6jslz00000gn/T/ipykernel_15460/3545209870.py:9: DeprecationWarning: find_elements_by_* commands are deprecated. Please use find_elements() instead\n",
      "  driver.find_elements_by_class_name('fd-btn-more')[0].click()  #load more\n",
      "/var/folders/75/xh20dgfj413gnh1kwq6jslz00000gn/T/ipykernel_15460/3545209870.py:15: DeprecationWarning: find_elements_by_* commands are deprecated. Please use find_elements() instead\n",
      "  review = driver.find_elements_by_xpath(\"//div[contains(@class,'rd-des')]/span\") #get reviews\n",
      "/var/folders/75/xh20dgfj413gnh1kwq6jslz00000gn/T/ipykernel_15460/3545209870.py:16: DeprecationWarning: find_elements_by_* commands are deprecated. Please use find_elements() instead\n",
      "  score = driver.find_elements_by_xpath(\"//div[contains(@class,'review-points')]/span\") #get score\n"
     ]
    }
   ],
   "source": [
    "# data scraping 124 nhà hàng cuối cùng [500:624]\n",
    "reviews_all = []\n",
    "scores_all = []\n",
    "res_names_all = []\n",
    "for e in range(500,624):\n",
    "    driver.get(links_bl_load[e])\n",
    "    for i in range (1,50):\n",
    "        try:\n",
    "            driver.find_elements_by_class_name('fd-btn-more')[0].click()  #load more \n",
    "            sleep(2)\n",
    "        except IndexError:\n",
    "            pass\n",
    "        continue\n",
    "\n",
    "    review = driver.find_elements_by_xpath(\"//div[contains(@class,'rd-des')]/span\") #get reviews\n",
    "    score = driver.find_elements_by_xpath(\"//div[contains(@class,'review-points')]/span\") #get score\n",
    "    reviews = [x.text for x in review]\n",
    "    scores = [x.text for x in score]\n",
    "    res_names_dup = [res_names_load[e]] * min(len(reviews),len(scores[:-1]))\n",
    "    # append\n",
    "    reviews_all.append(reviews)\n",
    "    scores_all.append(scores[:-1])\n",
    "    res_names_all.append(res_names_dup)"
   ]
  },
  {
   "cell_type": "code",
   "execution_count": null,
   "id": "c02e82a5",
   "metadata": {
    "id": "c02e82a5",
    "outputId": "b641fe7d-a6de-4773-d693-d3d91292dcbf"
   },
   "outputs": [
    {
     "name": "stdout",
     "output_type": "stream",
     "text": [
      "1993 1993 1993\n"
     ]
    }
   ],
   "source": [
    "# flat the lists and check their length\n",
    "res_names_all2 = sum(res_names_all, [])\n",
    "reviews_all2 = sum(reviews_all, [])\n",
    "scores_all2 = sum(scores_all, [])\n",
    "print(len(reviews_all2), len(scores_all2), len(res_names_all2))"
   ]
  },
  {
   "cell_type": "code",
   "execution_count": null,
   "id": "77ac1f24",
   "metadata": {
    "id": "77ac1f24"
   },
   "outputs": [],
   "source": [
    "dict_foody18 = {'name':res_names_all2,\n",
    "                'review_text':reviews_all2,\n",
    "                'review_score': scores_all2}\n",
    "df18 = pd.DataFrame(dict_foody18)"
   ]
  },
  {
   "cell_type": "code",
   "execution_count": null,
   "id": "c460eea9",
   "metadata": {
    "id": "c460eea9",
    "outputId": "7fc83532-4a4e-46ba-be98-aea8947fd4e9"
   },
   "outputs": [
    {
     "data": {
      "text/html": [
       "<div>\n",
       "<style scoped>\n",
       "    .dataframe tbody tr th:only-of-type {\n",
       "        vertical-align: middle;\n",
       "    }\n",
       "\n",
       "    .dataframe tbody tr th {\n",
       "        vertical-align: top;\n",
       "    }\n",
       "\n",
       "    .dataframe thead th {\n",
       "        text-align: right;\n",
       "    }\n",
       "</style>\n",
       "<table border=\"1\" class=\"dataframe\">\n",
       "  <thead>\n",
       "    <tr style=\"text-align: right;\">\n",
       "      <th></th>\n",
       "      <th>name</th>\n",
       "      <th>review_text</th>\n",
       "      <th>review_score</th>\n",
       "    </tr>\n",
       "  </thead>\n",
       "  <tbody>\n",
       "    <tr>\n",
       "      <th>0</th>\n",
       "      <td>Y Vân Quán - Bún - Mì Quảng &amp; Bánh Xèo</td>\n",
       "      <td>Tuy bún đầy đủ rau, thịt nhưng nước nấu quá dở...</td>\n",
       "      <td>4.4</td>\n",
       "    </tr>\n",
       "    <tr>\n",
       "      <th>1</th>\n",
       "      <td>Xôi Hong 7 Màu</td>\n",
       "      <td>Xa so với trung tâm nên dù có thích cũng lâu l...</td>\n",
       "      <td>7.0</td>\n",
       "    </tr>\n",
       "    <tr>\n",
       "      <th>2</th>\n",
       "      <td>Xôi Hong 7 Màu</td>\n",
       "      <td>Xôi ngon nhá, mặn có, ngọt có, quán chỉ bán bu...</td>\n",
       "      <td>7.2</td>\n",
       "    </tr>\n",
       "    <tr>\n",
       "      <th>3</th>\n",
       "      <td>Xôi Hong 7 Màu</td>\n",
       "      <td>Mình ở ks gần nên sáng quyết định đi bộ sang m...</td>\n",
       "      <td>7.4</td>\n",
       "    </tr>\n",
       "    <tr>\n",
       "      <th>4</th>\n",
       "      <td>Xôi Hong 7 Màu</td>\n",
       "      <td>Quán này chỉ bán buổi sáng thôi chứ không bán ...</td>\n",
       "      <td>9.0</td>\n",
       "    </tr>\n",
       "  </tbody>\n",
       "</table>\n",
       "</div>"
      ],
      "text/plain": [
       "                                     name  \\\n",
       "0  Y Vân Quán - Bún - Mì Quảng & Bánh Xèo   \n",
       "1                          Xôi Hong 7 Màu   \n",
       "2                          Xôi Hong 7 Màu   \n",
       "3                          Xôi Hong 7 Màu   \n",
       "4                          Xôi Hong 7 Màu   \n",
       "\n",
       "                                         review_text review_score  \n",
       "0  Tuy bún đầy đủ rau, thịt nhưng nước nấu quá dở...          4.4  \n",
       "1  Xa so với trung tâm nên dù có thích cũng lâu l...          7.0  \n",
       "2  Xôi ngon nhá, mặn có, ngọt có, quán chỉ bán bu...          7.2  \n",
       "3  Mình ở ks gần nên sáng quyết định đi bộ sang m...          7.4  \n",
       "4  Quán này chỉ bán buổi sáng thôi chứ không bán ...          9.0  "
      ]
     },
     "execution_count": 53,
     "metadata": {},
     "output_type": "execute_result"
    }
   ],
   "source": [
    "df18.head()"
   ]
  },
  {
   "cell_type": "code",
   "execution_count": null,
   "id": "6a2e8b65",
   "metadata": {
    "id": "6a2e8b65"
   },
   "outputs": [],
   "source": [
    "df18.to_csv('data/foodyData18.csv')"
   ]
  },
  {
   "cell_type": "markdown",
   "id": "3VQIGmyA42On",
   "metadata": {
    "id": "3VQIGmyA42On"
   },
   "source": [
    "# Foody_HaiPhong"
   ]
  },
  {
   "cell_type": "code",
   "execution_count": 39,
   "id": "ODetcuhj451P",
   "metadata": {
    "id": "ODetcuhj451P"
   },
   "outputs": [],
   "source": [
    "# get links and names of restaurant\n",
    "def get_links_names(driver):\n",
    "    for i in range (1,50):\n",
    "        try:\n",
    "            driver.find_elements_by_class_name('fd-btn-more')[0].click()\n",
    "            sleep(2)\n",
    "        except IndexError:\n",
    "            pass\n",
    "        continue\n",
    "    res = driver.find_elements_by_xpath(\"//div[contains(@class,'fd-text-ellip')]/a\")\n",
    "    res_names = [x.text for x in res]\n",
    "    links = [x.get_attribute('href') for x in res]\n",
    "    print('Số lượng nhà hàng',len(res_names))\n",
    "    print('Số lượng link:',len(links))\n",
    "\n",
    "#     # add thêm '/binh-luan' ở cuối link để truy cập vào phần bình luận của mỗi nhà hàng\n",
    "#     links_bl = []\n",
    "#     for l in links:\n",
    "#         links_bl.append(l +'/binh-luan')\n",
    "#     print('Số lượng link:',len(links_bl))\n",
    "    return links, res_names"
   ]
  },
  {
   "cell_type": "code",
   "execution_count": 5,
   "id": "wBaDTZWn451Q",
   "metadata": {
    "id": "wBaDTZWn451Q"
   },
   "outputs": [],
   "source": [
    "# Save results to csv\n",
    "def save_links_names(data, path):\n",
    "    with open(path, 'wt') as myfile:\n",
    "        wr = csv.writer(myfile, quoting=csv.QUOTE_ALL)\n",
    "        wr.writerow(data)"
   ]
  },
  {
   "cell_type": "code",
   "execution_count": 80,
   "id": "wGiAR9j2451R",
   "metadata": {
    "id": "wGiAR9j2451R"
   },
   "outputs": [],
   "source": [
    "# data scraping 100 nhà hàng đầu tiên [0:100]\n",
    "def data_scraping(res_range, links_bl_load, res_names_load):\n",
    "    reviews_all = []\n",
    "    scores_all = []\n",
    "    res_names_all = []\n",
    "    for e in res_range:\n",
    "        driver.get(links_bl_load[e])\n",
    "        for i in range (1,50):\n",
    "            try:\n",
    "                driver.find_elements_by_class_name('fd-btn-more')[0].click()  #load more \n",
    "                sleep(2)\n",
    "            except IndexError:\n",
    "                pass\n",
    "            continue\n",
    "\n",
    "    review = driver.find_elements_by_xpath(\"//div[contains(@class,'rd-des')]/span\") #get reviews\n",
    "    score = driver.find_elements_by_xpath(\"//div[contains(@class,'review-points')]/span\") #get score\n",
    "    reviews = [x.text for x in review]\n",
    "    scores = [x.text for x in score]\n",
    "    res_names_dup = [res_names_load[e]] * min(len(reviews),len(scores[:-1]))\n",
    "    # append\n",
    "    reviews_all.append(reviews)\n",
    "    scores_all.append(scores[:-1])\n",
    "    res_names_all.append(res_names_dup)\n",
    "    return res_names_all, reviews_all, scores_all"
   ]
  },
  {
   "cell_type": "code",
   "execution_count": 7,
   "id": "DJCHa7Ij451S",
   "metadata": {
    "id": "DJCHa7Ij451S"
   },
   "outputs": [],
   "source": [
    "# flat the lists and check their length\n",
    "def flaten_list(res_names_all, reviews_all, scores_all):\n",
    "    res_names_all2 = sum(res_names_all, [])\n",
    "    reviews_all2 = sum(reviews_all, [])\n",
    "    scores_all2 = sum(scores_all, [])\n",
    "    print(len(reviews_all2), len(scores_all2), len(res_names_all2))\n",
    "    return res_names_all2, reviews_all2, scores_all2"
   ]
  },
  {
   "cell_type": "code",
   "execution_count": 44,
   "id": "708a9b1c",
   "metadata": {},
   "outputs": [
    {
     "name": "stderr",
     "output_type": "stream",
     "text": [
      "\n",
      "\n",
      "====== WebDriver manager ======\n",
      "Current google-chrome version is 99.0.4844\n",
      "Get LATEST chromedriver version for 99.0.4844 google-chrome\n",
      "Driver [/Users/elliedam/.wdm/drivers/chromedriver/mac64/99.0.4844.51/chromedriver] found in cache\n",
      "/var/folders/75/xh20dgfj413gnh1kwq6jslz00000gn/T/ipykernel_20620/1503906442.py:1: DeprecationWarning: executable_path has been deprecated, please pass in a Service object\n",
      "  driver = webdriver.Chrome(ChromeDriverManager().install())\n"
     ]
    }
   ],
   "source": [
    "driver = webdriver.Chrome(ChromeDriverManager().install())"
   ]
  },
  {
   "cell_type": "code",
   "execution_count": 45,
   "id": "GRQJ1Zy95CDr",
   "metadata": {
    "id": "GRQJ1Zy95CDr"
   },
   "outputs": [],
   "source": [
    "driver.get('https://www.foody.vn/hai-phong')"
   ]
  },
  {
   "cell_type": "code",
   "execution_count": 46,
   "id": "9_ljluvX5Jnk",
   "metadata": {
    "id": "9_ljluvX5Jnk"
   },
   "outputs": [
    {
     "name": "stderr",
     "output_type": "stream",
     "text": [
      "/var/folders/75/xh20dgfj413gnh1kwq6jslz00000gn/T/ipykernel_20620/1303928511.py:5: DeprecationWarning: find_elements_by_* commands are deprecated. Please use find_elements() instead\n",
      "  driver.find_elements_by_class_name('fd-btn-more')[0].click()\n",
      "/var/folders/75/xh20dgfj413gnh1kwq6jslz00000gn/T/ipykernel_20620/1303928511.py:10: DeprecationWarning: find_elements_by_* commands are deprecated. Please use find_elements() instead\n",
      "  res = driver.find_elements_by_xpath(\"//div[contains(@class,'fd-text-ellip')]/a\")\n"
     ]
    },
    {
     "name": "stdout",
     "output_type": "stream",
     "text": [
      "Số lượng nhà hàng 600\n",
      "Số lượng link: 600\n"
     ]
    }
   ],
   "source": [
    "# get links and names of restaurant\n",
    "links, res_names = get_links_names(driver)"
   ]
  },
  {
   "cell_type": "code",
   "execution_count": 58,
   "id": "3a01b068",
   "metadata": {},
   "outputs": [],
   "source": [
    "del links[500] #3, 127"
   ]
  },
  {
   "cell_type": "code",
   "execution_count": 62,
   "id": "916d9a39",
   "metadata": {},
   "outputs": [],
   "source": [
    "del res_names[3]\n",
    "del res_names[127]\n",
    "del res_names[500]"
   ]
  },
  {
   "cell_type": "code",
   "execution_count": 63,
   "id": "d11aad17",
   "metadata": {},
   "outputs": [
    {
     "data": {
      "text/plain": [
       "(597, 597)"
      ]
     },
     "execution_count": 63,
     "metadata": {},
     "output_type": "execute_result"
    }
   ],
   "source": [
    "len(links), len(res_names)"
   ]
  },
  {
   "cell_type": "code",
   "execution_count": 64,
   "id": "4dce1d95",
   "metadata": {},
   "outputs": [
    {
     "name": "stdout",
     "output_type": "stream",
     "text": [
      "Số lượng link: 597\n"
     ]
    }
   ],
   "source": [
    "# add thêm '/binh-luan' ở cuối link để truy cập vào phần bình luận của mỗi nhà hàng\n",
    "links_bl = []\n",
    "for l in links:\n",
    "    links_bl.append(l +'/binh-luan')\n",
    "print('Số lượng link:',len(links_bl))"
   ]
  },
  {
   "cell_type": "code",
   "execution_count": 65,
   "id": "b3TM40Hq5QhH",
   "metadata": {
    "id": "b3TM40Hq5QhH"
   },
   "outputs": [],
   "source": [
    "# Save results to csv\n",
    "save_links_names(links_bl, 'data/foody_links_bl4.csv')\n",
    "save_links_names(res_names, 'data/foody_res_names4.csv')"
   ]
  },
  {
   "cell_type": "code",
   "execution_count": 75,
   "id": "39M1hyxf5Qav",
   "metadata": {
    "id": "39M1hyxf5Qav"
   },
   "outputs": [],
   "source": [
    "# Load files\n",
    "links_bl_load = pd.read_csv('data/foody_links_bl4.csv', header=None)\n",
    "res_names_load = pd.read_csv('data/foody_res_names4.csv', header=None)"
   ]
  },
  {
   "cell_type": "code",
   "execution_count": 76,
   "id": "57b59165",
   "metadata": {},
   "outputs": [],
   "source": [
    "links_bl_load = list(links_bl_load.iloc[0,:].values)\n",
    "res_names_load = list(res_names_load.iloc[0,:].values)"
   ]
  },
  {
   "cell_type": "code",
   "execution_count": 84,
   "id": "NH263oBz5wJh",
   "metadata": {
    "id": "NH263oBz5wJh"
   },
   "outputs": [
    {
     "name": "stderr",
     "output_type": "stream",
     "text": [
      "/var/folders/75/xh20dgfj413gnh1kwq6jslz00000gn/T/ipykernel_20620/1078799695.py:9: DeprecationWarning: find_elements_by_* commands are deprecated. Please use find_elements() instead\n",
      "  driver.find_elements_by_class_name('fd-btn-more')[0].click()  #load more\n",
      "/var/folders/75/xh20dgfj413gnh1kwq6jslz00000gn/T/ipykernel_20620/1078799695.py:15: DeprecationWarning: find_elements_by_* commands are deprecated. Please use find_elements() instead\n",
      "  review = driver.find_elements_by_xpath(\"//div[contains(@class,'rd-des')]/span\") #get reviews\n",
      "/var/folders/75/xh20dgfj413gnh1kwq6jslz00000gn/T/ipykernel_20620/1078799695.py:16: DeprecationWarning: find_elements_by_* commands are deprecated. Please use find_elements() instead\n",
      "  score = driver.find_elements_by_xpath(\"//div[contains(@class,'review-points')]/span\") #get score\n"
     ]
    }
   ],
   "source": [
    "# data scraping 100 nhà hàng đầu tiên [0:100]\n",
    "reviews_all = []\n",
    "scores_all = []\n",
    "res_names_all = []\n",
    "for e in range(0,100):\n",
    "    driver.get(links_bl_load[e])\n",
    "    for i in range (1,50):\n",
    "        try:\n",
    "            driver.find_elements_by_class_name('fd-btn-more')[0].click()  #load more \n",
    "            sleep(2)\n",
    "        except IndexError:\n",
    "            pass\n",
    "        continue\n",
    "\n",
    "    review = driver.find_elements_by_xpath(\"//div[contains(@class,'rd-des')]/span\") #get reviews\n",
    "    score = driver.find_elements_by_xpath(\"//div[contains(@class,'review-points')]/span\") #get score\n",
    "    reviews = [x.text for x in review]\n",
    "    scores = [x.text for x in score]\n",
    "    res_names_dup = [res_names_load[e]] * min(len(reviews),len(scores[:-1]))\n",
    "    # append\n",
    "    reviews_all.append(reviews)\n",
    "    scores_all.append(scores[:-1])\n",
    "    res_names_all.append(res_names_dup)"
   ]
  },
  {
   "cell_type": "code",
   "execution_count": 85,
   "id": "S192r9Ch59yh",
   "metadata": {
    "id": "S192r9Ch59yh"
   },
   "outputs": [
    {
     "name": "stdout",
     "output_type": "stream",
     "text": [
      "1901 1901 1901\n"
     ]
    }
   ],
   "source": [
    "# flat the lists and check their length\n",
    "res_names_all2, reviews_all2, scores_all2 = flaten_list(res_names_all, reviews_all, scores_all)"
   ]
  },
  {
   "cell_type": "code",
   "execution_count": 86,
   "id": "YCFXpUfs6Dv2",
   "metadata": {
    "id": "YCFXpUfs6Dv2"
   },
   "outputs": [
    {
     "name": "stdout",
     "output_type": "stream",
     "text": [
      "(1901, 3)\n"
     ]
    },
    {
     "data": {
      "text/html": [
       "<div>\n",
       "<style scoped>\n",
       "    .dataframe tbody tr th:only-of-type {\n",
       "        vertical-align: middle;\n",
       "    }\n",
       "\n",
       "    .dataframe tbody tr th {\n",
       "        vertical-align: top;\n",
       "    }\n",
       "\n",
       "    .dataframe thead th {\n",
       "        text-align: right;\n",
       "    }\n",
       "</style>\n",
       "<table border=\"1\" class=\"dataframe\">\n",
       "  <thead>\n",
       "    <tr style=\"text-align: right;\">\n",
       "      <th></th>\n",
       "      <th>name</th>\n",
       "      <th>review_text</th>\n",
       "      <th>review_score</th>\n",
       "    </tr>\n",
       "  </thead>\n",
       "  <tbody>\n",
       "    <tr>\n",
       "      <th>0</th>\n",
       "      <td>Ốc Các Loại - Thiên Lôi</td>\n",
       "      <td>Lâu lâu không ăn ốc lại lên cơn thèm, thế là r...</td>\n",
       "      <td>7.0</td>\n",
       "    </tr>\n",
       "    <tr>\n",
       "      <th>1</th>\n",
       "      <td>Ốc Các Loại - Thiên Lôi</td>\n",
       "      <td>Ốc hẳn là món ăn vặt khoải khẩu của đa số mọi ...</td>\n",
       "      <td>7.0</td>\n",
       "    </tr>\n",
       "    <tr>\n",
       "      <th>2</th>\n",
       "      <td>Ốc Các Loại - Thiên Lôi</td>\n",
       "      <td>Ngon ngon ngon !!!\\nMình khá thích ăn ốc, được...</td>\n",
       "      <td>8.2</td>\n",
       "    </tr>\n",
       "    <tr>\n",
       "      <th>3</th>\n",
       "      <td>Ốc Các Loại - Thiên Lôi</td>\n",
       "      <td>Quán này nằm ngay mặt đường Thiên Lôi, ngay đo...</td>\n",
       "      <td>7.8</td>\n",
       "    </tr>\n",
       "    <tr>\n",
       "      <th>4</th>\n",
       "      <td>Ốc Các Loại - Thiên Lôi</td>\n",
       "      <td>Quán hơi xa nhà mình xíu, nằm ở mặt đường Thiê...</td>\n",
       "      <td>8.0</td>\n",
       "    </tr>\n",
       "  </tbody>\n",
       "</table>\n",
       "</div>"
      ],
      "text/plain": [
       "                      name                                        review_text  \\\n",
       "0  Ốc Các Loại - Thiên Lôi  Lâu lâu không ăn ốc lại lên cơn thèm, thế là r...   \n",
       "1  Ốc Các Loại - Thiên Lôi  Ốc hẳn là món ăn vặt khoải khẩu của đa số mọi ...   \n",
       "2  Ốc Các Loại - Thiên Lôi  Ngon ngon ngon !!!\\nMình khá thích ăn ốc, được...   \n",
       "3  Ốc Các Loại - Thiên Lôi  Quán này nằm ngay mặt đường Thiên Lôi, ngay đo...   \n",
       "4  Ốc Các Loại - Thiên Lôi  Quán hơi xa nhà mình xíu, nằm ở mặt đường Thiê...   \n",
       "\n",
       "  review_score  \n",
       "0          7.0  \n",
       "1          7.0  \n",
       "2          8.2  \n",
       "3          7.8  \n",
       "4          8.0  "
      ]
     },
     "execution_count": 86,
     "metadata": {},
     "output_type": "execute_result"
    }
   ],
   "source": [
    "dict_foody19 = {'name':res_names_all2,\n",
    "                'review_text':reviews_all2,\n",
    "                'review_score': scores_all2}\n",
    "df19 = pd.DataFrame(dict_foody19)\n",
    "print(df19.shape)\n",
    "df19.head()"
   ]
  },
  {
   "cell_type": "code",
   "execution_count": 87,
   "id": "ntyOxRiI6R8a",
   "metadata": {
    "id": "ntyOxRiI6R8a"
   },
   "outputs": [],
   "source": [
    "df19.to_csv('data/foodyData19.csv')"
   ]
  },
  {
   "cell_type": "code",
   "execution_count": 88,
   "id": "ea0ef9a4",
   "metadata": {},
   "outputs": [
    {
     "name": "stderr",
     "output_type": "stream",
     "text": [
      "/var/folders/75/xh20dgfj413gnh1kwq6jslz00000gn/T/ipykernel_20620/784232489.py:9: DeprecationWarning: find_elements_by_* commands are deprecated. Please use find_elements() instead\n",
      "  driver.find_elements_by_class_name('fd-btn-more')[0].click()  #load more\n",
      "/var/folders/75/xh20dgfj413gnh1kwq6jslz00000gn/T/ipykernel_20620/784232489.py:15: DeprecationWarning: find_elements_by_* commands are deprecated. Please use find_elements() instead\n",
      "  review = driver.find_elements_by_xpath(\"//div[contains(@class,'rd-des')]/span\") #get reviews\n",
      "/var/folders/75/xh20dgfj413gnh1kwq6jslz00000gn/T/ipykernel_20620/784232489.py:16: DeprecationWarning: find_elements_by_* commands are deprecated. Please use find_elements() instead\n",
      "  score = driver.find_elements_by_xpath(\"//div[contains(@class,'review-points')]/span\") #get score\n"
     ]
    }
   ],
   "source": [
    "# data scraping 100 nhà hàng đầu tiên [100:200]\n",
    "reviews_all = []\n",
    "scores_all = []\n",
    "res_names_all = []\n",
    "for e in range(100,200):\n",
    "    driver.get(links_bl_load[e])\n",
    "    for i in range (1,50):\n",
    "        try:\n",
    "            driver.find_elements_by_class_name('fd-btn-more')[0].click()  #load more \n",
    "            sleep(2)\n",
    "        except IndexError:\n",
    "            pass\n",
    "        continue\n",
    "\n",
    "    review = driver.find_elements_by_xpath(\"//div[contains(@class,'rd-des')]/span\") #get reviews\n",
    "    score = driver.find_elements_by_xpath(\"//div[contains(@class,'review-points')]/span\") #get score\n",
    "    reviews = [x.text for x in review]\n",
    "    scores = [x.text for x in score]\n",
    "    res_names_dup = [res_names_load[e]] * min(len(reviews),len(scores[:-1]))\n",
    "    # append\n",
    "    reviews_all.append(reviews)\n",
    "    scores_all.append(scores[:-1])\n",
    "    res_names_all.append(res_names_dup)"
   ]
  },
  {
   "cell_type": "code",
   "execution_count": 89,
   "id": "238207aa",
   "metadata": {},
   "outputs": [
    {
     "name": "stdout",
     "output_type": "stream",
     "text": [
      "1847 1844 1844\n"
     ]
    }
   ],
   "source": [
    "# flat the lists and check their length\n",
    "res_names_all2, reviews_all2, scores_all2 = flaten_list(res_names_all, reviews_all, scores_all)"
   ]
  },
  {
   "cell_type": "code",
   "execution_count": 104,
   "id": "bc1a43e1",
   "metadata": {},
   "outputs": [],
   "source": [
    "# dictionary_products\n",
    "dictionary_test1 = {'name':res_names_all,\n",
    "                      'review_text':reviews_all,\n",
    "                      'review_score': scores_all}\n",
    "df_test1 = pd.DataFrame(dictionary_test1)"
   ]
  },
  {
   "cell_type": "code",
   "execution_count": 105,
   "id": "3d62ef1f",
   "metadata": {},
   "outputs": [],
   "source": [
    "df_test1['len_review'] = df_test1.review_text.apply(lambda x: len(x))\n",
    "df_test1['len_score'] = df_test1.review_score.apply(lambda x: len(x))"
   ]
  },
  {
   "cell_type": "code",
   "execution_count": 106,
   "id": "f158be74",
   "metadata": {},
   "outputs": [
    {
     "data": {
      "text/html": [
       "<div>\n",
       "<style scoped>\n",
       "    .dataframe tbody tr th:only-of-type {\n",
       "        vertical-align: middle;\n",
       "    }\n",
       "\n",
       "    .dataframe tbody tr th {\n",
       "        vertical-align: top;\n",
       "    }\n",
       "\n",
       "    .dataframe thead th {\n",
       "        text-align: right;\n",
       "    }\n",
       "</style>\n",
       "<table border=\"1\" class=\"dataframe\">\n",
       "  <thead>\n",
       "    <tr style=\"text-align: right;\">\n",
       "      <th></th>\n",
       "      <th>name</th>\n",
       "      <th>review_text</th>\n",
       "      <th>review_score</th>\n",
       "      <th>len_review</th>\n",
       "      <th>len_score</th>\n",
       "    </tr>\n",
       "  </thead>\n",
       "  <tbody>\n",
       "    <tr>\n",
       "      <th>13</th>\n",
       "      <td>[Quán Ăn Vặt - Cát Cụt]</td>\n",
       "      <td>[Cháo trai 10k/bát kèm cả quẩy nữa 😉 #themlanh...</td>\n",
       "      <td>[6.6]</td>\n",
       "      <td>2</td>\n",
       "      <td>1</td>\n",
       "    </tr>\n",
       "  </tbody>\n",
       "</table>\n",
       "</div>"
      ],
      "text/plain": [
       "                       name  \\\n",
       "13  [Quán Ăn Vặt - Cát Cụt]   \n",
       "\n",
       "                                          review_text review_score  \\\n",
       "13  [Cháo trai 10k/bát kèm cả quẩy nữa 😉 #themlanh...        [6.6]   \n",
       "\n",
       "    len_review  len_score  \n",
       "13           2          1  "
      ]
     },
     "execution_count": 106,
     "metadata": {},
     "output_type": "execute_result"
    }
   ],
   "source": [
    "df_test1[df_test1['len_review'] != df_test1['len_score']]"
   ]
  },
  {
   "cell_type": "code",
   "execution_count": 107,
   "id": "1dd04f61",
   "metadata": {},
   "outputs": [],
   "source": [
    "del res_names_all[13]\n",
    "del scores_all[13]\n",
    "del reviews_all[13]"
   ]
  },
  {
   "cell_type": "code",
   "execution_count": 108,
   "id": "3a69ac2f",
   "metadata": {},
   "outputs": [
    {
     "name": "stdout",
     "output_type": "stream",
     "text": [
      "1628 1628 1628\n"
     ]
    }
   ],
   "source": [
    "# flat the lists and check their length\n",
    "res_names_all2, reviews_all2, scores_all2 = flaten_list(res_names_all, reviews_all, scores_all)"
   ]
  },
  {
   "cell_type": "code",
   "execution_count": 109,
   "id": "8f7d1074",
   "metadata": {},
   "outputs": [
    {
     "name": "stdout",
     "output_type": "stream",
     "text": [
      "(1628, 3)\n"
     ]
    },
    {
     "data": {
      "text/html": [
       "<div>\n",
       "<style scoped>\n",
       "    .dataframe tbody tr th:only-of-type {\n",
       "        vertical-align: middle;\n",
       "    }\n",
       "\n",
       "    .dataframe tbody tr th {\n",
       "        vertical-align: top;\n",
       "    }\n",
       "\n",
       "    .dataframe thead th {\n",
       "        text-align: right;\n",
       "    }\n",
       "</style>\n",
       "<table border=\"1\" class=\"dataframe\">\n",
       "  <thead>\n",
       "    <tr style=\"text-align: right;\">\n",
       "      <th></th>\n",
       "      <th>name</th>\n",
       "      <th>review_text</th>\n",
       "      <th>review_score</th>\n",
       "    </tr>\n",
       "  </thead>\n",
       "  <tbody>\n",
       "    <tr>\n",
       "      <th>0</th>\n",
       "      <td>Lotteria - Hải Phòng Trần Phú</td>\n",
       "      <td>Giao toàn thiếu đồ mà ko báo đêm rồi nhận hàng...</td>\n",
       "      <td>1.0</td>\n",
       "    </tr>\n",
       "    <tr>\n",
       "      <th>1</th>\n",
       "      <td>Lotteria - Hải Phòng Trần Phú</td>\n",
       "      <td>Có ai nghiện gà sốt HS ở đây giống mình ko huh...</td>\n",
       "      <td>7.4</td>\n",
       "    </tr>\n",
       "    <tr>\n",
       "      <th>2</th>\n",
       "      <td>Lotteria - Hải Phòng Trần Phú</td>\n",
       "      <td>Thái độ phục vụ của các chị nhân viên vô cùng ...</td>\n",
       "      <td>1.0</td>\n",
       "    </tr>\n",
       "    <tr>\n",
       "      <th>3</th>\n",
       "      <td>Lotteria - Hải Phòng Trần Phú</td>\n",
       "      <td>Thu ngân quá chán\\nĐứng chờ mãi k thấy chị thu...</td>\n",
       "      <td>4.2</td>\n",
       "    </tr>\n",
       "    <tr>\n",
       "      <th>4</th>\n",
       "      <td>Lotteria - Hải Phòng Trần Phú</td>\n",
       "      <td>Rất lâu mới quay lại Lotteria*** Phải nói mình...</td>\n",
       "      <td>3.4</td>\n",
       "    </tr>\n",
       "  </tbody>\n",
       "</table>\n",
       "</div>"
      ],
      "text/plain": [
       "                            name  \\\n",
       "0  Lotteria - Hải Phòng Trần Phú   \n",
       "1  Lotteria - Hải Phòng Trần Phú   \n",
       "2  Lotteria - Hải Phòng Trần Phú   \n",
       "3  Lotteria - Hải Phòng Trần Phú   \n",
       "4  Lotteria - Hải Phòng Trần Phú   \n",
       "\n",
       "                                         review_text review_score  \n",
       "0  Giao toàn thiếu đồ mà ko báo đêm rồi nhận hàng...          1.0  \n",
       "1  Có ai nghiện gà sốt HS ở đây giống mình ko huh...          7.4  \n",
       "2  Thái độ phục vụ của các chị nhân viên vô cùng ...          1.0  \n",
       "3  Thu ngân quá chán\\nĐứng chờ mãi k thấy chị thu...          4.2  \n",
       "4  Rất lâu mới quay lại Lotteria*** Phải nói mình...          3.4  "
      ]
     },
     "execution_count": 109,
     "metadata": {},
     "output_type": "execute_result"
    }
   ],
   "source": [
    "dict_foody20 = {'name':res_names_all2,\n",
    "                'review_text':reviews_all2,\n",
    "                'review_score': scores_all2}\n",
    "df20 = pd.DataFrame(dict_foody20)\n",
    "print(df20.shape)\n",
    "df20.head()"
   ]
  },
  {
   "cell_type": "code",
   "execution_count": 110,
   "id": "96855205",
   "metadata": {},
   "outputs": [],
   "source": [
    "df20.to_csv('data/foodyData20.csv')"
   ]
  },
  {
   "cell_type": "code",
   "execution_count": 111,
   "id": "19a98078",
   "metadata": {},
   "outputs": [
    {
     "name": "stderr",
     "output_type": "stream",
     "text": [
      "/var/folders/75/xh20dgfj413gnh1kwq6jslz00000gn/T/ipykernel_20620/3884381087.py:9: DeprecationWarning: find_elements_by_* commands are deprecated. Please use find_elements() instead\n",
      "  driver.find_elements_by_class_name('fd-btn-more')[0].click()  #load more\n",
      "/var/folders/75/xh20dgfj413gnh1kwq6jslz00000gn/T/ipykernel_20620/3884381087.py:15: DeprecationWarning: find_elements_by_* commands are deprecated. Please use find_elements() instead\n",
      "  review = driver.find_elements_by_xpath(\"//div[contains(@class,'rd-des')]/span\") #get reviews\n",
      "/var/folders/75/xh20dgfj413gnh1kwq6jslz00000gn/T/ipykernel_20620/3884381087.py:16: DeprecationWarning: find_elements_by_* commands are deprecated. Please use find_elements() instead\n",
      "  score = driver.find_elements_by_xpath(\"//div[contains(@class,'review-points')]/span\") #get score\n"
     ]
    }
   ],
   "source": [
    "# data scraping 100 nhà hàng đầu tiên [200:300]\n",
    "reviews_all = []\n",
    "scores_all = []\n",
    "res_names_all = []\n",
    "for e in range(200,300):\n",
    "    driver.get(links_bl_load[e])\n",
    "    for i in range (1,50):\n",
    "        try:\n",
    "            driver.find_elements_by_class_name('fd-btn-more')[0].click()  #load more \n",
    "            sleep(2)\n",
    "        except IndexError:\n",
    "            pass\n",
    "        continue\n",
    "\n",
    "    review = driver.find_elements_by_xpath(\"//div[contains(@class,'rd-des')]/span\") #get reviews\n",
    "    score = driver.find_elements_by_xpath(\"//div[contains(@class,'review-points')]/span\") #get score\n",
    "    reviews = [x.text for x in review]\n",
    "    scores = [x.text for x in score]\n",
    "    res_names_dup = [res_names_load[e]] * min(len(reviews),len(scores[:-1]))\n",
    "    # append\n",
    "    reviews_all.append(reviews)\n",
    "    scores_all.append(scores[:-1])\n",
    "    res_names_all.append(res_names_dup)"
   ]
  },
  {
   "cell_type": "code",
   "execution_count": 112,
   "id": "eece1833",
   "metadata": {},
   "outputs": [
    {
     "name": "stdout",
     "output_type": "stream",
     "text": [
      "1224 1224 1224\n"
     ]
    }
   ],
   "source": [
    "# flat the lists and check their length\n",
    "res_names_all2, reviews_all2, scores_all2 = flaten_list(res_names_all, reviews_all, scores_all)"
   ]
  },
  {
   "cell_type": "code",
   "execution_count": 113,
   "id": "0cc81d2b",
   "metadata": {},
   "outputs": [
    {
     "name": "stdout",
     "output_type": "stream",
     "text": [
      "(1224, 3)\n"
     ]
    },
    {
     "data": {
      "text/html": [
       "<div>\n",
       "<style scoped>\n",
       "    .dataframe tbody tr th:only-of-type {\n",
       "        vertical-align: middle;\n",
       "    }\n",
       "\n",
       "    .dataframe tbody tr th {\n",
       "        vertical-align: top;\n",
       "    }\n",
       "\n",
       "    .dataframe thead th {\n",
       "        text-align: right;\n",
       "    }\n",
       "</style>\n",
       "<table border=\"1\" class=\"dataframe\">\n",
       "  <thead>\n",
       "    <tr style=\"text-align: right;\">\n",
       "      <th></th>\n",
       "      <th>name</th>\n",
       "      <th>review_text</th>\n",
       "      <th>review_score</th>\n",
       "    </tr>\n",
       "  </thead>\n",
       "  <tbody>\n",
       "    <tr>\n",
       "      <th>0</th>\n",
       "      <td>Bulgogi - Đồ Nướng Than Hoa - Văn Cao</td>\n",
       "      <td>#review #homnayviangi \\n#bulgogivancao #đầungõ...</td>\n",
       "      <td>8.8</td>\n",
       "    </tr>\n",
       "    <tr>\n",
       "      <th>1</th>\n",
       "      <td>Bulgogi - Đồ Nướng Than Hoa - Văn Cao</td>\n",
       "      <td>Mọi lần mình hay đến buổi tối nên đc ngồi trên...</td>\n",
       "      <td>5.0</td>\n",
       "    </tr>\n",
       "    <tr>\n",
       "      <th>2</th>\n",
       "      <td>Bulgogi - Đồ Nướng Than Hoa - Văn Cao</td>\n",
       "      <td>Mình đến quán tầm trưa, quán khá dễ tìm, hôm đ...</td>\n",
       "      <td>7.4</td>\n",
       "    </tr>\n",
       "    <tr>\n",
       "      <th>3</th>\n",
       "      <td>Bulgogi - Đồ Nướng Than Hoa - Văn Cao</td>\n",
       "      <td>Được ngày rủ cb đi ăn lẩu tưởng lành lạnh tý ă...</td>\n",
       "      <td>7.6</td>\n",
       "    </tr>\n",
       "    <tr>\n",
       "      <th>4</th>\n",
       "      <td>Bulgogi - Đồ Nướng Than Hoa - Văn Cao</td>\n",
       "      <td>Đợt này bulgogi có khuyến mại bufet lẩu bò 3 n...</td>\n",
       "      <td>8.2</td>\n",
       "    </tr>\n",
       "  </tbody>\n",
       "</table>\n",
       "</div>"
      ],
      "text/plain": [
       "                                    name  \\\n",
       "0  Bulgogi - Đồ Nướng Than Hoa - Văn Cao   \n",
       "1  Bulgogi - Đồ Nướng Than Hoa - Văn Cao   \n",
       "2  Bulgogi - Đồ Nướng Than Hoa - Văn Cao   \n",
       "3  Bulgogi - Đồ Nướng Than Hoa - Văn Cao   \n",
       "4  Bulgogi - Đồ Nướng Than Hoa - Văn Cao   \n",
       "\n",
       "                                         review_text review_score  \n",
       "0  #review #homnayviangi \\n#bulgogivancao #đầungõ...          8.8  \n",
       "1  Mọi lần mình hay đến buổi tối nên đc ngồi trên...          5.0  \n",
       "2  Mình đến quán tầm trưa, quán khá dễ tìm, hôm đ...          7.4  \n",
       "3  Được ngày rủ cb đi ăn lẩu tưởng lành lạnh tý ă...          7.6  \n",
       "4  Đợt này bulgogi có khuyến mại bufet lẩu bò 3 n...          8.2  "
      ]
     },
     "execution_count": 113,
     "metadata": {},
     "output_type": "execute_result"
    }
   ],
   "source": [
    "dict_foody21 = {'name':res_names_all2,\n",
    "                'review_text':reviews_all2,\n",
    "                'review_score': scores_all2}\n",
    "df21 = pd.DataFrame(dict_foody21)\n",
    "print(df21.shape)\n",
    "df21.head()"
   ]
  },
  {
   "cell_type": "code",
   "execution_count": 114,
   "id": "96a5df5d",
   "metadata": {},
   "outputs": [],
   "source": [
    "df21.to_csv('data/foodyData21.csv')"
   ]
  },
  {
   "cell_type": "code",
   "execution_count": 115,
   "id": "3d462638",
   "metadata": {},
   "outputs": [
    {
     "name": "stderr",
     "output_type": "stream",
     "text": [
      "/var/folders/75/xh20dgfj413gnh1kwq6jslz00000gn/T/ipykernel_20620/32996707.py:9: DeprecationWarning: find_elements_by_* commands are deprecated. Please use find_elements() instead\n",
      "  driver.find_elements_by_class_name('fd-btn-more')[0].click()  #load more\n",
      "/var/folders/75/xh20dgfj413gnh1kwq6jslz00000gn/T/ipykernel_20620/32996707.py:15: DeprecationWarning: find_elements_by_* commands are deprecated. Please use find_elements() instead\n",
      "  review = driver.find_elements_by_xpath(\"//div[contains(@class,'rd-des')]/span\") #get reviews\n",
      "/var/folders/75/xh20dgfj413gnh1kwq6jslz00000gn/T/ipykernel_20620/32996707.py:16: DeprecationWarning: find_elements_by_* commands are deprecated. Please use find_elements() instead\n",
      "  score = driver.find_elements_by_xpath(\"//div[contains(@class,'review-points')]/span\") #get score\n"
     ]
    }
   ],
   "source": [
    "# data scraping 100 nhà hàng đầu tiên [300:400]\n",
    "reviews_all = []\n",
    "scores_all = []\n",
    "res_names_all = []\n",
    "for e in range(300,400):\n",
    "    driver.get(links_bl_load[e])\n",
    "    for i in range (1,50):\n",
    "        try:\n",
    "            driver.find_elements_by_class_name('fd-btn-more')[0].click()  #load more \n",
    "            sleep(2)\n",
    "        except IndexError:\n",
    "            pass\n",
    "        continue\n",
    "\n",
    "    review = driver.find_elements_by_xpath(\"//div[contains(@class,'rd-des')]/span\") #get reviews\n",
    "    score = driver.find_elements_by_xpath(\"//div[contains(@class,'review-points')]/span\") #get score\n",
    "    reviews = [x.text for x in review]\n",
    "    scores = [x.text for x in score]\n",
    "    res_names_dup = [res_names_load[e]] * min(len(reviews),len(scores[:-1]))\n",
    "    # append\n",
    "    reviews_all.append(reviews)\n",
    "    scores_all.append(scores[:-1])\n",
    "    res_names_all.append(res_names_dup)"
   ]
  },
  {
   "cell_type": "code",
   "execution_count": 116,
   "id": "5a244c3a",
   "metadata": {},
   "outputs": [
    {
     "name": "stdout",
     "output_type": "stream",
     "text": [
      "1357 1355 1355\n"
     ]
    }
   ],
   "source": [
    "# flat the lists and check their length\n",
    "res_names_all2, reviews_all2, scores_all2 = flaten_list(res_names_all, reviews_all, scores_all)"
   ]
  },
  {
   "cell_type": "code",
   "execution_count": 117,
   "id": "467eb352",
   "metadata": {},
   "outputs": [
    {
     "data": {
      "text/html": [
       "<div>\n",
       "<style scoped>\n",
       "    .dataframe tbody tr th:only-of-type {\n",
       "        vertical-align: middle;\n",
       "    }\n",
       "\n",
       "    .dataframe tbody tr th {\n",
       "        vertical-align: top;\n",
       "    }\n",
       "\n",
       "    .dataframe thead th {\n",
       "        text-align: right;\n",
       "    }\n",
       "</style>\n",
       "<table border=\"1\" class=\"dataframe\">\n",
       "  <thead>\n",
       "    <tr style=\"text-align: right;\">\n",
       "      <th></th>\n",
       "      <th>name</th>\n",
       "      <th>review_text</th>\n",
       "      <th>review_score</th>\n",
       "      <th>len_review</th>\n",
       "      <th>len_score</th>\n",
       "    </tr>\n",
       "  </thead>\n",
       "  <tbody>\n",
       "    <tr>\n",
       "      <th>55</th>\n",
       "      <td>[Bánh Đúc Tàu - Chợ Máy Đá, Bánh Đúc Tàu - Chợ...</td>\n",
       "      <td>[Được biết ở Hải Phòng có 3 địa chỉ bán bánh đ...</td>\n",
       "      <td>[7.8, 8.0]</td>\n",
       "      <td>3</td>\n",
       "      <td>2</td>\n",
       "    </tr>\n",
       "    <tr>\n",
       "      <th>77</th>\n",
       "      <td>[Huệ Béo - Bánh Gối &amp; Giá Bể Xào, Huệ Béo - Bá...</td>\n",
       "      <td>[Chợ Cột Đèn ngoài hàng cháo sườn nổi tiếng ra...</td>\n",
       "      <td>[7.0, 6.4, 8.4, 8.4, 7.6, 8.2, 7.2, 7.4, 8.0, ...</td>\n",
       "      <td>11</td>\n",
       "      <td>10</td>\n",
       "    </tr>\n",
       "  </tbody>\n",
       "</table>\n",
       "</div>"
      ],
      "text/plain": [
       "                                                 name  \\\n",
       "55  [Bánh Đúc Tàu - Chợ Máy Đá, Bánh Đúc Tàu - Chợ...   \n",
       "77  [Huệ Béo - Bánh Gối & Giá Bể Xào, Huệ Béo - Bá...   \n",
       "\n",
       "                                          review_text  \\\n",
       "55  [Được biết ở Hải Phòng có 3 địa chỉ bán bánh đ...   \n",
       "77  [Chợ Cột Đèn ngoài hàng cháo sườn nổi tiếng ra...   \n",
       "\n",
       "                                         review_score  len_review  len_score  \n",
       "55                                         [7.8, 8.0]           3          2  \n",
       "77  [7.0, 6.4, 8.4, 8.4, 7.6, 8.2, 7.2, 7.4, 8.0, ...          11         10  "
      ]
     },
     "execution_count": 117,
     "metadata": {},
     "output_type": "execute_result"
    }
   ],
   "source": [
    "# dictionary_products\n",
    "dictionary_test1 = {'name':res_names_all,\n",
    "                      'review_text':reviews_all,\n",
    "                      'review_score': scores_all}\n",
    "df_test1 = pd.DataFrame(dictionary_test1)\n",
    "df_test1['len_review'] = df_test1.review_text.apply(lambda x: len(x))\n",
    "df_test1['len_score'] = df_test1.review_score.apply(lambda x: len(x))\n",
    "df_test1[df_test1['len_review'] != df_test1['len_score']]"
   ]
  },
  {
   "cell_type": "code",
   "execution_count": 118,
   "id": "c64fee7f",
   "metadata": {},
   "outputs": [],
   "source": [
    "del res_names_all[55]\n",
    "del res_names_all[76]\n",
    "del reviews_all[55]\n",
    "del reviews_all[76]\n",
    "del scores_all[55]\n",
    "del scores_all[76]"
   ]
  },
  {
   "cell_type": "code",
   "execution_count": 119,
   "id": "2eb90b33",
   "metadata": {},
   "outputs": [
    {
     "name": "stdout",
     "output_type": "stream",
     "text": [
      "1343 1343 1343\n"
     ]
    }
   ],
   "source": [
    "# flat the lists and check their length\n",
    "res_names_all2, reviews_all2, scores_all2 = flaten_list(res_names_all, reviews_all, scores_all)"
   ]
  },
  {
   "cell_type": "code",
   "execution_count": 120,
   "id": "475c49b3",
   "metadata": {},
   "outputs": [
    {
     "name": "stdout",
     "output_type": "stream",
     "text": [
      "(1343, 3)\n"
     ]
    },
    {
     "data": {
      "text/html": [
       "<div>\n",
       "<style scoped>\n",
       "    .dataframe tbody tr th:only-of-type {\n",
       "        vertical-align: middle;\n",
       "    }\n",
       "\n",
       "    .dataframe tbody tr th {\n",
       "        vertical-align: top;\n",
       "    }\n",
       "\n",
       "    .dataframe thead th {\n",
       "        text-align: right;\n",
       "    }\n",
       "</style>\n",
       "<table border=\"1\" class=\"dataframe\">\n",
       "  <thead>\n",
       "    <tr style=\"text-align: right;\">\n",
       "      <th></th>\n",
       "      <th>name</th>\n",
       "      <th>review_text</th>\n",
       "      <th>review_score</th>\n",
       "    </tr>\n",
       "  </thead>\n",
       "  <tbody>\n",
       "    <tr>\n",
       "      <th>0</th>\n",
       "      <td>Cô Dung - Trứng Vịt Lộn &amp; Bánh Mì Giò Online</td>\n",
       "      <td>ko ngờ có món này trên now luôn. \\nhôm đó thèm...</td>\n",
       "      <td>6.0</td>\n",
       "    </tr>\n",
       "    <tr>\n",
       "      <th>1</th>\n",
       "      <td>Cô Dung - Trứng Vịt Lộn &amp; Bánh Mì Giò Online</td>\n",
       "      <td>Ngày mưa gió thấy món trứng vịt lộn ở trên now...</td>\n",
       "      <td>6.0</td>\n",
       "    </tr>\n",
       "    <tr>\n",
       "      <th>2</th>\n",
       "      <td>Linh - Bánh Cuốn Cát Dài</td>\n",
       "      <td>Cuối tuần rảnh được đưa về Hải phòng chơi, và ...</td>\n",
       "      <td>6.2</td>\n",
       "    </tr>\n",
       "    <tr>\n",
       "      <th>3</th>\n",
       "      <td>Linh - Bánh Cuốn Cát Dài</td>\n",
       "      <td>Quán này bán cũng được hơn 20 năm rồi, bánh ở ...</td>\n",
       "      <td>7.8</td>\n",
       "    </tr>\n",
       "    <tr>\n",
       "      <th>4</th>\n",
       "      <td>Linh - Bánh Cuốn Cát Dài</td>\n",
       "      <td>Bánh cuốn ở đây cũng có thâm niên lắm luôn, ph...</td>\n",
       "      <td>8.8</td>\n",
       "    </tr>\n",
       "  </tbody>\n",
       "</table>\n",
       "</div>"
      ],
      "text/plain": [
       "                                           name  \\\n",
       "0  Cô Dung - Trứng Vịt Lộn & Bánh Mì Giò Online   \n",
       "1  Cô Dung - Trứng Vịt Lộn & Bánh Mì Giò Online   \n",
       "2                      Linh - Bánh Cuốn Cát Dài   \n",
       "3                      Linh - Bánh Cuốn Cát Dài   \n",
       "4                      Linh - Bánh Cuốn Cát Dài   \n",
       "\n",
       "                                         review_text review_score  \n",
       "0  ko ngờ có món này trên now luôn. \\nhôm đó thèm...          6.0  \n",
       "1  Ngày mưa gió thấy món trứng vịt lộn ở trên now...          6.0  \n",
       "2  Cuối tuần rảnh được đưa về Hải phòng chơi, và ...          6.2  \n",
       "3  Quán này bán cũng được hơn 20 năm rồi, bánh ở ...          7.8  \n",
       "4  Bánh cuốn ở đây cũng có thâm niên lắm luôn, ph...          8.8  "
      ]
     },
     "execution_count": 120,
     "metadata": {},
     "output_type": "execute_result"
    }
   ],
   "source": [
    "dict_foody22 = {'name':res_names_all2,\n",
    "                'review_text':reviews_all2,\n",
    "                'review_score': scores_all2}\n",
    "df22 = pd.DataFrame(dict_foody22)\n",
    "print(df22.shape)\n",
    "df22.head()"
   ]
  },
  {
   "cell_type": "code",
   "execution_count": 121,
   "id": "b730f8e6",
   "metadata": {},
   "outputs": [],
   "source": [
    "df22.to_csv('data/foodyData22.csv')"
   ]
  },
  {
   "cell_type": "code",
   "execution_count": 125,
   "id": "215b4bc1",
   "metadata": {},
   "outputs": [
    {
     "name": "stderr",
     "output_type": "stream",
     "text": [
      "/var/folders/75/xh20dgfj413gnh1kwq6jslz00000gn/T/ipykernel_20620/194666832.py:9: DeprecationWarning: find_elements_by_* commands are deprecated. Please use find_elements() instead\n",
      "  driver.find_elements_by_class_name('fd-btn-more')[0].click()  #load more\n",
      "/var/folders/75/xh20dgfj413gnh1kwq6jslz00000gn/T/ipykernel_20620/194666832.py:15: DeprecationWarning: find_elements_by_* commands are deprecated. Please use find_elements() instead\n",
      "  review = driver.find_elements_by_xpath(\"//div[contains(@class,'rd-des')]/span\") #get reviews\n",
      "/var/folders/75/xh20dgfj413gnh1kwq6jslz00000gn/T/ipykernel_20620/194666832.py:16: DeprecationWarning: find_elements_by_* commands are deprecated. Please use find_elements() instead\n",
      "  score = driver.find_elements_by_xpath(\"//div[contains(@class,'review-points')]/span\") #get score\n"
     ]
    }
   ],
   "source": [
    "# data scraping 100 nhà hàng đầu tiên [400:500]\n",
    "reviews_all = []\n",
    "scores_all = []\n",
    "res_names_all = []\n",
    "for e in range(400,500):\n",
    "    driver.get(links_bl_load[e])\n",
    "    for i in range (1,50):\n",
    "        try:\n",
    "            driver.find_elements_by_class_name('fd-btn-more')[0].click()  #load more \n",
    "            sleep(2)\n",
    "        except IndexError:\n",
    "            pass\n",
    "        continue\n",
    "\n",
    "    review = driver.find_elements_by_xpath(\"//div[contains(@class,'rd-des')]/span\") #get reviews\n",
    "    score = driver.find_elements_by_xpath(\"//div[contains(@class,'review-points')]/span\") #get score\n",
    "    reviews = [x.text for x in review]\n",
    "    scores = [x.text for x in score]\n",
    "    res_names_dup = [res_names_load[e]] * min(len(reviews),len(scores[:-1]))\n",
    "    # append\n",
    "    reviews_all.append(reviews)\n",
    "    scores_all.append(scores[:-1])\n",
    "    res_names_all.append(res_names_dup)"
   ]
  },
  {
   "cell_type": "code",
   "execution_count": 126,
   "id": "240f3c87",
   "metadata": {},
   "outputs": [
    {
     "name": "stdout",
     "output_type": "stream",
     "text": [
      "1005 1005 1005\n"
     ]
    }
   ],
   "source": [
    "# flat the lists and check their length\n",
    "res_names_all2, reviews_all2, scores_all2 = flaten_list(res_names_all, reviews_all, scores_all)"
   ]
  },
  {
   "cell_type": "code",
   "execution_count": 127,
   "id": "7ec1a82f",
   "metadata": {},
   "outputs": [
    {
     "name": "stdout",
     "output_type": "stream",
     "text": [
      "(1005, 3)\n"
     ]
    },
    {
     "data": {
      "text/html": [
       "<div>\n",
       "<style scoped>\n",
       "    .dataframe tbody tr th:only-of-type {\n",
       "        vertical-align: middle;\n",
       "    }\n",
       "\n",
       "    .dataframe tbody tr th {\n",
       "        vertical-align: top;\n",
       "    }\n",
       "\n",
       "    .dataframe thead th {\n",
       "        text-align: right;\n",
       "    }\n",
       "</style>\n",
       "<table border=\"1\" class=\"dataframe\">\n",
       "  <thead>\n",
       "    <tr style=\"text-align: right;\">\n",
       "      <th></th>\n",
       "      <th>name</th>\n",
       "      <th>review_text</th>\n",
       "      <th>review_score</th>\n",
       "    </tr>\n",
       "  </thead>\n",
       "  <tbody>\n",
       "    <tr>\n",
       "      <th>0</th>\n",
       "      <td>Bình Cafe</td>\n",
       "      <td>Lượn lờ sau khu big c thấy quá trời quán ăn uố...</td>\n",
       "      <td>8.6</td>\n",
       "    </tr>\n",
       "    <tr>\n",
       "      <th>1</th>\n",
       "      <td>Lão Ngư - Hải Sản Các Loại - Nguyễn Đức Cảnh</td>\n",
       "      <td>Vị ngọt cúa sò, vị béo của phô mai kết hợp với...</td>\n",
       "      <td>10</td>\n",
       "    </tr>\n",
       "    <tr>\n",
       "      <th>2</th>\n",
       "      <td>Lão Ngư - Hải Sản Các Loại - Nguyễn Đức Cảnh</td>\n",
       "      <td>Không gian ấm áp - và hơn nữa nhân viên rất th...</td>\n",
       "      <td>9.8</td>\n",
       "    </tr>\n",
       "    <tr>\n",
       "      <th>3</th>\n",
       "      <td>Lão Ngư - Hải Sản Các Loại - Nguyễn Đức Cảnh</td>\n",
       "      <td>Nhà hàng decor đẹp mắt, sạch sẽ, vị trí dễ tìm...</td>\n",
       "      <td>9.6</td>\n",
       "    </tr>\n",
       "    <tr>\n",
       "      <th>4</th>\n",
       "      <td>Lão Ngư - Hải Sản Các Loại - Nguyễn Đức Cảnh</td>\n",
       "      <td>Hôm nay mình ord lẩu Thái ở đây, rất hài lòng....</td>\n",
       "      <td>9.8</td>\n",
       "    </tr>\n",
       "  </tbody>\n",
       "</table>\n",
       "</div>"
      ],
      "text/plain": [
       "                                           name  \\\n",
       "0                                     Bình Cafe   \n",
       "1  Lão Ngư - Hải Sản Các Loại - Nguyễn Đức Cảnh   \n",
       "2  Lão Ngư - Hải Sản Các Loại - Nguyễn Đức Cảnh   \n",
       "3  Lão Ngư - Hải Sản Các Loại - Nguyễn Đức Cảnh   \n",
       "4  Lão Ngư - Hải Sản Các Loại - Nguyễn Đức Cảnh   \n",
       "\n",
       "                                         review_text review_score  \n",
       "0  Lượn lờ sau khu big c thấy quá trời quán ăn uố...          8.6  \n",
       "1  Vị ngọt cúa sò, vị béo của phô mai kết hợp với...           10  \n",
       "2  Không gian ấm áp - và hơn nữa nhân viên rất th...          9.8  \n",
       "3  Nhà hàng decor đẹp mắt, sạch sẽ, vị trí dễ tìm...          9.6  \n",
       "4  Hôm nay mình ord lẩu Thái ở đây, rất hài lòng....          9.8  "
      ]
     },
     "execution_count": 127,
     "metadata": {},
     "output_type": "execute_result"
    }
   ],
   "source": [
    "dict_foody23 = {'name':res_names_all2,\n",
    "                'review_text':reviews_all2,\n",
    "                'review_score': scores_all2}\n",
    "df23 = pd.DataFrame(dict_foody23)\n",
    "print(df23.shape)\n",
    "df23.head()"
   ]
  },
  {
   "cell_type": "code",
   "execution_count": 128,
   "id": "96426568",
   "metadata": {},
   "outputs": [],
   "source": [
    "df23.to_csv('data/foodyData23.csv')"
   ]
  },
  {
   "cell_type": "code",
   "execution_count": 129,
   "id": "2c070fd8",
   "metadata": {},
   "outputs": [
    {
     "name": "stderr",
     "output_type": "stream",
     "text": [
      "/var/folders/75/xh20dgfj413gnh1kwq6jslz00000gn/T/ipykernel_20620/3977138420.py:9: DeprecationWarning: find_elements_by_* commands are deprecated. Please use find_elements() instead\n",
      "  driver.find_elements_by_class_name('fd-btn-more')[0].click()  #load more\n",
      "/var/folders/75/xh20dgfj413gnh1kwq6jslz00000gn/T/ipykernel_20620/3977138420.py:15: DeprecationWarning: find_elements_by_* commands are deprecated. Please use find_elements() instead\n",
      "  review = driver.find_elements_by_xpath(\"//div[contains(@class,'rd-des')]/span\") #get reviews\n",
      "/var/folders/75/xh20dgfj413gnh1kwq6jslz00000gn/T/ipykernel_20620/3977138420.py:16: DeprecationWarning: find_elements_by_* commands are deprecated. Please use find_elements() instead\n",
      "  score = driver.find_elements_by_xpath(\"//div[contains(@class,'review-points')]/span\") #get score\n"
     ]
    }
   ],
   "source": [
    "# data scraping 100 nhà hàng đầu tiên [500:597]\n",
    "reviews_all = []\n",
    "scores_all = []\n",
    "res_names_all = []\n",
    "for e in range(500,597):\n",
    "    driver.get(links_bl_load[e])\n",
    "    for i in range (1,50):\n",
    "        try:\n",
    "            driver.find_elements_by_class_name('fd-btn-more')[0].click()  #load more \n",
    "            sleep(2)\n",
    "        except IndexError:\n",
    "            pass\n",
    "        continue\n",
    "\n",
    "    review = driver.find_elements_by_xpath(\"//div[contains(@class,'rd-des')]/span\") #get reviews\n",
    "    score = driver.find_elements_by_xpath(\"//div[contains(@class,'review-points')]/span\") #get score\n",
    "    reviews = [x.text for x in review]\n",
    "    scores = [x.text for x in score]\n",
    "    res_names_dup = [res_names_load[e]] * min(len(reviews),len(scores[:-1]))\n",
    "    # append\n",
    "    reviews_all.append(reviews)\n",
    "    scores_all.append(scores[:-1])\n",
    "    res_names_all.append(res_names_dup)"
   ]
  },
  {
   "cell_type": "code",
   "execution_count": 130,
   "id": "a029fab7",
   "metadata": {},
   "outputs": [
    {
     "name": "stdout",
     "output_type": "stream",
     "text": [
      "1517 1516 1516\n"
     ]
    }
   ],
   "source": [
    "# flat the lists and check their length\n",
    "res_names_all2, reviews_all2, scores_all2 = flaten_list(res_names_all, reviews_all, scores_all)"
   ]
  },
  {
   "cell_type": "code",
   "execution_count": 131,
   "id": "a43d7308",
   "metadata": {},
   "outputs": [
    {
     "data": {
      "text/html": [
       "<div>\n",
       "<style scoped>\n",
       "    .dataframe tbody tr th:only-of-type {\n",
       "        vertical-align: middle;\n",
       "    }\n",
       "\n",
       "    .dataframe tbody tr th {\n",
       "        vertical-align: top;\n",
       "    }\n",
       "\n",
       "    .dataframe thead th {\n",
       "        text-align: right;\n",
       "    }\n",
       "</style>\n",
       "<table border=\"1\" class=\"dataframe\">\n",
       "  <thead>\n",
       "    <tr style=\"text-align: right;\">\n",
       "      <th></th>\n",
       "      <th>name</th>\n",
       "      <th>review_text</th>\n",
       "      <th>review_score</th>\n",
       "      <th>len_review</th>\n",
       "      <th>len_score</th>\n",
       "    </tr>\n",
       "  </thead>\n",
       "  <tbody>\n",
       "    <tr>\n",
       "      <th>65</th>\n",
       "      <td>[Huyền - Bánh Mì Cay, Chè Thái &amp; Sữa Đậu Nành,...</td>\n",
       "      <td>[Mình k nhớ có phải số 37 không nữa. Chưa bàn ...</td>\n",
       "      <td>[2.6, 8.6, 7.0, 10, 2.6, 3.4, 8.6, 4.2, 2.8, 6...</td>\n",
       "      <td>100</td>\n",
       "      <td>99</td>\n",
       "    </tr>\n",
       "  </tbody>\n",
       "</table>\n",
       "</div>"
      ],
      "text/plain": [
       "                                                 name  \\\n",
       "65  [Huyền - Bánh Mì Cay, Chè Thái & Sữa Đậu Nành,...   \n",
       "\n",
       "                                          review_text  \\\n",
       "65  [Mình k nhớ có phải số 37 không nữa. Chưa bàn ...   \n",
       "\n",
       "                                         review_score  len_review  len_score  \n",
       "65  [2.6, 8.6, 7.0, 10, 2.6, 3.4, 8.6, 4.2, 2.8, 6...         100         99  "
      ]
     },
     "execution_count": 131,
     "metadata": {},
     "output_type": "execute_result"
    }
   ],
   "source": [
    "# dictionary_products\n",
    "dictionary_test1 = {'name':res_names_all,\n",
    "                      'review_text':reviews_all,\n",
    "                      'review_score': scores_all}\n",
    "df_test1 = pd.DataFrame(dictionary_test1)\n",
    "df_test1['len_review'] = df_test1.review_text.apply(lambda x: len(x))\n",
    "df_test1['len_score'] = df_test1.review_score.apply(lambda x: len(x))\n",
    "df_test1[df_test1['len_review'] != df_test1['len_score']]"
   ]
  },
  {
   "cell_type": "code",
   "execution_count": 132,
   "id": "1840c0ef",
   "metadata": {},
   "outputs": [],
   "source": [
    "del res_names_all[65]\n",
    "del reviews_all[65]\n",
    "del scores_all[65]"
   ]
  },
  {
   "cell_type": "code",
   "execution_count": 133,
   "id": "8db8ce10",
   "metadata": {},
   "outputs": [
    {
     "name": "stdout",
     "output_type": "stream",
     "text": [
      "1417 1417 1417\n"
     ]
    }
   ],
   "source": [
    "# flat the lists and check their length\n",
    "res_names_all2, reviews_all2, scores_all2 = flaten_list(res_names_all, reviews_all, scores_all)"
   ]
  },
  {
   "cell_type": "code",
   "execution_count": 134,
   "id": "4f40b84d",
   "metadata": {},
   "outputs": [
    {
     "name": "stdout",
     "output_type": "stream",
     "text": [
      "(1417, 3)\n"
     ]
    },
    {
     "data": {
      "text/html": [
       "<div>\n",
       "<style scoped>\n",
       "    .dataframe tbody tr th:only-of-type {\n",
       "        vertical-align: middle;\n",
       "    }\n",
       "\n",
       "    .dataframe tbody tr th {\n",
       "        vertical-align: top;\n",
       "    }\n",
       "\n",
       "    .dataframe thead th {\n",
       "        text-align: right;\n",
       "    }\n",
       "</style>\n",
       "<table border=\"1\" class=\"dataframe\">\n",
       "  <thead>\n",
       "    <tr style=\"text-align: right;\">\n",
       "      <th></th>\n",
       "      <th>name</th>\n",
       "      <th>review_text</th>\n",
       "      <th>review_score</th>\n",
       "    </tr>\n",
       "  </thead>\n",
       "  <tbody>\n",
       "    <tr>\n",
       "      <th>0</th>\n",
       "      <td>Huy - Bò Nướng &amp; Lẩu</td>\n",
       "      <td>Quán nằm ngay mặt đường, cũng dễ tìm; không gi...</td>\n",
       "      <td>6.2</td>\n",
       "    </tr>\n",
       "    <tr>\n",
       "      <th>1</th>\n",
       "      <td>Huy - Bò Nướng &amp; Lẩu</td>\n",
       "      <td>Chỗ này thì độ nổi tiếng khỏi phải bàn tới rồi...</td>\n",
       "      <td>6.8</td>\n",
       "    </tr>\n",
       "    <tr>\n",
       "      <th>2</th>\n",
       "      <td>Huy - Bò Nướng &amp; Lẩu</td>\n",
       "      <td>Quán khá nổi và cực kỳ đông khách !!!! Ngày th...</td>\n",
       "      <td>6.6</td>\n",
       "    </tr>\n",
       "    <tr>\n",
       "      <th>3</th>\n",
       "      <td>Huy - Bò Nướng &amp; Lẩu</td>\n",
       "      <td>Thấy mọi ng khen nhiều hôm nay ăn thử\\nKhông g...</td>\n",
       "      <td>5.0</td>\n",
       "    </tr>\n",
       "    <tr>\n",
       "      <th>4</th>\n",
       "      <td>Huy - Bò Nướng &amp; Lẩu</td>\n",
       "      <td>Quá khá đông, lúc nào thấy cũng full bàn . Hôm...</td>\n",
       "      <td>4.8</td>\n",
       "    </tr>\n",
       "  </tbody>\n",
       "</table>\n",
       "</div>"
      ],
      "text/plain": [
       "                   name                                        review_text  \\\n",
       "0  Huy - Bò Nướng & Lẩu  Quán nằm ngay mặt đường, cũng dễ tìm; không gi...   \n",
       "1  Huy - Bò Nướng & Lẩu  Chỗ này thì độ nổi tiếng khỏi phải bàn tới rồi...   \n",
       "2  Huy - Bò Nướng & Lẩu  Quán khá nổi và cực kỳ đông khách !!!! Ngày th...   \n",
       "3  Huy - Bò Nướng & Lẩu  Thấy mọi ng khen nhiều hôm nay ăn thử\\nKhông g...   \n",
       "4  Huy - Bò Nướng & Lẩu  Quá khá đông, lúc nào thấy cũng full bàn . Hôm...   \n",
       "\n",
       "  review_score  \n",
       "0          6.2  \n",
       "1          6.8  \n",
       "2          6.6  \n",
       "3          5.0  \n",
       "4          4.8  "
      ]
     },
     "execution_count": 134,
     "metadata": {},
     "output_type": "execute_result"
    }
   ],
   "source": [
    "dict_foody24 = {'name':res_names_all2,\n",
    "                'review_text':reviews_all2,\n",
    "                'review_score': scores_all2}\n",
    "df24 = pd.DataFrame(dict_foody24)\n",
    "print(df24.shape)\n",
    "df24.head()"
   ]
  },
  {
   "cell_type": "code",
   "execution_count": 135,
   "id": "45d2ff64",
   "metadata": {},
   "outputs": [],
   "source": [
    "df24.to_csv('data/foodyData24.csv')"
   ]
  },
  {
   "cell_type": "markdown",
   "id": "345d1b96",
   "metadata": {
    "id": "345d1b96"
   },
   "source": [
    "# Concat & save final result"
   ]
  },
  {
   "cell_type": "code",
   "execution_count": 2,
   "id": "eb9e864c",
   "metadata": {},
   "outputs": [],
   "source": [
    "import pandas as pd"
   ]
  },
  {
   "cell_type": "code",
   "execution_count": 2,
   "id": "d5e1169e",
   "metadata": {
    "id": "d5e1169e"
   },
   "outputs": [],
   "source": [
    "# Load các df đã save \n",
    "foodyData1 = pd.read_csv('data/foodyData1.csv', index_col=0)\n",
    "foodyData2 = pd.read_csv('data/foodyData2.csv', index_col=0)\n",
    "foodyData3 = pd.read_csv('data/foodyData3.csv', index_col=0)\n",
    "foodyData4 = pd.read_csv('data/foodyData4.csv', index_col=0)\n",
    "foodyData5 = pd.read_csv('data/foodyData5.csv', index_col=0)\n",
    "foodyData6 = pd.read_csv('data/foodyData6.csv', index_col=0)\n",
    "foodyData7 = pd.read_csv('data/foodyData7.csv', index_col=0)\n",
    "foodyData8 = pd.read_csv('data/foodyData8.csv', index_col=0)\n",
    "foodyData9 = pd.read_csv('data/foodyData9.csv', index_col=0)\n",
    "foodyData10 = pd.read_csv('data/foodyData10.csv', index_col=0)\n",
    "foodyData11 = pd.read_csv('data/foodyData11.csv', index_col=0)\n",
    "foodyData12 = pd.read_csv('data/foodyData12.csv', index_col=0)\n",
    "foodyData13 = pd.read_csv('data/foodyData13.csv', index_col=0)\n",
    "foodyData14 = pd.read_csv('data/foodyData14.csv', index_col=0)\n",
    "foodyData15 = pd.read_csv('data/foodyData15.csv', index_col=0)\n",
    "foodyData16 = pd.read_csv('data/foodyData16.csv', index_col=0)\n",
    "foodyData17 = pd.read_csv('data/foodyData17.csv', index_col=0)\n",
    "foodyData18 = pd.read_csv('data/foodyData18.csv', index_col=0)\n",
    "foodyData19 = pd.read_csv('data/foodyData19.csv', index_col=0)\n",
    "foodyData20 = pd.read_csv('data/foodyData20.csv', index_col=0)\n",
    "foodyData21 = pd.read_csv('data/foodyData21.csv', index_col=0)\n",
    "foodyData22 = pd.read_csv('data/foodyData22.csv', index_col=0)\n",
    "foodyData23 = pd.read_csv('data/foodyData23.csv', index_col=0)\n",
    "foodyData24 = pd.read_csv('data/foodyData24.csv', index_col=0)\n",
    "foodyData25 = pd.read_csv('data/foodyData25.csv', index_col=0)\n",
    "foodyData26 = pd.read_csv('data/foodyData26.csv', index_col=0)\n",
    "foodyData27 = pd.read_csv('data/foodyData27.csv', index_col=0)\n",
    "foodyData28 = pd.read_csv('data/foodyData28.csv', index_col=0)\n",
    "foodyData29 = pd.read_csv('data/foodyData29.csv', index_col=0)\n",
    "foodyData30 = pd.read_csv('data/foodyData30.csv', index_col=0)\n",
    "foodyData31 = pd.read_csv('data/foodyData31.csv', index_col=0)\n",
    "foodyData32 = pd.read_csv('data/foodyData32.csv', index_col=0)\n",
    "foodyData33 = pd.read_csv('data/foodyData33.csv', index_col=0)\n",
    "foodyData34 = pd.read_csv('data/foodyData34.csv', index_col=0)\n",
    "foodyData35 = pd.read_csv('data/foodyData35.csv', index_col=0)\n",
    "foodyData36 = pd.read_csv('data/foodyData36.csv', index_col=0)\n",
    "foodyData37 = pd.read_csv('data/foodyData37.csv', index_col=0)\n",
    "foodyData38 = pd.read_csv('data/foodyData38.csv', index_col=0)\n",
    "foodyData39 = pd.read_csv('data/foodyData39.csv', index_col=0)\n",
    "foodyData40 = pd.read_csv('data/foodyData40.csv', index_col=0)\n",
    "foodyData41 = pd.read_csv('data/foodyData41.csv', index_col=0)\n",
    "foodyData42 = pd.read_csv('data/foodyData42.csv', index_col=0)"
   ]
  },
  {
   "cell_type": "code",
   "execution_count": 3,
   "id": "aaacb33d",
   "metadata": {
    "id": "aaacb33d"
   },
   "outputs": [],
   "source": [
    "# concat dataframes into one\n",
    "foodyDataFinal = pd.concat([foodyData1, foodyData2, foodyData3, foodyData4, foodyData5, foodyData6,\n",
    "                           foodyData7, foodyData8, foodyData9, foodyData10, foodyData11, foodyData12,\n",
    "                           foodyData13, foodyData14, foodyData15, foodyData16, foodyData17, foodyData18,\n",
    "                           foodyData19, foodyData20, foodyData21, foodyData22, foodyData23, foodyData24,\n",
    "                           foodyData25, foodyData26, foodyData27, foodyData28, foodyData29, foodyData30,\n",
    "                           foodyData31, foodyData32, foodyData33, foodyData34, foodyData35, foodyData36,\n",
    "                           foodyData37, foodyData38, foodyData39, foodyData40, foodyData41, foodyData42])"
   ]
  },
  {
   "cell_type": "code",
   "execution_count": 4,
   "id": "3794f870",
   "metadata": {
    "id": "3794f870"
   },
   "outputs": [],
   "source": [
    "# reset index\n",
    "foodyDataFinal.reset_index(inplace=True, drop=True)"
   ]
  },
  {
   "cell_type": "code",
   "execution_count": 5,
   "id": "9411d9e7",
   "metadata": {
    "id": "9411d9e7",
    "outputId": "a98b5a5c-2aa7-4957-dc2a-3118e8e28dc9"
   },
   "outputs": [
    {
     "data": {
      "text/plain": [
       "(77662, 3)"
      ]
     },
     "execution_count": 5,
     "metadata": {},
     "output_type": "execute_result"
    }
   ],
   "source": [
    "foodyDataFinal.shape"
   ]
  },
  {
   "cell_type": "code",
   "execution_count": 6,
   "id": "fddf4e47",
   "metadata": {
    "id": "fddf4e47",
    "outputId": "848ccb5a-b718-47ca-8790-88542317da7e"
   },
   "outputs": [
    {
     "name": "stdout",
     "output_type": "stream",
     "text": [
      "<class 'pandas.core.frame.DataFrame'>\n",
      "RangeIndex: 77662 entries, 0 to 77661\n",
      "Data columns (total 3 columns):\n",
      " #   Column        Non-Null Count  Dtype  \n",
      "---  ------        --------------  -----  \n",
      " 0   name          77662 non-null  object \n",
      " 1   review_text   77662 non-null  object \n",
      " 2   review_score  77662 non-null  float64\n",
      "dtypes: float64(1), object(2)\n",
      "memory usage: 1.8+ MB\n"
     ]
    }
   ],
   "source": [
    "foodyDataFinal.info()"
   ]
  },
  {
   "cell_type": "code",
   "execution_count": 7,
   "id": "f23632fb",
   "metadata": {
    "id": "f23632fb",
    "outputId": "cb236b43-015f-4c64-c1b7-470e53591e23"
   },
   "outputs": [
    {
     "data": {
      "text/html": [
       "<div>\n",
       "<style scoped>\n",
       "    .dataframe tbody tr th:only-of-type {\n",
       "        vertical-align: middle;\n",
       "    }\n",
       "\n",
       "    .dataframe tbody tr th {\n",
       "        vertical-align: top;\n",
       "    }\n",
       "\n",
       "    .dataframe thead th {\n",
       "        text-align: right;\n",
       "    }\n",
       "</style>\n",
       "<table border=\"1\" class=\"dataframe\">\n",
       "  <thead>\n",
       "    <tr style=\"text-align: right;\">\n",
       "      <th></th>\n",
       "      <th>name</th>\n",
       "      <th>review_text</th>\n",
       "      <th>review_score</th>\n",
       "    </tr>\n",
       "  </thead>\n",
       "  <tbody>\n",
       "    <tr>\n",
       "      <th>0</th>\n",
       "      <td>Chícc Chícc - Gà Rán Hàn Quốc</td>\n",
       "      <td>Gà tắm mắm, phô mai kéo sợi siêu ngon, giá mềm</td>\n",
       "      <td>10.0</td>\n",
       "    </tr>\n",
       "    <tr>\n",
       "      <th>1</th>\n",
       "      <td>Chícc Chícc - Gà Rán Hàn Quốc</td>\n",
       "      <td>Gà BBQ Hàn, phô mai kéo sợi siêu ngon, giá mềm</td>\n",
       "      <td>10.0</td>\n",
       "    </tr>\n",
       "    <tr>\n",
       "      <th>2</th>\n",
       "      <td>Chícc Chícc - Gà Rán Hàn Quốc</td>\n",
       "      <td>Gà rán phô mai kéo sợi sốt BBQ, siu ngon</td>\n",
       "      <td>10.0</td>\n",
       "    </tr>\n",
       "    <tr>\n",
       "      <th>3</th>\n",
       "      <td>Chícc Chícc - Gà Rán Hàn Quốc</td>\n",
       "      <td>Gà rán kem bơ tỏi, ngon, lạ, béo, giá ổn áp</td>\n",
       "      <td>10.0</td>\n",
       "    </tr>\n",
       "    <tr>\n",
       "      <th>4</th>\n",
       "      <td>Chícc Chícc - Gà Rán Hàn Quốc</td>\n",
       "      <td>Gà rán kem bơ tỏi, ngon, lạ, béo, giá ổn áp</td>\n",
       "      <td>10.0</td>\n",
       "    </tr>\n",
       "  </tbody>\n",
       "</table>\n",
       "</div>"
      ],
      "text/plain": [
       "                            name  \\\n",
       "0  Chícc Chícc - Gà Rán Hàn Quốc   \n",
       "1  Chícc Chícc - Gà Rán Hàn Quốc   \n",
       "2  Chícc Chícc - Gà Rán Hàn Quốc   \n",
       "3  Chícc Chícc - Gà Rán Hàn Quốc   \n",
       "4  Chícc Chícc - Gà Rán Hàn Quốc   \n",
       "\n",
       "                                      review_text  review_score  \n",
       "0  Gà tắm mắm, phô mai kéo sợi siêu ngon, giá mềm          10.0  \n",
       "1  Gà BBQ Hàn, phô mai kéo sợi siêu ngon, giá mềm          10.0  \n",
       "2        Gà rán phô mai kéo sợi sốt BBQ, siu ngon          10.0  \n",
       "3     Gà rán kem bơ tỏi, ngon, lạ, béo, giá ổn áp          10.0  \n",
       "4     Gà rán kem bơ tỏi, ngon, lạ, béo, giá ổn áp          10.0  "
      ]
     },
     "execution_count": 7,
     "metadata": {},
     "output_type": "execute_result"
    }
   ],
   "source": [
    "foodyDataFinal.head()"
   ]
  },
  {
   "cell_type": "code",
   "execution_count": 8,
   "id": "071019c3",
   "metadata": {
    "id": "071019c3",
    "outputId": "c94bf716-9b14-4ee4-80e9-5c6da84c6182"
   },
   "outputs": [
    {
     "data": {
      "text/html": [
       "<div>\n",
       "<style scoped>\n",
       "    .dataframe tbody tr th:only-of-type {\n",
       "        vertical-align: middle;\n",
       "    }\n",
       "\n",
       "    .dataframe tbody tr th {\n",
       "        vertical-align: top;\n",
       "    }\n",
       "\n",
       "    .dataframe thead th {\n",
       "        text-align: right;\n",
       "    }\n",
       "</style>\n",
       "<table border=\"1\" class=\"dataframe\">\n",
       "  <thead>\n",
       "    <tr style=\"text-align: right;\">\n",
       "      <th></th>\n",
       "      <th>name</th>\n",
       "      <th>review_text</th>\n",
       "      <th>review_score</th>\n",
       "    </tr>\n",
       "  </thead>\n",
       "  <tbody>\n",
       "    <tr>\n",
       "      <th>77657</th>\n",
       "      <td>Phở Hương</td>\n",
       "      <td>Quán chủ yếu là phở nhưng mình lại thích bún b...</td>\n",
       "      <td>8.6</td>\n",
       "    </tr>\n",
       "    <tr>\n",
       "      <th>77658</th>\n",
       "      <td>Phở Hương</td>\n",
       "      <td>Quán phở này bán cũng đã khá lâu năm rồi. Mình...</td>\n",
       "      <td>8.0</td>\n",
       "    </tr>\n",
       "    <tr>\n",
       "      <th>77659</th>\n",
       "      <td>Phở Hương</td>\n",
       "      <td>Là dân thích phở nên nghe giới thiệu có quán p...</td>\n",
       "      <td>8.0</td>\n",
       "    </tr>\n",
       "    <tr>\n",
       "      <th>77660</th>\n",
       "      <td>Phở Hương</td>\n",
       "      <td>Tính đi ăn Tài Hưng mà hết ời nên ghé qua đây ...</td>\n",
       "      <td>7.8</td>\n",
       "    </tr>\n",
       "    <tr>\n",
       "      <th>77661</th>\n",
       "      <td>Phở Hương</td>\n",
       "      <td>Đợt tính lên rv mà thấy lạ chưa ai ăn ở đây ha...</td>\n",
       "      <td>8.0</td>\n",
       "    </tr>\n",
       "  </tbody>\n",
       "</table>\n",
       "</div>"
      ],
      "text/plain": [
       "            name                                        review_text  \\\n",
       "77657  Phở Hương  Quán chủ yếu là phở nhưng mình lại thích bún b...   \n",
       "77658  Phở Hương  Quán phở này bán cũng đã khá lâu năm rồi. Mình...   \n",
       "77659  Phở Hương  Là dân thích phở nên nghe giới thiệu có quán p...   \n",
       "77660  Phở Hương  Tính đi ăn Tài Hưng mà hết ời nên ghé qua đây ...   \n",
       "77661  Phở Hương  Đợt tính lên rv mà thấy lạ chưa ai ăn ở đây ha...   \n",
       "\n",
       "       review_score  \n",
       "77657           8.6  \n",
       "77658           8.0  \n",
       "77659           8.0  \n",
       "77660           7.8  \n",
       "77661           8.0  "
      ]
     },
     "execution_count": 8,
     "metadata": {},
     "output_type": "execute_result"
    }
   ],
   "source": [
    "foodyDataFinal.tail()"
   ]
  },
  {
   "cell_type": "code",
   "execution_count": 9,
   "id": "e5ed570d",
   "metadata": {},
   "outputs": [
    {
     "data": {
      "text/plain": [
       "7023"
      ]
     },
     "execution_count": 9,
     "metadata": {},
     "output_type": "execute_result"
    }
   ],
   "source": [
    "foodyDataFinal.duplicated().sum()"
   ]
  },
  {
   "cell_type": "code",
   "execution_count": 10,
   "id": "07e93cab",
   "metadata": {
    "id": "07e93cab"
   },
   "outputs": [],
   "source": [
    "# save final file\n",
    "foodyDataFinal.to_csv('data/foodyDataFinal.csv')"
   ]
  }
 ],
 "metadata": {
  "colab": {
   "collapsed_sections": [
    "19956ec7",
    "15e87cd4",
    "f9704924",
    "cf0aa532",
    "97c35581",
    "D48W-2x-WLrm",
    "gKV-CfJ5Wdsp",
    "-wX6W5UJWjJ3",
    "-Qp1MFIpWuuI",
    "SmEetHSLW7Iq",
    "WIfgvQFsXDDK",
    "I9gvsq3cXKfa",
    "I92xEYYMXN95",
    "3UdYtoNMyVdC",
    "-xNtnrIyyTMl",
    "fR1vM9QIyl8p",
    "81d499cb",
    "64c3c00b",
    "20262104",
    "1dfaaf57"
   ],
   "name": "Project3_Part0_DataScrapping_Selenium.ipynb",
   "provenance": []
  },
  "kernelspec": {
   "display_name": "Python 3 (ipykernel)",
   "language": "python",
   "name": "python3"
  },
  "language_info": {
   "codemirror_mode": {
    "name": "ipython",
    "version": 3
   },
   "file_extension": ".py",
   "mimetype": "text/x-python",
   "name": "python",
   "nbconvert_exporter": "python",
   "pygments_lexer": "ipython3",
   "version": "3.8.12"
  }
 },
 "nbformat": 4,
 "nbformat_minor": 5
}
