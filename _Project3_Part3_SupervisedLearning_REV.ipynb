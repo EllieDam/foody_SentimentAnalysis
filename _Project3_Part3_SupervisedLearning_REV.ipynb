{
 "cells": [
  {
   "cell_type": "markdown",
   "id": "fkS0qWKEXPpt",
   "metadata": {
    "id": "fkS0qWKEXPpt"
   },
   "source": [
    "# Import packages"
   ]
  },
  {
   "cell_type": "code",
   "execution_count": 1,
   "id": "yS9WvIN_WIWE",
   "metadata": {
    "colab": {
     "base_uri": "https://localhost:8080/"
    },
    "collapsed": true,
    "executionInfo": {
     "elapsed": 16590,
     "status": "ok",
     "timestamp": 1647326565881,
     "user": {
      "displayName": "Phuong Dam",
      "photoUrl": "https://lh3.googleusercontent.com/a/default-user=s64",
      "userId": "01072403895711103873"
     },
     "user_tz": -420
    },
    "id": "yS9WvIN_WIWE",
    "outputId": "b95bdc6d-0be4-4782-b495-e7d420056d7b"
   },
   "outputs": [
    {
     "name": "stdout",
     "output_type": "stream",
     "text": [
      "Requirement already satisfied: import_ipynb in /usr/local/lib/python3.7/dist-packages (0.1.3)\n",
      "Requirement already satisfied: underthesea in /usr/local/lib/python3.7/dist-packages (1.3.4)\n",
      "Requirement already satisfied: underthesea-core==0.0.4_alpha.10 in /usr/local/lib/python3.7/dist-packages (from underthesea) (0.0.4a10)\n",
      "Requirement already satisfied: unidecode in /usr/local/lib/python3.7/dist-packages (from underthesea) (1.3.4)\n",
      "Requirement already satisfied: scikit-learn in /usr/local/lib/python3.7/dist-packages (from underthesea) (1.0.2)\n",
      "Requirement already satisfied: python-crfsuite>=0.9.6 in /usr/local/lib/python3.7/dist-packages (from underthesea) (0.9.7)\n",
      "Requirement already satisfied: tqdm in /usr/local/lib/python3.7/dist-packages (from underthesea) (4.63.0)\n",
      "Requirement already satisfied: PyYAML in /usr/local/lib/python3.7/dist-packages (from underthesea) (3.13)\n",
      "Requirement already satisfied: requests in /usr/local/lib/python3.7/dist-packages (from underthesea) (2.23.0)\n",
      "Requirement already satisfied: joblib in /usr/local/lib/python3.7/dist-packages (from underthesea) (1.1.0)\n",
      "Requirement already satisfied: nltk in /usr/local/lib/python3.7/dist-packages (from underthesea) (3.2.5)\n",
      "Requirement already satisfied: Click>=6.0 in /usr/local/lib/python3.7/dist-packages (from underthesea) (7.1.2)\n",
      "Requirement already satisfied: six in /usr/local/lib/python3.7/dist-packages (from nltk->underthesea) (1.15.0)\n",
      "Requirement already satisfied: urllib3!=1.25.0,!=1.25.1,<1.26,>=1.21.1 in /usr/local/lib/python3.7/dist-packages (from requests->underthesea) (1.24.3)\n",
      "Requirement already satisfied: chardet<4,>=3.0.2 in /usr/local/lib/python3.7/dist-packages (from requests->underthesea) (3.0.4)\n",
      "Requirement already satisfied: idna<3,>=2.5 in /usr/local/lib/python3.7/dist-packages (from requests->underthesea) (2.10)\n",
      "Requirement already satisfied: certifi>=2017.4.17 in /usr/local/lib/python3.7/dist-packages (from requests->underthesea) (2021.10.8)\n",
      "Requirement already satisfied: threadpoolctl>=2.0.0 in /usr/local/lib/python3.7/dist-packages (from scikit-learn->underthesea) (3.1.0)\n",
      "Requirement already satisfied: scipy>=1.1.0 in /usr/local/lib/python3.7/dist-packages (from scikit-learn->underthesea) (1.4.1)\n",
      "Requirement already satisfied: numpy>=1.14.6 in /usr/local/lib/python3.7/dist-packages (from scikit-learn->underthesea) (1.21.5)\n",
      "Requirement already satisfied: demoji in /usr/local/lib/python3.7/dist-packages (1.1.0)\n",
      "Requirement already satisfied: pyvi in /usr/local/lib/python3.7/dist-packages (0.1.1)\n",
      "Requirement already satisfied: sklearn-crfsuite in /usr/local/lib/python3.7/dist-packages (from pyvi) (0.3.6)\n",
      "Requirement already satisfied: scikit-learn in /usr/local/lib/python3.7/dist-packages (from pyvi) (1.0.2)\n",
      "Requirement already satisfied: threadpoolctl>=2.0.0 in /usr/local/lib/python3.7/dist-packages (from scikit-learn->pyvi) (3.1.0)\n",
      "Requirement already satisfied: numpy>=1.14.6 in /usr/local/lib/python3.7/dist-packages (from scikit-learn->pyvi) (1.21.5)\n",
      "Requirement already satisfied: scipy>=1.1.0 in /usr/local/lib/python3.7/dist-packages (from scikit-learn->pyvi) (1.4.1)\n",
      "Requirement already satisfied: joblib>=0.11 in /usr/local/lib/python3.7/dist-packages (from scikit-learn->pyvi) (1.1.0)\n",
      "Requirement already satisfied: python-crfsuite>=0.8.3 in /usr/local/lib/python3.7/dist-packages (from sklearn-crfsuite->pyvi) (0.9.7)\n",
      "Requirement already satisfied: tabulate in /usr/local/lib/python3.7/dist-packages (from sklearn-crfsuite->pyvi) (0.8.9)\n",
      "Requirement already satisfied: six in /usr/local/lib/python3.7/dist-packages (from sklearn-crfsuite->pyvi) (1.15.0)\n",
      "Requirement already satisfied: tqdm>=2.0 in /usr/local/lib/python3.7/dist-packages (from sklearn-crfsuite->pyvi) (4.63.0)\n",
      "Requirement already satisfied: lightgbm in /usr/local/lib/python3.7/dist-packages (2.2.3)\n",
      "Requirement already satisfied: scipy in /usr/local/lib/python3.7/dist-packages (from lightgbm) (1.4.1)\n",
      "Requirement already satisfied: numpy in /usr/local/lib/python3.7/dist-packages (from lightgbm) (1.21.5)\n",
      "Requirement already satisfied: scikit-learn in /usr/local/lib/python3.7/dist-packages (from lightgbm) (1.0.2)\n",
      "Requirement already satisfied: joblib>=0.11 in /usr/local/lib/python3.7/dist-packages (from scikit-learn->lightgbm) (1.1.0)\n",
      "Requirement already satisfied: threadpoolctl>=2.0.0 in /usr/local/lib/python3.7/dist-packages (from scikit-learn->lightgbm) (3.1.0)\n"
     ]
    }
   ],
   "source": [
    "!pip install import_ipynb\n",
    "!pip install underthesea\n",
    "!pip install demoji\n",
    "!pip install pyvi\n",
    "!pip install lightgbm"
   ]
  },
  {
   "cell_type": "code",
   "execution_count": 2,
   "id": "1ZxVVln_WT6o",
   "metadata": {
    "colab": {
     "base_uri": "https://localhost:8080/"
    },
    "executionInfo": {
     "elapsed": 4274,
     "status": "ok",
     "timestamp": 1647326570145,
     "user": {
      "displayName": "Phuong Dam",
      "photoUrl": "https://lh3.googleusercontent.com/a/default-user=s64",
      "userId": "01072403895711103873"
     },
     "user_tz": -420
    },
    "id": "1ZxVVln_WT6o",
    "outputId": "41480f29-f34d-47be-becd-a6d59dbf790a"
   },
   "outputs": [
    {
     "name": "stdout",
     "output_type": "stream",
     "text": [
      "Mounted at /content/gdrive\n"
     ]
    }
   ],
   "source": [
    "from google.colab import drive\n",
    "drive.mount('/content/gdrive', force_remount=True)"
   ]
  },
  {
   "cell_type": "code",
   "execution_count": 3,
   "id": "m9u6SNdwWj8Z",
   "metadata": {
    "colab": {
     "base_uri": "https://localhost:8080/"
    },
    "executionInfo": {
     "elapsed": 8,
     "status": "ok",
     "timestamp": 1647326570146,
     "user": {
      "displayName": "Phuong Dam",
      "photoUrl": "https://lh3.googleusercontent.com/a/default-user=s64",
      "userId": "01072403895711103873"
     },
     "user_tz": -420
    },
    "id": "m9u6SNdwWj8Z",
    "outputId": "3acdd3fe-ac91-4a0e-f448-594a0289874c"
   },
   "outputs": [
    {
     "name": "stdout",
     "output_type": "stream",
     "text": [
      "/content/gdrive/MyDrive/LDS0_K273_DamThiMinhPhuong/Project/Project3_SentimentAnalysis\n"
     ]
    }
   ],
   "source": [
    "%cd '/content/gdrive/MyDrive/LDS0_K273_DamThiMinhPhuong/Project/Project3_SentimentAnalysis'"
   ]
  },
  {
   "cell_type": "code",
   "execution_count": 1,
   "id": "d957c437",
   "metadata": {
    "colab": {
     "base_uri": "https://localhost:8080/"
    },
    "executionInfo": {
     "elapsed": 1526,
     "status": "ok",
     "timestamp": 1647326571667,
     "user": {
      "displayName": "Phuong Dam",
      "photoUrl": "https://lh3.googleusercontent.com/a/default-user=s64",
      "userId": "01072403895711103873"
     },
     "user_tz": -420
    },
    "id": "d957c437",
    "outputId": "a03ca475-7fe0-42ea-a115-bcc54df5d7b7"
   },
   "outputs": [
    {
     "name": "stdout",
     "output_type": "stream",
     "text": [
      "importing Jupyter notebook from Lib3.ipynb\n"
     ]
    }
   ],
   "source": [
    "import pandas as pd\n",
    "import numpy as np\n",
    "import seaborn as sns\n",
    "import matplotlib.pyplot as plt\n",
    "import warnings\n",
    "warnings.filterwarnings('ignore')\n",
    "\n",
    "import import_ipynb\n",
    "import Lib3\n",
    "\n",
    "pd.options.display.float_format = '{:,.4f}'.format"
   ]
  },
  {
   "cell_type": "code",
   "execution_count": 2,
   "id": "2ba0e646",
   "metadata": {
    "executionInfo": {
     "elapsed": 8,
     "status": "ok",
     "timestamp": 1647326571668,
     "user": {
      "displayName": "Phuong Dam",
      "photoUrl": "https://lh3.googleusercontent.com/a/default-user=s64",
      "userId": "01072403895711103873"
     },
     "user_tz": -420
    },
    "id": "2ba0e646"
   },
   "outputs": [],
   "source": [
    "from underthesea import word_tokenize, pos_tag, sent_tokenize\n",
    "import regex\n",
    "import demoji\n",
    "from pyvi import ViPosTagger, ViTokenizer\n",
    "import string\n",
    "from collections import Counter\n",
    "from sklearn.feature_extraction.text import TfidfVectorizer, CountVectorizer\n",
    "from sklearn.model_selection import train_test_split\n",
    "\n",
    "from sklearn.model_selection import GridSearchCV, RandomizedSearchCV\n",
    "from sklearn.pipeline import Pipeline\n",
    "from imblearn.over_sampling import SMOTE\n",
    "from sklearn.metrics import classification_report,confusion_matrix\n",
    "from sklearn.metrics import precision_score, recall_score, f1_score\n",
    "from sklearn.metrics import accuracy_score\n",
    "\n",
    "from sklearn.linear_model import LogisticRegression, SGDClassifier\n",
    "from lightgbm import LGBMClassifier\n",
    "from xgboost import XGBClassifier\n",
    "from sklearn.naive_bayes import BernoulliNB\n",
    "from sklearn.neighbors import NearestCentroid\n",
    "from sklearn.ensemble import RandomForestClassifier\n",
    "from sklearn.tree import DecisionTreeClassifier"
   ]
  },
  {
   "cell_type": "markdown",
   "id": "326e6722",
   "metadata": {
    "id": "326e6722"
   },
   "source": [
    "# Step 1: Business Understanding"
   ]
  },
  {
   "cell_type": "markdown",
   "id": "63b6fdbd",
   "metadata": {
    "id": "63b6fdbd"
   },
   "source": [
    "# Step 2: Data Understanding"
   ]
  },
  {
   "cell_type": "markdown",
   "id": "_iryft1GfoG5",
   "metadata": {
    "id": "_iryft1GfoG5"
   },
   "source": [
    "# Step 3: Data Preparation"
   ]
  },
  {
   "cell_type": "code",
   "execution_count": 3,
   "id": "acc4dad6",
   "metadata": {
    "executionInfo": {
     "elapsed": 1112,
     "status": "ok",
     "timestamp": 1647326572774,
     "user": {
      "displayName": "Phuong Dam",
      "photoUrl": "https://lh3.googleusercontent.com/a/default-user=s64",
      "userId": "01072403895711103873"
     },
     "user_tz": -420
    },
    "id": "acc4dad6"
   },
   "outputs": [],
   "source": [
    "# Load foodyClean.csv\n",
    "df = pd.read_csv('data/foodyDataFinal_clean2.csv', index_col=0)"
   ]
  },
  {
   "cell_type": "code",
   "execution_count": 4,
   "id": "e1ee87f2",
   "metadata": {
    "colab": {
     "base_uri": "https://localhost:8080/"
    },
    "executionInfo": {
     "elapsed": 13,
     "status": "ok",
     "timestamp": 1647326572775,
     "user": {
      "displayName": "Phuong Dam",
      "photoUrl": "https://lh3.googleusercontent.com/a/default-user=s64",
      "userId": "01072403895711103873"
     },
     "user_tz": -420
    },
    "id": "e1ee87f2",
    "outputId": "8381dd47-095d-483d-ff38-8a25ffc4f08e"
   },
   "outputs": [
    {
     "data": {
      "text/plain": [
       "(33632, 6)"
      ]
     },
     "execution_count": 4,
     "metadata": {},
     "output_type": "execute_result"
    }
   ],
   "source": [
    "df.shape"
   ]
  },
  {
   "cell_type": "code",
   "execution_count": 5,
   "id": "6EXfMcrRkknO",
   "metadata": {
    "colab": {
     "base_uri": "https://localhost:8080/"
    },
    "executionInfo": {
     "elapsed": 9,
     "status": "ok",
     "timestamp": 1647326572776,
     "user": {
      "displayName": "Phuong Dam",
      "photoUrl": "https://lh3.googleusercontent.com/a/default-user=s64",
      "userId": "01072403895711103873"
     },
     "user_tz": -420
    },
    "id": "6EXfMcrRkknO",
    "outputId": "cbfd5cec-6681-4680-87fa-df05703ea1cf"
   },
   "outputs": [
    {
     "data": {
      "text/plain": [
       "array(['gà mắm phô kéo sợi siêu ngon giá mềm .',\n",
       "       'gà hàn phô kéo sợi siêu ngon giá mềm .', 'gà tây mặn .', ...,\n",
       "       'đường trần_diệu sâu xíu không_có giới_thiệu không_biết . ngon nổi_tiếng vực bình thủy bạn_bè rủ_rê đấy . đồ ngon nêm nếm đậm_đà . phục_vụ mực đặc_sản gương_mặt thương_hiệu . phục_vụ thích_hợp nhâm bạn_bè đình . giá_cả hợp_lý thị_trường . ngon .',\n",
       "       'trời mưa lạnh thèm bún_bò đầu chiều . tái nạm đem không_. bọc nguội_ngắt . lát tái nạm . không_hành_tây . nấu sôi thèm ngon_miệng . không_biết không_đúng không_nước nguội đem đâu không_có bếp nấu nghỉ .',\n",
       "       'chủ_yếu thích bún_bò bún_bò không_để giò bò bò viên . hấp_dẫn hương_vị đậm_đà bò bò viên ngon bò viên sần_sật không_bột tương ngon . tí tế đỉnh . sạch_sẽ thoáng mấy vẻ yêu .'],\n",
       "      dtype=object)"
      ]
     },
     "execution_count": 5,
     "metadata": {},
     "output_type": "execute_result"
    }
   ],
   "source": [
    "text_data = np.array(df['review_text_clean'])\n",
    "text_data"
   ]
  },
  {
   "cell_type": "code",
   "execution_count": 6,
   "id": "7d030518",
   "metadata": {
    "colab": {
     "base_uri": "https://localhost:8080/"
    },
    "executionInfo": {
     "elapsed": 1594,
     "status": "ok",
     "timestamp": 1647326574364,
     "user": {
      "displayName": "Phuong Dam",
      "photoUrl": "https://lh3.googleusercontent.com/a/default-user=s64",
      "userId": "01072403895711103873"
     },
     "user_tz": -420
    },
    "id": "7d030518",
    "outputId": "ec68330e-973f-463e-876b-da5976320bf9"
   },
   "outputs": [
    {
     "data": {
      "text/plain": [
       "<33632x23923 sparse matrix of type '<class 'numpy.float64'>'\n",
       "\twith 736961 stored elements in Compressed Sparse Row format>"
      ]
     },
     "execution_count": 6,
     "metadata": {},
     "output_type": "execute_result"
    }
   ],
   "source": [
    "tfidf = TfidfVectorizer(max_features=None) \n",
    "bag_of_words = tfidf.fit_transform(text_data)\n",
    "bag_of_words"
   ]
  },
  {
   "cell_type": "code",
   "execution_count": 7,
   "id": "ZROyr9oNms8C",
   "metadata": {
    "colab": {
     "base_uri": "https://localhost:8080/"
    },
    "executionInfo": {
     "elapsed": 6058,
     "status": "ok",
     "timestamp": 1647326580416,
     "user": {
      "displayName": "Phuong Dam",
      "photoUrl": "https://lh3.googleusercontent.com/a/default-user=s64",
      "userId": "01072403895711103873"
     },
     "user_tz": -420
    },
    "id": "ZROyr9oNms8C",
    "outputId": "8531fd4a-3675-4e9b-afe2-fc48ea7f2efc"
   },
   "outputs": [
    {
     "data": {
      "text/plain": [
       "(33632, 23923)"
      ]
     },
     "execution_count": 7,
     "metadata": {},
     "output_type": "execute_result"
    }
   ],
   "source": [
    "X = bag_of_words.toarray()\n",
    "X.shape"
   ]
  },
  {
   "cell_type": "code",
   "execution_count": 8,
   "id": "7jA8LpRMm1Pe",
   "metadata": {
    "colab": {
     "base_uri": "https://localhost:8080/"
    },
    "executionInfo": {
     "elapsed": 16,
     "status": "ok",
     "timestamp": 1647326580417,
     "user": {
      "displayName": "Phuong Dam",
      "photoUrl": "https://lh3.googleusercontent.com/a/default-user=s64",
      "userId": "01072403895711103873"
     },
     "user_tz": -420
    },
    "id": "7jA8LpRMm1Pe",
    "outputId": "274cbd5c-a4fc-4d78-af6f-7a5df254fe25"
   },
   "outputs": [
    {
     "data": {
      "text/plain": [
       "(33632,)"
      ]
     },
     "execution_count": 8,
     "metadata": {},
     "output_type": "execute_result"
    }
   ],
   "source": [
    "y = np.array(df['label'])\n",
    "y.shape"
   ]
  },
  {
   "cell_type": "code",
   "execution_count": 9,
   "id": "1378ac83",
   "metadata": {
    "colab": {
     "base_uri": "https://localhost:8080/"
    },
    "executionInfo": {
     "elapsed": 4970,
     "status": "ok",
     "timestamp": 1647326585382,
     "user": {
      "displayName": "Phuong Dam",
      "photoUrl": "https://lh3.googleusercontent.com/a/default-user=s64",
      "userId": "01072403895711103873"
     },
     "user_tz": -420
    },
    "id": "1378ac83",
    "outputId": "32b73f6c-ba66-43c3-a5df-465f9ee976db"
   },
   "outputs": [
    {
     "data": {
      "text/plain": [
       "(array([[0., 0., 0., ..., 0., 0., 0.],\n",
       "        [0., 0., 0., ..., 0., 0., 0.],\n",
       "        [0., 0., 0., ..., 0., 0., 0.],\n",
       "        [0., 0., 0., ..., 0., 0., 0.],\n",
       "        [0., 0., 0., ..., 0., 0., 0.]]),\n",
       " array([1, 1, 1, 1, 1]))"
      ]
     },
     "execution_count": 9,
     "metadata": {},
     "output_type": "execute_result"
    }
   ],
   "source": [
    "X_train, X_test, y_train, y_test = train_test_split(X, y, test_size=0.3, random_state=42)\n",
    "X_train[:5], y_train[:5]"
   ]
  },
  {
   "cell_type": "markdown",
   "id": "TsQSQD3ZkvAU",
   "metadata": {
    "id": "TsQSQD3ZkvAU"
   },
   "source": [
    "# Step 4: Build Model & Evaluate\n",
    "\n"
   ]
  },
  {
   "cell_type": "markdown",
   "id": "c99924a8",
   "metadata": {},
   "source": [
    "Ta sẽ đặt mục tiêu của project là phát hiện càng nhiều càng tốt các review xấu (class 0), nên bên cạnh Accuracy ta sẽ quan tâm tới cả các chỉ số Precision, Recall của class 0"
   ]
  },
  {
   "cell_type": "markdown",
   "id": "3d312f03",
   "metadata": {},
   "source": [
    "Trước hết, ta sẽ xem xét một lượt các thuật toán, bao gồm:\n",
    "- 5 thuật toán có kết quả tốt nhất do **lazypredict**\n",
    "- Các thuật toán có **Tree-based** để deal với việc mất cân bằng của dữ liệu: **LGBMClassifier**"
   ]
  },
  {
   "cell_type": "code",
   "execution_count": 11,
   "id": "1013bd4a",
   "metadata": {},
   "outputs": [
    {
     "data": {
      "text/html": [
       "<div>\n",
       "<style scoped>\n",
       "    .dataframe tbody tr th:only-of-type {\n",
       "        vertical-align: middle;\n",
       "    }\n",
       "\n",
       "    .dataframe tbody tr th {\n",
       "        vertical-align: top;\n",
       "    }\n",
       "\n",
       "    .dataframe thead th {\n",
       "        text-align: right;\n",
       "    }\n",
       "</style>\n",
       "<table border=\"1\" class=\"dataframe\">\n",
       "  <thead>\n",
       "    <tr style=\"text-align: right;\">\n",
       "      <th></th>\n",
       "      <th>Model</th>\n",
       "      <th>Score_Train</th>\n",
       "      <th>Score_Test</th>\n",
       "      <th>Precision</th>\n",
       "      <th>Recall</th>\n",
       "      <th>F1</th>\n",
       "      <th>Time Fit</th>\n",
       "    </tr>\n",
       "  </thead>\n",
       "  <tbody>\n",
       "    <tr>\n",
       "      <th>0</th>\n",
       "      <td>BernoulliNB</td>\n",
       "      <td>0.9102</td>\n",
       "      <td>0.8930</td>\n",
       "      <td>0.8930</td>\n",
       "      <td>0.8930</td>\n",
       "      <td>0.8930</td>\n",
       "      <td>5.0339</td>\n",
       "    </tr>\n",
       "    <tr>\n",
       "      <th>1</th>\n",
       "      <td>NearestCentroid</td>\n",
       "      <td>0.8467</td>\n",
       "      <td>0.8454</td>\n",
       "      <td>0.8454</td>\n",
       "      <td>0.8454</td>\n",
       "      <td>0.8454</td>\n",
       "      <td>2.2575</td>\n",
       "    </tr>\n",
       "    <tr>\n",
       "      <th>2</th>\n",
       "      <td>SGDClassifier</td>\n",
       "      <td>0.9223</td>\n",
       "      <td>0.9004</td>\n",
       "      <td>0.9004</td>\n",
       "      <td>0.9004</td>\n",
       "      <td>0.9004</td>\n",
       "      <td>14.7137</td>\n",
       "    </tr>\n",
       "    <tr>\n",
       "      <th>3</th>\n",
       "      <td>LogisticRegression</td>\n",
       "      <td>0.9201</td>\n",
       "      <td>0.9018</td>\n",
       "      <td>0.9018</td>\n",
       "      <td>0.9018</td>\n",
       "      <td>0.9018</td>\n",
       "      <td>20.2467</td>\n",
       "    </tr>\n",
       "  </tbody>\n",
       "</table>\n",
       "</div>"
      ],
      "text/plain": [
       "                Model  Score_Train  Score_Test  Precision  Recall     F1  \\\n",
       "0         BernoulliNB       0.9102      0.8930     0.8930  0.8930 0.8930   \n",
       "1     NearestCentroid       0.8467      0.8454     0.8454  0.8454 0.8454   \n",
       "2       SGDClassifier       0.9223      0.9004     0.9004  0.9004 0.9004   \n",
       "3  LogisticRegression       0.9201      0.9018     0.9018  0.9018 0.9018   \n",
       "\n",
       "   Time Fit  \n",
       "0    5.0339  \n",
       "1    2.2575  \n",
       "2   14.7137  \n",
       "3   20.2467  "
      ]
     },
     "execution_count": 11,
     "metadata": {},
     "output_type": "execute_result"
    }
   ],
   "source": [
    "models_list = [BernoulliNB(), NearestCentroid(), SGDClassifier(), LogisticRegression()]\n",
    "results = Lib3.average_score_multiple_models(models_list, X, y, test_size=0.2, cv=5, average='micro')\n",
    "results"
   ]
  },
  {
   "cell_type": "code",
   "execution_count": 11,
   "id": "3c226c72",
   "metadata": {},
   "outputs": [
    {
     "data": {
      "text/html": [
       "<div>\n",
       "<style scoped>\n",
       "    .dataframe tbody tr th:only-of-type {\n",
       "        vertical-align: middle;\n",
       "    }\n",
       "\n",
       "    .dataframe tbody tr th {\n",
       "        vertical-align: top;\n",
       "    }\n",
       "\n",
       "    .dataframe thead th {\n",
       "        text-align: right;\n",
       "    }\n",
       "</style>\n",
       "<table border=\"1\" class=\"dataframe\">\n",
       "  <thead>\n",
       "    <tr style=\"text-align: right;\">\n",
       "      <th></th>\n",
       "      <th>Model</th>\n",
       "      <th>Score_Train</th>\n",
       "      <th>Score_Test</th>\n",
       "      <th>Precision</th>\n",
       "      <th>Recall</th>\n",
       "      <th>F1</th>\n",
       "      <th>Time Fit</th>\n",
       "    </tr>\n",
       "  </thead>\n",
       "  <tbody>\n",
       "    <tr>\n",
       "      <th>0</th>\n",
       "      <td>LGBMClassifier</td>\n",
       "      <td>0.9160</td>\n",
       "      <td>0.8899</td>\n",
       "      <td>0.8899</td>\n",
       "      <td>0.8899</td>\n",
       "      <td>0.8899</td>\n",
       "      <td>3.9559</td>\n",
       "    </tr>\n",
       "  </tbody>\n",
       "</table>\n",
       "</div>"
      ],
      "text/plain": [
       "            Model  Score_Train  Score_Test  Precision  Recall     F1  Time Fit\n",
       "0  LGBMClassifier       0.9160      0.8899     0.8899  0.8899 0.8899    3.9559"
      ]
     },
     "execution_count": 11,
     "metadata": {},
     "output_type": "execute_result"
    }
   ],
   "source": [
    "models_list = [LGBMClassifier()]\n",
    "results = Lib3.average_score_multiple_models(models_list, X, y, test_size=0.2, cv=5, average='micro')\n",
    "results"
   ]
  },
  {
   "cell_type": "markdown",
   "id": "920f1524",
   "metadata": {},
   "source": [
    "Các thuật toán đều cho kết quả tốt trên cross validation nên ta sẽ xem xét lần lượt từng thuật toán với confusion matrix và classification report"
   ]
  },
  {
   "cell_type": "markdown",
   "id": "541HTNU3WYbB",
   "metadata": {
    "id": "541HTNU3WYbB"
   },
   "source": [
    "### Model 1: BernouliNB"
   ]
  },
  {
   "cell_type": "code",
   "execution_count": 12,
   "id": "ca19b64e",
   "metadata": {
    "id": "ca19b64e",
    "outputId": "abd53a2c-43cc-4e2a-cd4b-9c72ea75d419"
   },
   "outputs": [
    {
     "name": "stdout",
     "output_type": "stream",
     "text": [
      "--- Accuracy train: 0.9138136097188004\n",
      "--- Accuracy test: 0.8904856293359762 \n",
      "--- Recall: 0.8904856293359762 , Precision: 0.8904856293359762 , F1: 0.8904856293359762\n",
      "--- Confusion matrix\n",
      " [[2062  669]\n",
      " [ 436 6923]]\n",
      "--- Classification report\n",
      "               precision    recall  f1-score   support\n",
      "\n",
      "           0       0.83      0.76      0.79      2731\n",
      "           1       0.91      0.94      0.93      7359\n",
      "\n",
      "    accuracy                           0.89     10090\n",
      "   macro avg       0.87      0.85      0.86     10090\n",
      "weighted avg       0.89      0.89      0.89     10090\n",
      "\n"
     ]
    }
   ],
   "source": [
    "nbModel = BernoulliNB() \n",
    "Lib3.build_n_evaluate_model(nbModel, X_train,y_train, X_test, y_test)"
   ]
  },
  {
   "cell_type": "markdown",
   "id": "15d1c07c",
   "metadata": {
    "id": "15d1c07c"
   },
   "source": [
    "### Model 2: NearestCentroid"
   ]
  },
  {
   "cell_type": "code",
   "execution_count": 13,
   "id": "100707e7",
   "metadata": {
    "colab": {
     "base_uri": "https://localhost:8080/"
    },
    "executionInfo": {
     "elapsed": 2373,
     "status": "ok",
     "timestamp": 1646887548782,
     "user": {
      "displayName": "Phuong Dam",
      "photoUrl": "https://lh3.googleusercontent.com/a/default-user=s64",
      "userId": "01072403895711103873"
     },
     "user_tz": -420
    },
    "id": "100707e7",
    "outputId": "af8ad14b-acc9-4af4-af01-97fc182b9654"
   },
   "outputs": [
    {
     "name": "stdout",
     "output_type": "stream",
     "text": [
      "--- Accuracy train: 0.8503525613796619\n",
      "--- Accuracy test: 0.8402378592666006 \n",
      "--- Recall: 0.8402378592666006 , Precision: 0.8402378592666006 , F1: 0.8402378592666006\n",
      "--- Confusion matrix\n",
      " [[2317  414]\n",
      " [1198 6161]]\n",
      "--- Classification report\n",
      "               precision    recall  f1-score   support\n",
      "\n",
      "           0       0.66      0.85      0.74      2731\n",
      "           1       0.94      0.84      0.88      7359\n",
      "\n",
      "    accuracy                           0.84     10090\n",
      "   macro avg       0.80      0.84      0.81     10090\n",
      "weighted avg       0.86      0.84      0.85     10090\n",
      "\n"
     ]
    }
   ],
   "source": [
    "ncModel = NearestCentroid()\n",
    "Lib3.build_n_evaluate_model(ncModel, X_train,y_train, X_test, y_test)"
   ]
  },
  {
   "cell_type": "markdown",
   "id": "29598124",
   "metadata": {
    "id": "29598124"
   },
   "source": [
    "### Model 3: SGDClassifier"
   ]
  },
  {
   "cell_type": "code",
   "execution_count": 14,
   "id": "2b89c948",
   "metadata": {
    "colab": {
     "base_uri": "https://localhost:8080/"
    },
    "executionInfo": {
     "elapsed": 7387,
     "status": "ok",
     "timestamp": 1646888139735,
     "user": {
      "displayName": "Phuong Dam",
      "photoUrl": "https://lh3.googleusercontent.com/a/default-user=s64",
      "userId": "01072403895711103873"
     },
     "user_tz": -420
    },
    "id": "2b89c948",
    "outputId": "daa48f8a-2a0c-4307-95d4-4f5828163e57"
   },
   "outputs": [
    {
     "name": "stdout",
     "output_type": "stream",
     "text": [
      "--- Accuracy train: 0.9287231331237787\n",
      "--- Accuracy test: 0.8989098116947473 \n",
      "--- Recall: 0.8989098116947473 , Precision: 0.8989098116947473 , F1: 0.8989098116947473\n",
      "--- Confusion matrix\n",
      " [[2096  635]\n",
      " [ 385 6974]]\n",
      "--- Classification report\n",
      "               precision    recall  f1-score   support\n",
      "\n",
      "           0       0.84      0.77      0.80      2731\n",
      "           1       0.92      0.95      0.93      7359\n",
      "\n",
      "    accuracy                           0.90     10090\n",
      "   macro avg       0.88      0.86      0.87     10090\n",
      "weighted avg       0.90      0.90      0.90     10090\n",
      "\n"
     ]
    }
   ],
   "source": [
    "sgdModel = SGDClassifier()\n",
    "Lib3.build_n_evaluate_model(sgdModel, X_train,y_train, X_test, y_test)"
   ]
  },
  {
   "cell_type": "markdown",
   "id": "2626b7c2",
   "metadata": {
    "id": "2626b7c2"
   },
   "source": [
    "### Model 4: LogisticRegression"
   ]
  },
  {
   "cell_type": "code",
   "execution_count": 15,
   "id": "028b3898",
   "metadata": {
    "colab": {
     "base_uri": "https://localhost:8080/"
    },
    "executionInfo": {
     "elapsed": 160982,
     "status": "ok",
     "timestamp": 1646888300711,
     "user": {
      "displayName": "Phuong Dam",
      "photoUrl": "https://lh3.googleusercontent.com/a/default-user=s64",
      "userId": "01072403895711103873"
     },
     "user_tz": -420
    },
    "id": "028b3898",
    "outputId": "3974bde3-b24e-4f48-de3d-0820207dc7f2"
   },
   "outputs": [
    {
     "name": "stdout",
     "output_type": "stream",
     "text": [
      "--- Accuracy train: 0.9530201342281879\n",
      "--- Accuracy test: 0.8922695738354807 \n",
      "--- Recall: 0.8922695738354807 , Precision: 0.8922695738354807 , F1: 0.8922695738354807\n",
      "--- Confusion matrix\n",
      " [[2065  666]\n",
      " [ 421 6938]]\n",
      "--- Classification report\n",
      "               precision    recall  f1-score   support\n",
      "\n",
      "           0       0.83      0.76      0.79      2731\n",
      "           1       0.91      0.94      0.93      7359\n",
      "\n",
      "    accuracy                           0.89     10090\n",
      "   macro avg       0.87      0.85      0.86     10090\n",
      "weighted avg       0.89      0.89      0.89     10090\n",
      "\n"
     ]
    }
   ],
   "source": [
    "logisModel = LogisticRegression(solver = 'sag', penalty = 'l2', C=10) \n",
    "Lib3.build_n_evaluate_model(logisModel, X_train,y_train, X_test, y_test)"
   ]
  },
  {
   "cell_type": "markdown",
   "id": "bnL0eAtDNjHK",
   "metadata": {
    "id": "bnL0eAtDNjHK"
   },
   "source": [
    "### Model 5: LGBMClassifier"
   ]
  },
  {
   "cell_type": "code",
   "execution_count": 16,
   "id": "5Gs3qYHpNeg-",
   "metadata": {
    "colab": {
     "base_uri": "https://localhost:8080/"
    },
    "executionInfo": {
     "elapsed": 5770,
     "status": "ok",
     "timestamp": 1646888306477,
     "user": {
      "displayName": "Phuong Dam",
      "photoUrl": "https://lh3.googleusercontent.com/a/default-user=s64",
      "userId": "01072403895711103873"
     },
     "user_tz": -420
    },
    "id": "5Gs3qYHpNeg-",
    "outputId": "2eab3c14-d1a9-4651-cc4b-0e310d0d8854"
   },
   "outputs": [
    {
     "name": "stdout",
     "output_type": "stream",
     "text": [
      "--- Accuracy train: 0.9189533599524254\n",
      "--- Accuracy test: 0.8854311199207135 \n",
      "--- Recall: 0.8854311199207135 , Precision: 0.8854311199207135 , F1: 0.8854311199207135\n",
      "--- Confusion matrix\n",
      " [[2021  710]\n",
      " [ 446 6913]]\n",
      "--- Classification report\n",
      "               precision    recall  f1-score   support\n",
      "\n",
      "           0       0.82      0.74      0.78      2731\n",
      "           1       0.91      0.94      0.92      7359\n",
      "\n",
      "    accuracy                           0.89     10090\n",
      "   macro avg       0.86      0.84      0.85     10090\n",
      "weighted avg       0.88      0.89      0.88     10090\n",
      "\n"
     ]
    }
   ],
   "source": [
    "lgbmModel = LGBMClassifier() \n",
    "Lib3.build_n_evaluate_model(lgbmModel, X_train,y_train, X_test, y_test)"
   ]
  },
  {
   "cell_type": "markdown",
   "id": "4e6afd60",
   "metadata": {
    "id": "4e6afd60"
   },
   "source": [
    "Nhận xét:\n",
    "- Các model đều cho Accuracy khá cao trên cả train và test (>90%), tuy nhiên ta có thể thấy F1 score của class 0 cho kết quả chưa tối ưu. Điều này có thể do sự mất cân bằng dữ liệu.\n",
    "- => Ta sẽ lựa chọn 3 thuật toán cho kết quả tốt nhất: **BernoulliNB, SGDClassifier, LogisticRegression** để tiến hành cân bằng dữ liệu bằng phương pháp Oversampling, Undersampling và xây dựng model mới trên dữ liệu này"
   ]
  },
  {
   "cell_type": "markdown",
   "id": "036b0877",
   "metadata": {
    "id": "036b0877"
   },
   "source": [
    "## Oversampling data"
   ]
  },
  {
   "cell_type": "code",
   "execution_count": 19,
   "id": "18ea95fa",
   "metadata": {
    "colab": {
     "base_uri": "https://localhost:8080/"
    },
    "executionInfo": {
     "elapsed": 13,
     "status": "ok",
     "timestamp": 1646889482410,
     "user": {
      "displayName": "Phuong Dam",
      "photoUrl": "https://lh3.googleusercontent.com/a/default-user=s64",
      "userId": "01072403895711103873"
     },
     "user_tz": -420
    },
    "id": "18ea95fa",
    "outputId": "2e5b6d8d-b48c-4ede-d707-27d284c02ba9"
   },
   "outputs": [
    {
     "data": {
      "text/plain": [
       "Counter({1: 17312, 0: 6230})"
      ]
     },
     "execution_count": 19,
     "metadata": {},
     "output_type": "execute_result"
    }
   ],
   "source": [
    "Counter(y_train)"
   ]
  },
  {
   "cell_type": "code",
   "execution_count": 20,
   "id": "a350e249",
   "metadata": {
    "id": "a350e249"
   },
   "outputs": [],
   "source": [
    "# Oversampling\n",
    "sm = SMOTE()\n",
    "X_resample, y_resample = sm.fit_resample(X_train, y_train)"
   ]
  },
  {
   "cell_type": "code",
   "execution_count": 21,
   "id": "3dd58287",
   "metadata": {
    "colab": {
     "base_uri": "https://localhost:8080/"
    },
    "executionInfo": {
     "elapsed": 11,
     "status": "ok",
     "timestamp": 1646889492430,
     "user": {
      "displayName": "Phuong Dam",
      "photoUrl": "https://lh3.googleusercontent.com/a/default-user=s64",
      "userId": "01072403895711103873"
     },
     "user_tz": -420
    },
    "id": "3dd58287",
    "outputId": "d94d2073-d683-4ea8-c90a-6aafeae2a11d"
   },
   "outputs": [
    {
     "data": {
      "text/plain": [
       "Counter({1: 17312, 0: 17312})"
      ]
     },
     "execution_count": 21,
     "metadata": {},
     "output_type": "execute_result"
    }
   ],
   "source": [
    "Counter(y_resample)"
   ]
  },
  {
   "cell_type": "markdown",
   "id": "bFJHzf509-Of",
   "metadata": {
    "id": "bFJHzf509-Of"
   },
   "source": [
    "### Model 1: BernoulliNB"
   ]
  },
  {
   "cell_type": "code",
   "execution_count": 22,
   "id": "D6ZpqxqkR8-E",
   "metadata": {
    "colab": {
     "base_uri": "https://localhost:8080/"
    },
    "executionInfo": {
     "elapsed": 9935,
     "status": "ok",
     "timestamp": 1646889502359,
     "user": {
      "displayName": "Phuong Dam",
      "photoUrl": "https://lh3.googleusercontent.com/a/default-user=s64",
      "userId": "01072403895711103873"
     },
     "user_tz": -420
    },
    "id": "D6ZpqxqkR8-E",
    "outputId": "b38f41a3-ffb1-4ac0-d151-724b472789ce"
   },
   "outputs": [
    {
     "name": "stdout",
     "output_type": "stream",
     "text": [
      "--- Accuracy train: 0.889527495378928\n",
      "--- Accuracy test: 0.8594648166501486 \n",
      "--- Recall: 0.8575997457187186 , Precision: 0.8183451440889147 , F1: 0.8331044699514745\n",
      "--- Confusion matrix\n",
      " [[2331  400]\n",
      " [1018 6341]]\n",
      "--- Classification report\n",
      "               precision    recall  f1-score   support\n",
      "\n",
      "           0       0.70      0.85      0.77      2731\n",
      "           1       0.94      0.86      0.90      7359\n",
      "\n",
      "    accuracy                           0.86     10090\n",
      "   macro avg       0.82      0.86      0.83     10090\n",
      "weighted avg       0.87      0.86      0.86     10090\n",
      "\n"
     ]
    }
   ],
   "source": [
    "nbModel_o = BernoulliNB() \n",
    "Lib3.build_n_evaluate_model_balanced(nbModel_o, X_resample, y_resample, X_test, y_test)"
   ]
  },
  {
   "cell_type": "markdown",
   "id": "bb6e3f44",
   "metadata": {},
   "source": [
    "### Model 3: SGDClassifier"
   ]
  },
  {
   "cell_type": "code",
   "execution_count": 23,
   "id": "6a5c2b3a",
   "metadata": {},
   "outputs": [
    {
     "name": "stdout",
     "output_type": "stream",
     "text": [
      "--- Accuracy train: 0.9217594731977818\n",
      "--- Accuracy test: 0.8730426164519326 \n",
      "--- Recall: 0.8662172410212272 , Precision: 0.8338182601596517 , F1: 0.8470575702266002\n",
      "--- Confusion matrix\n",
      " [[2325  406]\n",
      " [ 875 6484]]\n",
      "--- Classification report\n",
      "               precision    recall  f1-score   support\n",
      "\n",
      "           0       0.73      0.85      0.78      2731\n",
      "           1       0.94      0.88      0.91      7359\n",
      "\n",
      "    accuracy                           0.87     10090\n",
      "   macro avg       0.83      0.87      0.85     10090\n",
      "weighted avg       0.88      0.87      0.88     10090\n",
      "\n"
     ]
    }
   ],
   "source": [
    "sgdModel_o = SGDClassifier()\n",
    "Lib3.build_n_evaluate_model_balanced(sgdModel_o, X_resample, y_resample, X_test, y_test)"
   ]
  },
  {
   "cell_type": "markdown",
   "id": "cbd95e01",
   "metadata": {},
   "source": [
    "### Model 4: LogisticRegression"
   ]
  },
  {
   "cell_type": "code",
   "execution_count": 24,
   "id": "6f068404",
   "metadata": {},
   "outputs": [
    {
     "name": "stdout",
     "output_type": "stream",
     "text": [
      "--- Accuracy train: 0.9607786506469501\n",
      "--- Accuracy test: 0.8711595639246779 \n",
      "--- Recall: 0.8542183679315399 , Precision: 0.8325975555554621 , F1: 0.8421422992880916\n",
      "--- Confusion matrix\n",
      " [[2232  499]\n",
      " [ 801 6558]]\n",
      "--- Classification report\n",
      "               precision    recall  f1-score   support\n",
      "\n",
      "           0       0.74      0.82      0.77      2731\n",
      "           1       0.93      0.89      0.91      7359\n",
      "\n",
      "    accuracy                           0.87     10090\n",
      "   macro avg       0.83      0.85      0.84     10090\n",
      "weighted avg       0.88      0.87      0.87     10090\n",
      "\n"
     ]
    }
   ],
   "source": [
    "logisModel_o = LogisticRegression(solver = 'sag', penalty = 'l2', C=10) \n",
    "Lib3.build_n_evaluate_model_balanced(logisModel_o,  X_resample, y_resample, X_test, y_test)"
   ]
  },
  {
   "cell_type": "markdown",
   "id": "07053c9b",
   "metadata": {
    "id": "07053c9b"
   },
   "source": [
    "Nhận xét:\n",
    "- Có thể thấy rằng mô hình xây dựng trên dữ liệu đã cân bằng giúp tăng recall của lớp 0 nhưng đồng thời cũng làm giảm precision của lớp này "
   ]
  },
  {
   "cell_type": "markdown",
   "id": "68ff0ca6",
   "metadata": {},
   "source": [
    "## Undersampling data"
   ]
  },
  {
   "cell_type": "code",
   "execution_count": 25,
   "id": "e5c0501a",
   "metadata": {},
   "outputs": [
    {
     "name": "stdout",
     "output_type": "stream",
     "text": [
      "Original dataset shape: Counter({1: 17312, 0: 6230})\n",
      "Resample dataset shape: Counter({0: 6230, 1: 6230})\n"
     ]
    }
   ],
   "source": [
    "from imblearn.under_sampling import NearMiss\n",
    "nm = NearMiss()\n",
    "X_resample, y_resample = nm.fit_resample(X_train, y_train)\n",
    "print('Original dataset shape:', Counter(y_train))\n",
    "print('Resample dataset shape:', Counter(y_resample))"
   ]
  },
  {
   "cell_type": "code",
   "execution_count": 26,
   "id": "aed13665",
   "metadata": {},
   "outputs": [
    {
     "name": "stdout",
     "output_type": "stream",
     "text": [
      "--- Accuracy train: 0.8804975922953451\n",
      "--- Accuracy test: 0.8642220019821606 \n",
      "--- Recall: 0.8614367539250916 , Precision: 0.8236294249803823 , F1: 0.8381759615543556\n",
      "--- Confusion matrix\n",
      " [[2336  395]\n",
      " [ 975 6384]]\n",
      "--- Classification report\n",
      "               precision    recall  f1-score   support\n",
      "\n",
      "           0       0.71      0.86      0.77      2731\n",
      "           1       0.94      0.87      0.90      7359\n",
      "\n",
      "    accuracy                           0.86     10090\n",
      "   macro avg       0.82      0.86      0.84     10090\n",
      "weighted avg       0.88      0.86      0.87     10090\n",
      "\n"
     ]
    }
   ],
   "source": [
    "nbModel_u = BernoulliNB() \n",
    "Lib3.build_n_evaluate_model_balanced(nbModel_u, X_resample, y_resample, X_test, y_test)"
   ]
  },
  {
   "cell_type": "code",
   "execution_count": 27,
   "id": "bca60f28",
   "metadata": {},
   "outputs": [
    {
     "name": "stdout",
     "output_type": "stream",
     "text": [
      "--- Accuracy train: 0.9199036918138042\n",
      "--- Accuracy test: 0.86798810703667 \n",
      "--- Recall: 0.861370427033229 , Precision: 0.8279292439154354 , F1: 0.8413886659577243\n",
      "--- Confusion matrix\n",
      " [[2313  418]\n",
      " [ 914 6445]]\n",
      "--- Classification report\n",
      "               precision    recall  f1-score   support\n",
      "\n",
      "           0       0.72      0.85      0.78      2731\n",
      "           1       0.94      0.88      0.91      7359\n",
      "\n",
      "    accuracy                           0.87     10090\n",
      "   macro avg       0.83      0.86      0.84     10090\n",
      "weighted avg       0.88      0.87      0.87     10090\n",
      "\n"
     ]
    }
   ],
   "source": [
    "sgdModel_u = SGDClassifier()\n",
    "Lib3.build_n_evaluate_model_balanced(sgdModel_u, X_resample, y_resample, X_test, y_test)"
   ]
  },
  {
   "cell_type": "code",
   "execution_count": 28,
   "id": "dbc53b8e",
   "metadata": {},
   "outputs": [
    {
     "name": "stdout",
     "output_type": "stream",
     "text": [
      "--- Accuracy train: 0.9469502407704655\n",
      "--- Accuracy test: 0.8550049554013875 \n",
      "--- Recall: 0.8523546220762865 , Precision: 0.8133469066126993 , F1: 0.8279206572230275\n",
      "--- Confusion matrix\n",
      " [[2312  419]\n",
      " [1044 6315]]\n",
      "--- Classification report\n",
      "               precision    recall  f1-score   support\n",
      "\n",
      "           0       0.69      0.85      0.76      2731\n",
      "           1       0.94      0.86      0.90      7359\n",
      "\n",
      "    accuracy                           0.86     10090\n",
      "   macro avg       0.81      0.85      0.83     10090\n",
      "weighted avg       0.87      0.86      0.86     10090\n",
      "\n"
     ]
    }
   ],
   "source": [
    "logisModel_u = LogisticRegression(solver = 'sag', penalty = 'l2', C=10) \n",
    "Lib3.build_n_evaluate_model_balanced(logisModel_u,  X_resample, y_resample, X_test, y_test)"
   ]
  },
  {
   "cell_type": "markdown",
   "id": "5a36db74",
   "metadata": {},
   "source": [
    "<font color='blue'> **Nhận xét** </font>\n",
    "- Có thể thấy kết quả của mô hình xây dựng trên dữ liệu undersampling cho kết quả không tốt bằng oversampling\n",
    "- Ta sẽ so sánh 2 kết quả tốt nhất sau khi chạy một loạt thuật toán và data options ở trên:\n",
    "    + <font color='green'>**SGDClassifier - unbalanced data**</font> \n",
    "        + --- Accuracy train: 0.9287 --- Accuracy test: 0.8989\n",
    "        + --- Class 0: precision-0.84, recall-0.77\n",
    "        + --- Confusion matrix\n",
    "                              [[2096  635]\n",
    "                              [ 385 6974]]\n",
    "        \n",
    "    + <font color='green'>**SGDClassifier - oversampling data**</font>\n",
    "        + --- Accuracy train: 0.9217 --- Accuracy test: 0.8730\n",
    "        + --- Class 0: precision-0.73, recall-0.85\n",
    "        + --- Confusion matrix\n",
    "                              [[2325  406]\n",
    "                              [ 875 6484]]\n",
    "        \n",
    "- => **SGDClassifier - unbalanced data** có accuracy train-test cân bằng hơn **SGDClassifier - oversampling data**\n",
    "- => Với **SGDClassifier - unbalanced data** dữ liệu class 0 bị dự đoán sai tuy cao hơn nhưng số lượng dữ liệu bị đọc nhầm chỉ 385 entries. Trong khi đó với **SGDClassifier - oversampling data** tuy số lượng dữ liệu class 0 bị dự đoán sai ít hơn một chút nhưng bù lại ố lượng dữ liệu bị đọc nhầm khá cao 875 entries (chiếm 27%)\n",
    "- <font color='blue'>=> Ta sẽ chọn model **SGDClassifier - unbalanced data**</font>"
   ]
  },
  {
   "cell_type": "code",
   "execution_count": 31,
   "id": "9f795eaf",
   "metadata": {},
   "outputs": [],
   "source": [
    "from sklearn.metrics import roc_curve\n",
    "from sklearn.metrics import roc_auc_score\n",
    "def ROC_AUC(y, y_prob):\n",
    "    #calculate roc curves\n",
    "    fpr, tpr, threshold = roc_curve(y, y_prob)\n",
    "    #calculate scores\n",
    "    model_auc = roc_auc_score(y, y_prob)\n",
    "    #plot the roc curve for the model\n",
    "    plt.plot([0,1],[0,1], linestyle='--', label='No Skill')\n",
    "    plt.plot(fpr, tpr, marker='.', label='Model - AUC=%.3f' %(model_auc))\n",
    "    #show axis labels and the legend\n",
    "    plt.xlabel('False Positive Rate')\n",
    "    plt.ylabel('True Positive Rate')\n",
    "    plt.legend()\n",
    "    plt.show(block=False)\n",
    "    return"
   ]
  },
  {
   "cell_type": "code",
   "execution_count": 58,
   "id": "5e1a80bd",
   "metadata": {},
   "outputs": [],
   "source": [
    "from sklearn.calibration import CalibratedClassifierCV\n",
    "sgdModel.fit(X_train, y_train)\n",
    "calibrator = CalibratedClassifierCV(sgdModel, cv='prefit')\n",
    "model=calibrator.fit(X_train, y_train)\n",
    "\n",
    "y_train_pred = model.predict_proba(X_train)\n",
    "y_test_pred = model.predict_proba(X_test)[::,1]"
   ]
  },
  {
   "cell_type": "code",
   "execution_count": 59,
   "id": "ae1af512",
   "metadata": {},
   "outputs": [
    {
     "data": {
      "image/png": "[encoded data removed]",
      "text/plain": [
       "<Figure size 432x288 with 1 Axes>"
      ]
     },
     "metadata": {
      "needs_background": "light"
     },
     "output_type": "display_data"
    }
   ],
   "source": [
    "Lib3.ROC_AUC(y_test, y_test_pred)"
   ]
  },
  {
   "cell_type": "code",
   "execution_count": null,
   "id": "5b19808f",
   "metadata": {
    "scrolled": false
   },
   "outputs": [],
   "source": [
    "#parameter tuning\n",
    "import time\n",
    "sgdModel = SGDClassifier()\n",
    "params = {\n",
    "    \"loss\" : [\"hinge\", \"log\", \"modified_huber\"],\n",
    "    \"alpha\" : [0.01, 0.001,0.0001],\n",
    "    \"penalty\" : [\"l2\", \"l1\", \"none\"]\n",
    "    \"class_weight\" : [{1:0.4, 0:0.6},{1:0.5, 0:0.5},{1:0.6, 0:0.4}]\n",
    "}\n",
    "\n",
    "sgd_tune = RandomizedSearchCV(sgdModel, params, cv=3)\n",
    "t0 = time.time()\n",
    "sgd_tune.fit(X_train, y_train)\n",
    "t1 = time.time() - t0"
   ]
  },
  {
   "cell_type": "code",
   "execution_count": null,
   "id": "ff23867e",
   "metadata": {},
   "outputs": [],
   "source": [
    "print(\"Best parameters set:\")\n",
    "print(sgd_tune.best_params_)\n",
    "print('Mean Accuracy: %.3f' % sgd_tune.best_score_)\n",
    "print(t1)"
   ]
  },
  {
   "cell_type": "code",
   "execution_count": 21,
   "id": "682ec33c",
   "metadata": {},
   "outputs": [
    {
     "name": "stdout",
     "output_type": "stream",
     "text": [
      "--- Accuracy train: 0.8879874267267012\n",
      "--- Accuracy test: 0.8745292368681863 \n",
      "--- Recall: 0.8745292368681863 , Precision: 0.8745292368681863 , F1: 0.8745292368681863\n",
      "--- Confusion matrix\n",
      " [[2223  508]\n",
      " [ 758 6601]]\n",
      "--- Classification report\n",
      "               precision    recall  f1-score   support\n",
      "\n",
      "           0       0.75      0.81      0.78      2731\n",
      "           1       0.93      0.90      0.91      7359\n",
      "\n",
      "    accuracy                           0.87     10090\n",
      "   macro avg       0.84      0.86      0.85     10090\n",
      "weighted avg       0.88      0.87      0.88     10090\n",
      "\n"
     ]
    }
   ],
   "source": [
    "sgdModel_tuned = SGDClassifier(penalty='l1', loss='hinge', alpha=0.0001, class_weight = {1:0.4, 0:0.6})\n",
    "Lib3.build_n_evaluate_model(sgdModel_tuned, X_train,y_train, X_test, y_test)"
   ]
  },
  {
   "cell_type": "markdown",
   "id": "d9d93020",
   "metadata": {},
   "source": [
    "SGDClassifier với default parameter cho kết quả confusion matrix & precision, recall của class 0 tốt hơn"
   ]
  },
  {
   "cell_type": "markdown",
   "id": "oGinVWIH-Xn3",
   "metadata": {
    "id": "oGinVWIH-Xn3"
   },
   "source": [
    "# STEP 5: Save model & Predict new data"
   ]
  },
  {
   "cell_type": "code",
   "execution_count": 24,
   "id": "994ddf4e",
   "metadata": {},
   "outputs": [
    {
     "data": {
      "text/html": [
       "<div>\n",
       "<style scoped>\n",
       "    .dataframe tbody tr th:only-of-type {\n",
       "        vertical-align: middle;\n",
       "    }\n",
       "\n",
       "    .dataframe tbody tr th {\n",
       "        vertical-align: top;\n",
       "    }\n",
       "\n",
       "    .dataframe thead th {\n",
       "        text-align: right;\n",
       "    }\n",
       "</style>\n",
       "<table border=\"1\" class=\"dataframe\">\n",
       "  <thead>\n",
       "    <tr style=\"text-align: right;\">\n",
       "      <th></th>\n",
       "      <th>name</th>\n",
       "      <th>review_text</th>\n",
       "      <th>review_score</th>\n",
       "      <th>review_score_bins</th>\n",
       "      <th>label</th>\n",
       "      <th>review_text_clean</th>\n",
       "    </tr>\n",
       "  </thead>\n",
       "  <tbody>\n",
       "    <tr>\n",
       "      <th>0</th>\n",
       "      <td>Chícc Chícc - Gà Rán Hàn Quốc</td>\n",
       "      <td>Gà tắm mắm, phô mai kéo sợi siêu ngon, giá mềm</td>\n",
       "      <td>10.0000</td>\n",
       "      <td>(9, 10]</td>\n",
       "      <td>1</td>\n",
       "      <td>gà mắm phô kéo sợi siêu ngon giá mềm .</td>\n",
       "    </tr>\n",
       "    <tr>\n",
       "      <th>1</th>\n",
       "      <td>Chícc Chícc - Gà Rán Hàn Quốc</td>\n",
       "      <td>Gà BBQ Hàn, phô mai kéo sợi siêu ngon, giá mềm</td>\n",
       "      <td>10.0000</td>\n",
       "      <td>(9, 10]</td>\n",
       "      <td>1</td>\n",
       "      <td>gà hàn phô kéo sợi siêu ngon giá mềm .</td>\n",
       "    </tr>\n",
       "    <tr>\n",
       "      <th>11</th>\n",
       "      <td>Chícc Chícc - Gà Rán Hàn Quốc</td>\n",
       "      <td>Gà với khoai tây quá mặn</td>\n",
       "      <td>1.0000</td>\n",
       "      <td>(0, 1]</td>\n",
       "      <td>0</td>\n",
       "      <td>gà tây mặn .</td>\n",
       "    </tr>\n",
       "  </tbody>\n",
       "</table>\n",
       "</div>"
      ],
      "text/plain": [
       "                             name  \\\n",
       "0   Chícc Chícc - Gà Rán Hàn Quốc   \n",
       "1   Chícc Chícc - Gà Rán Hàn Quốc   \n",
       "11  Chícc Chícc - Gà Rán Hàn Quốc   \n",
       "\n",
       "                                       review_text  review_score  \\\n",
       "0   Gà tắm mắm, phô mai kéo sợi siêu ngon, giá mềm       10.0000   \n",
       "1   Gà BBQ Hàn, phô mai kéo sợi siêu ngon, giá mềm       10.0000   \n",
       "11                        Gà với khoai tây quá mặn        1.0000   \n",
       "\n",
       "   review_score_bins  label                       review_text_clean  \n",
       "0            (9, 10]      1  gà mắm phô kéo sợi siêu ngon giá mềm .  \n",
       "1            (9, 10]      1  gà hàn phô kéo sợi siêu ngon giá mềm .  \n",
       "11            (0, 1]      0                            gà tây mặn .  "
      ]
     },
     "execution_count": 24,
     "metadata": {},
     "output_type": "execute_result"
    }
   ],
   "source": [
    "# Load foodyClean.csv\n",
    "df2 = pd.read_csv('data/foodyDataFinal_clean2.csv', index_col=0)\n",
    "df2.head(3)"
   ]
  },
  {
   "cell_type": "code",
   "execution_count": 25,
   "id": "11b30739",
   "metadata": {},
   "outputs": [],
   "source": [
    "X = df2.review_text_clean\n",
    "y = df2.label"
   ]
  },
  {
   "cell_type": "code",
   "execution_count": 41,
   "id": "c2669417",
   "metadata": {},
   "outputs": [],
   "source": [
    "X_train, X_test, y_train, y_test = train_test_split(X, y, test_size=0.3, random_state=42)"
   ]
  },
  {
   "cell_type": "code",
   "execution_count": 42,
   "id": "dc98e89d",
   "metadata": {},
   "outputs": [
    {
     "data": {
      "text/plain": [
       "Pipeline(steps=[('bow', TfidfVectorizer()), ('clf', SGDClassifier())])"
      ]
     },
     "execution_count": 42,
     "metadata": {},
     "output_type": "execute_result"
    }
   ],
   "source": [
    "final_pipe = Pipeline(steps=[\n",
    "                            ('bow', TfidfVectorizer()),\n",
    "                            ('clf', SGDClassifier())\n",
    "                            ])\n",
    "# Fit final_pipe on training set\n",
    "final_pipe.fit(X_train, y_train)"
   ]
  },
  {
   "cell_type": "code",
   "execution_count": 31,
   "id": "6cc429bc",
   "metadata": {},
   "outputs": [],
   "source": [
    "#LOAD EMOJICON\n",
    "file = open('files/emojicon.txt', 'r', encoding=\"utf8\")\n",
    "emoji_lst = file.read().split('\\n')\n",
    "emoji_dict = {}\n",
    "for line in emoji_lst:\n",
    "    key, value = line.split('\\t')\n",
    "    emoji_dict[key] = str(value)\n",
    "file.close()\n",
    "\n",
    "#LOAD TEENCODE\n",
    "file = open('files/teencode.txt', 'r', encoding=\"utf8\")\n",
    "teen_lst = file.read().split('\\n')\n",
    "teen_dict = {}\n",
    "for line in teen_lst:\n",
    "    key, value = line.split('\\t')\n",
    "    teen_dict[key] = str(value)\n",
    "file.close()\n",
    "\n",
    "#LOAD TRANSLATE ENGLISH -> VNMESE\n",
    "file = open('files/english-vnmese.txt', 'r', encoding=\"utf8\")\n",
    "english_lst = file.read().split('\\n')\n",
    "english_dict = {}\n",
    "for line in english_lst:\n",
    "    key, value = line.split('\\t')\n",
    "    english_dict[key] = str(value)\n",
    "file.close()\n",
    "\n",
    "#LOAD wrong words\n",
    "file = open('files/wrong-word.txt', 'r', encoding=\"utf8\")\n",
    "wrong_lst = file.read().split('\\n')\n",
    "file.close()\n",
    "\n",
    "#LOAD STOPWORDS\n",
    "file = open('files/vietnamese-stopwords.txt', 'r', encoding=\"utf8\")\n",
    "stopwords_lst = file.read().split('\\n')\n",
    "file.close()"
   ]
  },
  {
   "cell_type": "code",
   "execution_count": 36,
   "id": "Rr2fjAyBbGtQ",
   "metadata": {
    "id": "Rr2fjAyBbGtQ"
   },
   "outputs": [],
   "source": [
    "X_new = [\n",
    "         '- đồ ăn tạm tàm nhưng nhân viên thái độ lồi lõm, đúng là một lần và mãi mãi',\n",
    "         'quán dở bà cố mà review ảo tung chảo',\n",
    "         'Quán xập xệ, nóng bức làm ăn mất cả ngon',\n",
    "         'bánh không ngon mà phải gọi là bánh cực kì cực kì ngon í',\n",
    "         'Quán giảm 50% và lượng nước cũng giảm 50% kèm thêm 1 ly toàn đá, hút 2 hơi là hết ly nước lạt nhách. Làm vậy thà đừng giảm. Lên đây viết review mới phát hiện có nhiều bạn nói quán fake, thật sai lầm khi không đọc review trước khi mua.'\n",
    "]"
   ]
  },
  {
   "cell_type": "code",
   "execution_count": 37,
   "id": "JcVYr3PvcP9D",
   "metadata": {
    "id": "JcVYr3PvcP9D"
   },
   "outputs": [],
   "source": [
    "X_new = [Lib3.clean_text_thesea(x, emoji_dict, teen_dict, wrong_lst,stopwords_lst) for x in X_new]"
   ]
  },
  {
   "cell_type": "code",
   "execution_count": 39,
   "id": "mknF9NFGeVVg",
   "metadata": {
    "colab": {
     "base_uri": "https://localhost:8080/"
    },
    "executionInfo": {
     "elapsed": 14,
     "status": "ok",
     "timestamp": 1647060902124,
     "user": {
      "displayName": "Phuong Dam",
      "photoUrl": "https://lh3.googleusercontent.com/a/default-user=s64",
      "userId": "01072403895711103873"
     },
     "user_tz": -420
    },
    "id": "mknF9NFGeVVg",
    "outputId": "4425b8b2-83ca-4dcc-851c-033fd379e0e2"
   },
   "outputs": [
    {
     "data": {
      "text/plain": [
       "array([0, 0, 0, 1, 0])"
      ]
     },
     "execution_count": 39,
     "metadata": {},
     "output_type": "execute_result"
    }
   ],
   "source": [
    "final_pipe.predict(X_new)"
   ]
  },
  {
   "cell_type": "code",
   "execution_count": 40,
   "id": "31846161",
   "metadata": {
    "id": "31846161"
   },
   "outputs": [],
   "source": [
    "import pickle\n",
    "# Save to file in the current working directory \n",
    "\n",
    "pkl_filename = \"foody_sentiment_model.pkl\"\n",
    "with open(pkl_filename, 'wb') as file:\n",
    "    pickle.dump(final_pipe, file)"
   ]
  }
 ],
 "metadata": {
  "colab": {
   "collapsed_sections": [
    "fkS0qWKEXPpt",
    "_iryft1GfoG5",
    "541HTNU3WYbB",
    "bnL0eAtDNjHK",
    "9qutw5r7WQJe"
   ],
   "machine_shape": "hm",
   "name": "Project3_Part3_SupervisedLearning_REV.ipynb",
   "provenance": []
  },
  "kernelspec": {
   "display_name": "Python 3 (ipykernel)",
   "language": "python",
   "name": "python3"
  },
  "language_info": {
   "codemirror_mode": {
    "name": "ipython",
    "version": 3
   },
   "file_extension": ".py",
   "mimetype": "text/x-python",
   "name": "python",
   "nbconvert_exporter": "python",
   "pygments_lexer": "ipython3",
   "version": "3.8.12"
  }
 },
 "nbformat": 4,
 "nbformat_minor": 5
}
